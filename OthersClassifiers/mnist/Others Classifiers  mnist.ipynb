{
 "cells": [
  {
   "cell_type": "code",
   "execution_count": 1,
   "metadata": {
    "collapsed": true
   },
   "outputs": [],
   "source": [
    "#Imports \n",
    "import numpy as np\n",
    "import pandas as pd\n",
    "from math import sqrt \n",
    "from pprint import pprint\n",
    "from numpy import array\n",
    "from time import time"
   ]
  },
  {
   "cell_type": "code",
   "execution_count": 2,
   "metadata": {},
   "outputs": [
    {
     "name": "stderr",
     "output_type": "stream",
     "text": [
      "Using TensorFlow backend.\n"
     ]
    }
   ],
   "source": [
    "# data set\n",
    "from keras.datasets import mnist\n",
    "(X_train, y_train), (X_test, y_test) = mnist.load_data()\n",
    "\n",
    "X_train = np.reshape(X_train, (X_train.shape[0], -1))\n",
    "X_test = np.reshape(X_test, (X_test.shape[0], -1))\n"
   ]
  },
  {
   "cell_type": "code",
   "execution_count": 9,
   "metadata": {
    "collapsed": true
   },
   "outputs": [],
   "source": [
    "# GcForeest\n",
    "import argparse\n",
    "import sys\n",
    "import pickle\n",
    "from sklearn.metrics import accuracy_score\n",
    "sys.path.insert(0, \"lib\")\n",
    "from gcforest.gcforest import GCForest\n",
    "from gcforest.gcforest import GCForest\n",
    "from gcforest.utils.config_utils import load_json\n",
    "config = load_json(\"./examples/mnist.json\")  \n",
    "gc = GCForest(config)"
   ]
  },
  {
   "cell_type": "code",
   "execution_count": 10,
   "metadata": {},
   "outputs": [
    {
     "data": {
      "text/plain": [
       "10"
      ]
     },
     "execution_count": 10,
     "metadata": {},
     "output_type": "execute_result"
    }
   ],
   "source": [
    "# number of class\n",
    "len(np.unique(y_train))"
   ]
  },
  {
   "cell_type": "code",
   "execution_count": 11,
   "metadata": {},
   "outputs": [
    {
     "name": "stderr",
     "output_type": "stream",
     "text": [
      "[ 2018-08-02 16:46:04,821][cascade_classifier.fit_transform] X_groups_train.shape=[(60000, 784)],y_train.shape=(60000,),X_groups_test.shape=[(10000, 784)],y_test.shape=(10000,)\n",
      "[ 2018-08-02 16:46:04,842][cascade_classifier.fit_transform] group_dims=[784]\n",
      "[ 2018-08-02 16:46:04,843][cascade_classifier.fit_transform] group_starts=[0]\n",
      "[ 2018-08-02 16:46:04,844][cascade_classifier.fit_transform] group_ends=[784]\n",
      "[ 2018-08-02 16:46:04,844][cascade_classifier.fit_transform] X_train.shape=(60000, 784),X_test.shape=(10000, 784)\n",
      "[ 2018-08-02 16:46:04,948][cascade_classifier.fit_transform] [layer=0] look_indexs=[0], X_cur_train.shape=(60000, 784), X_cur_test.shape=(10000, 784)\n",
      "[ 2018-08-02 16:46:13,546][kfold_wrapper.log_eval_metrics] Accuracy(layer_0 - estimator_0 - 10_folds.train_0.predict)=97.04%\n",
      "[ 2018-08-02 16:46:21,475][kfold_wrapper.log_eval_metrics] Accuracy(layer_0 - estimator_0 - 10_folds.train_1.predict)=96.83%\n",
      "[ 2018-08-02 16:46:28,847][kfold_wrapper.log_eval_metrics] Accuracy(layer_0 - estimator_0 - 10_folds.train_2.predict)=97.12%\n",
      "[ 2018-08-02 16:46:36,290][kfold_wrapper.log_eval_metrics] Accuracy(layer_0 - estimator_0 - 10_folds.train_3.predict)=96.90%\n",
      "[ 2018-08-02 16:46:43,659][kfold_wrapper.log_eval_metrics] Accuracy(layer_0 - estimator_0 - 10_folds.train_4.predict)=96.97%\n",
      "[ 2018-08-02 16:46:51,162][kfold_wrapper.log_eval_metrics] Accuracy(layer_0 - estimator_0 - 10_folds.train_5.predict)=96.30%\n",
      "[ 2018-08-02 16:46:58,650][kfold_wrapper.log_eval_metrics] Accuracy(layer_0 - estimator_0 - 10_folds.train_6.predict)=97.10%\n",
      "[ 2018-08-02 16:47:06,361][kfold_wrapper.log_eval_metrics] Accuracy(layer_0 - estimator_0 - 10_folds.train_7.predict)=96.63%\n",
      "[ 2018-08-02 16:47:14,827][kfold_wrapper.log_eval_metrics] Accuracy(layer_0 - estimator_0 - 10_folds.train_8.predict)=96.55%\n",
      "[ 2018-08-02 16:47:22,327][kfold_wrapper.log_eval_metrics] Accuracy(layer_0 - estimator_0 - 10_folds.train_9.predict)=96.26%\n",
      "[ 2018-08-02 16:47:22,559][kfold_wrapper.log_eval_metrics] Accuracy(layer_0 - estimator_0 - 10_folds.train_cv.predict)=96.77%\n",
      "[ 2018-08-02 16:47:22,560][kfold_wrapper.log_eval_metrics] Accuracy(layer_0 - estimator_0 - 10_folds.test.predict)=97.05%\n",
      "[ 2018-08-02 16:47:29,178][kfold_wrapper.log_eval_metrics] Accuracy(layer_0 - estimator_1 - 10_folds.train_0.predict)=96.72%\n",
      "[ 2018-08-02 16:47:35,963][kfold_wrapper.log_eval_metrics] Accuracy(layer_0 - estimator_1 - 10_folds.train_1.predict)=97.48%\n",
      "[ 2018-08-02 16:47:42,855][kfold_wrapper.log_eval_metrics] Accuracy(layer_0 - estimator_1 - 10_folds.train_2.predict)=97.02%\n",
      "[ 2018-08-02 16:47:49,659][kfold_wrapper.log_eval_metrics] Accuracy(layer_0 - estimator_1 - 10_folds.train_3.predict)=97.12%\n",
      "[ 2018-08-02 16:47:59,781][kfold_wrapper.log_eval_metrics] Accuracy(layer_0 - estimator_1 - 10_folds.train_4.predict)=97.07%\n",
      "[ 2018-08-02 16:48:07,903][kfold_wrapper.log_eval_metrics] Accuracy(layer_0 - estimator_1 - 10_folds.train_5.predict)=97.25%\n",
      "[ 2018-08-02 16:48:14,832][kfold_wrapper.log_eval_metrics] Accuracy(layer_0 - estimator_1 - 10_folds.train_6.predict)=96.95%\n",
      "[ 2018-08-02 16:48:22,290][kfold_wrapper.log_eval_metrics] Accuracy(layer_0 - estimator_1 - 10_folds.train_7.predict)=97.00%\n",
      "[ 2018-08-02 16:48:30,057][kfold_wrapper.log_eval_metrics] Accuracy(layer_0 - estimator_1 - 10_folds.train_8.predict)=97.08%\n",
      "[ 2018-08-02 16:48:36,866][kfold_wrapper.log_eval_metrics] Accuracy(layer_0 - estimator_1 - 10_folds.train_9.predict)=97.46%\n",
      "[ 2018-08-02 16:48:37,100][kfold_wrapper.log_eval_metrics] Accuracy(layer_0 - estimator_1 - 10_folds.train_cv.predict)=97.11%\n",
      "[ 2018-08-02 16:48:37,101][kfold_wrapper.log_eval_metrics] Accuracy(layer_0 - estimator_1 - 10_folds.test.predict)=97.38%\n",
      "[ 2018-08-02 16:48:37,107][cascade_classifier.calc_accuracy] Accuracy(layer_0 - train.classifier_average)=97.11%\n",
      "[ 2018-08-02 16:48:37,109][cascade_classifier.calc_accuracy] Accuracy(layer_0 - test.classifier_average)=97.30%\n",
      "[ 2018-08-02 16:48:37,221][cascade_classifier.fit_transform] [layer=1] look_indexs=[0], X_cur_train.shape=(60000, 804), X_cur_test.shape=(10000, 804)\n",
      "[ 2018-08-02 16:48:44,627][kfold_wrapper.log_eval_metrics] Accuracy(layer_1 - estimator_0 - 10_folds.train_0.predict)=98.04%\n",
      "[ 2018-08-02 16:48:53,007][kfold_wrapper.log_eval_metrics] Accuracy(layer_1 - estimator_0 - 10_folds.train_1.predict)=97.50%\n",
      "[ 2018-08-02 16:49:00,321][kfold_wrapper.log_eval_metrics] Accuracy(layer_1 - estimator_0 - 10_folds.train_2.predict)=97.62%\n",
      "[ 2018-08-02 16:49:11,220][kfold_wrapper.log_eval_metrics] Accuracy(layer_1 - estimator_0 - 10_folds.train_3.predict)=97.87%\n",
      "[ 2018-08-02 16:49:19,274][kfold_wrapper.log_eval_metrics] Accuracy(layer_1 - estimator_0 - 10_folds.train_4.predict)=97.43%\n",
      "[ 2018-08-02 16:49:26,479][kfold_wrapper.log_eval_metrics] Accuracy(layer_1 - estimator_0 - 10_folds.train_5.predict)=97.38%\n",
      "[ 2018-08-02 16:49:34,682][kfold_wrapper.log_eval_metrics] Accuracy(layer_1 - estimator_0 - 10_folds.train_6.predict)=97.37%\n",
      "[ 2018-08-02 16:49:42,920][kfold_wrapper.log_eval_metrics] Accuracy(layer_1 - estimator_0 - 10_folds.train_7.predict)=97.40%\n",
      "[ 2018-08-02 16:49:50,150][kfold_wrapper.log_eval_metrics] Accuracy(layer_1 - estimator_0 - 10_folds.train_8.predict)=97.75%\n",
      "[ 2018-08-02 16:49:58,609][kfold_wrapper.log_eval_metrics] Accuracy(layer_1 - estimator_0 - 10_folds.train_9.predict)=97.52%\n",
      "[ 2018-08-02 16:49:58,842][kfold_wrapper.log_eval_metrics] Accuracy(layer_1 - estimator_0 - 10_folds.train_cv.predict)=97.59%\n",
      "[ 2018-08-02 16:49:58,844][kfold_wrapper.log_eval_metrics] Accuracy(layer_1 - estimator_0 - 10_folds.test.predict)=97.80%\n",
      "[ 2018-08-02 16:50:08,480][kfold_wrapper.log_eval_metrics] Accuracy(layer_1 - estimator_1 - 10_folds.train_0.predict)=97.70%\n",
      "[ 2018-08-02 16:50:17,382][kfold_wrapper.log_eval_metrics] Accuracy(layer_1 - estimator_1 - 10_folds.train_1.predict)=98.10%\n",
      "[ 2018-08-02 16:50:24,049][kfold_wrapper.log_eval_metrics] Accuracy(layer_1 - estimator_1 - 10_folds.train_2.predict)=97.83%\n",
      "[ 2018-08-02 16:50:30,774][kfold_wrapper.log_eval_metrics] Accuracy(layer_1 - estimator_1 - 10_folds.train_3.predict)=98.05%\n",
      "[ 2018-08-02 16:50:37,467][kfold_wrapper.log_eval_metrics] Accuracy(layer_1 - estimator_1 - 10_folds.train_4.predict)=97.50%\n",
      "[ 2018-08-02 16:50:44,165][kfold_wrapper.log_eval_metrics] Accuracy(layer_1 - estimator_1 - 10_folds.train_5.predict)=97.73%\n",
      "[ 2018-08-02 16:50:50,783][kfold_wrapper.log_eval_metrics] Accuracy(layer_1 - estimator_1 - 10_folds.train_6.predict)=97.83%\n",
      "[ 2018-08-02 16:50:57,536][kfold_wrapper.log_eval_metrics] Accuracy(layer_1 - estimator_1 - 10_folds.train_7.predict)=97.42%\n",
      "[ 2018-08-02 16:51:04,346][kfold_wrapper.log_eval_metrics] Accuracy(layer_1 - estimator_1 - 10_folds.train_8.predict)=97.87%\n",
      "[ 2018-08-02 16:51:11,807][kfold_wrapper.log_eval_metrics] Accuracy(layer_1 - estimator_1 - 10_folds.train_9.predict)=97.73%\n",
      "[ 2018-08-02 16:51:12,037][kfold_wrapper.log_eval_metrics] Accuracy(layer_1 - estimator_1 - 10_folds.train_cv.predict)=97.78%\n",
      "[ 2018-08-02 16:51:12,038][kfold_wrapper.log_eval_metrics] Accuracy(layer_1 - estimator_1 - 10_folds.test.predict)=97.88%\n",
      "[ 2018-08-02 16:51:12,044][cascade_classifier.calc_accuracy] Accuracy(layer_1 - train.classifier_average)=97.68%\n",
      "[ 2018-08-02 16:51:12,046][cascade_classifier.calc_accuracy] Accuracy(layer_1 - test.classifier_average)=97.84%\n",
      "[ 2018-08-02 16:51:12,159][cascade_classifier.fit_transform] [layer=2] look_indexs=[0], X_cur_train.shape=(60000, 804), X_cur_test.shape=(10000, 804)\n",
      "[ 2018-08-02 16:51:19,705][kfold_wrapper.log_eval_metrics] Accuracy(layer_2 - estimator_0 - 10_folds.train_0.predict)=98.02%\n",
      "[ 2018-08-02 16:51:26,819][kfold_wrapper.log_eval_metrics] Accuracy(layer_2 - estimator_0 - 10_folds.train_1.predict)=97.97%\n",
      "[ 2018-08-02 16:51:33,871][kfold_wrapper.log_eval_metrics] Accuracy(layer_2 - estimator_0 - 10_folds.train_2.predict)=97.78%\n",
      "[ 2018-08-02 16:51:40,993][kfold_wrapper.log_eval_metrics] Accuracy(layer_2 - estimator_0 - 10_folds.train_3.predict)=97.72%\n",
      "[ 2018-08-02 16:51:48,015][kfold_wrapper.log_eval_metrics] Accuracy(layer_2 - estimator_0 - 10_folds.train_4.predict)=97.65%\n",
      "[ 2018-08-02 16:51:55,166][kfold_wrapper.log_eval_metrics] Accuracy(layer_2 - estimator_0 - 10_folds.train_5.predict)=97.50%\n",
      "[ 2018-08-02 16:52:02,577][kfold_wrapper.log_eval_metrics] Accuracy(layer_2 - estimator_0 - 10_folds.train_6.predict)=98.00%\n"
     ]
    },
    {
     "name": "stderr",
     "output_type": "stream",
     "text": [
      "[ 2018-08-02 16:52:12,124][kfold_wrapper.log_eval_metrics] Accuracy(layer_2 - estimator_0 - 10_folds.train_7.predict)=98.33%\n",
      "[ 2018-08-02 16:52:19,930][kfold_wrapper.log_eval_metrics] Accuracy(layer_2 - estimator_0 - 10_folds.train_8.predict)=97.78%\n",
      "[ 2018-08-02 16:52:26,848][kfold_wrapper.log_eval_metrics] Accuracy(layer_2 - estimator_0 - 10_folds.train_9.predict)=97.93%\n",
      "[ 2018-08-02 16:52:27,119][kfold_wrapper.log_eval_metrics] Accuracy(layer_2 - estimator_0 - 10_folds.train_cv.predict)=97.87%\n",
      "[ 2018-08-02 16:52:27,120][kfold_wrapper.log_eval_metrics] Accuracy(layer_2 - estimator_0 - 10_folds.test.predict)=97.99%\n",
      "[ 2018-08-02 16:52:33,530][kfold_wrapper.log_eval_metrics] Accuracy(layer_2 - estimator_1 - 10_folds.train_0.predict)=97.99%\n",
      "[ 2018-08-02 16:52:40,240][kfold_wrapper.log_eval_metrics] Accuracy(layer_2 - estimator_1 - 10_folds.train_1.predict)=97.67%\n",
      "[ 2018-08-02 16:52:46,917][kfold_wrapper.log_eval_metrics] Accuracy(layer_2 - estimator_1 - 10_folds.train_2.predict)=97.93%\n",
      "[ 2018-08-02 16:52:53,531][kfold_wrapper.log_eval_metrics] Accuracy(layer_2 - estimator_1 - 10_folds.train_3.predict)=98.22%\n",
      "[ 2018-08-02 16:53:00,255][kfold_wrapper.log_eval_metrics] Accuracy(layer_2 - estimator_1 - 10_folds.train_4.predict)=97.62%\n",
      "[ 2018-08-02 16:53:06,958][kfold_wrapper.log_eval_metrics] Accuracy(layer_2 - estimator_1 - 10_folds.train_5.predict)=98.08%\n",
      "[ 2018-08-02 16:53:14,652][kfold_wrapper.log_eval_metrics] Accuracy(layer_2 - estimator_1 - 10_folds.train_6.predict)=97.97%\n",
      "[ 2018-08-02 16:53:21,780][kfold_wrapper.log_eval_metrics] Accuracy(layer_2 - estimator_1 - 10_folds.train_7.predict)=97.92%\n",
      "[ 2018-08-02 16:53:28,388][kfold_wrapper.log_eval_metrics] Accuracy(layer_2 - estimator_1 - 10_folds.train_8.predict)=98.10%\n",
      "[ 2018-08-02 16:53:35,004][kfold_wrapper.log_eval_metrics] Accuracy(layer_2 - estimator_1 - 10_folds.train_9.predict)=98.07%\n",
      "[ 2018-08-02 16:53:35,229][kfold_wrapper.log_eval_metrics] Accuracy(layer_2 - estimator_1 - 10_folds.train_cv.predict)=97.95%\n",
      "[ 2018-08-02 16:53:35,231][kfold_wrapper.log_eval_metrics] Accuracy(layer_2 - estimator_1 - 10_folds.test.predict)=98.01%\n",
      "[ 2018-08-02 16:53:35,237][cascade_classifier.calc_accuracy] Accuracy(layer_2 - train.classifier_average)=97.92%\n",
      "[ 2018-08-02 16:53:35,238][cascade_classifier.calc_accuracy] Accuracy(layer_2 - test.classifier_average)=98.00%\n",
      "[ 2018-08-02 16:53:35,344][cascade_classifier.fit_transform] [layer=3] look_indexs=[0], X_cur_train.shape=(60000, 804), X_cur_test.shape=(10000, 804)\n",
      "[ 2018-08-02 16:53:42,183][kfold_wrapper.log_eval_metrics] Accuracy(layer_3 - estimator_0 - 10_folds.train_0.predict)=98.10%\n",
      "[ 2018-08-02 16:53:49,167][kfold_wrapper.log_eval_metrics] Accuracy(layer_3 - estimator_0 - 10_folds.train_1.predict)=98.25%\n",
      "[ 2018-08-02 16:53:56,191][kfold_wrapper.log_eval_metrics] Accuracy(layer_3 - estimator_0 - 10_folds.train_2.predict)=97.90%\n",
      "[ 2018-08-02 16:54:03,331][kfold_wrapper.log_eval_metrics] Accuracy(layer_3 - estimator_0 - 10_folds.train_3.predict)=98.02%\n",
      "[ 2018-08-02 16:54:10,770][kfold_wrapper.log_eval_metrics] Accuracy(layer_3 - estimator_0 - 10_folds.train_4.predict)=98.15%\n",
      "[ 2018-08-02 16:54:18,562][kfold_wrapper.log_eval_metrics] Accuracy(layer_3 - estimator_0 - 10_folds.train_5.predict)=97.70%\n",
      "[ 2018-08-02 16:54:25,478][kfold_wrapper.log_eval_metrics] Accuracy(layer_3 - estimator_0 - 10_folds.train_6.predict)=98.03%\n",
      "[ 2018-08-02 16:54:32,395][kfold_wrapper.log_eval_metrics] Accuracy(layer_3 - estimator_0 - 10_folds.train_7.predict)=97.68%\n",
      "[ 2018-08-02 16:54:39,319][kfold_wrapper.log_eval_metrics] Accuracy(layer_3 - estimator_0 - 10_folds.train_8.predict)=98.03%\n",
      "[ 2018-08-02 16:54:46,366][kfold_wrapper.log_eval_metrics] Accuracy(layer_3 - estimator_0 - 10_folds.train_9.predict)=98.18%\n",
      "[ 2018-08-02 16:54:46,634][kfold_wrapper.log_eval_metrics] Accuracy(layer_3 - estimator_0 - 10_folds.train_cv.predict)=98.00%\n",
      "[ 2018-08-02 16:54:46,636][kfold_wrapper.log_eval_metrics] Accuracy(layer_3 - estimator_0 - 10_folds.test.predict)=98.13%\n",
      "[ 2018-08-02 16:54:53,077][kfold_wrapper.log_eval_metrics] Accuracy(layer_3 - estimator_1 - 10_folds.train_0.predict)=97.82%\n",
      "[ 2018-08-02 16:54:59,643][kfold_wrapper.log_eval_metrics] Accuracy(layer_3 - estimator_1 - 10_folds.train_1.predict)=98.02%\n",
      "[ 2018-08-02 16:55:08,366][kfold_wrapper.log_eval_metrics] Accuracy(layer_3 - estimator_1 - 10_folds.train_2.predict)=97.98%\n",
      "[ 2018-08-02 16:55:16,111][kfold_wrapper.log_eval_metrics] Accuracy(layer_3 - estimator_1 - 10_folds.train_3.predict)=98.03%\n",
      "[ 2018-08-02 16:55:22,856][kfold_wrapper.log_eval_metrics] Accuracy(layer_3 - estimator_1 - 10_folds.train_4.predict)=98.22%\n",
      "[ 2018-08-02 16:55:29,565][kfold_wrapper.log_eval_metrics] Accuracy(layer_3 - estimator_1 - 10_folds.train_5.predict)=97.57%\n",
      "[ 2018-08-02 16:55:36,283][kfold_wrapper.log_eval_metrics] Accuracy(layer_3 - estimator_1 - 10_folds.train_6.predict)=98.08%\n",
      "[ 2018-08-02 16:55:42,980][kfold_wrapper.log_eval_metrics] Accuracy(layer_3 - estimator_1 - 10_folds.train_7.predict)=97.95%\n",
      "[ 2018-08-02 16:55:49,687][kfold_wrapper.log_eval_metrics] Accuracy(layer_3 - estimator_1 - 10_folds.train_8.predict)=98.00%\n",
      "[ 2018-08-02 16:55:56,268][kfold_wrapper.log_eval_metrics] Accuracy(layer_3 - estimator_1 - 10_folds.train_9.predict)=98.22%\n",
      "[ 2018-08-02 16:55:56,498][kfold_wrapper.log_eval_metrics] Accuracy(layer_3 - estimator_1 - 10_folds.train_cv.predict)=97.99%\n",
      "[ 2018-08-02 16:55:56,499][kfold_wrapper.log_eval_metrics] Accuracy(layer_3 - estimator_1 - 10_folds.test.predict)=98.11%\n",
      "[ 2018-08-02 16:55:56,505][cascade_classifier.calc_accuracy] Accuracy(layer_3 - train.classifier_average)=98.04%\n",
      "[ 2018-08-02 16:55:56,507][cascade_classifier.calc_accuracy] Accuracy(layer_3 - test.classifier_average)=98.10%\n",
      "[ 2018-08-02 16:55:56,618][cascade_classifier.fit_transform] [layer=4] look_indexs=[0], X_cur_train.shape=(60000, 804), X_cur_test.shape=(10000, 804)\n",
      "[ 2018-08-02 16:56:03,553][kfold_wrapper.log_eval_metrics] Accuracy(layer_4 - estimator_0 - 10_folds.train_0.predict)=98.33%\n",
      "[ 2018-08-02 16:56:10,945][kfold_wrapper.log_eval_metrics] Accuracy(layer_4 - estimator_0 - 10_folds.train_1.predict)=98.13%\n",
      "[ 2018-08-02 16:56:19,047][kfold_wrapper.log_eval_metrics] Accuracy(layer_4 - estimator_0 - 10_folds.train_2.predict)=98.08%\n",
      "[ 2018-08-02 16:56:26,073][kfold_wrapper.log_eval_metrics] Accuracy(layer_4 - estimator_0 - 10_folds.train_3.predict)=97.95%\n",
      "[ 2018-08-02 16:56:33,006][kfold_wrapper.log_eval_metrics] Accuracy(layer_4 - estimator_0 - 10_folds.train_4.predict)=97.93%\n",
      "[ 2018-08-02 16:56:40,040][kfold_wrapper.log_eval_metrics] Accuracy(layer_4 - estimator_0 - 10_folds.train_5.predict)=98.08%\n",
      "[ 2018-08-02 16:56:46,963][kfold_wrapper.log_eval_metrics] Accuracy(layer_4 - estimator_0 - 10_folds.train_6.predict)=98.00%\n",
      "[ 2018-08-02 16:56:53,893][kfold_wrapper.log_eval_metrics] Accuracy(layer_4 - estimator_0 - 10_folds.train_7.predict)=97.77%\n",
      "[ 2018-08-02 16:57:00,969][kfold_wrapper.log_eval_metrics] Accuracy(layer_4 - estimator_0 - 10_folds.train_8.predict)=97.98%\n",
      "[ 2018-08-02 16:57:07,966][kfold_wrapper.log_eval_metrics] Accuracy(layer_4 - estimator_0 - 10_folds.train_9.predict)=98.32%\n",
      "[ 2018-08-02 16:57:08,204][kfold_wrapper.log_eval_metrics] Accuracy(layer_4 - estimator_0 - 10_folds.train_cv.predict)=98.06%\n",
      "[ 2018-08-02 16:57:08,205][kfold_wrapper.log_eval_metrics] Accuracy(layer_4 - estimator_0 - 10_folds.test.predict)=98.20%\n",
      "[ 2018-08-02 16:57:15,684][kfold_wrapper.log_eval_metrics] Accuracy(layer_4 - estimator_1 - 10_folds.train_0.predict)=97.92%\n",
      "[ 2018-08-02 16:57:22,371][kfold_wrapper.log_eval_metrics] Accuracy(layer_4 - estimator_1 - 10_folds.train_1.predict)=98.10%\n",
      "[ 2018-08-02 16:57:29,078][kfold_wrapper.log_eval_metrics] Accuracy(layer_4 - estimator_1 - 10_folds.train_2.predict)=98.15%\n",
      "[ 2018-08-02 16:57:35,792][kfold_wrapper.log_eval_metrics] Accuracy(layer_4 - estimator_1 - 10_folds.train_3.predict)=98.05%\n",
      "[ 2018-08-02 16:57:42,471][kfold_wrapper.log_eval_metrics] Accuracy(layer_4 - estimator_1 - 10_folds.train_4.predict)=98.33%\n",
      "[ 2018-08-02 16:57:49,260][kfold_wrapper.log_eval_metrics] Accuracy(layer_4 - estimator_1 - 10_folds.train_5.predict)=98.17%\n",
      "[ 2018-08-02 16:57:55,959][kfold_wrapper.log_eval_metrics] Accuracy(layer_4 - estimator_1 - 10_folds.train_6.predict)=97.95%\n"
     ]
    },
    {
     "name": "stderr",
     "output_type": "stream",
     "text": [
      "[ 2018-08-02 16:58:03,011][kfold_wrapper.log_eval_metrics] Accuracy(layer_4 - estimator_1 - 10_folds.train_7.predict)=98.02%\n",
      "[ 2018-08-02 16:58:11,975][kfold_wrapper.log_eval_metrics] Accuracy(layer_4 - estimator_1 - 10_folds.train_8.predict)=98.15%\n",
      "[ 2018-08-02 16:58:19,578][kfold_wrapper.log_eval_metrics] Accuracy(layer_4 - estimator_1 - 10_folds.train_9.predict)=97.87%\n",
      "[ 2018-08-02 16:58:19,803][kfold_wrapper.log_eval_metrics] Accuracy(layer_4 - estimator_1 - 10_folds.train_cv.predict)=98.07%\n",
      "[ 2018-08-02 16:58:19,805][kfold_wrapper.log_eval_metrics] Accuracy(layer_4 - estimator_1 - 10_folds.test.predict)=98.21%\n",
      "[ 2018-08-02 16:58:19,811][cascade_classifier.calc_accuracy] Accuracy(layer_4 - train.classifier_average)=98.07%\n",
      "[ 2018-08-02 16:58:19,812][cascade_classifier.calc_accuracy] Accuracy(layer_4 - test.classifier_average)=98.22%\n",
      "[ 2018-08-02 16:58:19,813][cascade_classifier.fit_transform] [Result][Reach Max Layer] opt_layer_num=5, accuracy_train=98.07%, accuracy_test=98.22%\n"
     ]
    }
   ],
   "source": [
    "t0 = time()\n",
    "# X_enc is the concatenated predict_proba result of each estimators of the last layer of the GCForest model\n",
    "    # X_enc.shape =\n",
    "    #   (n_datas, n_estimators * n_classes): If cascade is provided\n",
    "    #   (n_datas, n_estimators * n_classes, dimX, dimY): If only finegrained part is provided\n",
    "    # You can also pass X_test, y_test to fit_transform method, then the accracy on test data will be logged when training.\n",
    "X_train_enc, X_test_enc = gc.fit_transform(X_train, y_train, X_test=X_test, y_test=y_test)\n",
    "    # WARNING: if you set gc.set_keep_model_in_mem(True), you would have to use\n",
    "    # gc.fit_transform(X_train, y_train, X_test=X_test, y_test=y_test) to evaluate your model. "
   ]
  },
  {
   "cell_type": "code",
   "execution_count": 12,
   "metadata": {},
   "outputs": [
    {
     "name": "stderr",
     "output_type": "stream",
     "text": [
      "[ 2018-08-02 17:00:43,923][cascade_classifier.transform] X_groups_test.shape=[(10000, 784)]\n",
      "[ 2018-08-02 17:00:43,927][cascade_classifier.transform] group_dims=[784]\n",
      "[ 2018-08-02 17:00:43,927][cascade_classifier.transform] X_test.shape=(10000, 784)\n",
      "[ 2018-08-02 17:00:43,937][cascade_classifier.transform] [layer=0] look_indexs=[0], X_cur_test.shape=(10000, 784)\n",
      "[ 2018-08-02 17:00:48,497][cascade_classifier.transform] [layer=1] look_indexs=[0], X_cur_test.shape=(10000, 804)\n",
      "[ 2018-08-02 17:00:53,578][cascade_classifier.transform] [layer=2] look_indexs=[0], X_cur_test.shape=(10000, 804)\n",
      "[ 2018-08-02 17:00:58,803][cascade_classifier.transform] [layer=3] look_indexs=[0], X_cur_test.shape=(10000, 804)\n",
      "[ 2018-08-02 17:01:04,249][cascade_classifier.transform] [layer=4] look_indexs=[0], X_cur_test.shape=(10000, 804)\n"
     ]
    },
    {
     "name": "stdout",
     "output_type": "stream",
     "text": [
      "Test Accuracy of GCForest = 98.220000 %\n"
     ]
    }
   ],
   "source": [
    "# predict\n",
    "y_pred = gc.predict(X_test)\n",
    "acc = accuracy_score(y_test, y_pred)\n",
    "print(\"Test Accuracy of GCForest = {:.6f} %\".format(acc * 100))"
   ]
  },
  {
   "cell_type": "code",
   "execution_count": null,
   "metadata": {},
   "outputs": [
    {
     "name": "stdout",
     "output_type": "stream",
     "text": [
      "(' Time ', '904.315', ' seconds')\n",
      "[[ 973    0    1    0    0    1    2    1    2    0]\n",
      " [   0 1128    2    2    0    1    1    0    1    0]\n",
      " [   5    0 1010    3    1    0    0    8    5    0]\n",
      " [   0    0    2  992    0    5    0    7    3    1]\n",
      " [   0    0    2    0  966    0    4    2    2    6]\n",
      " [   2    0    0    7    0  874    2    1    4    2]\n",
      " [   4    2    0    0    3    4  941    0    4    0]\n",
      " [   1    1   11    1    0    0    0 1007    3    4]\n",
      " [   3    0    3    2    2    4    0    3  954    3]\n",
      " [   2    4    1    4   10    2    1    4    4  977]]\n",
      "\n",
      "\n",
      "             precision    recall  f1-score   support\n",
      "\n",
      "          0       0.98      0.99      0.99       980\n",
      "          1       0.99      0.99      0.99      1135\n",
      "          2       0.98      0.98      0.98      1032\n",
      "          3       0.98      0.98      0.98      1010\n",
      "          4       0.98      0.98      0.98       982\n",
      "          5       0.98      0.98      0.98       892\n",
      "          6       0.99      0.98      0.99       958\n",
      "          7       0.97      0.98      0.98      1028\n",
      "          8       0.97      0.98      0.98       974\n",
      "          9       0.98      0.97      0.98      1009\n",
      "\n",
      "avg / total       0.98      0.98      0.98     10000\n",
      "\n"
     ]
    }
   ],
   "source": [
    "tt = time() - t0     \n",
    "print (\" Time \",format(round(tt,3)),\" seconds\")\n",
    "# Matrix de confusion\n",
    "from sklearn.metrics import classification_report, confusion_matrix\n",
    "print(confusion_matrix(y_test,y_pred))\n",
    "print('\\n')\n",
    "print(classification_report(y_test,y_pred))"
   ]
  },
  {
   "cell_type": "markdown",
   "metadata": {},
   "source": [
    "# Neural network"
   ]
  },
  {
   "cell_type": "code",
   "execution_count": null,
   "metadata": {},
   "outputs": [
    {
     "name": "stdout",
     "output_type": "stream",
     "text": [
      "Epoch 1/20\n",
      "54000/54000 [==============================] - 18s 333us/step - loss: -55.0412 - acc: 0.1125\n",
      "Epoch 2/20\n",
      "54000/54000 [==============================] - 17s 310us/step - loss: -55.0588 - acc: 0.1124\n",
      "Epoch 3/20\n",
      "54000/54000 [==============================] - 17s 311us/step - loss: -55.0588 - acc: 0.1124\n",
      "Epoch 4/20\n",
      "54000/54000 [==============================] - 18s 327us/step - loss: -55.0588 - acc: 0.1124\n",
      "Epoch 5/20\n",
      "54000/54000 [==============================] - 17s 313us/step - loss: -55.0588 - acc: 0.1124\n",
      "Epoch 6/20\n",
      "54000/54000 [==============================] - 17s 309us/step - loss: -55.0588 - acc: 0.1124\n",
      "Epoch 7/20\n",
      "54000/54000 [==============================] - 17s 317us/step - loss: -55.0588 - acc: 0.1124\n",
      "Epoch 8/20\n",
      "54000/54000 [==============================] - 17s 324us/step - loss: -55.0588 - acc: 0.1124\n",
      "Epoch 9/20\n",
      "54000/54000 [==============================] - 17s 311us/step - loss: -55.0588 - acc: 0.1124\n",
      "Epoch 10/20\n",
      "54000/54000 [==============================] - 17s 317us/step - loss: -55.0588 - acc: 0.1124\n",
      "Epoch 11/20\n",
      "54000/54000 [==============================] - 19s 359us/step - loss: -55.0588 - acc: 0.1124\n",
      "Epoch 12/20\n",
      "54000/54000 [==============================] - 17s 311us/step - loss: -55.0588 - acc: 0.1124\n",
      "Epoch 13/20\n",
      "54000/54000 [==============================] - 17s 310us/step - loss: -55.0588 - acc: 0.1124\n",
      "Epoch 14/20\n",
      "54000/54000 [==============================] - 17s 315us/step - loss: -55.0588 - acc: 0.1124\n",
      "Epoch 15/20\n",
      "54000/54000 [==============================] - 17s 322us/step - loss: -55.0588 - acc: 0.1124\n",
      "Epoch 16/20\n",
      "54000/54000 [==============================] - 17s 311us/step - loss: -55.0588 - acc: 0.1124\n",
      "Epoch 17/20\n",
      "54000/54000 [==============================] - 17s 311us/step - loss: -55.0588 - acc: 0.1124\n",
      "Epoch 18/20\n",
      "54000/54000 [==============================] - 18s 326us/step - loss: -55.0588 - acc: 0.1124\n",
      "Epoch 19/20\n",
      "54000/54000 [==============================] - 17s 313us/step - loss: -55.0588 - acc: 0.1124\n",
      "Epoch 20/20\n",
      "54000/54000 [==============================] - 17s 310us/step - loss: -55.0588 - acc: 0.1124\n",
      "6000/6000 [==============================] - 0s 78us/step\n",
      "Epoch 1/20\n",
      "54000/54000 [==============================] - 20s 368us/step - loss: -55.0791 - acc: 0.1123\n",
      "Epoch 2/20\n",
      "54000/54000 [==============================] - 17s 318us/step - loss: -55.1075 - acc: 0.1123\n",
      "Epoch 3/20\n",
      "54000/54000 [==============================] - 17s 313us/step - loss: -55.1075 - acc: 0.1123\n",
      "Epoch 4/20\n",
      "54000/54000 [==============================] - 17s 312us/step - loss: -55.1075 - acc: 0.1123\n",
      "Epoch 5/20\n",
      "54000/54000 [==============================] - 18s 328us/step - loss: -55.1075 - acc: 0.1123\n",
      "Epoch 6/20\n",
      "54000/54000 [==============================] - 17s 310us/step - loss: -55.1075 - acc: 0.1123\n",
      "Epoch 7/20\n",
      "54000/54000 [==============================] - 17s 309us/step - loss: -55.1075 - acc: 0.1123\n",
      "Epoch 8/20\n",
      "54000/54000 [==============================] - 17s 320us/step - loss: -55.1075 - acc: 0.1123\n",
      "Epoch 9/20\n",
      "54000/54000 [==============================] - 17s 317us/step - loss: -55.1075 - acc: 0.1123\n",
      "Epoch 10/20\n",
      "54000/54000 [==============================] - 17s 313us/step - loss: -55.1075 - acc: 0.1123\n",
      "Epoch 11/20\n",
      "54000/54000 [==============================] - 19s 349us/step - loss: -55.1075 - acc: 0.1123\n",
      "Epoch 12/20\n",
      "54000/54000 [==============================] - 18s 329us/step - loss: -55.1075 - acc: 0.1123\n",
      "Epoch 13/20\n",
      "54000/54000 [==============================] - 17s 310us/step - loss: -55.1075 - acc: 0.1123\n",
      "Epoch 14/20\n",
      "54000/54000 [==============================] - 17s 310us/step - loss: -55.1075 - acc: 0.1123\n",
      "Epoch 15/20\n",
      "54000/54000 [==============================] - 18s 325us/step - loss: -55.1075 - acc: 0.1123\n",
      "Epoch 16/20\n",
      "54000/54000 [==============================] - 17s 317us/step - loss: -55.1075 - acc: 0.1123\n",
      "Epoch 17/20\n",
      "54000/54000 [==============================] - 17s 312us/step - loss: -55.1075 - acc: 0.1123\n",
      "Epoch 18/20\n",
      "54000/54000 [==============================] - 17s 313us/step - loss: -55.1075 - acc: 0.1123\n",
      "Epoch 19/20\n",
      "54000/54000 [==============================] - 18s 326us/step - loss: -55.1075 - acc: 0.1123\n",
      "Epoch 20/20\n",
      "54000/54000 [==============================] - 17s 311us/step - loss: -55.1075 - acc: 0.1123\n",
      "6000/6000 [==============================] - 0s 80us/step\n",
      "Epoch 1/20\n",
      "54000/54000 [==============================] - 17s 317us/step - loss: -55.0302 - acc: 0.1119\n",
      "Epoch 2/20\n",
      "54000/54000 [==============================] - 20s 368us/step - loss: -55.0349 - acc: 0.1119\n",
      "Epoch 3/20\n",
      "54000/54000 [==============================] - 17s 314us/step - loss: -55.0349 - acc: 0.1119\n",
      "Epoch 4/20\n",
      "54000/54000 [==============================] - 17s 310us/step - loss: -55.0349 - acc: 0.1119\n",
      "Epoch 5/20\n",
      "54000/54000 [==============================] - 17s 315us/step - loss: -55.0349 - acc: 0.1119\n",
      "Epoch 6/20\n",
      "54000/54000 [==============================] - 18s 328us/step - loss: -55.0349 - acc: 0.1119\n",
      "Epoch 7/20\n",
      "54000/54000 [==============================] - 17s 312us/step - loss: -55.0349 - acc: 0.1119\n",
      "Epoch 8/20\n",
      "54000/54000 [==============================] - 17s 315us/step - loss: -55.0349 - acc: 0.1119\n",
      "Epoch 9/20\n",
      "54000/54000 [==============================] - 18s 327us/step - loss: -55.0349 - acc: 0.1119\n",
      "Epoch 10/20\n",
      "54000/54000 [==============================] - 17s 313us/step - loss: -55.0349 - acc: 0.1119\n",
      "Epoch 11/20\n",
      "54000/54000 [==============================] - 17s 315us/step - loss: -55.0349 - acc: 0.1119\n",
      "Epoch 12/20\n",
      "54000/54000 [==============================] - 19s 353us/step - loss: -55.0349 - acc: 0.1119\n",
      "Epoch 13/20\n",
      "54000/54000 [==============================] - 18s 328us/step - loss: -55.0349 - acc: 0.1119\n",
      "Epoch 14/20\n",
      "54000/54000 [==============================] - 17s 313us/step - loss: -55.0349 - acc: 0.1119\n",
      "Epoch 15/20\n",
      "54000/54000 [==============================] - 17s 315us/step - loss: -55.0349 - acc: 0.1119\n",
      "Epoch 16/20\n",
      "54000/54000 [==============================] - 18s 327us/step - loss: -55.0349 - acc: 0.1119\n",
      "Epoch 17/20\n",
      "54000/54000 [==============================] - 17s 312us/step - loss: -55.0349 - acc: 0.1119\n",
      "Epoch 18/20\n",
      "54000/54000 [==============================] - 17s 311us/step - loss: -55.0349 - acc: 0.1119\n",
      "Epoch 19/20\n",
      "54000/54000 [==============================] - 17s 316us/step - loss: -55.0349 - acc: 0.1119\n",
      "Epoch 20/20\n",
      "54000/54000 [==============================] - 18s 327us/step - loss: -55.0349 - acc: 0.1119\n",
      "6000/6000 [==============================] - 0s 82us/step\n",
      "Epoch 1/20\n",
      "54000/54000 [==============================] - 17s 319us/step - loss: -55.1071 - acc: 0.1122\n",
      "Epoch 2/20\n",
      "54000/54000 [==============================] - 19s 354us/step - loss: -55.1199 - acc: 0.1122\n",
      "Epoch 3/20\n",
      "54000/54000 [==============================] - 18s 329us/step - loss: -55.1199 - acc: 0.1122\n",
      "Epoch 4/20\n",
      "54000/54000 [==============================] - 17s 315us/step - loss: -55.1199 - acc: 0.1122\n",
      "Epoch 5/20\n",
      "54000/54000 [==============================] - 17s 313us/step - loss: -55.1199 - acc: 0.1122\n",
      "Epoch 6/20\n",
      "54000/54000 [==============================] - 18s 327us/step - loss: -55.1199 - acc: 0.1122\n",
      "Epoch 7/20\n",
      "54000/54000 [==============================] - 17s 322us/step - loss: -55.1199 - acc: 0.1122\n",
      "Epoch 8/20\n",
      "54000/54000 [==============================] - 17s 314us/step - loss: -55.1199 - acc: 0.1122\n",
      "Epoch 9/20\n",
      "54000/54000 [==============================] - 17s 316us/step - loss: -55.1199 - acc: 0.1122\n",
      "Epoch 10/20\n",
      "54000/54000 [==============================] - 18s 329us/step - loss: -55.1199 - acc: 0.1122\n",
      "Epoch 11/20\n",
      "54000/54000 [==============================] - 17s 315us/step - loss: -55.1199 - acc: 0.1122\n",
      "Epoch 12/20\n",
      "21760/54000 [===========>..................] - ETA: 10s - loss: -55.0789 - acc: 0.1122"
     ]
    }
   ],
   "source": [
    "# estimators \n",
    "# Evaluating the ANN\n",
    "t0 = time()\n",
    "from keras.wrappers.scikit_learn import KerasClassifier\n",
    "from sklearn.model_selection import cross_val_score\n",
    "from keras.models import Sequential # initialize neural network library\n",
    "from keras.layers import Dense # build our layers library\n",
    "def build_classifier():\n",
    "    classifier = Sequential() # initialize neural network\n",
    "    classifier.add(Dense(units = 1024, kernel_initializer = 'uniform', activation = 'relu', input_dim = X_train.shape[1]))\n",
    "    classifier.add(Dense(units = 512, kernel_initializer = 'uniform', activation = 'relu'))\n",
    "    classifier.add(Dense(units = 1, kernel_initializer = 'uniform', activation = 'sigmoid'))\n",
    "    classifier.compile(optimizer = 'adam', loss = 'binary_crossentropy', metrics = ['accuracy'])\n",
    "    return classifier\n",
    "classifier = KerasClassifier(build_fn = build_classifier, epochs = 20)\n",
    "accuracies = cross_val_score(estimator = classifier, X = X_train, y = y_train, cv = 10)\n",
    "mean = accuracies.mean()\n",
    "variance = accuracies.std()\n",
    "print(\"Accuracy mean: \"+ str(mean))\n",
    "print(\"Accuracy variance: \"+ str(variance))\n",
    "\n",
    "tt = time() - t0     \n",
    "print (\" Time \",format(round(tt,3)),\" seconds\")\n",
    "# Matrix de confusion\n",
    "from sklearn.metrics import classification_report, confusion_matrix\n",
    "print(confusion_matrix(y_test,y_pred))\n",
    "print('\\n')\n",
    "print(classification_report(y_test,y_pred))"
   ]
  },
  {
   "cell_type": "markdown",
   "metadata": {},
   "source": [
    "# DecisionTreeClassifier"
   ]
  },
  {
   "cell_type": "code",
   "execution_count": 4,
   "metadata": {},
   "outputs": [
    {
     "name": "stdout",
     "output_type": "stream",
     "text": [
      "Test Accuracy of DecisionTreeClassifier = 87.780000 %\n",
      "(' Time ', '17.244', ' seconds')\n",
      "[[ 922    0    7    6    3   12   10    5   11    4]\n",
      " [   0 1088   11    3    2    5    9    3   13    1]\n",
      " [  13    8  884   34   15   14    9   27   20    8]\n",
      " [   8    8   31  862    6   46    1    7   26   15]\n",
      " [   4    4    8    7  865    6   15   12   21   40]\n",
      " [  10    7    7   49   12  746   20    5   22   14]\n",
      " [  14    3   15    8   16   22  847    2   28    3]\n",
      " [   3   12   28   16    8    5    5  924    8   19]\n",
      " [  12    6   30   39   18   27   19   11  784   28]\n",
      " [  15    4    9   23   41   14    4   19   24  856]]\n",
      "\n",
      "\n",
      "             precision    recall  f1-score   support\n",
      "\n",
      "          0       0.92      0.94      0.93       980\n",
      "          1       0.95      0.96      0.96      1135\n",
      "          2       0.86      0.86      0.86      1032\n",
      "          3       0.82      0.85      0.84      1010\n",
      "          4       0.88      0.88      0.88       982\n",
      "          5       0.83      0.84      0.83       892\n",
      "          6       0.90      0.88      0.89       958\n",
      "          7       0.91      0.90      0.90      1028\n",
      "          8       0.82      0.80      0.81       974\n",
      "          9       0.87      0.85      0.86      1009\n",
      "\n",
      "avg / total       0.88      0.88      0.88     10000\n",
      "\n"
     ]
    }
   ],
   "source": [
    "t0 = time()\n",
    "from sklearn.tree import DecisionTreeClassifier\n",
    "clf = DecisionTreeClassifier()\n",
    "clf = clf.fit(X_train, y_train)\n",
    "\n",
    "y_pred = clf.predict(X_test)\n",
    "acc = accuracy_score(y_test, y_pred)\n",
    "\n",
    "print(\"Test Accuracy of DecisionTreeClassifier = {:.6f} %\".format(acc * 100))\n",
    "\n",
    "tt = time() - t0     \n",
    "print (\" Time \",format(round(tt,3)),\" seconds\")\n",
    "# Matrix de confusion\n",
    "from sklearn.metrics import classification_report, confusion_matrix\n",
    "print(confusion_matrix(y_test,y_pred))\n",
    "print('\\n')\n",
    "print(classification_report(y_test,y_pred))"
   ]
  },
  {
   "cell_type": "markdown",
   "metadata": {},
   "source": [
    "# RandomForestClassifier"
   ]
  },
  {
   "cell_type": "code",
   "execution_count": 5,
   "metadata": {},
   "outputs": [
    {
     "name": "stdout",
     "output_type": "stream",
     "text": [
      "Test Accuracy of RandomForestClassifier = 96.930000 %\n",
      "(' Time ', '39.649', ' seconds')\n",
      "[[ 971    0    0    0    0    3    1    1    3    1]\n",
      " [   0 1121    2    4    1    1    5    0    1    0]\n",
      " [   6    0 1000    5    1    0    4   10    6    0]\n",
      " [   0    0   12  974    0    5    0    9    8    2]\n",
      " [   2    0    2    0  950    0    4    0    2   22]\n",
      " [   2    1    0   13    4  859    5    2    4    2]\n",
      " [   6    3    0    0    4    3  938    0    4    0]\n",
      " [   1    4   19    2    2    0    0  990    1    9]\n",
      " [   4    0    5    9    3    7    3    4  928   11]\n",
      " [   6    7    3    8   10    4    1    4    4  962]]\n",
      "\n",
      "\n",
      "             precision    recall  f1-score   support\n",
      "\n",
      "          0       0.97      0.99      0.98       980\n",
      "          1       0.99      0.99      0.99      1135\n",
      "          2       0.96      0.97      0.96      1032\n",
      "          3       0.96      0.96      0.96      1010\n",
      "          4       0.97      0.97      0.97       982\n",
      "          5       0.97      0.96      0.97       892\n",
      "          6       0.98      0.98      0.98       958\n",
      "          7       0.97      0.96      0.97      1028\n",
      "          8       0.97      0.95      0.96       974\n",
      "          9       0.95      0.95      0.95      1009\n",
      "\n",
      "avg / total       0.97      0.97      0.97     10000\n",
      "\n"
     ]
    }
   ],
   "source": [
    "t0 = time()\n",
    "from sklearn.ensemble import RandomForestClassifier\n",
    "clf = RandomForestClassifier(n_estimators=100)\n",
    "clf = clf.fit(X_train, y_train)\n",
    "\n",
    "y_pred = clf.predict(X_test)\n",
    "acc = accuracy_score(y_test, y_pred)\n",
    "\n",
    "print(\"Test Accuracy of RandomForestClassifier = {:.6f} %\".format(acc * 100))\n",
    "\n",
    "tt = time() - t0     \n",
    "print (\" Time \",format(round(tt,3)),\" seconds\")\n",
    "# Matrix de confusion\n",
    "from sklearn.metrics import classification_report, confusion_matrix\n",
    "print(confusion_matrix(y_test,y_pred))\n",
    "print('\\n')\n",
    "print(classification_report(y_test,y_pred))"
   ]
  },
  {
   "cell_type": "markdown",
   "metadata": {},
   "source": [
    "# ExtraTreesClassifier"
   ]
  },
  {
   "cell_type": "code",
   "execution_count": 6,
   "metadata": {},
   "outputs": [
    {
     "name": "stdout",
     "output_type": "stream",
     "text": [
      "Test Accuracy of ExtraTreesClassifier = 97.170000 %\n",
      "(' Time ', '28.3', ' seconds')\n",
      "[[ 970    1    0    0    0    1    5    1    2    0]\n",
      " [   0 1123    3    3    0    2    2    0    1    1]\n",
      " [   7    0  995    6    4    0    4    9    7    0]\n",
      " [   1    0    7  976    0    7    0    7    8    4]\n",
      " [   1    0    1    0  956    0    5    0    2   17]\n",
      " [   3    0    0   11    1  862    6    1    7    1]\n",
      " [   5    3    0    0    3    1  943    0    3    0]\n",
      " [   1    4   20    2    1    0    0  985    2   13]\n",
      " [   3    0    3    9    3    4    1    3  943    5]\n",
      " [   5    6    1    8   11    2    1    5    6  964]]\n",
      "\n",
      "\n",
      "             precision    recall  f1-score   support\n",
      "\n",
      "          0       0.97      0.99      0.98       980\n",
      "          1       0.99      0.99      0.99      1135\n",
      "          2       0.97      0.96      0.97      1032\n",
      "          3       0.96      0.97      0.96      1010\n",
      "          4       0.98      0.97      0.98       982\n",
      "          5       0.98      0.97      0.97       892\n",
      "          6       0.98      0.98      0.98       958\n",
      "          7       0.97      0.96      0.97      1028\n",
      "          8       0.96      0.97      0.96       974\n",
      "          9       0.96      0.96      0.96      1009\n",
      "\n",
      "avg / total       0.97      0.97      0.97     10000\n",
      "\n"
     ]
    }
   ],
   "source": [
    "t0 = time()\n",
    "from sklearn.ensemble import ExtraTreesClassifier\n",
    "clf = ExtraTreesClassifier(n_estimators=100)\n",
    "clf = clf.fit(X_train, y_train)\n",
    "\n",
    "y_pred = clf.predict(X_test)\n",
    "acc = accuracy_score(y_test, y_pred)\n",
    "\n",
    "print(\"Test Accuracy of ExtraTreesClassifier = {:.6f} %\".format(acc * 100))\n",
    "\n",
    "tt = time() - t0     \n",
    "print (\" Time \",format(round(tt,3)),\" seconds\")\n",
    "# Matrix de confusion\n",
    "from sklearn.metrics import classification_report, confusion_matrix\n",
    "print(confusion_matrix(y_test,y_pred))\n",
    "print('\\n')\n",
    "print(classification_report(y_test,y_pred))"
   ]
  },
  {
   "cell_type": "markdown",
   "metadata": {
    "collapsed": true
   },
   "source": [
    "# AdaBoostClassifier"
   ]
  },
  {
   "cell_type": "code",
   "execution_count": 7,
   "metadata": {},
   "outputs": [
    {
     "name": "stdout",
     "output_type": "stream",
     "text": [
      "Test Accuracy of AdaBoostClassifier = 72.960000 %\n",
      "(' Time ', '120.888', ' seconds')\n",
      "[[ 884    0    7    2    1   43   37    2    2    2]\n",
      " [   0 1076    5    5    3    5    2   22   17    0]\n",
      " [  35   59  564   25   16   14  230   27   56    6]\n",
      " [  52   34   17  590    0  140   23   18  114   22]\n",
      " [   4    0   16   10  774    9    7   56   31   75]\n",
      " [  44   23    4   75   15  558   68   12   74   19]\n",
      " [  16    3   44    3   37   29  816    2    8    0]\n",
      " [  12   18   24   10   14    3    0  727   15  205]\n",
      " [  27   49    8   63   24   33   47   11  689   23]\n",
      " [   9   14   18   14  152   11    0  110   63  618]]\n",
      "\n",
      "\n",
      "             precision    recall  f1-score   support\n",
      "\n",
      "          0       0.82      0.90      0.86       980\n",
      "          1       0.84      0.95      0.89      1135\n",
      "          2       0.80      0.55      0.65      1032\n",
      "          3       0.74      0.58      0.65      1010\n",
      "          4       0.75      0.79      0.77       982\n",
      "          5       0.66      0.63      0.64       892\n",
      "          6       0.66      0.85      0.75       958\n",
      "          7       0.74      0.71      0.72      1028\n",
      "          8       0.64      0.71      0.67       974\n",
      "          9       0.64      0.61      0.62      1009\n",
      "\n",
      "avg / total       0.73      0.73      0.73     10000\n",
      "\n"
     ]
    }
   ],
   "source": [
    "t0 = time()\n",
    "from sklearn.ensemble import AdaBoostClassifier\n",
    "clf = AdaBoostClassifier(n_estimators=100)\n",
    "clf = clf.fit(X_train, y_train)\n",
    "\n",
    "y_pred = clf.predict(X_test)\n",
    "acc = accuracy_score(y_test, y_pred)\n",
    "\n",
    "print(\"Test Accuracy of AdaBoostClassifier = {:.6f} %\".format(acc * 100))\n",
    "\n",
    "tt = time() - t0     \n",
    "print (\" Time \",format(round(tt,3)),\" seconds\")\n",
    "# Matrix de confusion\n",
    "from sklearn.metrics import classification_report, confusion_matrix\n",
    "print(confusion_matrix(y_test,y_pred))\n",
    "print('\\n')\n",
    "print(classification_report(y_test,y_pred))"
   ]
  },
  {
   "cell_type": "markdown",
   "metadata": {
    "collapsed": true
   },
   "source": [
    "# Naive_bayes  GaussianNB"
   ]
  },
  {
   "cell_type": "code",
   "execution_count": 8,
   "metadata": {},
   "outputs": [
    {
     "name": "stdout",
     "output_type": "stream",
     "text": [
      "Test Accuracy of GaussianNB = 55.580000 %\n",
      "(' Time ', '1.547', ' seconds')\n",
      "[[ 870    0    3    5    2    5   31    1   35   28]\n",
      " [   0 1079    2    1    0    0   10    0   38    5]\n",
      " [  79   25  266   91    5    2  269    4  271   20]\n",
      " [  32   39    6  353    2    3   51    8  409  107]\n",
      " [  19    2    5    4  168    7   63    7  210  497]\n",
      " [  71   25    1   20    3   44   40    2  586  100]\n",
      " [  12   12    3    1    1    7  895    0   26    1]\n",
      " [   0   15    2   10    5    1    5  280   39  671]\n",
      " [  13   72    3    7    3   11   12    4  648  201]\n",
      " [   5    7    3    6    1    0    1   13   18  955]]\n",
      "\n",
      "\n",
      "             precision    recall  f1-score   support\n",
      "\n",
      "          0       0.79      0.89      0.84       980\n",
      "          1       0.85      0.95      0.90      1135\n",
      "          2       0.90      0.26      0.40      1032\n",
      "          3       0.71      0.35      0.47      1010\n",
      "          4       0.88      0.17      0.29       982\n",
      "          5       0.55      0.05      0.09       892\n",
      "          6       0.65      0.93      0.77       958\n",
      "          7       0.88      0.27      0.42      1028\n",
      "          8       0.28      0.67      0.40       974\n",
      "          9       0.37      0.95      0.53      1009\n",
      "\n",
      "avg / total       0.69      0.56      0.52     10000\n",
      "\n"
     ]
    }
   ],
   "source": [
    "t0 = time()\n",
    "from sklearn.naive_bayes import GaussianNB\n",
    "gnb = GaussianNB()\n",
    "gnb = gnb.fit(X_train, y_train)\n",
    "\n",
    "y_pred= gnb.predict(X_test)\n",
    "acc = accuracy_score(y_test, y_pred)\n",
    "\n",
    "print(\"Test Accuracy of GaussianNB = {:.6f} %\".format(acc * 100))\n",
    "\n",
    "tt = time() - t0     \n",
    "print (\" Time \",format(round(tt,3)),\" seconds\")\n",
    "# Matrix de confusion\n",
    "from sklearn.metrics import classification_report, confusion_matrix\n",
    "print(confusion_matrix(y_test,y_pred))\n",
    "print('\\n')\n",
    "print(classification_report(y_test,y_pred))"
   ]
  },
  {
   "cell_type": "code",
   "execution_count": null,
   "metadata": {
    "collapsed": true
   },
   "outputs": [],
   "source": []
  },
  {
   "cell_type": "code",
   "execution_count": null,
   "metadata": {
    "collapsed": true
   },
   "outputs": [],
   "source": []
  },
  {
   "cell_type": "code",
   "execution_count": null,
   "metadata": {
    "collapsed": true
   },
   "outputs": [],
   "source": []
  },
  {
   "cell_type": "code",
   "execution_count": null,
   "metadata": {
    "collapsed": true
   },
   "outputs": [],
   "source": []
  }
 ],
 "metadata": {
  "kernelspec": {
   "display_name": "Python 2",
   "language": "python",
   "name": "python2"
  },
  "language_info": {
   "codemirror_mode": {
    "name": "ipython",
    "version": 2
   },
   "file_extension": ".py",
   "mimetype": "text/x-python",
   "name": "python",
   "nbconvert_exporter": "python",
   "pygments_lexer": "ipython2",
   "version": "2.7.13"
  }
 },
 "nbformat": 4,
 "nbformat_minor": 2
}
