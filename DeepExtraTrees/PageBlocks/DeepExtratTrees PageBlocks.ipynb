{
 "cells": [
  {
   "cell_type": "code",
   "execution_count": 1,
   "metadata": {
    "collapsed": true
   },
   "outputs": [],
   "source": [
    "# imports \n",
    "import numpy as np\n",
    "from math import sqrt \n",
    "from pprint import pprint\n",
    "from numpy import array\n",
    "from scipy.io import arff\n",
    "import pandas as pd\n",
    "from time import time"
   ]
  },
  {
   "cell_type": "code",
   "execution_count": 2,
   "metadata": {},
   "outputs": [
    {
     "data": {
      "text/html": [
       "<div>\n",
       "<style>\n",
       "    .dataframe thead tr:only-child th {\n",
       "        text-align: right;\n",
       "    }\n",
       "\n",
       "    .dataframe thead th {\n",
       "        text-align: left;\n",
       "    }\n",
       "\n",
       "    .dataframe tbody tr th {\n",
       "        vertical-align: top;\n",
       "    }\n",
       "</style>\n",
       "<table border=\"1\" class=\"dataframe\">\n",
       "  <thead>\n",
       "    <tr style=\"text-align: right;\">\n",
       "      <th></th>\n",
       "      <th>att1</th>\n",
       "      <th>att2</th>\n",
       "      <th>att3</th>\n",
       "      <th>att4</th>\n",
       "      <th>att5</th>\n",
       "      <th>att6</th>\n",
       "      <th>att7</th>\n",
       "      <th>att8</th>\n",
       "      <th>att9</th>\n",
       "      <th>att10</th>\n",
       "      <th>outlier</th>\n",
       "    </tr>\n",
       "  </thead>\n",
       "  <tbody>\n",
       "    <tr>\n",
       "      <th>0</th>\n",
       "      <td>5.0</td>\n",
       "      <td>7.0</td>\n",
       "      <td>35.0</td>\n",
       "      <td>1.400</td>\n",
       "      <td>0.400</td>\n",
       "      <td>0.657</td>\n",
       "      <td>2.33</td>\n",
       "      <td>14.0</td>\n",
       "      <td>23.0</td>\n",
       "      <td>6.0</td>\n",
       "      <td>0</td>\n",
       "    </tr>\n",
       "    <tr>\n",
       "      <th>1</th>\n",
       "      <td>6.0</td>\n",
       "      <td>7.0</td>\n",
       "      <td>42.0</td>\n",
       "      <td>1.167</td>\n",
       "      <td>0.429</td>\n",
       "      <td>0.881</td>\n",
       "      <td>3.60</td>\n",
       "      <td>18.0</td>\n",
       "      <td>37.0</td>\n",
       "      <td>5.0</td>\n",
       "      <td>0</td>\n",
       "    </tr>\n",
       "    <tr>\n",
       "      <th>2</th>\n",
       "      <td>6.0</td>\n",
       "      <td>18.0</td>\n",
       "      <td>108.0</td>\n",
       "      <td>3.000</td>\n",
       "      <td>0.287</td>\n",
       "      <td>0.741</td>\n",
       "      <td>4.43</td>\n",
       "      <td>31.0</td>\n",
       "      <td>80.0</td>\n",
       "      <td>7.0</td>\n",
       "      <td>0</td>\n",
       "    </tr>\n",
       "    <tr>\n",
       "      <th>3</th>\n",
       "      <td>5.0</td>\n",
       "      <td>7.0</td>\n",
       "      <td>35.0</td>\n",
       "      <td>1.400</td>\n",
       "      <td>0.371</td>\n",
       "      <td>0.743</td>\n",
       "      <td>4.33</td>\n",
       "      <td>13.0</td>\n",
       "      <td>26.0</td>\n",
       "      <td>3.0</td>\n",
       "      <td>0</td>\n",
       "    </tr>\n",
       "    <tr>\n",
       "      <th>4</th>\n",
       "      <td>6.0</td>\n",
       "      <td>3.0</td>\n",
       "      <td>18.0</td>\n",
       "      <td>0.500</td>\n",
       "      <td>0.500</td>\n",
       "      <td>0.944</td>\n",
       "      <td>2.25</td>\n",
       "      <td>9.0</td>\n",
       "      <td>17.0</td>\n",
       "      <td>4.0</td>\n",
       "      <td>0</td>\n",
       "    </tr>\n",
       "  </tbody>\n",
       "</table>\n",
       "</div>"
      ],
      "text/plain": [
       "   att1  att2   att3   att4   att5   att6  att7  att8  att9  att10  outlier\n",
       "0   5.0   7.0   35.0  1.400  0.400  0.657  2.33  14.0  23.0    6.0        0\n",
       "1   6.0   7.0   42.0  1.167  0.429  0.881  3.60  18.0  37.0    5.0        0\n",
       "2   6.0  18.0  108.0  3.000  0.287  0.741  4.43  31.0  80.0    7.0        0\n",
       "3   5.0   7.0   35.0  1.400  0.371  0.743  4.33  13.0  26.0    3.0        0\n",
       "4   6.0   3.0   18.0  0.500  0.500  0.944  2.25   9.0  17.0    4.0        0"
      ]
     },
     "execution_count": 2,
     "metadata": {},
     "output_type": "execute_result"
    }
   ],
   "source": [
    "# load data\n",
    "df=pd.read_csv('PageBlocks_withoutdupl_02_v02.csv')  \n",
    "\n",
    "del df['id']\n",
    "del df['Unnamed: 0']\n",
    "\n",
    "df.head()"
   ]
  },
  {
   "cell_type": "code",
   "execution_count": 3,
   "metadata": {},
   "outputs": [
    {
     "data": {
      "text/plain": [
       "(4982, 11)"
      ]
     },
     "execution_count": 3,
     "metadata": {},
     "output_type": "execute_result"
    }
   ],
   "source": [
    "df.shape"
   ]
  },
  {
   "cell_type": "code",
   "execution_count": 4,
   "metadata": {
    "collapsed": true
   },
   "outputs": [],
   "source": [
    "# data to values\n",
    "df = df.values"
   ]
  },
  {
   "cell_type": "code",
   "execution_count": 5,
   "metadata": {
    "collapsed": true
   },
   "outputs": [],
   "source": [
    "# DeepExtratTrees  \n",
    "import argparse\n",
    "import sys\n",
    "import pickle\n",
    "from sklearn.metrics import accuracy_score\n",
    "sys.path.insert(0, \"lib\")\n",
    "from gcforest.gcforest import GCForest\n",
    "from gcforest.utils.config_utils import load_json\n",
    "config = load_json(\"./examples/PageBlocks.json\")\n",
    "gc = GCForest(config)"
   ]
  },
  {
   "cell_type": "code",
   "execution_count": 16,
   "metadata": {},
   "outputs": [],
   "source": [
    "# train test \n",
    "from sklearn.cross_validation import train_test_split\n",
    "y = df[:,10]\n",
    "X = df[:,0:10]\n",
    "\n",
    "X_train,X_test,y_train,y_test = train_test_split(X, y, test_size=0.33, random_state=42)"
   ]
  },
  {
   "cell_type": "code",
   "execution_count": 7,
   "metadata": {},
   "outputs": [
    {
     "data": {
      "text/plain": [
       "2"
      ]
     },
     "execution_count": 7,
     "metadata": {},
     "output_type": "execute_result"
    }
   ],
   "source": [
    "# number of class\n",
    "len(np.unique(y_train))"
   ]
  },
  {
   "cell_type": "code",
   "execution_count": 8,
   "metadata": {},
   "outputs": [
    {
     "name": "stderr",
     "output_type": "stream",
     "text": [
      "[ 2018-07-28 00:09:15,074][cascade_classifier.fit_transform] X_groups_train.shape=[(3337, 10)],y_train.shape=(3337,),X_groups_test.shape=[(1645, 10)],y_test.shape=(1645,)\n",
      "[ 2018-07-28 00:09:15,075][cascade_classifier.fit_transform] group_dims=[10]\n",
      "[ 2018-07-28 00:09:15,076][cascade_classifier.fit_transform] group_starts=[0]\n",
      "[ 2018-07-28 00:09:15,078][cascade_classifier.fit_transform] group_ends=[10]\n",
      "[ 2018-07-28 00:09:15,078][cascade_classifier.fit_transform] X_train.shape=(3337, 10),X_test.shape=(1645, 10)\n",
      "[ 2018-07-28 00:09:15,079][cascade_classifier.fit_transform] [layer=0] look_indexs=[0], X_cur_train.shape=(3337, 10), X_cur_test.shape=(1645, 10)\n",
      "[ 2018-07-28 00:09:15,603][kfold_wrapper.log_eval_metrics] Accuracy(layer_0 - estimator_0 - 10_folds.train_0.predict)=98.51%\n",
      "[ 2018-07-28 00:09:16,205][kfold_wrapper.log_eval_metrics] Accuracy(layer_0 - estimator_0 - 10_folds.train_1.predict)=98.21%\n",
      "[ 2018-07-28 00:09:16,829][kfold_wrapper.log_eval_metrics] Accuracy(layer_0 - estimator_0 - 10_folds.train_2.predict)=98.51%\n",
      "[ 2018-07-28 00:09:17,421][kfold_wrapper.log_eval_metrics] Accuracy(layer_0 - estimator_0 - 10_folds.train_3.predict)=99.10%\n",
      "[ 2018-07-28 00:09:18,129][kfold_wrapper.log_eval_metrics] Accuracy(layer_0 - estimator_0 - 10_folds.train_4.predict)=99.10%\n",
      "[ 2018-07-28 00:09:18,726][kfold_wrapper.log_eval_metrics] Accuracy(layer_0 - estimator_0 - 10_folds.train_5.predict)=98.50%\n",
      "[ 2018-07-28 00:09:19,324][kfold_wrapper.log_eval_metrics] Accuracy(layer_0 - estimator_0 - 10_folds.train_6.predict)=98.50%\n",
      "[ 2018-07-28 00:09:20,032][kfold_wrapper.log_eval_metrics] Accuracy(layer_0 - estimator_0 - 10_folds.train_7.predict)=99.70%\n",
      "[ 2018-07-28 00:09:20,631][kfold_wrapper.log_eval_metrics] Accuracy(layer_0 - estimator_0 - 10_folds.train_8.predict)=99.10%\n",
      "[ 2018-07-28 00:09:21,470][kfold_wrapper.log_eval_metrics] Accuracy(layer_0 - estimator_0 - 10_folds.train_9.predict)=98.80%\n",
      "[ 2018-07-28 00:09:21,690][kfold_wrapper.log_eval_metrics] Accuracy(layer_0 - estimator_0 - 10_folds.train_cv.predict)=98.80%\n",
      "[ 2018-07-28 00:09:21,691][kfold_wrapper.log_eval_metrics] Accuracy(layer_0 - estimator_0 - 10_folds.test.predict)=98.66%\n",
      "[ 2018-07-28 00:09:21,692][cascade_classifier.calc_accuracy] Accuracy(layer_0 - train.classifier_average)=98.80%\n",
      "[ 2018-07-28 00:09:21,693][cascade_classifier.calc_accuracy] Accuracy(layer_0 - test.classifier_average)=98.66%\n",
      "[ 2018-07-28 00:09:21,693][cascade_classifier.fit_transform] [Result][Reach Max Layer] opt_layer_num=1, accuracy_train=98.80%, accuracy_test=98.66%\n"
     ]
    }
   ],
   "source": [
    "          # X_enc is the concatenated predict_proba result of DeepExtratTrees\n",
    "\n",
    "X_train_enc, X_test_enc = gc.fit_transform(X_train, y_train, X_test=X_test, y_test=y_test)\n",
    "   "
   ]
  },
  {
   "cell_type": "code",
   "execution_count": 9,
   "metadata": {},
   "outputs": [
    {
     "name": "stderr",
     "output_type": "stream",
     "text": [
      "[ 2018-07-28 00:09:21,702][cascade_classifier.transform] X_groups_test.shape=[(1645, 10)]\n",
      "[ 2018-07-28 00:09:21,703][cascade_classifier.transform] group_dims=[10]\n",
      "[ 2018-07-28 00:09:21,705][cascade_classifier.transform] X_test.shape=(1645, 10)\n",
      "[ 2018-07-28 00:09:21,706][cascade_classifier.transform] [layer=0] look_indexs=[0], X_cur_test.shape=(1645, 10)\n"
     ]
    },
    {
     "name": "stdout",
     "output_type": "stream",
     "text": [
      "Test Accuracy of ExtraTrees = 98.662614 %\n",
      "[[1609    1]\n",
      " [  21   14]]\n",
      "\n",
      "\n",
      "             precision    recall  f1-score   support\n",
      "\n",
      "        0.0       0.99      1.00      0.99      1610\n",
      "        1.0       0.93      0.40      0.56        35\n",
      "\n",
      "avg / total       0.99      0.99      0.98      1645\n",
      "\n"
     ]
    }
   ],
   "source": [
    "# predict\n",
    "y_pred = gc.predict(X_test)\n",
    "acc = accuracy_score(y_test, y_pred)\n",
    "print(\"Test Accuracy of ExtraTrees = {:.6f} %\".format(acc * 100))\n",
    " # Matrix de confusion\n",
    "from sklearn.metrics import classification_report, confusion_matrix\n",
    "print(confusion_matrix(y_test,y_pred))\n",
    "print('\\n')\n",
    "print(classification_report(y_test,y_pred))"
   ]
  },
  {
   "cell_type": "code",
   "execution_count": 10,
   "metadata": {},
   "outputs": [
    {
     "name": "stderr",
     "output_type": "stream",
     "text": [
      "[ 2018-07-28 00:09:22,866][cascade_classifier.transform] X_groups_test.shape=[(1645, 10)]\n",
      "[ 2018-07-28 00:09:22,867][cascade_classifier.transform] group_dims=[10]\n",
      "[ 2018-07-28 00:09:22,868][cascade_classifier.transform] X_test.shape=(1645, 10)\n",
      "[ 2018-07-28 00:09:22,869][cascade_classifier.transform] [layer=0] look_indexs=[0], X_cur_test.shape=(1645, 10)\n"
     ]
    }
   ],
   "source": [
    "# Make data + estimators\n",
    "X_test_enc = gc.transform(X_test)\n",
    "X_train_enc = X_train_enc.reshape((X_train_enc.shape[0], -1))\n",
    "X_test_enc = X_test_enc.reshape((X_test_enc.shape[0], -1))\n",
    "X_train_origin = X_train.reshape((X_train.shape[0], -1))\n",
    "X_test_origin = X_test.reshape((X_test.shape[0], -1))\n",
    "X_train_enc = np.hstack((X_train_origin, X_train_enc))\n",
    "X_test_enc = np.hstack((X_test_origin, X_test_enc))"
   ]
  },
  {
   "cell_type": "code",
   "execution_count": 11,
   "metadata": {},
   "outputs": [
    {
     "name": "stderr",
     "output_type": "stream",
     "text": [
      "[ 2018-07-28 00:09:24,138][cascade_classifier.fit_transform] X_groups_train.shape=[(3337, 12)],y_train.shape=(3337,),X_groups_test.shape=[(1645, 12)],y_test.shape=(1645,)\n",
      "[ 2018-07-28 00:09:24,139][cascade_classifier.fit_transform] group_dims=[12]\n",
      "[ 2018-07-28 00:09:24,141][cascade_classifier.fit_transform] group_starts=[0]\n",
      "[ 2018-07-28 00:09:24,142][cascade_classifier.fit_transform] group_ends=[12]\n",
      "[ 2018-07-28 00:09:24,143][cascade_classifier.fit_transform] X_train.shape=(3337, 12),X_test.shape=(1645, 12)\n",
      "[ 2018-07-28 00:09:24,144][cascade_classifier.fit_transform] [layer=0] look_indexs=[0], X_cur_train.shape=(3337, 12), X_cur_test.shape=(1645, 12)\n",
      "[ 2018-07-28 00:09:24,631][kfold_wrapper.log_eval_metrics] Accuracy(layer_0 - estimator_0 - 10_folds.train_0.predict)=98.81%\n",
      "[ 2018-07-28 00:09:25,225][kfold_wrapper.log_eval_metrics] Accuracy(layer_0 - estimator_0 - 10_folds.train_1.predict)=98.21%\n",
      "[ 2018-07-28 00:09:25,822][kfold_wrapper.log_eval_metrics] Accuracy(layer_0 - estimator_0 - 10_folds.train_2.predict)=98.81%\n",
      "[ 2018-07-28 00:09:26,454][kfold_wrapper.log_eval_metrics] Accuracy(layer_0 - estimator_0 - 10_folds.train_3.predict)=98.50%\n",
      "[ 2018-07-28 00:09:27,046][kfold_wrapper.log_eval_metrics] Accuracy(layer_0 - estimator_0 - 10_folds.train_4.predict)=99.10%\n",
      "[ 2018-07-28 00:09:27,643][kfold_wrapper.log_eval_metrics] Accuracy(layer_0 - estimator_0 - 10_folds.train_5.predict)=98.50%\n",
      "[ 2018-07-28 00:09:28,233][kfold_wrapper.log_eval_metrics] Accuracy(layer_0 - estimator_0 - 10_folds.train_6.predict)=99.10%\n",
      "[ 2018-07-28 00:09:28,942][kfold_wrapper.log_eval_metrics] Accuracy(layer_0 - estimator_0 - 10_folds.train_7.predict)=99.70%\n",
      "[ 2018-07-28 00:09:29,648][kfold_wrapper.log_eval_metrics] Accuracy(layer_0 - estimator_0 - 10_folds.train_8.predict)=98.80%\n",
      "[ 2018-07-28 00:09:30,240][kfold_wrapper.log_eval_metrics] Accuracy(layer_0 - estimator_0 - 10_folds.train_9.predict)=98.80%\n",
      "[ 2018-07-28 00:09:30,344][kfold_wrapper.log_eval_metrics] Accuracy(layer_0 - estimator_0 - 10_folds.train_cv.predict)=98.83%\n",
      "[ 2018-07-28 00:09:30,345][kfold_wrapper.log_eval_metrics] Accuracy(layer_0 - estimator_0 - 10_folds.test.predict)=99.03%\n",
      "[ 2018-07-28 00:09:30,348][cascade_classifier.calc_accuracy] Accuracy(layer_0 - train.classifier_average)=98.83%\n",
      "[ 2018-07-28 00:09:30,349][cascade_classifier.calc_accuracy] Accuracy(layer_0 - test.classifier_average)=99.03%\n",
      "[ 2018-07-28 00:09:30,349][cascade_classifier.fit_transform] [Result][Reach Max Layer] opt_layer_num=1, accuracy_train=98.83%, accuracy_test=99.03%\n"
     ]
    }
   ],
   "source": [
    "# New data\n",
    "X_train=X_train_enc\n",
    "X_test=X_test_enc \n",
    "X_train_enc, X_test_enc = gc.fit_transform(X_train, y_train, X_test=X_test, y_test=y_test)"
   ]
  },
  {
   "cell_type": "code",
   "execution_count": 12,
   "metadata": {},
   "outputs": [
    {
     "name": "stderr",
     "output_type": "stream",
     "text": [
      "[ 2018-07-28 00:09:30,357][cascade_classifier.transform] X_groups_test.shape=[(1645, 12)]\n",
      "[ 2018-07-28 00:09:30,358][cascade_classifier.transform] group_dims=[12]\n",
      "[ 2018-07-28 00:09:30,360][cascade_classifier.transform] X_test.shape=(1645, 12)\n",
      "[ 2018-07-28 00:09:30,361][cascade_classifier.transform] [layer=0] look_indexs=[0], X_cur_test.shape=(1645, 12)\n"
     ]
    },
    {
     "name": "stdout",
     "output_type": "stream",
     "text": [
      "Test Accuracy of ExtraTrees = 99.027356 %\n",
      "[[1609    1]\n",
      " [  15   20]]\n",
      "\n",
      "\n",
      "             precision    recall  f1-score   support\n",
      "\n",
      "        0.0       0.99      1.00      1.00      1610\n",
      "        1.0       0.95      0.57      0.71        35\n",
      "\n",
      "avg / total       0.99      0.99      0.99      1645\n",
      "\n"
     ]
    }
   ],
   "source": [
    "# predict  data + Es\n",
    "y_pred = gc.predict(X_test)\n",
    "acc = accuracy_score(y_test, y_pred)\n",
    "print(\"Test Accuracy of ExtraTrees = {:.6f} %\".format(acc * 100))\n",
    " # Matrix de confusion\n",
    "from sklearn.metrics import classification_report, confusion_matrix\n",
    "print(confusion_matrix(y_test,y_pred))\n",
    "print('\\n')\n",
    "print(classification_report(y_test,y_pred))"
   ]
  },
  {
   "cell_type": "code",
   "execution_count": 13,
   "metadata": {},
   "outputs": [
    {
     "name": "stderr",
     "output_type": "stream",
     "text": [
      "[ 2018-07-28 00:09:31,670][cascade_classifier.fit_transform] X_groups_train.shape=[(3337, 12)],y_train.shape=(3337,),X_groups_test.shape=[(1645, 12)],y_test.shape=(1645,)\n",
      "[ 2018-07-28 00:09:31,671][cascade_classifier.fit_transform] group_dims=[12]\n",
      "[ 2018-07-28 00:09:31,672][cascade_classifier.fit_transform] group_starts=[0]\n",
      "[ 2018-07-28 00:09:31,673][cascade_classifier.fit_transform] group_ends=[12]\n",
      "[ 2018-07-28 00:09:31,674][cascade_classifier.fit_transform] X_train.shape=(3337, 12),X_test.shape=(1645, 12)\n",
      "[ 2018-07-28 00:09:31,675][cascade_classifier.fit_transform] [layer=0] look_indexs=[0], X_cur_train.shape=(3337, 12), X_cur_test.shape=(1645, 12)\n",
      "[ 2018-07-28 00:09:32,166][kfold_wrapper.log_eval_metrics] Accuracy(layer_0 - estimator_0 - 10_folds.train_0.predict)=98.51%\n",
      "[ 2018-07-28 00:09:32,759][kfold_wrapper.log_eval_metrics] Accuracy(layer_0 - estimator_0 - 10_folds.train_1.predict)=98.21%\n",
      "[ 2018-07-28 00:09:33,352][kfold_wrapper.log_eval_metrics] Accuracy(layer_0 - estimator_0 - 10_folds.train_2.predict)=99.10%\n",
      "[ 2018-07-28 00:09:33,947][kfold_wrapper.log_eval_metrics] Accuracy(layer_0 - estimator_0 - 10_folds.train_3.predict)=98.20%\n",
      "[ 2018-07-28 00:09:34,540][kfold_wrapper.log_eval_metrics] Accuracy(layer_0 - estimator_0 - 10_folds.train_4.predict)=99.10%\n",
      "[ 2018-07-28 00:09:35,245][kfold_wrapper.log_eval_metrics] Accuracy(layer_0 - estimator_0 - 10_folds.train_5.predict)=98.20%\n",
      "[ 2018-07-28 00:09:35,989][kfold_wrapper.log_eval_metrics] Accuracy(layer_0 - estimator_0 - 10_folds.train_6.predict)=98.80%\n",
      "[ 2018-07-28 00:09:36,580][kfold_wrapper.log_eval_metrics] Accuracy(layer_0 - estimator_0 - 10_folds.train_7.predict)=99.70%\n",
      "[ 2018-07-28 00:09:37,182][kfold_wrapper.log_eval_metrics] Accuracy(layer_0 - estimator_0 - 10_folds.train_8.predict)=98.80%\n",
      "[ 2018-07-28 00:09:37,886][kfold_wrapper.log_eval_metrics] Accuracy(layer_0 - estimator_0 - 10_folds.train_9.predict)=98.50%\n",
      "[ 2018-07-28 00:09:38,112][kfold_wrapper.log_eval_metrics] Accuracy(layer_0 - estimator_0 - 10_folds.train_cv.predict)=98.71%\n",
      "[ 2018-07-28 00:09:38,114][kfold_wrapper.log_eval_metrics] Accuracy(layer_0 - estimator_0 - 10_folds.test.predict)=98.91%\n",
      "[ 2018-07-28 00:09:38,117][cascade_classifier.calc_accuracy] Accuracy(layer_0 - train.classifier_average)=98.71%\n",
      "[ 2018-07-28 00:09:38,118][cascade_classifier.calc_accuracy] Accuracy(layer_0 - test.classifier_average)=98.91%\n",
      "[ 2018-07-28 00:09:38,119][cascade_classifier.fit_transform] [Result][Reach Max Layer] opt_layer_num=1, accuracy_train=98.71%, accuracy_test=98.91%\n",
      "[ 2018-07-28 00:09:38,120][cascade_classifier.transform] X_groups_test.shape=[(1645, 12)]\n",
      "[ 2018-07-28 00:09:38,121][cascade_classifier.transform] group_dims=[12]\n",
      "[ 2018-07-28 00:09:38,122][cascade_classifier.transform] X_test.shape=(1645, 12)\n",
      "[ 2018-07-28 00:09:38,123][cascade_classifier.transform] [layer=0] look_indexs=[0], X_cur_test.shape=(1645, 12)\n",
      "[ 2018-07-28 00:09:40,221][cascade_classifier.fit_transform] X_groups_train.shape=[(3337, 12)],y_train.shape=(3337,),X_groups_test.shape=[(1645, 12)],y_test.shape=(1645,)\n",
      "[ 2018-07-28 00:09:40,222][cascade_classifier.fit_transform] group_dims=[12]\n",
      "[ 2018-07-28 00:09:40,223][cascade_classifier.fit_transform] group_starts=[0]\n",
      "[ 2018-07-28 00:09:40,225][cascade_classifier.fit_transform] group_ends=[12]\n",
      "[ 2018-07-28 00:09:40,226][cascade_classifier.fit_transform] X_train.shape=(3337, 12),X_test.shape=(1645, 12)\n",
      "[ 2018-07-28 00:09:40,228][cascade_classifier.fit_transform] [layer=0] look_indexs=[0], X_cur_train.shape=(3337, 12), X_cur_test.shape=(1645, 12)\n"
     ]
    },
    {
     "name": "stdout",
     "output_type": "stream",
     "text": [
      "('Test Accuracy of DeepExtratTrees = 98.905775 %', 'Layer :', 0)\n",
      "[[1608    2]\n",
      " [  16   19]]\n",
      "\n",
      "\n",
      "             precision    recall  f1-score   support\n",
      "\n",
      "        0.0       0.99      1.00      0.99      1610\n",
      "        1.0       0.90      0.54      0.68        35\n",
      "\n",
      "avg / total       0.99      0.99      0.99      1645\n",
      "\n",
      "(' Time ', '6.451', ' seconds')\n"
     ]
    },
    {
     "name": "stderr",
     "output_type": "stream",
     "text": [
      "[ 2018-07-28 00:09:41,022][kfold_wrapper.log_eval_metrics] Accuracy(layer_0 - estimator_0 - 10_folds.train_0.predict)=98.51%\n",
      "[ 2018-07-28 00:09:41,878][kfold_wrapper.log_eval_metrics] Accuracy(layer_0 - estimator_0 - 10_folds.train_1.predict)=98.21%\n",
      "[ 2018-07-28 00:09:42,888][kfold_wrapper.log_eval_metrics] Accuracy(layer_0 - estimator_0 - 10_folds.train_2.predict)=98.21%\n",
      "[ 2018-07-28 00:09:43,721][kfold_wrapper.log_eval_metrics] Accuracy(layer_0 - estimator_0 - 10_folds.train_3.predict)=98.80%\n",
      "[ 2018-07-28 00:09:44,449][kfold_wrapper.log_eval_metrics] Accuracy(layer_0 - estimator_0 - 10_folds.train_4.predict)=99.40%\n",
      "[ 2018-07-28 00:09:45,047][kfold_wrapper.log_eval_metrics] Accuracy(layer_0 - estimator_0 - 10_folds.train_5.predict)=98.20%\n",
      "[ 2018-07-28 00:09:45,638][kfold_wrapper.log_eval_metrics] Accuracy(layer_0 - estimator_0 - 10_folds.train_6.predict)=98.80%\n",
      "[ 2018-07-28 00:09:46,229][kfold_wrapper.log_eval_metrics] Accuracy(layer_0 - estimator_0 - 10_folds.train_7.predict)=99.10%\n",
      "[ 2018-07-28 00:09:46,937][kfold_wrapper.log_eval_metrics] Accuracy(layer_0 - estimator_0 - 10_folds.train_8.predict)=98.80%\n",
      "[ 2018-07-28 00:09:47,645][kfold_wrapper.log_eval_metrics] Accuracy(layer_0 - estimator_0 - 10_folds.train_9.predict)=98.20%\n",
      "[ 2018-07-28 00:09:47,750][kfold_wrapper.log_eval_metrics] Accuracy(layer_0 - estimator_0 - 10_folds.train_cv.predict)=98.62%\n",
      "[ 2018-07-28 00:09:47,750][kfold_wrapper.log_eval_metrics] Accuracy(layer_0 - estimator_0 - 10_folds.test.predict)=98.78%\n",
      "[ 2018-07-28 00:09:47,753][cascade_classifier.calc_accuracy] Accuracy(layer_0 - train.classifier_average)=98.62%\n",
      "[ 2018-07-28 00:09:47,754][cascade_classifier.calc_accuracy] Accuracy(layer_0 - test.classifier_average)=98.78%\n",
      "[ 2018-07-28 00:09:47,755][cascade_classifier.fit_transform] [Result][Reach Max Layer] opt_layer_num=1, accuracy_train=98.62%, accuracy_test=98.78%\n",
      "[ 2018-07-28 00:09:47,756][cascade_classifier.transform] X_groups_test.shape=[(1645, 12)]\n",
      "[ 2018-07-28 00:09:47,757][cascade_classifier.transform] group_dims=[12]\n",
      "[ 2018-07-28 00:09:47,757][cascade_classifier.transform] X_test.shape=(1645, 12)\n",
      "[ 2018-07-28 00:09:47,758][cascade_classifier.transform] [layer=0] look_indexs=[0], X_cur_test.shape=(1645, 12)\n",
      "[ 2018-07-28 00:09:49,060][cascade_classifier.fit_transform] X_groups_train.shape=[(3337, 12)],y_train.shape=(3337,),X_groups_test.shape=[(1645, 12)],y_test.shape=(1645,)\n",
      "[ 2018-07-28 00:09:49,062][cascade_classifier.fit_transform] group_dims=[12]\n",
      "[ 2018-07-28 00:09:49,063][cascade_classifier.fit_transform] group_starts=[0]\n",
      "[ 2018-07-28 00:09:49,064][cascade_classifier.fit_transform] group_ends=[12]\n",
      "[ 2018-07-28 00:09:49,064][cascade_classifier.fit_transform] X_train.shape=(3337, 12),X_test.shape=(1645, 12)\n",
      "[ 2018-07-28 00:09:49,066][cascade_classifier.fit_transform] [layer=0] look_indexs=[0], X_cur_train.shape=(3337, 12), X_cur_test.shape=(1645, 12)\n"
     ]
    },
    {
     "name": "stdout",
     "output_type": "stream",
     "text": [
      "('Test Accuracy of DeepExtratTrees = 98.784195 %', 'Layer :', 1)\n",
      "[[1609    1]\n",
      " [  19   16]]\n",
      "\n",
      "\n",
      "             precision    recall  f1-score   support\n",
      "\n",
      "        0.0       0.99      1.00      0.99      1610\n",
      "        1.0       0.94      0.46      0.62        35\n",
      "\n",
      "avg / total       0.99      0.99      0.99      1645\n",
      "\n",
      "(' Time ', '7.536', ' seconds')\n"
     ]
    },
    {
     "name": "stderr",
     "output_type": "stream",
     "text": [
      "[ 2018-07-28 00:09:49,562][kfold_wrapper.log_eval_metrics] Accuracy(layer_0 - estimator_0 - 10_folds.train_0.predict)=98.81%\n",
      "[ 2018-07-28 00:09:50,153][kfold_wrapper.log_eval_metrics] Accuracy(layer_0 - estimator_0 - 10_folds.train_1.predict)=98.21%\n",
      "[ 2018-07-28 00:09:50,862][kfold_wrapper.log_eval_metrics] Accuracy(layer_0 - estimator_0 - 10_folds.train_2.predict)=98.81%\n",
      "[ 2018-07-28 00:09:51,574][kfold_wrapper.log_eval_metrics] Accuracy(layer_0 - estimator_0 - 10_folds.train_3.predict)=99.10%\n",
      "[ 2018-07-28 00:09:52,171][kfold_wrapper.log_eval_metrics] Accuracy(layer_0 - estimator_0 - 10_folds.train_4.predict)=99.40%\n",
      "[ 2018-07-28 00:09:52,764][kfold_wrapper.log_eval_metrics] Accuracy(layer_0 - estimator_0 - 10_folds.train_5.predict)=98.50%\n",
      "[ 2018-07-28 00:09:53,360][kfold_wrapper.log_eval_metrics] Accuracy(layer_0 - estimator_0 - 10_folds.train_6.predict)=98.80%\n",
      "[ 2018-07-28 00:09:54,071][kfold_wrapper.log_eval_metrics] Accuracy(layer_0 - estimator_0 - 10_folds.train_7.predict)=99.70%\n",
      "[ 2018-07-28 00:09:54,663][kfold_wrapper.log_eval_metrics] Accuracy(layer_0 - estimator_0 - 10_folds.train_8.predict)=98.80%\n",
      "[ 2018-07-28 00:09:55,256][kfold_wrapper.log_eval_metrics] Accuracy(layer_0 - estimator_0 - 10_folds.train_9.predict)=99.40%\n",
      "[ 2018-07-28 00:09:55,361][kfold_wrapper.log_eval_metrics] Accuracy(layer_0 - estimator_0 - 10_folds.train_cv.predict)=98.95%\n",
      "[ 2018-07-28 00:09:55,362][kfold_wrapper.log_eval_metrics] Accuracy(layer_0 - estimator_0 - 10_folds.test.predict)=99.03%\n",
      "[ 2018-07-28 00:09:55,365][cascade_classifier.calc_accuracy] Accuracy(layer_0 - train.classifier_average)=98.95%\n",
      "[ 2018-07-28 00:09:55,365][cascade_classifier.calc_accuracy] Accuracy(layer_0 - test.classifier_average)=99.03%\n",
      "[ 2018-07-28 00:09:55,366][cascade_classifier.fit_transform] [Result][Reach Max Layer] opt_layer_num=1, accuracy_train=98.95%, accuracy_test=99.03%\n",
      "[ 2018-07-28 00:09:55,367][cascade_classifier.transform] X_groups_test.shape=[(1645, 12)]\n",
      "[ 2018-07-28 00:09:55,368][cascade_classifier.transform] group_dims=[12]\n",
      "[ 2018-07-28 00:09:55,369][cascade_classifier.transform] X_test.shape=(1645, 12)\n",
      "[ 2018-07-28 00:09:55,370][cascade_classifier.transform] [layer=0] look_indexs=[0], X_cur_test.shape=(1645, 12)\n",
      "[ 2018-07-28 00:09:56,755][cascade_classifier.fit_transform] X_groups_train.shape=[(3337, 12)],y_train.shape=(3337,),X_groups_test.shape=[(1645, 12)],y_test.shape=(1645,)\n",
      "[ 2018-07-28 00:09:56,756][cascade_classifier.fit_transform] group_dims=[12]\n",
      "[ 2018-07-28 00:09:56,756][cascade_classifier.fit_transform] group_starts=[0]\n",
      "[ 2018-07-28 00:09:56,757][cascade_classifier.fit_transform] group_ends=[12]\n",
      "[ 2018-07-28 00:09:56,758][cascade_classifier.fit_transform] X_train.shape=(3337, 12),X_test.shape=(1645, 12)\n",
      "[ 2018-07-28 00:09:56,759][cascade_classifier.fit_transform] [layer=0] look_indexs=[0], X_cur_train.shape=(3337, 12), X_cur_test.shape=(1645, 12)\n"
     ]
    },
    {
     "name": "stdout",
     "output_type": "stream",
     "text": [
      "('Test Accuracy of DeepExtratTrees = 99.027356 %', 'Layer :', 2)\n",
      "[[1609    1]\n",
      " [  15   20]]\n",
      "\n",
      "\n",
      "             precision    recall  f1-score   support\n",
      "\n",
      "        0.0       0.99      1.00      1.00      1610\n",
      "        1.0       0.95      0.57      0.71        35\n",
      "\n",
      "avg / total       0.99      0.99      0.99      1645\n",
      "\n",
      "(' Time ', '6.307', ' seconds')\n"
     ]
    },
    {
     "name": "stderr",
     "output_type": "stream",
     "text": [
      "[ 2018-07-28 00:09:57,253][kfold_wrapper.log_eval_metrics] Accuracy(layer_0 - estimator_0 - 10_folds.train_0.predict)=98.81%\n",
      "[ 2018-07-28 00:09:57,988][kfold_wrapper.log_eval_metrics] Accuracy(layer_0 - estimator_0 - 10_folds.train_1.predict)=98.21%\n",
      "[ 2018-07-28 00:09:58,586][kfold_wrapper.log_eval_metrics] Accuracy(layer_0 - estimator_0 - 10_folds.train_2.predict)=99.10%\n",
      "[ 2018-07-28 00:09:59,178][kfold_wrapper.log_eval_metrics] Accuracy(layer_0 - estimator_0 - 10_folds.train_3.predict)=99.10%\n",
      "[ 2018-07-28 00:09:59,771][kfold_wrapper.log_eval_metrics] Accuracy(layer_0 - estimator_0 - 10_folds.train_4.predict)=99.40%\n",
      "[ 2018-07-28 00:10:00,363][kfold_wrapper.log_eval_metrics] Accuracy(layer_0 - estimator_0 - 10_folds.train_5.predict)=98.80%\n",
      "[ 2018-07-28 00:10:01,071][kfold_wrapper.log_eval_metrics] Accuracy(layer_0 - estimator_0 - 10_folds.train_6.predict)=98.80%\n",
      "[ 2018-07-28 00:10:01,671][kfold_wrapper.log_eval_metrics] Accuracy(layer_0 - estimator_0 - 10_folds.train_7.predict)=99.70%\n",
      "[ 2018-07-28 00:10:02,384][kfold_wrapper.log_eval_metrics] Accuracy(layer_0 - estimator_0 - 10_folds.train_8.predict)=98.80%\n",
      "[ 2018-07-28 00:10:02,984][kfold_wrapper.log_eval_metrics] Accuracy(layer_0 - estimator_0 - 10_folds.train_9.predict)=99.40%\n",
      "[ 2018-07-28 00:10:03,203][kfold_wrapper.log_eval_metrics] Accuracy(layer_0 - estimator_0 - 10_folds.train_cv.predict)=99.01%\n",
      "[ 2018-07-28 00:10:03,204][kfold_wrapper.log_eval_metrics] Accuracy(layer_0 - estimator_0 - 10_folds.test.predict)=98.97%\n",
      "[ 2018-07-28 00:10:03,206][cascade_classifier.calc_accuracy] Accuracy(layer_0 - train.classifier_average)=99.01%\n",
      "[ 2018-07-28 00:10:03,207][cascade_classifier.calc_accuracy] Accuracy(layer_0 - test.classifier_average)=98.97%\n",
      "[ 2018-07-28 00:10:03,208][cascade_classifier.fit_transform] [Result][Reach Max Layer] opt_layer_num=1, accuracy_train=99.01%, accuracy_test=98.97%\n",
      "[ 2018-07-28 00:10:03,208][cascade_classifier.transform] X_groups_test.shape=[(1645, 12)]\n",
      "[ 2018-07-28 00:10:03,209][cascade_classifier.transform] group_dims=[12]\n",
      "[ 2018-07-28 00:10:03,210][cascade_classifier.transform] X_test.shape=(1645, 12)\n",
      "[ 2018-07-28 00:10:03,211][cascade_classifier.transform] [layer=0] look_indexs=[0], X_cur_test.shape=(1645, 12)\n",
      "[ 2018-07-28 00:10:04,826][cascade_classifier.fit_transform] X_groups_train.shape=[(3337, 12)],y_train.shape=(3337,),X_groups_test.shape=[(1645, 12)],y_test.shape=(1645,)\n",
      "[ 2018-07-28 00:10:04,827][cascade_classifier.fit_transform] group_dims=[12]\n",
      "[ 2018-07-28 00:10:04,828][cascade_classifier.fit_transform] group_starts=[0]\n",
      "[ 2018-07-28 00:10:04,829][cascade_classifier.fit_transform] group_ends=[12]\n",
      "[ 2018-07-28 00:10:04,830][cascade_classifier.fit_transform] X_train.shape=(3337, 12),X_test.shape=(1645, 12)\n",
      "[ 2018-07-28 00:10:04,830][cascade_classifier.fit_transform] [layer=0] look_indexs=[0], X_cur_train.shape=(3337, 12), X_cur_test.shape=(1645, 12)\n"
     ]
    },
    {
     "name": "stdout",
     "output_type": "stream",
     "text": [
      "('Test Accuracy of DeepExtratTrees = 98.966565 %', 'Layer :', 3)\n",
      "[[1609    1]\n",
      " [  16   19]]\n",
      "\n",
      "\n",
      "             precision    recall  f1-score   support\n",
      "\n",
      "        0.0       0.99      1.00      0.99      1610\n",
      "        1.0       0.95      0.54      0.69        35\n",
      "\n",
      "avg / total       0.99      0.99      0.99      1645\n",
      "\n",
      "(' Time ', '6.454', ' seconds')\n"
     ]
    },
    {
     "name": "stderr",
     "output_type": "stream",
     "text": [
      "[ 2018-07-28 00:10:05,324][kfold_wrapper.log_eval_metrics] Accuracy(layer_0 - estimator_0 - 10_folds.train_0.predict)=98.51%\n",
      "[ 2018-07-28 00:10:06,032][kfold_wrapper.log_eval_metrics] Accuracy(layer_0 - estimator_0 - 10_folds.train_1.predict)=98.21%\n",
      "[ 2018-07-28 00:10:06,626][kfold_wrapper.log_eval_metrics] Accuracy(layer_0 - estimator_0 - 10_folds.train_2.predict)=98.81%\n",
      "[ 2018-07-28 00:10:07,336][kfold_wrapper.log_eval_metrics] Accuracy(layer_0 - estimator_0 - 10_folds.train_3.predict)=98.80%\n",
      "[ 2018-07-28 00:10:07,928][kfold_wrapper.log_eval_metrics] Accuracy(layer_0 - estimator_0 - 10_folds.train_4.predict)=99.40%\n",
      "[ 2018-07-28 00:10:08,525][kfold_wrapper.log_eval_metrics] Accuracy(layer_0 - estimator_0 - 10_folds.train_5.predict)=98.80%\n",
      "[ 2018-07-28 00:10:09,153][kfold_wrapper.log_eval_metrics] Accuracy(layer_0 - estimator_0 - 10_folds.train_6.predict)=98.80%\n",
      "[ 2018-07-28 00:10:09,744][kfold_wrapper.log_eval_metrics] Accuracy(layer_0 - estimator_0 - 10_folds.train_7.predict)=99.40%\n",
      "[ 2018-07-28 00:10:10,341][kfold_wrapper.log_eval_metrics] Accuracy(layer_0 - estimator_0 - 10_folds.train_8.predict)=98.80%\n",
      "[ 2018-07-28 00:10:10,934][kfold_wrapper.log_eval_metrics] Accuracy(layer_0 - estimator_0 - 10_folds.train_9.predict)=98.80%\n",
      "[ 2018-07-28 00:10:11,152][kfold_wrapper.log_eval_metrics] Accuracy(layer_0 - estimator_0 - 10_folds.train_cv.predict)=98.83%\n",
      "[ 2018-07-28 00:10:11,153][kfold_wrapper.log_eval_metrics] Accuracy(layer_0 - estimator_0 - 10_folds.test.predict)=99.09%\n",
      "[ 2018-07-28 00:10:11,156][cascade_classifier.calc_accuracy] Accuracy(layer_0 - train.classifier_average)=98.83%\n",
      "[ 2018-07-28 00:10:11,157][cascade_classifier.calc_accuracy] Accuracy(layer_0 - test.classifier_average)=99.09%\n",
      "[ 2018-07-28 00:10:11,157][cascade_classifier.fit_transform] [Result][Reach Max Layer] opt_layer_num=1, accuracy_train=98.83%, accuracy_test=99.09%\n",
      "[ 2018-07-28 00:10:11,158][cascade_classifier.transform] X_groups_test.shape=[(1645, 12)]\n",
      "[ 2018-07-28 00:10:11,159][cascade_classifier.transform] group_dims=[12]\n",
      "[ 2018-07-28 00:10:11,160][cascade_classifier.transform] X_test.shape=(1645, 12)\n",
      "[ 2018-07-28 00:10:11,161][cascade_classifier.transform] [layer=0] look_indexs=[0], X_cur_test.shape=(1645, 12)\n",
      "[ 2018-07-28 00:10:12,322][cascade_classifier.fit_transform] X_groups_train.shape=[(3337, 12)],y_train.shape=(3337,),X_groups_test.shape=[(1645, 12)],y_test.shape=(1645,)\n",
      "[ 2018-07-28 00:10:12,323][cascade_classifier.fit_transform] group_dims=[12]\n",
      "[ 2018-07-28 00:10:12,324][cascade_classifier.fit_transform] group_starts=[0]\n",
      "[ 2018-07-28 00:10:12,325][cascade_classifier.fit_transform] group_ends=[12]\n",
      "[ 2018-07-28 00:10:12,326][cascade_classifier.fit_transform] X_train.shape=(3337, 12),X_test.shape=(1645, 12)\n",
      "[ 2018-07-28 00:10:12,327][cascade_classifier.fit_transform] [layer=0] look_indexs=[0], X_cur_train.shape=(3337, 12), X_cur_test.shape=(1645, 12)\n"
     ]
    },
    {
     "name": "stdout",
     "output_type": "stream",
     "text": [
      "('Test Accuracy of DeepExtratTrees = 99.088146 %', 'Layer :', 4)\n",
      "[[1609    1]\n",
      " [  14   21]]\n",
      "\n",
      "\n",
      "             precision    recall  f1-score   support\n",
      "\n",
      "        0.0       0.99      1.00      1.00      1610\n",
      "        1.0       0.95      0.60      0.74        35\n",
      "\n",
      "avg / total       0.99      0.99      0.99      1645\n",
      "\n",
      "(' Time ', '6.333', ' seconds')\n"
     ]
    },
    {
     "name": "stderr",
     "output_type": "stream",
     "text": [
      "[ 2018-07-28 00:10:12,817][kfold_wrapper.log_eval_metrics] Accuracy(layer_0 - estimator_0 - 10_folds.train_0.predict)=98.51%\n",
      "[ 2018-07-28 00:10:13,413][kfold_wrapper.log_eval_metrics] Accuracy(layer_0 - estimator_0 - 10_folds.train_1.predict)=98.21%\n",
      "[ 2018-07-28 00:10:14,010][kfold_wrapper.log_eval_metrics] Accuracy(layer_0 - estimator_0 - 10_folds.train_2.predict)=98.21%\n",
      "[ 2018-07-28 00:10:14,718][kfold_wrapper.log_eval_metrics] Accuracy(layer_0 - estimator_0 - 10_folds.train_3.predict)=99.10%\n",
      "[ 2018-07-28 00:10:15,427][kfold_wrapper.log_eval_metrics] Accuracy(layer_0 - estimator_0 - 10_folds.train_4.predict)=99.10%\n",
      "[ 2018-07-28 00:10:16,022][kfold_wrapper.log_eval_metrics] Accuracy(layer_0 - estimator_0 - 10_folds.train_5.predict)=98.80%\n",
      "[ 2018-07-28 00:10:16,614][kfold_wrapper.log_eval_metrics] Accuracy(layer_0 - estimator_0 - 10_folds.train_6.predict)=98.80%\n",
      "[ 2018-07-28 00:10:17,210][kfold_wrapper.log_eval_metrics] Accuracy(layer_0 - estimator_0 - 10_folds.train_7.predict)=99.10%\n",
      "[ 2018-07-28 00:10:17,805][kfold_wrapper.log_eval_metrics] Accuracy(layer_0 - estimator_0 - 10_folds.train_8.predict)=99.10%\n",
      "[ 2018-07-28 00:10:18,404][kfold_wrapper.log_eval_metrics] Accuracy(layer_0 - estimator_0 - 10_folds.train_9.predict)=98.80%\n",
      "[ 2018-07-28 00:10:18,659][kfold_wrapper.log_eval_metrics] Accuracy(layer_0 - estimator_0 - 10_folds.train_cv.predict)=98.77%\n",
      "[ 2018-07-28 00:10:18,660][kfold_wrapper.log_eval_metrics] Accuracy(layer_0 - estimator_0 - 10_folds.test.predict)=99.09%\n",
      "[ 2018-07-28 00:10:18,662][cascade_classifier.calc_accuracy] Accuracy(layer_0 - train.classifier_average)=98.77%\n",
      "[ 2018-07-28 00:10:18,663][cascade_classifier.calc_accuracy] Accuracy(layer_0 - test.classifier_average)=99.09%\n",
      "[ 2018-07-28 00:10:18,664][cascade_classifier.fit_transform] [Result][Reach Max Layer] opt_layer_num=1, accuracy_train=98.77%, accuracy_test=99.09%\n",
      "[ 2018-07-28 00:10:18,665][cascade_classifier.transform] X_groups_test.shape=[(1645, 12)]\n",
      "[ 2018-07-28 00:10:18,665][cascade_classifier.transform] group_dims=[12]\n",
      "[ 2018-07-28 00:10:18,666][cascade_classifier.transform] X_test.shape=(1645, 12)\n",
      "[ 2018-07-28 00:10:18,667][cascade_classifier.transform] [layer=0] look_indexs=[0], X_cur_test.shape=(1645, 12)\n",
      "[ 2018-07-28 00:10:20,162][cascade_classifier.fit_transform] X_groups_train.shape=[(3337, 12)],y_train.shape=(3337,),X_groups_test.shape=[(1645, 12)],y_test.shape=(1645,)\n",
      "[ 2018-07-28 00:10:20,163][cascade_classifier.fit_transform] group_dims=[12]\n",
      "[ 2018-07-28 00:10:20,163][cascade_classifier.fit_transform] group_starts=[0]\n",
      "[ 2018-07-28 00:10:20,164][cascade_classifier.fit_transform] group_ends=[12]\n",
      "[ 2018-07-28 00:10:20,165][cascade_classifier.fit_transform] X_train.shape=(3337, 12),X_test.shape=(1645, 12)\n",
      "[ 2018-07-28 00:10:20,166][cascade_classifier.fit_transform] [layer=0] look_indexs=[0], X_cur_train.shape=(3337, 12), X_cur_test.shape=(1645, 12)\n"
     ]
    },
    {
     "name": "stdout",
     "output_type": "stream",
     "text": [
      "('Test Accuracy of DeepExtratTrees = 99.088146 %', 'Layer :', 5)\n",
      "[[1608    2]\n",
      " [  13   22]]\n",
      "\n",
      "\n",
      "             precision    recall  f1-score   support\n",
      "\n",
      "        0.0       0.99      1.00      1.00      1610\n",
      "        1.0       0.92      0.63      0.75        35\n",
      "\n",
      "avg / total       0.99      0.99      0.99      1645\n",
      "\n",
      "(' Time ', '6.343', ' seconds')\n"
     ]
    },
    {
     "name": "stderr",
     "output_type": "stream",
     "text": [
      "[ 2018-07-28 00:10:20,659][kfold_wrapper.log_eval_metrics] Accuracy(layer_0 - estimator_0 - 10_folds.train_0.predict)=98.51%\n",
      "[ 2018-07-28 00:10:21,253][kfold_wrapper.log_eval_metrics] Accuracy(layer_0 - estimator_0 - 10_folds.train_1.predict)=98.21%\n",
      "[ 2018-07-28 00:10:21,846][kfold_wrapper.log_eval_metrics] Accuracy(layer_0 - estimator_0 - 10_folds.train_2.predict)=98.81%\n",
      "[ 2018-07-28 00:10:22,557][kfold_wrapper.log_eval_metrics] Accuracy(layer_0 - estimator_0 - 10_folds.train_3.predict)=99.10%\n",
      "[ 2018-07-28 00:10:23,263][kfold_wrapper.log_eval_metrics] Accuracy(layer_0 - estimator_0 - 10_folds.train_4.predict)=99.40%\n",
      "[ 2018-07-28 00:10:23,969][kfold_wrapper.log_eval_metrics] Accuracy(layer_0 - estimator_0 - 10_folds.train_5.predict)=98.20%\n",
      "[ 2018-07-28 00:10:24,568][kfold_wrapper.log_eval_metrics] Accuracy(layer_0 - estimator_0 - 10_folds.train_6.predict)=98.80%\n",
      "[ 2018-07-28 00:10:25,160][kfold_wrapper.log_eval_metrics] Accuracy(layer_0 - estimator_0 - 10_folds.train_7.predict)=99.70%\n",
      "[ 2018-07-28 00:10:25,751][kfold_wrapper.log_eval_metrics] Accuracy(layer_0 - estimator_0 - 10_folds.train_8.predict)=98.80%\n",
      "[ 2018-07-28 00:10:26,460][kfold_wrapper.log_eval_metrics] Accuracy(layer_0 - estimator_0 - 10_folds.train_9.predict)=98.80%\n",
      "[ 2018-07-28 00:10:26,566][kfold_wrapper.log_eval_metrics] Accuracy(layer_0 - estimator_0 - 10_folds.train_cv.predict)=98.83%\n",
      "[ 2018-07-28 00:10:26,567][kfold_wrapper.log_eval_metrics] Accuracy(layer_0 - estimator_0 - 10_folds.test.predict)=98.97%\n",
      "[ 2018-07-28 00:10:26,570][cascade_classifier.calc_accuracy] Accuracy(layer_0 - train.classifier_average)=98.83%\n",
      "[ 2018-07-28 00:10:26,571][cascade_classifier.calc_accuracy] Accuracy(layer_0 - test.classifier_average)=98.97%\n",
      "[ 2018-07-28 00:10:26,572][cascade_classifier.fit_transform] [Result][Reach Max Layer] opt_layer_num=1, accuracy_train=98.83%, accuracy_test=98.97%\n",
      "[ 2018-07-28 00:10:26,573][cascade_classifier.transform] X_groups_test.shape=[(1645, 12)]\n",
      "[ 2018-07-28 00:10:26,574][cascade_classifier.transform] group_dims=[12]\n",
      "[ 2018-07-28 00:10:26,575][cascade_classifier.transform] X_test.shape=(1645, 12)\n",
      "[ 2018-07-28 00:10:26,576][cascade_classifier.transform] [layer=0] look_indexs=[0], X_cur_test.shape=(1645, 12)\n",
      "[ 2018-07-28 00:10:28,081][cascade_classifier.fit_transform] X_groups_train.shape=[(3337, 12)],y_train.shape=(3337,),X_groups_test.shape=[(1645, 12)],y_test.shape=(1645,)\n",
      "[ 2018-07-28 00:10:28,082][cascade_classifier.fit_transform] group_dims=[12]\n",
      "[ 2018-07-28 00:10:28,083][cascade_classifier.fit_transform] group_starts=[0]\n",
      "[ 2018-07-28 00:10:28,084][cascade_classifier.fit_transform] group_ends=[12]\n",
      "[ 2018-07-28 00:10:28,085][cascade_classifier.fit_transform] X_train.shape=(3337, 12),X_test.shape=(1645, 12)\n",
      "[ 2018-07-28 00:10:28,085][cascade_classifier.fit_transform] [layer=0] look_indexs=[0], X_cur_train.shape=(3337, 12), X_cur_test.shape=(1645, 12)\n"
     ]
    },
    {
     "name": "stdout",
     "output_type": "stream",
     "text": [
      "('Test Accuracy of DeepExtratTrees = 98.966565 %', 'Layer :', 6)\n",
      "[[1608    2]\n",
      " [  15   20]]\n",
      "\n",
      "\n",
      "             precision    recall  f1-score   support\n",
      "\n",
      "        0.0       0.99      1.00      0.99      1610\n",
      "        1.0       0.91      0.57      0.70        35\n",
      "\n",
      "avg / total       0.99      0.99      0.99      1645\n",
      "\n",
      "(' Time ', '6.412', ' seconds')\n"
     ]
    },
    {
     "name": "stderr",
     "output_type": "stream",
     "text": [
      "[ 2018-07-28 00:10:28,579][kfold_wrapper.log_eval_metrics] Accuracy(layer_0 - estimator_0 - 10_folds.train_0.predict)=98.51%\n",
      "[ 2018-07-28 00:10:29,289][kfold_wrapper.log_eval_metrics] Accuracy(layer_0 - estimator_0 - 10_folds.train_1.predict)=97.91%\n",
      "[ 2018-07-28 00:10:29,890][kfold_wrapper.log_eval_metrics] Accuracy(layer_0 - estimator_0 - 10_folds.train_2.predict)=98.51%\n",
      "[ 2018-07-28 00:10:30,603][kfold_wrapper.log_eval_metrics] Accuracy(layer_0 - estimator_0 - 10_folds.train_3.predict)=99.10%\n",
      "[ 2018-07-28 00:10:31,199][kfold_wrapper.log_eval_metrics] Accuracy(layer_0 - estimator_0 - 10_folds.train_4.predict)=99.40%\n",
      "[ 2018-07-28 00:10:31,910][kfold_wrapper.log_eval_metrics] Accuracy(layer_0 - estimator_0 - 10_folds.train_5.predict)=98.80%\n",
      "[ 2018-07-28 00:10:32,504][kfold_wrapper.log_eval_metrics] Accuracy(layer_0 - estimator_0 - 10_folds.train_6.predict)=98.50%\n",
      "[ 2018-07-28 00:10:33,097][kfold_wrapper.log_eval_metrics] Accuracy(layer_0 - estimator_0 - 10_folds.train_7.predict)=99.70%\n",
      "[ 2018-07-28 00:10:33,804][kfold_wrapper.log_eval_metrics] Accuracy(layer_0 - estimator_0 - 10_folds.train_8.predict)=99.10%\n",
      "[ 2018-07-28 00:10:34,400][kfold_wrapper.log_eval_metrics] Accuracy(layer_0 - estimator_0 - 10_folds.train_9.predict)=98.80%\n",
      "[ 2018-07-28 00:10:34,620][kfold_wrapper.log_eval_metrics] Accuracy(layer_0 - estimator_0 - 10_folds.train_cv.predict)=98.83%\n",
      "[ 2018-07-28 00:10:34,621][kfold_wrapper.log_eval_metrics] Accuracy(layer_0 - estimator_0 - 10_folds.test.predict)=98.97%\n",
      "[ 2018-07-28 00:10:34,624][cascade_classifier.calc_accuracy] Accuracy(layer_0 - train.classifier_average)=98.83%\n",
      "[ 2018-07-28 00:10:34,625][cascade_classifier.calc_accuracy] Accuracy(layer_0 - test.classifier_average)=98.97%\n",
      "[ 2018-07-28 00:10:34,626][cascade_classifier.fit_transform] [Result][Reach Max Layer] opt_layer_num=1, accuracy_train=98.83%, accuracy_test=98.97%\n",
      "[ 2018-07-28 00:10:34,626][cascade_classifier.transform] X_groups_test.shape=[(1645, 12)]\n",
      "[ 2018-07-28 00:10:34,627][cascade_classifier.transform] group_dims=[12]\n",
      "[ 2018-07-28 00:10:34,628][cascade_classifier.transform] X_test.shape=(1645, 12)\n",
      "[ 2018-07-28 00:10:34,629][cascade_classifier.transform] [layer=0] look_indexs=[0], X_cur_test.shape=(1645, 12)\n",
      "[ 2018-07-28 00:10:35,899][cascade_classifier.fit_transform] X_groups_train.shape=[(3337, 12)],y_train.shape=(3337,),X_groups_test.shape=[(1645, 12)],y_test.shape=(1645,)\n",
      "[ 2018-07-28 00:10:35,900][cascade_classifier.fit_transform] group_dims=[12]\n",
      "[ 2018-07-28 00:10:35,901][cascade_classifier.fit_transform] group_starts=[0]\n",
      "[ 2018-07-28 00:10:35,902][cascade_classifier.fit_transform] group_ends=[12]\n",
      "[ 2018-07-28 00:10:35,903][cascade_classifier.fit_transform] X_train.shape=(3337, 12),X_test.shape=(1645, 12)\n",
      "[ 2018-07-28 00:10:35,904][cascade_classifier.fit_transform] [layer=0] look_indexs=[0], X_cur_train.shape=(3337, 12), X_cur_test.shape=(1645, 12)\n"
     ]
    },
    {
     "name": "stdout",
     "output_type": "stream",
     "text": [
      "('Test Accuracy of DeepExtratTrees = 98.966565 %', 'Layer :', 7)\n",
      "[[1609    1]\n",
      " [  16   19]]\n",
      "\n",
      "\n",
      "             precision    recall  f1-score   support\n",
      "\n",
      "        0.0       0.99      1.00      0.99      1610\n",
      "        1.0       0.95      0.54      0.69        35\n",
      "\n",
      "avg / total       0.99      0.99      0.99      1645\n",
      "\n",
      "(' Time ', '6.546', ' seconds')\n"
     ]
    },
    {
     "name": "stderr",
     "output_type": "stream",
     "text": [
      "[ 2018-07-28 00:10:36,399][kfold_wrapper.log_eval_metrics] Accuracy(layer_0 - estimator_0 - 10_folds.train_0.predict)=98.81%\n",
      "[ 2018-07-28 00:10:37,118][kfold_wrapper.log_eval_metrics] Accuracy(layer_0 - estimator_0 - 10_folds.train_1.predict)=98.21%\n",
      "[ 2018-07-28 00:10:37,714][kfold_wrapper.log_eval_metrics] Accuracy(layer_0 - estimator_0 - 10_folds.train_2.predict)=98.81%\n",
      "[ 2018-07-28 00:10:38,437][kfold_wrapper.log_eval_metrics] Accuracy(layer_0 - estimator_0 - 10_folds.train_3.predict)=99.10%\n",
      "[ 2018-07-28 00:10:39,301][kfold_wrapper.log_eval_metrics] Accuracy(layer_0 - estimator_0 - 10_folds.train_4.predict)=99.70%\n",
      "[ 2018-07-28 00:10:40,008][kfold_wrapper.log_eval_metrics] Accuracy(layer_0 - estimator_0 - 10_folds.train_5.predict)=98.20%\n",
      "[ 2018-07-28 00:10:40,852][kfold_wrapper.log_eval_metrics] Accuracy(layer_0 - estimator_0 - 10_folds.train_6.predict)=98.80%\n",
      "[ 2018-07-28 00:10:41,778][kfold_wrapper.log_eval_metrics] Accuracy(layer_0 - estimator_0 - 10_folds.train_7.predict)=99.10%\n",
      "[ 2018-07-28 00:10:42,613][kfold_wrapper.log_eval_metrics] Accuracy(layer_0 - estimator_0 - 10_folds.train_8.predict)=98.80%\n",
      "[ 2018-07-28 00:10:43,482][kfold_wrapper.log_eval_metrics] Accuracy(layer_0 - estimator_0 - 10_folds.train_9.predict)=98.80%\n",
      "[ 2018-07-28 00:10:43,708][kfold_wrapper.log_eval_metrics] Accuracy(layer_0 - estimator_0 - 10_folds.train_cv.predict)=98.83%\n",
      "[ 2018-07-28 00:10:43,709][kfold_wrapper.log_eval_metrics] Accuracy(layer_0 - estimator_0 - 10_folds.test.predict)=98.84%\n",
      "[ 2018-07-28 00:10:43,712][cascade_classifier.calc_accuracy] Accuracy(layer_0 - train.classifier_average)=98.83%\n",
      "[ 2018-07-28 00:10:43,713][cascade_classifier.calc_accuracy] Accuracy(layer_0 - test.classifier_average)=98.84%\n",
      "[ 2018-07-28 00:10:43,714][cascade_classifier.fit_transform] [Result][Reach Max Layer] opt_layer_num=1, accuracy_train=98.83%, accuracy_test=98.84%\n",
      "[ 2018-07-28 00:10:43,715][cascade_classifier.transform] X_groups_test.shape=[(1645, 12)]\n",
      "[ 2018-07-28 00:10:43,717][cascade_classifier.transform] group_dims=[12]\n",
      "[ 2018-07-28 00:10:43,718][cascade_classifier.transform] X_test.shape=(1645, 12)\n",
      "[ 2018-07-28 00:10:43,719][cascade_classifier.transform] [layer=0] look_indexs=[0], X_cur_test.shape=(1645, 12)\n",
      "[ 2018-07-28 00:10:45,457][cascade_classifier.fit_transform] X_groups_train.shape=[(3337, 12)],y_train.shape=(3337,),X_groups_test.shape=[(1645, 12)],y_test.shape=(1645,)\n",
      "[ 2018-07-28 00:10:45,458][cascade_classifier.fit_transform] group_dims=[12]\n",
      "[ 2018-07-28 00:10:45,459][cascade_classifier.fit_transform] group_starts=[0]\n",
      "[ 2018-07-28 00:10:45,460][cascade_classifier.fit_transform] group_ends=[12]\n",
      "[ 2018-07-28 00:10:45,461][cascade_classifier.fit_transform] X_train.shape=(3337, 12),X_test.shape=(1645, 12)\n",
      "[ 2018-07-28 00:10:45,462][cascade_classifier.fit_transform] [layer=0] look_indexs=[0], X_cur_train.shape=(3337, 12), X_cur_test.shape=(1645, 12)\n"
     ]
    },
    {
     "name": "stdout",
     "output_type": "stream",
     "text": [
      "('Test Accuracy of DeepExtratTrees = 98.844985 %', 'Layer :', 8)\n",
      "[[1609    1]\n",
      " [  18   17]]\n",
      "\n",
      "\n",
      "             precision    recall  f1-score   support\n",
      "\n",
      "        0.0       0.99      1.00      0.99      1610\n",
      "        1.0       0.94      0.49      0.64        35\n",
      "\n",
      "avg / total       0.99      0.99      0.99      1645\n",
      "\n",
      "(' Time ', '7.817', ' seconds')\n"
     ]
    },
    {
     "name": "stderr",
     "output_type": "stream",
     "text": [
      "[ 2018-07-28 00:10:45,954][kfold_wrapper.log_eval_metrics] Accuracy(layer_0 - estimator_0 - 10_folds.train_0.predict)=98.51%\n",
      "[ 2018-07-28 00:10:46,545][kfold_wrapper.log_eval_metrics] Accuracy(layer_0 - estimator_0 - 10_folds.train_1.predict)=98.51%\n",
      "[ 2018-07-28 00:10:47,142][kfold_wrapper.log_eval_metrics] Accuracy(layer_0 - estimator_0 - 10_folds.train_2.predict)=98.51%\n",
      "[ 2018-07-28 00:10:47,737][kfold_wrapper.log_eval_metrics] Accuracy(layer_0 - estimator_0 - 10_folds.train_3.predict)=98.80%\n",
      "[ 2018-07-28 00:10:48,335][kfold_wrapper.log_eval_metrics] Accuracy(layer_0 - estimator_0 - 10_folds.train_4.predict)=99.40%\n",
      "[ 2018-07-28 00:10:48,928][kfold_wrapper.log_eval_metrics] Accuracy(layer_0 - estimator_0 - 10_folds.train_5.predict)=98.80%\n",
      "[ 2018-07-28 00:10:49,636][kfold_wrapper.log_eval_metrics] Accuracy(layer_0 - estimator_0 - 10_folds.train_6.predict)=98.80%\n",
      "[ 2018-07-28 00:10:50,226][kfold_wrapper.log_eval_metrics] Accuracy(layer_0 - estimator_0 - 10_folds.train_7.predict)=99.10%\n",
      "[ 2018-07-28 00:10:50,821][kfold_wrapper.log_eval_metrics] Accuracy(layer_0 - estimator_0 - 10_folds.train_8.predict)=99.10%\n",
      "[ 2018-07-28 00:10:51,531][kfold_wrapper.log_eval_metrics] Accuracy(layer_0 - estimator_0 - 10_folds.train_9.predict)=99.10%\n",
      "[ 2018-07-28 00:10:51,636][kfold_wrapper.log_eval_metrics] Accuracy(layer_0 - estimator_0 - 10_folds.train_cv.predict)=98.86%\n",
      "[ 2018-07-28 00:10:51,638][kfold_wrapper.log_eval_metrics] Accuracy(layer_0 - estimator_0 - 10_folds.test.predict)=98.84%\n",
      "[ 2018-07-28 00:10:51,640][cascade_classifier.calc_accuracy] Accuracy(layer_0 - train.classifier_average)=98.86%\n",
      "[ 2018-07-28 00:10:51,641][cascade_classifier.calc_accuracy] Accuracy(layer_0 - test.classifier_average)=98.84%\n",
      "[ 2018-07-28 00:10:51,642][cascade_classifier.fit_transform] [Result][Reach Max Layer] opt_layer_num=1, accuracy_train=98.86%, accuracy_test=98.84%\n",
      "[ 2018-07-28 00:10:51,643][cascade_classifier.transform] X_groups_test.shape=[(1645, 12)]\n",
      "[ 2018-07-28 00:10:51,644][cascade_classifier.transform] group_dims=[12]\n",
      "[ 2018-07-28 00:10:51,645][cascade_classifier.transform] X_test.shape=(1645, 12)\n",
      "[ 2018-07-28 00:10:51,645][cascade_classifier.transform] [layer=0] look_indexs=[0], X_cur_test.shape=(1645, 12)\n",
      "[ 2018-07-28 00:10:52,833][cascade_classifier.fit_transform] X_groups_train.shape=[(3337, 12)],y_train.shape=(3337,),X_groups_test.shape=[(1645, 12)],y_test.shape=(1645,)\n",
      "[ 2018-07-28 00:10:52,834][cascade_classifier.fit_transform] group_dims=[12]\n",
      "[ 2018-07-28 00:10:52,835][cascade_classifier.fit_transform] group_starts=[0]\n",
      "[ 2018-07-28 00:10:52,835][cascade_classifier.fit_transform] group_ends=[12]\n",
      "[ 2018-07-28 00:10:52,836][cascade_classifier.fit_transform] X_train.shape=(3337, 12),X_test.shape=(1645, 12)\n",
      "[ 2018-07-28 00:10:52,837][cascade_classifier.fit_transform] [layer=0] look_indexs=[0], X_cur_train.shape=(3337, 12), X_cur_test.shape=(1645, 12)\n"
     ]
    },
    {
     "name": "stdout",
     "output_type": "stream",
     "text": [
      "('Test Accuracy of DeepExtratTrees = 98.844985 %', 'Layer :', 9)\n",
      "[[1608    2]\n",
      " [  17   18]]\n",
      "\n",
      "\n",
      "             precision    recall  f1-score   support\n",
      "\n",
      "        0.0       0.99      1.00      0.99      1610\n",
      "        1.0       0.90      0.51      0.65        35\n",
      "\n",
      "avg / total       0.99      0.99      0.99      1645\n",
      "\n",
      "(' Time ', '6.186', ' seconds')\n"
     ]
    },
    {
     "name": "stderr",
     "output_type": "stream",
     "text": [
      "[ 2018-07-28 00:10:53,327][kfold_wrapper.log_eval_metrics] Accuracy(layer_0 - estimator_0 - 10_folds.train_0.predict)=98.51%\n",
      "[ 2018-07-28 00:10:53,920][kfold_wrapper.log_eval_metrics] Accuracy(layer_0 - estimator_0 - 10_folds.train_1.predict)=98.51%\n",
      "[ 2018-07-28 00:10:54,519][kfold_wrapper.log_eval_metrics] Accuracy(layer_0 - estimator_0 - 10_folds.train_2.predict)=98.51%\n",
      "[ 2018-07-28 00:10:55,116][kfold_wrapper.log_eval_metrics] Accuracy(layer_0 - estimator_0 - 10_folds.train_3.predict)=98.80%\n",
      "[ 2018-07-28 00:10:55,712][kfold_wrapper.log_eval_metrics] Accuracy(layer_0 - estimator_0 - 10_folds.train_4.predict)=99.40%\n",
      "[ 2018-07-28 00:10:56,305][kfold_wrapper.log_eval_metrics] Accuracy(layer_0 - estimator_0 - 10_folds.train_5.predict)=98.80%\n",
      "[ 2018-07-28 00:10:56,898][kfold_wrapper.log_eval_metrics] Accuracy(layer_0 - estimator_0 - 10_folds.train_6.predict)=98.20%\n",
      "[ 2018-07-28 00:10:57,489][kfold_wrapper.log_eval_metrics] Accuracy(layer_0 - estimator_0 - 10_folds.train_7.predict)=99.40%\n",
      "[ 2018-07-28 00:10:58,083][kfold_wrapper.log_eval_metrics] Accuracy(layer_0 - estimator_0 - 10_folds.train_8.predict)=98.80%\n",
      "[ 2018-07-28 00:10:58,680][kfold_wrapper.log_eval_metrics] Accuracy(layer_0 - estimator_0 - 10_folds.train_9.predict)=99.10%\n",
      "[ 2018-07-28 00:10:58,786][kfold_wrapper.log_eval_metrics] Accuracy(layer_0 - estimator_0 - 10_folds.train_cv.predict)=98.80%\n",
      "[ 2018-07-28 00:10:58,787][kfold_wrapper.log_eval_metrics] Accuracy(layer_0 - estimator_0 - 10_folds.test.predict)=98.84%\n",
      "[ 2018-07-28 00:10:58,791][cascade_classifier.calc_accuracy] Accuracy(layer_0 - train.classifier_average)=98.80%\n",
      "[ 2018-07-28 00:10:58,792][cascade_classifier.calc_accuracy] Accuracy(layer_0 - test.classifier_average)=98.84%\n",
      "[ 2018-07-28 00:10:58,793][cascade_classifier.fit_transform] [Result][Reach Max Layer] opt_layer_num=1, accuracy_train=98.80%, accuracy_test=98.84%\n",
      "[ 2018-07-28 00:10:58,794][cascade_classifier.transform] X_groups_test.shape=[(1645, 12)]\n",
      "[ 2018-07-28 00:10:58,795][cascade_classifier.transform] group_dims=[12]\n",
      "[ 2018-07-28 00:10:58,796][cascade_classifier.transform] X_test.shape=(1645, 12)\n",
      "[ 2018-07-28 00:10:58,797][cascade_classifier.transform] [layer=0] look_indexs=[0], X_cur_test.shape=(1645, 12)\n",
      "[ 2018-07-28 00:11:00,066][cascade_classifier.fit_transform] X_groups_train.shape=[(3337, 12)],y_train.shape=(3337,),X_groups_test.shape=[(1645, 12)],y_test.shape=(1645,)\n",
      "[ 2018-07-28 00:11:00,067][cascade_classifier.fit_transform] group_dims=[12]\n",
      "[ 2018-07-28 00:11:00,068][cascade_classifier.fit_transform] group_starts=[0]\n",
      "[ 2018-07-28 00:11:00,069][cascade_classifier.fit_transform] group_ends=[12]\n",
      "[ 2018-07-28 00:11:00,069][cascade_classifier.fit_transform] X_train.shape=(3337, 12),X_test.shape=(1645, 12)\n",
      "[ 2018-07-28 00:11:00,071][cascade_classifier.fit_transform] [layer=0] look_indexs=[0], X_cur_train.shape=(3337, 12), X_cur_test.shape=(1645, 12)\n"
     ]
    },
    {
     "name": "stdout",
     "output_type": "stream",
     "text": [
      "('Test Accuracy of DeepExtratTrees = 98.844985 %', 'Layer :', 10)\n",
      "[[1608    2]\n",
      " [  17   18]]\n",
      "\n",
      "\n",
      "             precision    recall  f1-score   support\n",
      "\n",
      "        0.0       0.99      1.00      0.99      1610\n",
      "        1.0       0.90      0.51      0.65        35\n",
      "\n",
      "avg / total       0.99      0.99      0.99      1645\n",
      "\n",
      "(' Time ', '5.962', ' seconds')\n"
     ]
    },
    {
     "name": "stderr",
     "output_type": "stream",
     "text": [
      "[ 2018-07-28 00:11:00,566][kfold_wrapper.log_eval_metrics] Accuracy(layer_0 - estimator_0 - 10_folds.train_0.predict)=98.51%\n",
      "[ 2018-07-28 00:11:01,158][kfold_wrapper.log_eval_metrics] Accuracy(layer_0 - estimator_0 - 10_folds.train_1.predict)=98.21%\n",
      "[ 2018-07-28 00:11:01,754][kfold_wrapper.log_eval_metrics] Accuracy(layer_0 - estimator_0 - 10_folds.train_2.predict)=98.21%\n",
      "[ 2018-07-28 00:11:02,350][kfold_wrapper.log_eval_metrics] Accuracy(layer_0 - estimator_0 - 10_folds.train_3.predict)=98.80%\n",
      "[ 2018-07-28 00:11:03,098][kfold_wrapper.log_eval_metrics] Accuracy(layer_0 - estimator_0 - 10_folds.train_4.predict)=99.40%\n",
      "[ 2018-07-28 00:11:03,806][kfold_wrapper.log_eval_metrics] Accuracy(layer_0 - estimator_0 - 10_folds.train_5.predict)=98.80%\n",
      "[ 2018-07-28 00:11:04,404][kfold_wrapper.log_eval_metrics] Accuracy(layer_0 - estimator_0 - 10_folds.train_6.predict)=98.20%\n",
      "[ 2018-07-28 00:11:05,109][kfold_wrapper.log_eval_metrics] Accuracy(layer_0 - estimator_0 - 10_folds.train_7.predict)=99.40%\n",
      "[ 2018-07-28 00:11:05,704][kfold_wrapper.log_eval_metrics] Accuracy(layer_0 - estimator_0 - 10_folds.train_8.predict)=98.80%\n",
      "[ 2018-07-28 00:11:06,302][kfold_wrapper.log_eval_metrics] Accuracy(layer_0 - estimator_0 - 10_folds.train_9.predict)=99.10%\n",
      "[ 2018-07-28 00:11:06,407][kfold_wrapper.log_eval_metrics] Accuracy(layer_0 - estimator_0 - 10_folds.train_cv.predict)=98.74%\n",
      "[ 2018-07-28 00:11:06,408][kfold_wrapper.log_eval_metrics] Accuracy(layer_0 - estimator_0 - 10_folds.test.predict)=98.78%\n",
      "[ 2018-07-28 00:11:06,410][cascade_classifier.calc_accuracy] Accuracy(layer_0 - train.classifier_average)=98.74%\n",
      "[ 2018-07-28 00:11:06,411][cascade_classifier.calc_accuracy] Accuracy(layer_0 - test.classifier_average)=98.78%\n",
      "[ 2018-07-28 00:11:06,412][cascade_classifier.fit_transform] [Result][Reach Max Layer] opt_layer_num=1, accuracy_train=98.74%, accuracy_test=98.78%\n",
      "[ 2018-07-28 00:11:06,413][cascade_classifier.transform] X_groups_test.shape=[(1645, 12)]\n",
      "[ 2018-07-28 00:11:06,414][cascade_classifier.transform] group_dims=[12]\n",
      "[ 2018-07-28 00:11:06,414][cascade_classifier.transform] X_test.shape=(1645, 12)\n",
      "[ 2018-07-28 00:11:06,415][cascade_classifier.transform] [layer=0] look_indexs=[0], X_cur_test.shape=(1645, 12)\n",
      "[ 2018-07-28 00:11:07,798][cascade_classifier.fit_transform] X_groups_train.shape=[(3337, 12)],y_train.shape=(3337,),X_groups_test.shape=[(1645, 12)],y_test.shape=(1645,)\n",
      "[ 2018-07-28 00:11:07,799][cascade_classifier.fit_transform] group_dims=[12]\n",
      "[ 2018-07-28 00:11:07,800][cascade_classifier.fit_transform] group_starts=[0]\n",
      "[ 2018-07-28 00:11:07,800][cascade_classifier.fit_transform] group_ends=[12]\n",
      "[ 2018-07-28 00:11:07,801][cascade_classifier.fit_transform] X_train.shape=(3337, 12),X_test.shape=(1645, 12)\n",
      "[ 2018-07-28 00:11:07,802][cascade_classifier.fit_transform] [layer=0] look_indexs=[0], X_cur_train.shape=(3337, 12), X_cur_test.shape=(1645, 12)\n"
     ]
    },
    {
     "name": "stdout",
     "output_type": "stream",
     "text": [
      "('Test Accuracy of DeepExtratTrees = 98.784195 %', 'Layer :', 11)\n",
      "[[1609    1]\n",
      " [  19   16]]\n",
      "\n",
      "\n",
      "             precision    recall  f1-score   support\n",
      "\n",
      "        0.0       0.99      1.00      0.99      1610\n",
      "        1.0       0.94      0.46      0.62        35\n",
      "\n",
      "avg / total       0.99      0.99      0.99      1645\n",
      "\n",
      "(' Time ', '6.347', ' seconds')\n"
     ]
    },
    {
     "name": "stderr",
     "output_type": "stream",
     "text": [
      "[ 2018-07-28 00:11:08,295][kfold_wrapper.log_eval_metrics] Accuracy(layer_0 - estimator_0 - 10_folds.train_0.predict)=97.91%\n",
      "[ 2018-07-28 00:11:08,883][kfold_wrapper.log_eval_metrics] Accuracy(layer_0 - estimator_0 - 10_folds.train_1.predict)=98.21%\n",
      "[ 2018-07-28 00:11:09,474][kfold_wrapper.log_eval_metrics] Accuracy(layer_0 - estimator_0 - 10_folds.train_2.predict)=98.51%\n",
      "[ 2018-07-28 00:11:10,065][kfold_wrapper.log_eval_metrics] Accuracy(layer_0 - estimator_0 - 10_folds.train_3.predict)=99.10%\n",
      "[ 2018-07-28 00:11:10,776][kfold_wrapper.log_eval_metrics] Accuracy(layer_0 - estimator_0 - 10_folds.train_4.predict)=99.70%\n",
      "[ 2018-07-28 00:11:11,369][kfold_wrapper.log_eval_metrics] Accuracy(layer_0 - estimator_0 - 10_folds.train_5.predict)=98.50%\n",
      "[ 2018-07-28 00:11:12,190][kfold_wrapper.log_eval_metrics] Accuracy(layer_0 - estimator_0 - 10_folds.train_6.predict)=98.80%\n",
      "[ 2018-07-28 00:11:12,901][kfold_wrapper.log_eval_metrics] Accuracy(layer_0 - estimator_0 - 10_folds.train_7.predict)=99.70%\n",
      "[ 2018-07-28 00:11:13,830][kfold_wrapper.log_eval_metrics] Accuracy(layer_0 - estimator_0 - 10_folds.train_8.predict)=99.10%\n",
      "[ 2018-07-28 00:11:14,695][kfold_wrapper.log_eval_metrics] Accuracy(layer_0 - estimator_0 - 10_folds.train_9.predict)=99.10%\n",
      "[ 2018-07-28 00:11:14,922][kfold_wrapper.log_eval_metrics] Accuracy(layer_0 - estimator_0 - 10_folds.train_cv.predict)=98.86%\n",
      "[ 2018-07-28 00:11:14,923][kfold_wrapper.log_eval_metrics] Accuracy(layer_0 - estimator_0 - 10_folds.test.predict)=98.78%\n",
      "[ 2018-07-28 00:11:14,926][cascade_classifier.calc_accuracy] Accuracy(layer_0 - train.classifier_average)=98.86%\n",
      "[ 2018-07-28 00:11:14,926][cascade_classifier.calc_accuracy] Accuracy(layer_0 - test.classifier_average)=98.78%\n",
      "[ 2018-07-28 00:11:14,927][cascade_classifier.fit_transform] [Result][Reach Max Layer] opt_layer_num=1, accuracy_train=98.86%, accuracy_test=98.78%\n",
      "[ 2018-07-28 00:11:14,928][cascade_classifier.transform] X_groups_test.shape=[(1645, 12)]\n",
      "[ 2018-07-28 00:11:14,929][cascade_classifier.transform] group_dims=[12]\n",
      "[ 2018-07-28 00:11:14,930][cascade_classifier.transform] X_test.shape=(1645, 12)\n",
      "[ 2018-07-28 00:11:14,931][cascade_classifier.transform] [layer=0] look_indexs=[0], X_cur_test.shape=(1645, 12)\n",
      "[ 2018-07-28 00:11:17,228][cascade_classifier.fit_transform] X_groups_train.shape=[(3337, 12)],y_train.shape=(3337,),X_groups_test.shape=[(1645, 12)],y_test.shape=(1645,)\n",
      "[ 2018-07-28 00:11:17,230][cascade_classifier.fit_transform] group_dims=[12]\n",
      "[ 2018-07-28 00:11:17,230][cascade_classifier.fit_transform] group_starts=[0]\n",
      "[ 2018-07-28 00:11:17,231][cascade_classifier.fit_transform] group_ends=[12]\n",
      "[ 2018-07-28 00:11:17,232][cascade_classifier.fit_transform] X_train.shape=(3337, 12),X_test.shape=(1645, 12)\n",
      "[ 2018-07-28 00:11:17,233][cascade_classifier.fit_transform] [layer=0] look_indexs=[0], X_cur_train.shape=(3337, 12), X_cur_test.shape=(1645, 12)\n"
     ]
    },
    {
     "name": "stdout",
     "output_type": "stream",
     "text": [
      "('Test Accuracy of DeepExtratTrees = 98.784195 %', 'Layer :', 12)\n",
      "[[1608    2]\n",
      " [  18   17]]\n",
      "\n",
      "\n",
      "             precision    recall  f1-score   support\n",
      "\n",
      "        0.0       0.99      1.00      0.99      1610\n",
      "        1.0       0.89      0.49      0.63        35\n",
      "\n",
      "avg / total       0.99      0.99      0.99      1645\n",
      "\n",
      "(' Time ', '7.131', ' seconds')\n"
     ]
    },
    {
     "name": "stderr",
     "output_type": "stream",
     "text": [
      "[ 2018-07-28 00:11:17,855][kfold_wrapper.log_eval_metrics] Accuracy(layer_0 - estimator_0 - 10_folds.train_0.predict)=98.21%\n",
      "[ 2018-07-28 00:11:18,634][kfold_wrapper.log_eval_metrics] Accuracy(layer_0 - estimator_0 - 10_folds.train_1.predict)=98.21%\n",
      "[ 2018-07-28 00:11:19,503][kfold_wrapper.log_eval_metrics] Accuracy(layer_0 - estimator_0 - 10_folds.train_2.predict)=98.21%\n",
      "[ 2018-07-28 00:11:20,336][kfold_wrapper.log_eval_metrics] Accuracy(layer_0 - estimator_0 - 10_folds.train_3.predict)=98.50%\n",
      "[ 2018-07-28 00:11:21,050][kfold_wrapper.log_eval_metrics] Accuracy(layer_0 - estimator_0 - 10_folds.train_4.predict)=99.70%\n",
      "[ 2018-07-28 00:11:21,910][kfold_wrapper.log_eval_metrics] Accuracy(layer_0 - estimator_0 - 10_folds.train_5.predict)=98.20%\n",
      "[ 2018-07-28 00:11:22,795][kfold_wrapper.log_eval_metrics] Accuracy(layer_0 - estimator_0 - 10_folds.train_6.predict)=98.80%\n",
      "[ 2018-07-28 00:11:23,525][kfold_wrapper.log_eval_metrics] Accuracy(layer_0 - estimator_0 - 10_folds.train_7.predict)=99.70%\n",
      "[ 2018-07-28 00:11:24,382][kfold_wrapper.log_eval_metrics] Accuracy(layer_0 - estimator_0 - 10_folds.train_8.predict)=99.40%\n",
      "[ 2018-07-28 00:11:25,100][kfold_wrapper.log_eval_metrics] Accuracy(layer_0 - estimator_0 - 10_folds.train_9.predict)=98.80%\n",
      "[ 2018-07-28 00:11:25,334][kfold_wrapper.log_eval_metrics] Accuracy(layer_0 - estimator_0 - 10_folds.train_cv.predict)=98.77%\n",
      "[ 2018-07-28 00:11:25,335][kfold_wrapper.log_eval_metrics] Accuracy(layer_0 - estimator_0 - 10_folds.test.predict)=98.78%\n",
      "[ 2018-07-28 00:11:25,338][cascade_classifier.calc_accuracy] Accuracy(layer_0 - train.classifier_average)=98.77%\n",
      "[ 2018-07-28 00:11:25,339][cascade_classifier.calc_accuracy] Accuracy(layer_0 - test.classifier_average)=98.78%\n",
      "[ 2018-07-28 00:11:25,340][cascade_classifier.fit_transform] [Result][Reach Max Layer] opt_layer_num=1, accuracy_train=98.77%, accuracy_test=98.78%\n",
      "[ 2018-07-28 00:11:25,340][cascade_classifier.transform] X_groups_test.shape=[(1645, 12)]\n",
      "[ 2018-07-28 00:11:25,342][cascade_classifier.transform] group_dims=[12]\n",
      "[ 2018-07-28 00:11:25,342][cascade_classifier.transform] X_test.shape=(1645, 12)\n",
      "[ 2018-07-28 00:11:25,343][cascade_classifier.transform] [layer=0] look_indexs=[0], X_cur_test.shape=(1645, 12)\n",
      "[ 2018-07-28 00:11:27,670][cascade_classifier.fit_transform] X_groups_train.shape=[(3337, 12)],y_train.shape=(3337,),X_groups_test.shape=[(1645, 12)],y_test.shape=(1645,)\n",
      "[ 2018-07-28 00:11:27,672][cascade_classifier.fit_transform] group_dims=[12]\n",
      "[ 2018-07-28 00:11:27,672][cascade_classifier.fit_transform] group_starts=[0]\n",
      "[ 2018-07-28 00:11:27,673][cascade_classifier.fit_transform] group_ends=[12]\n",
      "[ 2018-07-28 00:11:27,675][cascade_classifier.fit_transform] X_train.shape=(3337, 12),X_test.shape=(1645, 12)\n",
      "[ 2018-07-28 00:11:27,676][cascade_classifier.fit_transform] [layer=0] look_indexs=[0], X_cur_train.shape=(3337, 12), X_cur_test.shape=(1645, 12)\n"
     ]
    },
    {
     "name": "stdout",
     "output_type": "stream",
     "text": [
      "('Test Accuracy of DeepExtratTrees = 98.784195 %', 'Layer :', 13)\n",
      "[[1609    1]\n",
      " [  19   16]]\n",
      "\n",
      "\n",
      "             precision    recall  f1-score   support\n",
      "\n",
      "        0.0       0.99      1.00      0.99      1610\n",
      "        1.0       0.94      0.46      0.62        35\n",
      "\n",
      "avg / total       0.99      0.99      0.99      1645\n",
      "\n",
      "(' Time ', '8.113', ' seconds')\n"
     ]
    },
    {
     "name": "stderr",
     "output_type": "stream",
     "text": [
      "[ 2018-07-28 00:11:28,305][kfold_wrapper.log_eval_metrics] Accuracy(layer_0 - estimator_0 - 10_folds.train_0.predict)=98.21%\n",
      "[ 2018-07-28 00:11:29,158][kfold_wrapper.log_eval_metrics] Accuracy(layer_0 - estimator_0 - 10_folds.train_1.predict)=98.21%\n",
      "[ 2018-07-28 00:11:30,012][kfold_wrapper.log_eval_metrics] Accuracy(layer_0 - estimator_0 - 10_folds.train_2.predict)=98.21%\n",
      "[ 2018-07-28 00:11:30,873][kfold_wrapper.log_eval_metrics] Accuracy(layer_0 - estimator_0 - 10_folds.train_3.predict)=99.10%\n",
      "[ 2018-07-28 00:11:31,741][kfold_wrapper.log_eval_metrics] Accuracy(layer_0 - estimator_0 - 10_folds.train_4.predict)=99.40%\n",
      "[ 2018-07-28 00:11:32,608][kfold_wrapper.log_eval_metrics] Accuracy(layer_0 - estimator_0 - 10_folds.train_5.predict)=98.50%\n",
      "[ 2018-07-28 00:11:33,471][kfold_wrapper.log_eval_metrics] Accuracy(layer_0 - estimator_0 - 10_folds.train_6.predict)=98.20%\n",
      "[ 2018-07-28 00:11:34,328][kfold_wrapper.log_eval_metrics] Accuracy(layer_0 - estimator_0 - 10_folds.train_7.predict)=99.40%\n",
      "[ 2018-07-28 00:11:35,177][kfold_wrapper.log_eval_metrics] Accuracy(layer_0 - estimator_0 - 10_folds.train_8.predict)=98.80%\n",
      "[ 2018-07-28 00:11:36,037][kfold_wrapper.log_eval_metrics] Accuracy(layer_0 - estimator_0 - 10_folds.train_9.predict)=99.40%\n",
      "[ 2018-07-28 00:11:36,266][kfold_wrapper.log_eval_metrics] Accuracy(layer_0 - estimator_0 - 10_folds.train_cv.predict)=98.74%\n",
      "[ 2018-07-28 00:11:36,267][kfold_wrapper.log_eval_metrics] Accuracy(layer_0 - estimator_0 - 10_folds.test.predict)=98.72%\n",
      "[ 2018-07-28 00:11:36,270][cascade_classifier.calc_accuracy] Accuracy(layer_0 - train.classifier_average)=98.74%\n",
      "[ 2018-07-28 00:11:36,271][cascade_classifier.calc_accuracy] Accuracy(layer_0 - test.classifier_average)=98.72%\n",
      "[ 2018-07-28 00:11:36,272][cascade_classifier.fit_transform] [Result][Reach Max Layer] opt_layer_num=1, accuracy_train=98.74%, accuracy_test=98.72%\n",
      "[ 2018-07-28 00:11:36,273][cascade_classifier.transform] X_groups_test.shape=[(1645, 12)]\n",
      "[ 2018-07-28 00:11:36,273][cascade_classifier.transform] group_dims=[12]\n",
      "[ 2018-07-28 00:11:36,274][cascade_classifier.transform] X_test.shape=(1645, 12)\n",
      "[ 2018-07-28 00:11:36,275][cascade_classifier.transform] [layer=0] look_indexs=[0], X_cur_test.shape=(1645, 12)\n",
      "[ 2018-07-28 00:11:38,594][cascade_classifier.fit_transform] X_groups_train.shape=[(3337, 12)],y_train.shape=(3337,),X_groups_test.shape=[(1645, 12)],y_test.shape=(1645,)\n",
      "[ 2018-07-28 00:11:38,595][cascade_classifier.fit_transform] group_dims=[12]\n",
      "[ 2018-07-28 00:11:38,596][cascade_classifier.fit_transform] group_starts=[0]\n",
      "[ 2018-07-28 00:11:38,597][cascade_classifier.fit_transform] group_ends=[12]\n",
      "[ 2018-07-28 00:11:38,598][cascade_classifier.fit_transform] X_train.shape=(3337, 12),X_test.shape=(1645, 12)\n",
      "[ 2018-07-28 00:11:38,599][cascade_classifier.fit_transform] [layer=0] look_indexs=[0], X_cur_train.shape=(3337, 12), X_cur_test.shape=(1645, 12)\n"
     ]
    },
    {
     "name": "stdout",
     "output_type": "stream",
     "text": [
      "('Test Accuracy of DeepExtratTrees = 98.723404 %', 'Layer :', 14)\n",
      "[[1608    2]\n",
      " [  19   16]]\n",
      "\n",
      "\n",
      "             precision    recall  f1-score   support\n",
      "\n",
      "        0.0       0.99      1.00      0.99      1610\n",
      "        1.0       0.89      0.46      0.60        35\n",
      "\n",
      "avg / total       0.99      0.99      0.99      1645\n",
      "\n",
      "(' Time ', '8.603', ' seconds')\n"
     ]
    },
    {
     "name": "stderr",
     "output_type": "stream",
     "text": [
      "[ 2018-07-28 00:11:39,214][kfold_wrapper.log_eval_metrics] Accuracy(layer_0 - estimator_0 - 10_folds.train_0.predict)=98.51%\n",
      "[ 2018-07-28 00:11:40,080][kfold_wrapper.log_eval_metrics] Accuracy(layer_0 - estimator_0 - 10_folds.train_1.predict)=98.21%\n",
      "[ 2018-07-28 00:11:40,956][kfold_wrapper.log_eval_metrics] Accuracy(layer_0 - estimator_0 - 10_folds.train_2.predict)=98.51%\n",
      "[ 2018-07-28 00:11:41,939][kfold_wrapper.log_eval_metrics] Accuracy(layer_0 - estimator_0 - 10_folds.train_3.predict)=98.80%\n",
      "[ 2018-07-28 00:11:43,124][kfold_wrapper.log_eval_metrics] Accuracy(layer_0 - estimator_0 - 10_folds.train_4.predict)=99.10%\n",
      "[ 2018-07-28 00:11:44,256][kfold_wrapper.log_eval_metrics] Accuracy(layer_0 - estimator_0 - 10_folds.train_5.predict)=98.50%\n",
      "[ 2018-07-28 00:11:45,421][kfold_wrapper.log_eval_metrics] Accuracy(layer_0 - estimator_0 - 10_folds.train_6.predict)=98.50%\n",
      "[ 2018-07-28 00:11:46,386][kfold_wrapper.log_eval_metrics] Accuracy(layer_0 - estimator_0 - 10_folds.train_7.predict)=98.80%\n",
      "[ 2018-07-28 00:11:47,294][kfold_wrapper.log_eval_metrics] Accuracy(layer_0 - estimator_0 - 10_folds.train_8.predict)=98.50%\n",
      "[ 2018-07-28 00:11:48,027][kfold_wrapper.log_eval_metrics] Accuracy(layer_0 - estimator_0 - 10_folds.train_9.predict)=98.80%\n",
      "[ 2018-07-28 00:11:48,260][kfold_wrapper.log_eval_metrics] Accuracy(layer_0 - estimator_0 - 10_folds.train_cv.predict)=98.62%\n",
      "[ 2018-07-28 00:11:48,261][kfold_wrapper.log_eval_metrics] Accuracy(layer_0 - estimator_0 - 10_folds.test.predict)=98.84%\n",
      "[ 2018-07-28 00:11:48,264][cascade_classifier.calc_accuracy] Accuracy(layer_0 - train.classifier_average)=98.62%\n",
      "[ 2018-07-28 00:11:48,266][cascade_classifier.calc_accuracy] Accuracy(layer_0 - test.classifier_average)=98.84%\n",
      "[ 2018-07-28 00:11:48,267][cascade_classifier.fit_transform] [Result][Reach Max Layer] opt_layer_num=1, accuracy_train=98.62%, accuracy_test=98.84%\n",
      "[ 2018-07-28 00:11:48,268][cascade_classifier.transform] X_groups_test.shape=[(1645, 12)]\n",
      "[ 2018-07-28 00:11:48,270][cascade_classifier.transform] group_dims=[12]\n",
      "[ 2018-07-28 00:11:48,271][cascade_classifier.transform] X_test.shape=(1645, 12)\n",
      "[ 2018-07-28 00:11:48,272][cascade_classifier.transform] [layer=0] look_indexs=[0], X_cur_test.shape=(1645, 12)\n",
      "[ 2018-07-28 00:11:50,584][cascade_classifier.fit_transform] X_groups_train.shape=[(3337, 12)],y_train.shape=(3337,),X_groups_test.shape=[(1645, 12)],y_test.shape=(1645,)\n",
      "[ 2018-07-28 00:11:50,585][cascade_classifier.fit_transform] group_dims=[12]\n",
      "[ 2018-07-28 00:11:50,586][cascade_classifier.fit_transform] group_starts=[0]\n",
      "[ 2018-07-28 00:11:50,588][cascade_classifier.fit_transform] group_ends=[12]\n",
      "[ 2018-07-28 00:11:50,588][cascade_classifier.fit_transform] X_train.shape=(3337, 12),X_test.shape=(1645, 12)\n",
      "[ 2018-07-28 00:11:50,590][cascade_classifier.fit_transform] [layer=0] look_indexs=[0], X_cur_train.shape=(3337, 12), X_cur_test.shape=(1645, 12)\n"
     ]
    },
    {
     "name": "stdout",
     "output_type": "stream",
     "text": [
      "('Test Accuracy of DeepExtratTrees = 98.844985 %', 'Layer :', 15)\n",
      "[[1609    1]\n",
      " [  18   17]]\n",
      "\n",
      "\n",
      "             precision    recall  f1-score   support\n",
      "\n",
      "        0.0       0.99      1.00      0.99      1610\n",
      "        1.0       0.94      0.49      0.64        35\n",
      "\n",
      "avg / total       0.99      0.99      0.99      1645\n",
      "\n",
      "(' Time ', '9.675', ' seconds')\n"
     ]
    },
    {
     "name": "stderr",
     "output_type": "stream",
     "text": [
      "[ 2018-07-28 00:11:51,219][kfold_wrapper.log_eval_metrics] Accuracy(layer_0 - estimator_0 - 10_folds.train_0.predict)=98.51%\n",
      "[ 2018-07-28 00:11:52,067][kfold_wrapper.log_eval_metrics] Accuracy(layer_0 - estimator_0 - 10_folds.train_1.predict)=98.21%\n",
      "[ 2018-07-28 00:11:52,966][kfold_wrapper.log_eval_metrics] Accuracy(layer_0 - estimator_0 - 10_folds.train_2.predict)=98.81%\n",
      "[ 2018-07-28 00:11:53,810][kfold_wrapper.log_eval_metrics] Accuracy(layer_0 - estimator_0 - 10_folds.train_3.predict)=99.10%\n",
      "[ 2018-07-28 00:11:54,666][kfold_wrapper.log_eval_metrics] Accuracy(layer_0 - estimator_0 - 10_folds.train_4.predict)=99.40%\n",
      "[ 2018-07-28 00:11:55,382][kfold_wrapper.log_eval_metrics] Accuracy(layer_0 - estimator_0 - 10_folds.train_5.predict)=98.80%\n",
      "[ 2018-07-28 00:11:56,231][kfold_wrapper.log_eval_metrics] Accuracy(layer_0 - estimator_0 - 10_folds.train_6.predict)=98.50%\n",
      "[ 2018-07-28 00:11:57,081][kfold_wrapper.log_eval_metrics] Accuracy(layer_0 - estimator_0 - 10_folds.train_7.predict)=99.40%\n",
      "[ 2018-07-28 00:11:57,814][kfold_wrapper.log_eval_metrics] Accuracy(layer_0 - estimator_0 - 10_folds.train_8.predict)=98.80%\n",
      "[ 2018-07-28 00:11:58,674][kfold_wrapper.log_eval_metrics] Accuracy(layer_0 - estimator_0 - 10_folds.train_9.predict)=98.80%\n",
      "[ 2018-07-28 00:11:58,900][kfold_wrapper.log_eval_metrics] Accuracy(layer_0 - estimator_0 - 10_folds.train_cv.predict)=98.83%\n",
      "[ 2018-07-28 00:11:58,901][kfold_wrapper.log_eval_metrics] Accuracy(layer_0 - estimator_0 - 10_folds.test.predict)=98.84%\n",
      "[ 2018-07-28 00:11:58,904][cascade_classifier.calc_accuracy] Accuracy(layer_0 - train.classifier_average)=98.83%\n",
      "[ 2018-07-28 00:11:58,905][cascade_classifier.calc_accuracy] Accuracy(layer_0 - test.classifier_average)=98.84%\n",
      "[ 2018-07-28 00:11:58,907][cascade_classifier.fit_transform] [Result][Reach Max Layer] opt_layer_num=1, accuracy_train=98.83%, accuracy_test=98.84%\n",
      "[ 2018-07-28 00:11:58,908][cascade_classifier.transform] X_groups_test.shape=[(1645, 12)]\n",
      "[ 2018-07-28 00:11:58,909][cascade_classifier.transform] group_dims=[12]\n",
      "[ 2018-07-28 00:11:58,910][cascade_classifier.transform] X_test.shape=(1645, 12)\n",
      "[ 2018-07-28 00:11:58,911][cascade_classifier.transform] [layer=0] look_indexs=[0], X_cur_test.shape=(1645, 12)\n",
      "[ 2018-07-28 00:12:01,205][cascade_classifier.fit_transform] X_groups_train.shape=[(3337, 12)],y_train.shape=(3337,),X_groups_test.shape=[(1645, 12)],y_test.shape=(1645,)\n",
      "[ 2018-07-28 00:12:01,206][cascade_classifier.fit_transform] group_dims=[12]\n",
      "[ 2018-07-28 00:12:01,207][cascade_classifier.fit_transform] group_starts=[0]\n",
      "[ 2018-07-28 00:12:01,209][cascade_classifier.fit_transform] group_ends=[12]\n",
      "[ 2018-07-28 00:12:01,210][cascade_classifier.fit_transform] X_train.shape=(3337, 12),X_test.shape=(1645, 12)\n",
      "[ 2018-07-28 00:12:01,211][cascade_classifier.fit_transform] [layer=0] look_indexs=[0], X_cur_train.shape=(3337, 12), X_cur_test.shape=(1645, 12)\n"
     ]
    },
    {
     "name": "stdout",
     "output_type": "stream",
     "text": [
      "('Test Accuracy of DeepExtratTrees = 98.844985 %', 'Layer :', 16)\n",
      "[[1607    3]\n",
      " [  16   19]]\n",
      "\n",
      "\n",
      "             precision    recall  f1-score   support\n",
      "\n",
      "        0.0       0.99      1.00      0.99      1610\n",
      "        1.0       0.86      0.54      0.67        35\n",
      "\n",
      "avg / total       0.99      0.99      0.99      1645\n",
      "\n",
      "(' Time ', '8.324', ' seconds')\n"
     ]
    },
    {
     "name": "stderr",
     "output_type": "stream",
     "text": [
      "[ 2018-07-28 00:12:01,847][kfold_wrapper.log_eval_metrics] Accuracy(layer_0 - estimator_0 - 10_folds.train_0.predict)=98.51%\n",
      "[ 2018-07-28 00:12:02,706][kfold_wrapper.log_eval_metrics] Accuracy(layer_0 - estimator_0 - 10_folds.train_1.predict)=98.21%\n",
      "[ 2018-07-28 00:12:03,562][kfold_wrapper.log_eval_metrics] Accuracy(layer_0 - estimator_0 - 10_folds.train_2.predict)=98.21%\n",
      "[ 2018-07-28 00:12:04,415][kfold_wrapper.log_eval_metrics] Accuracy(layer_0 - estimator_0 - 10_folds.train_3.predict)=98.20%\n",
      "[ 2018-07-28 00:12:05,253][kfold_wrapper.log_eval_metrics] Accuracy(layer_0 - estimator_0 - 10_folds.train_4.predict)=99.10%\n",
      "[ 2018-07-28 00:12:06,105][kfold_wrapper.log_eval_metrics] Accuracy(layer_0 - estimator_0 - 10_folds.train_5.predict)=98.80%\n",
      "[ 2018-07-28 00:12:06,821][kfold_wrapper.log_eval_metrics] Accuracy(layer_0 - estimator_0 - 10_folds.train_6.predict)=98.80%\n",
      "[ 2018-07-28 00:12:07,553][kfold_wrapper.log_eval_metrics] Accuracy(layer_0 - estimator_0 - 10_folds.train_7.predict)=99.70%\n",
      "[ 2018-07-28 00:12:08,434][kfold_wrapper.log_eval_metrics] Accuracy(layer_0 - estimator_0 - 10_folds.train_8.predict)=98.80%\n",
      "[ 2018-07-28 00:12:09,284][kfold_wrapper.log_eval_metrics] Accuracy(layer_0 - estimator_0 - 10_folds.train_9.predict)=98.80%\n",
      "[ 2018-07-28 00:12:09,510][kfold_wrapper.log_eval_metrics] Accuracy(layer_0 - estimator_0 - 10_folds.train_cv.predict)=98.71%\n",
      "[ 2018-07-28 00:12:09,511][kfold_wrapper.log_eval_metrics] Accuracy(layer_0 - estimator_0 - 10_folds.test.predict)=98.78%\n",
      "[ 2018-07-28 00:12:09,514][cascade_classifier.calc_accuracy] Accuracy(layer_0 - train.classifier_average)=98.71%\n",
      "[ 2018-07-28 00:12:09,515][cascade_classifier.calc_accuracy] Accuracy(layer_0 - test.classifier_average)=98.78%\n",
      "[ 2018-07-28 00:12:09,515][cascade_classifier.fit_transform] [Result][Reach Max Layer] opt_layer_num=1, accuracy_train=98.71%, accuracy_test=98.78%\n",
      "[ 2018-07-28 00:12:09,516][cascade_classifier.transform] X_groups_test.shape=[(1645, 12)]\n",
      "[ 2018-07-28 00:12:09,517][cascade_classifier.transform] group_dims=[12]\n",
      "[ 2018-07-28 00:12:09,518][cascade_classifier.transform] X_test.shape=(1645, 12)\n",
      "[ 2018-07-28 00:12:09,519][cascade_classifier.transform] [layer=0] look_indexs=[0], X_cur_test.shape=(1645, 12)\n",
      "[ 2018-07-28 00:12:11,764][cascade_classifier.fit_transform] X_groups_train.shape=[(3337, 12)],y_train.shape=(3337,),X_groups_test.shape=[(1645, 12)],y_test.shape=(1645,)\n",
      "[ 2018-07-28 00:12:11,765][cascade_classifier.fit_transform] group_dims=[12]\n",
      "[ 2018-07-28 00:12:11,766][cascade_classifier.fit_transform] group_starts=[0]\n",
      "[ 2018-07-28 00:12:11,767][cascade_classifier.fit_transform] group_ends=[12]\n",
      "[ 2018-07-28 00:12:11,767][cascade_classifier.fit_transform] X_train.shape=(3337, 12),X_test.shape=(1645, 12)\n",
      "[ 2018-07-28 00:12:11,768][cascade_classifier.fit_transform] [layer=0] look_indexs=[0], X_cur_train.shape=(3337, 12), X_cur_test.shape=(1645, 12)\n"
     ]
    },
    {
     "name": "stdout",
     "output_type": "stream",
     "text": [
      "('Test Accuracy of DeepExtratTrees = 98.784195 %', 'Layer :', 17)\n",
      "[[1608    2]\n",
      " [  18   17]]\n",
      "\n",
      "\n",
      "             precision    recall  f1-score   support\n",
      "\n",
      "        0.0       0.99      1.00      0.99      1610\n",
      "        1.0       0.89      0.49      0.63        35\n",
      "\n",
      "avg / total       0.99      0.99      0.99      1645\n",
      "\n",
      "(' Time ', '8.311', ' seconds')\n"
     ]
    },
    {
     "name": "stderr",
     "output_type": "stream",
     "text": [
      "[ 2018-07-28 00:12:12,393][kfold_wrapper.log_eval_metrics] Accuracy(layer_0 - estimator_0 - 10_folds.train_0.predict)=98.21%\n",
      "[ 2018-07-28 00:12:13,104][kfold_wrapper.log_eval_metrics] Accuracy(layer_0 - estimator_0 - 10_folds.train_1.predict)=98.21%\n",
      "[ 2018-07-28 00:12:13,891][kfold_wrapper.log_eval_metrics] Accuracy(layer_0 - estimator_0 - 10_folds.train_2.predict)=98.51%\n",
      "[ 2018-07-28 00:12:14,608][kfold_wrapper.log_eval_metrics] Accuracy(layer_0 - estimator_0 - 10_folds.train_3.predict)=98.50%\n",
      "[ 2018-07-28 00:12:15,328][kfold_wrapper.log_eval_metrics] Accuracy(layer_0 - estimator_0 - 10_folds.train_4.predict)=99.70%\n",
      "[ 2018-07-28 00:12:16,195][kfold_wrapper.log_eval_metrics] Accuracy(layer_0 - estimator_0 - 10_folds.train_5.predict)=98.50%\n",
      "[ 2018-07-28 00:12:17,062][kfold_wrapper.log_eval_metrics] Accuracy(layer_0 - estimator_0 - 10_folds.train_6.predict)=98.80%\n",
      "[ 2018-07-28 00:12:17,928][kfold_wrapper.log_eval_metrics] Accuracy(layer_0 - estimator_0 - 10_folds.train_7.predict)=99.40%\n",
      "[ 2018-07-28 00:12:18,783][kfold_wrapper.log_eval_metrics] Accuracy(layer_0 - estimator_0 - 10_folds.train_8.predict)=98.80%\n",
      "[ 2018-07-28 00:12:19,785][kfold_wrapper.log_eval_metrics] Accuracy(layer_0 - estimator_0 - 10_folds.train_9.predict)=98.80%\n",
      "[ 2018-07-28 00:12:20,016][kfold_wrapper.log_eval_metrics] Accuracy(layer_0 - estimator_0 - 10_folds.train_cv.predict)=98.74%\n",
      "[ 2018-07-28 00:12:20,017][kfold_wrapper.log_eval_metrics] Accuracy(layer_0 - estimator_0 - 10_folds.test.predict)=98.84%\n",
      "[ 2018-07-28 00:12:20,020][cascade_classifier.calc_accuracy] Accuracy(layer_0 - train.classifier_average)=98.74%\n",
      "[ 2018-07-28 00:12:20,021][cascade_classifier.calc_accuracy] Accuracy(layer_0 - test.classifier_average)=98.84%\n",
      "[ 2018-07-28 00:12:20,022][cascade_classifier.fit_transform] [Result][Reach Max Layer] opt_layer_num=1, accuracy_train=98.74%, accuracy_test=98.84%\n",
      "[ 2018-07-28 00:12:20,023][cascade_classifier.transform] X_groups_test.shape=[(1645, 12)]\n",
      "[ 2018-07-28 00:12:20,024][cascade_classifier.transform] group_dims=[12]\n",
      "[ 2018-07-28 00:12:20,025][cascade_classifier.transform] X_test.shape=(1645, 12)\n",
      "[ 2018-07-28 00:12:20,027][cascade_classifier.transform] [layer=0] look_indexs=[0], X_cur_test.shape=(1645, 12)\n",
      "[ 2018-07-28 00:12:22,336][cascade_classifier.fit_transform] X_groups_train.shape=[(3337, 12)],y_train.shape=(3337,),X_groups_test.shape=[(1645, 12)],y_test.shape=(1645,)\n",
      "[ 2018-07-28 00:12:22,337][cascade_classifier.fit_transform] group_dims=[12]\n",
      "[ 2018-07-28 00:12:22,338][cascade_classifier.fit_transform] group_starts=[0]\n",
      "[ 2018-07-28 00:12:22,338][cascade_classifier.fit_transform] group_ends=[12]\n",
      "[ 2018-07-28 00:12:22,339][cascade_classifier.fit_transform] X_train.shape=(3337, 12),X_test.shape=(1645, 12)\n",
      "[ 2018-07-28 00:12:22,340][cascade_classifier.fit_transform] [layer=0] look_indexs=[0], X_cur_train.shape=(3337, 12), X_cur_test.shape=(1645, 12)\n"
     ]
    },
    {
     "name": "stdout",
     "output_type": "stream",
     "text": [
      "('Test Accuracy of DeepExtratTrees = 98.844985 %', 'Layer :', 18)\n",
      "[[1609    1]\n",
      " [  18   17]]\n",
      "\n",
      "\n",
      "             precision    recall  f1-score   support\n",
      "\n",
      "        0.0       0.99      1.00      0.99      1610\n",
      "        1.0       0.94      0.49      0.64        35\n",
      "\n",
      "avg / total       0.99      0.99      0.99      1645\n",
      "\n",
      "(' Time ', '8.26', ' seconds')\n"
     ]
    },
    {
     "name": "stderr",
     "output_type": "stream",
     "text": [
      "[ 2018-07-28 00:12:22,972][kfold_wrapper.log_eval_metrics] Accuracy(layer_0 - estimator_0 - 10_folds.train_0.predict)=98.51%\n",
      "[ 2018-07-28 00:12:23,838][kfold_wrapper.log_eval_metrics] Accuracy(layer_0 - estimator_0 - 10_folds.train_1.predict)=98.21%\n",
      "[ 2018-07-28 00:12:24,698][kfold_wrapper.log_eval_metrics] Accuracy(layer_0 - estimator_0 - 10_folds.train_2.predict)=98.21%\n",
      "[ 2018-07-28 00:12:25,557][kfold_wrapper.log_eval_metrics] Accuracy(layer_0 - estimator_0 - 10_folds.train_3.predict)=98.80%\n",
      "[ 2018-07-28 00:12:26,410][kfold_wrapper.log_eval_metrics] Accuracy(layer_0 - estimator_0 - 10_folds.train_4.predict)=99.40%\n",
      "[ 2018-07-28 00:12:27,266][kfold_wrapper.log_eval_metrics] Accuracy(layer_0 - estimator_0 - 10_folds.train_5.predict)=98.50%\n",
      "[ 2018-07-28 00:12:28,106][kfold_wrapper.log_eval_metrics] Accuracy(layer_0 - estimator_0 - 10_folds.train_6.predict)=98.80%\n",
      "[ 2018-07-28 00:12:28,970][kfold_wrapper.log_eval_metrics] Accuracy(layer_0 - estimator_0 - 10_folds.train_7.predict)=99.70%\n",
      "[ 2018-07-28 00:12:30,004][kfold_wrapper.log_eval_metrics] Accuracy(layer_0 - estimator_0 - 10_folds.train_8.predict)=98.80%\n",
      "[ 2018-07-28 00:12:30,866][kfold_wrapper.log_eval_metrics] Accuracy(layer_0 - estimator_0 - 10_folds.train_9.predict)=98.80%\n",
      "[ 2018-07-28 00:12:31,099][kfold_wrapper.log_eval_metrics] Accuracy(layer_0 - estimator_0 - 10_folds.train_cv.predict)=98.77%\n",
      "[ 2018-07-28 00:12:31,100][kfold_wrapper.log_eval_metrics] Accuracy(layer_0 - estimator_0 - 10_folds.test.predict)=98.84%\n",
      "[ 2018-07-28 00:12:31,103][cascade_classifier.calc_accuracy] Accuracy(layer_0 - train.classifier_average)=98.77%\n",
      "[ 2018-07-28 00:12:31,104][cascade_classifier.calc_accuracy] Accuracy(layer_0 - test.classifier_average)=98.84%\n",
      "[ 2018-07-28 00:12:31,105][cascade_classifier.fit_transform] [Result][Reach Max Layer] opt_layer_num=1, accuracy_train=98.77%, accuracy_test=98.84%\n",
      "[ 2018-07-28 00:12:31,106][cascade_classifier.transform] X_groups_test.shape=[(1645, 12)]\n",
      "[ 2018-07-28 00:12:31,107][cascade_classifier.transform] group_dims=[12]\n",
      "[ 2018-07-28 00:12:31,108][cascade_classifier.transform] X_test.shape=(1645, 12)\n",
      "[ 2018-07-28 00:12:31,109][cascade_classifier.transform] [layer=0] look_indexs=[0], X_cur_test.shape=(1645, 12)\n"
     ]
    },
    {
     "name": "stdout",
     "output_type": "stream",
     "text": [
      "('Test Accuracy of DeepExtratTrees = 98.844985 %', 'Layer :', 19)\n",
      "[[1609    1]\n",
      " [  18   17]]\n",
      "\n",
      "\n",
      "             precision    recall  f1-score   support\n",
      "\n",
      "        0.0       0.99      1.00      0.99      1610\n",
      "        1.0       0.94      0.49      0.64        35\n",
      "\n",
      "avg / total       0.99      0.99      0.99      1645\n",
      "\n",
      "(' Time ', '8.77', ' seconds')\n"
     ]
    }
   ],
   "source": [
    "def update(X_train,X_test):\n",
    "    # update Estimators\n",
    "    M = np.delete(X_train, (-1), axis=1)\n",
    "    X_train= np.delete(M, (-1), axis=1)\n",
    "    M = np.delete(X_test, (-1), axis=1)\n",
    "    X_test = np.delete(M, (-1), axis=1)\n",
    "    return X_train,X_test\n",
    "\n",
    "def newdata(X_test_enc, X_train_enc):\n",
    "    # Make Data + Estimators\n",
    "    X_train_origin = X_train.reshape((X_train.shape[0], -1))\n",
    "    X_test_origin = X_test.reshape((X_test.shape[0], -1))\n",
    "    X_train_enc = np.hstack((X_train_origin, X_train_enc))\n",
    "    X_test_enc = np.hstack((X_test_origin, X_test_enc))\n",
    "    return X_test_enc, X_train_enc\n",
    "\n",
    "Accuracy = []\n",
    "def affiche():\n",
    "    # predict\n",
    "    y_pred = gc.predict(X_test)\n",
    "    acc = accuracy_score(y_test, y_pred)\n",
    "    print(\"Test Accuracy of DeepExtratTrees = {:.6f} %\".format(acc * 100),\"Layer :\",i)\n",
    "    Accuracy.append(round(acc*100 , 2))\n",
    "    # Matrix de confusion\n",
    "    from sklearn.metrics import classification_report, confusion_matrix\n",
    "    print(confusion_matrix(y_test,y_pred))\n",
    "    print('\\n')\n",
    "    print(classification_report(y_test,y_pred))\n",
    "    \n",
    "# Deep\n",
    "t = []\n",
    "for i in range (20):\n",
    "    t0 = time()\n",
    "    X_train,X_test=update(X_train,X_test)\n",
    "    X_test_enc, X_train_enc=newdata(X_test_enc, X_train_enc)\n",
    "\n",
    "    X_train=X_train_enc\n",
    "    X_test=X_test_enc \n",
    "    X_train_enc, X_test_enc = gc.fit_transform(X_train, y_train, X_test=X_test, y_test=y_test)\n",
    "    tt = time() - t0\n",
    "    affiche() \n",
    "    t.append(round(tt,2))\n",
    "    print (\" Time \",format(round(tt,3)),\" seconds\")\n"
   ]
  },
  {
   "cell_type": "code",
   "execution_count": 14,
   "metadata": {},
   "outputs": [
    {
     "name": "stdout",
     "output_type": "stream",
     "text": [
      "('Opt_layer_num =', 4, ' Accuracy =', 99.09, 'Time =', 33.079999999999998)\n"
     ]
    },
    {
     "data": {
      "image/png": "[encoded data removed]",
      "text/plain": [
       "<matplotlib.figure.Figure at 0x7f01e636ef90>"
      ]
     },
     "metadata": {},
     "output_type": "display_data"
    }
   ],
   "source": [
    "print (\"Opt_layer_num =\",Accuracy.index(max(Accuracy)), \" Accuracy =\", max(Accuracy) ,\n",
    "       \"Time =\" , np.sum(t[0:Accuracy.index(max(Accuracy))+1]))\n",
    "\n",
    "import matplotlib.pyplot as plt\n",
    "from matplotlib.pyplot import figure\n",
    "figure(figsize=(8, 6), dpi=100)\n",
    "plt.plot(Accuracy, '-o', ms=20, lw=2, alpha=0.7, mfc='orange')\n",
    "plt.ylabel('Accuracy')\n",
    "plt.xlabel('Layer numbers')\n",
    "plt.show()"
   ]
  },
  {
   "cell_type": "code",
   "execution_count": 15,
   "metadata": {},
   "outputs": [
    {
     "data": {
      "text/plain": [
       "[98.91,\n",
       " 98.78,\n",
       " 99.03,\n",
       " 98.97,\n",
       " 99.09,\n",
       " 99.09,\n",
       " 98.97,\n",
       " 98.97,\n",
       " 98.84,\n",
       " 98.84,\n",
       " 98.84,\n",
       " 98.78,\n",
       " 98.78,\n",
       " 98.78,\n",
       " 98.72,\n",
       " 98.84,\n",
       " 98.84,\n",
       " 98.78,\n",
       " 98.84,\n",
       " 98.84]"
      ]
     },
     "execution_count": 15,
     "metadata": {},
     "output_type": "execute_result"
    }
   ],
   "source": [
    "Accuracy"
   ]
  },
  {
   "cell_type": "code",
   "execution_count": null,
   "metadata": {
    "collapsed": true
   },
   "outputs": [],
   "source": []
  },
  {
   "cell_type": "code",
   "execution_count": null,
   "metadata": {
    "collapsed": true
   },
   "outputs": [],
   "source": []
  },
  {
   "cell_type": "code",
   "execution_count": null,
   "metadata": {
    "collapsed": true
   },
   "outputs": [],
   "source": []
  },
  {
   "cell_type": "code",
   "execution_count": null,
   "metadata": {
    "collapsed": true
   },
   "outputs": [],
   "source": []
  },
  {
   "cell_type": "code",
   "execution_count": null,
   "metadata": {
    "collapsed": true
   },
   "outputs": [],
   "source": []
  },
  {
   "cell_type": "code",
   "execution_count": null,
   "metadata": {
    "collapsed": true
   },
   "outputs": [],
   "source": []
  },
  {
   "cell_type": "code",
   "execution_count": null,
   "metadata": {
    "collapsed": true
   },
   "outputs": [],
   "source": []
  }
 ],
 "metadata": {
  "kernelspec": {
   "display_name": "Python 2",
   "language": "python",
   "name": "python2"
  },
  "language_info": {
   "codemirror_mode": {
    "name": "ipython",
    "version": 2
   },
   "file_extension": ".py",
   "mimetype": "text/x-python",
   "name": "python",
   "nbconvert_exporter": "python",
   "pygments_lexer": "ipython2",
   "version": "2.7.13"
  }
 },
 "nbformat": 4,
 "nbformat_minor": 2
}
