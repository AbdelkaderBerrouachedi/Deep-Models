{
 "cells": [
  {
   "cell_type": "code",
   "execution_count": 1,
   "metadata": {
    "collapsed": true
   },
   "outputs": [],
   "source": [
    "#Imports \n",
    "import numpy as np\n",
    "import pandas as pd\n",
    "from math import sqrt \n",
    "from pprint import pprint\n",
    "from numpy import array\n",
    "from time import time"
   ]
  },
  {
   "cell_type": "code",
   "execution_count": 2,
   "metadata": {
    "collapsed": true
   },
   "outputs": [],
   "source": [
    "# load data\n",
    "import names\n",
    "df = pd.read_csv(\"htru.csv\", names = names.names)"
   ]
  },
  {
   "cell_type": "code",
   "execution_count": 3,
   "metadata": {},
   "outputs": [
    {
     "data": {
      "text/html": [
       "<div>\n",
       "<style>\n",
       "    .dataframe thead tr:only-child th {\n",
       "        text-align: right;\n",
       "    }\n",
       "\n",
       "    .dataframe thead th {\n",
       "        text-align: left;\n",
       "    }\n",
       "\n",
       "    .dataframe tbody tr th {\n",
       "        vertical-align: top;\n",
       "    }\n",
       "</style>\n",
       "<table border=\"1\" class=\"dataframe\">\n",
       "  <thead>\n",
       "    <tr style=\"text-align: right;\">\n",
       "      <th></th>\n",
       "      <th>Profile_mean</th>\n",
       "      <th>Profile_stdev</th>\n",
       "      <th>Profile_skewness</th>\n",
       "      <th>Profile_kurtosis</th>\n",
       "      <th>DM_mean</th>\n",
       "      <th>DM_stdev</th>\n",
       "      <th>DM_skewness</th>\n",
       "      <th>DM_kurtosis</th>\n",
       "      <th>class</th>\n",
       "    </tr>\n",
       "  </thead>\n",
       "  <tbody>\n",
       "    <tr>\n",
       "      <th>0</th>\n",
       "      <td>140.562500</td>\n",
       "      <td>55.683782</td>\n",
       "      <td>-0.234571</td>\n",
       "      <td>-0.699648</td>\n",
       "      <td>3.199833</td>\n",
       "      <td>19.110426</td>\n",
       "      <td>7.975532</td>\n",
       "      <td>74.242225</td>\n",
       "      <td>0</td>\n",
       "    </tr>\n",
       "    <tr>\n",
       "      <th>1</th>\n",
       "      <td>102.507812</td>\n",
       "      <td>58.882430</td>\n",
       "      <td>0.465318</td>\n",
       "      <td>-0.515088</td>\n",
       "      <td>1.677258</td>\n",
       "      <td>14.860146</td>\n",
       "      <td>10.576487</td>\n",
       "      <td>127.393580</td>\n",
       "      <td>0</td>\n",
       "    </tr>\n",
       "    <tr>\n",
       "      <th>2</th>\n",
       "      <td>103.015625</td>\n",
       "      <td>39.341649</td>\n",
       "      <td>0.323328</td>\n",
       "      <td>1.051164</td>\n",
       "      <td>3.121237</td>\n",
       "      <td>21.744669</td>\n",
       "      <td>7.735822</td>\n",
       "      <td>63.171909</td>\n",
       "      <td>0</td>\n",
       "    </tr>\n",
       "    <tr>\n",
       "      <th>3</th>\n",
       "      <td>136.750000</td>\n",
       "      <td>57.178449</td>\n",
       "      <td>-0.068415</td>\n",
       "      <td>-0.636238</td>\n",
       "      <td>3.642977</td>\n",
       "      <td>20.959280</td>\n",
       "      <td>6.896499</td>\n",
       "      <td>53.593661</td>\n",
       "      <td>0</td>\n",
       "    </tr>\n",
       "    <tr>\n",
       "      <th>4</th>\n",
       "      <td>88.726562</td>\n",
       "      <td>40.672225</td>\n",
       "      <td>0.600866</td>\n",
       "      <td>1.123492</td>\n",
       "      <td>1.178930</td>\n",
       "      <td>11.468720</td>\n",
       "      <td>14.269573</td>\n",
       "      <td>252.567306</td>\n",
       "      <td>0</td>\n",
       "    </tr>\n",
       "  </tbody>\n",
       "</table>\n",
       "</div>"
      ],
      "text/plain": [
       "   Profile_mean  Profile_stdev  Profile_skewness  Profile_kurtosis   DM_mean  \\\n",
       "0    140.562500      55.683782         -0.234571         -0.699648  3.199833   \n",
       "1    102.507812      58.882430          0.465318         -0.515088  1.677258   \n",
       "2    103.015625      39.341649          0.323328          1.051164  3.121237   \n",
       "3    136.750000      57.178449         -0.068415         -0.636238  3.642977   \n",
       "4     88.726562      40.672225          0.600866          1.123492  1.178930   \n",
       "\n",
       "    DM_stdev  DM_skewness  DM_kurtosis  class  \n",
       "0  19.110426     7.975532    74.242225      0  \n",
       "1  14.860146    10.576487   127.393580      0  \n",
       "2  21.744669     7.735822    63.171909      0  \n",
       "3  20.959280     6.896499    53.593661      0  \n",
       "4  11.468720    14.269573   252.567306      0  "
      ]
     },
     "execution_count": 3,
     "metadata": {},
     "output_type": "execute_result"
    }
   ],
   "source": [
    "# first 5 \n",
    "df.head()"
   ]
  },
  {
   "cell_type": "code",
   "execution_count": 4,
   "metadata": {
    "collapsed": true
   },
   "outputs": [],
   "source": [
    "# df to values\n",
    "df = df.values"
   ]
  },
  {
   "cell_type": "code",
   "execution_count": 5,
   "metadata": {
    "collapsed": true
   },
   "outputs": [],
   "source": [
    "# DeepExtraTrees   \n",
    "import argparse\n",
    "import sys\n",
    "import pickle\n",
    "from sklearn.metrics import accuracy_score\n",
    "sys.path.insert(0, \"lib\")\n",
    "from gcforest.gcforest import GCForest\n",
    "from gcforest.gcforest import GCForest\n",
    "from gcforest.utils.config_utils import load_json\n",
    "config = load_json(\"./examples/htru.json\")   \n",
    "gc = GCForest(config)"
   ]
  },
  {
   "cell_type": "code",
   "execution_count": 6,
   "metadata": {},
   "outputs": [
    {
     "name": "stderr",
     "output_type": "stream",
     "text": [
      "/home/ubuntu/anaconda2/lib/python2.7/site-packages/sklearn/cross_validation.py:44: DeprecationWarning: This module was deprecated in version 0.18 in favor of the model_selection module into which all the refactored classes and functions are moved. Also note that the interface of the new CV iterators are different from that of this module. This module will be removed in 0.20.\n",
      "  \"This module will be removed in 0.20.\", DeprecationWarning)\n"
     ]
    }
   ],
   "source": [
    "# train test \n",
    "from sklearn.cross_validation import train_test_split\n",
    "y = df[:,8]\n",
    "X = df[:,0:8]\n",
    "\n",
    "X_train,X_test,y_train,y_test = train_test_split(X, y, test_size=0.3, random_state=0)"
   ]
  },
  {
   "cell_type": "code",
   "execution_count": 7,
   "metadata": {},
   "outputs": [
    {
     "data": {
      "text/plain": [
       "2"
      ]
     },
     "execution_count": 7,
     "metadata": {},
     "output_type": "execute_result"
    }
   ],
   "source": [
    "# count of class\n",
    "len(np.unique(y_train))"
   ]
  },
  {
   "cell_type": "code",
   "execution_count": 8,
   "metadata": {},
   "outputs": [
    {
     "name": "stderr",
     "output_type": "stream",
     "text": [
      "[ 2018-07-27 21:59:03,677][cascade_classifier.fit_transform] X_groups_train.shape=[(12528, 8)],y_train.shape=(12528,),X_groups_test.shape=[(5370, 8)],y_test.shape=(5370,)\n",
      "[ 2018-07-27 21:59:03,679][cascade_classifier.fit_transform] group_dims=[8]\n",
      "[ 2018-07-27 21:59:03,680][cascade_classifier.fit_transform] group_starts=[0]\n",
      "[ 2018-07-27 21:59:03,681][cascade_classifier.fit_transform] group_ends=[8]\n",
      "[ 2018-07-27 21:59:03,682][cascade_classifier.fit_transform] X_train.shape=(12528, 8),X_test.shape=(5370, 8)\n",
      "[ 2018-07-27 21:59:03,684][cascade_classifier.fit_transform] [layer=0] look_indexs=[0], X_cur_train.shape=(12528, 8), X_cur_test.shape=(5370, 8)\n",
      "[ 2018-07-27 21:59:04,541][kfold_wrapper.log_eval_metrics] Accuracy(layer_0 - estimator_0 - 10_folds.train_0.predict)=98.09%\n",
      "[ 2018-07-27 21:59:05,412][kfold_wrapper.log_eval_metrics] Accuracy(layer_0 - estimator_0 - 10_folds.train_1.predict)=98.09%\n",
      "[ 2018-07-27 21:59:06,267][kfold_wrapper.log_eval_metrics] Accuracy(layer_0 - estimator_0 - 10_folds.train_2.predict)=98.72%\n",
      "[ 2018-07-27 21:59:07,239][kfold_wrapper.log_eval_metrics] Accuracy(layer_0 - estimator_0 - 10_folds.train_3.predict)=97.13%\n",
      "[ 2018-07-27 21:59:08,197][kfold_wrapper.log_eval_metrics] Accuracy(layer_0 - estimator_0 - 10_folds.train_4.predict)=97.45%\n",
      "[ 2018-07-27 21:59:09,177][kfold_wrapper.log_eval_metrics] Accuracy(layer_0 - estimator_0 - 10_folds.train_5.predict)=98.00%\n",
      "[ 2018-07-27 21:59:10,226][kfold_wrapper.log_eval_metrics] Accuracy(layer_0 - estimator_0 - 10_folds.train_6.predict)=97.84%\n",
      "[ 2018-07-27 21:59:11,190][kfold_wrapper.log_eval_metrics] Accuracy(layer_0 - estimator_0 - 10_folds.train_7.predict)=97.60%\n",
      "[ 2018-07-27 21:59:12,147][kfold_wrapper.log_eval_metrics] Accuracy(layer_0 - estimator_0 - 10_folds.train_8.predict)=97.92%\n",
      "[ 2018-07-27 21:59:13,151][kfold_wrapper.log_eval_metrics] Accuracy(layer_0 - estimator_0 - 10_folds.train_9.predict)=97.84%\n",
      "[ 2018-07-27 21:59:13,391][kfold_wrapper.log_eval_metrics] Accuracy(layer_0 - estimator_0 - 10_folds.train_cv.predict)=97.87%\n",
      "[ 2018-07-27 21:59:13,392][kfold_wrapper.log_eval_metrics] Accuracy(layer_0 - estimator_0 - 10_folds.test.predict)=98.06%\n",
      "[ 2018-07-27 21:59:13,394][cascade_classifier.calc_accuracy] Accuracy(layer_0 - train.classifier_average)=97.87%\n",
      "[ 2018-07-27 21:59:13,395][cascade_classifier.calc_accuracy] Accuracy(layer_0 - test.classifier_average)=98.06%\n",
      "[ 2018-07-27 21:59:13,396][cascade_classifier.fit_transform] [Result][Reach Max Layer] opt_layer_num=1, accuracy_train=97.87%, accuracy_test=98.06%\n"
     ]
    }
   ],
   "source": [
    "        # X_enc is the concatenated predict_proba result of DeepExtraTrees\n",
    "        \n",
    "X_train_enc, X_test_enc = gc.fit_transform(X_train, y_train, X_test=X_test, y_test=y_test)\n",
    " "
   ]
  },
  {
   "cell_type": "code",
   "execution_count": 9,
   "metadata": {},
   "outputs": [
    {
     "name": "stderr",
     "output_type": "stream",
     "text": [
      "[ 2018-07-27 21:59:13,403][cascade_classifier.transform] X_groups_test.shape=[(5370, 8)]\n",
      "[ 2018-07-27 21:59:13,404][cascade_classifier.transform] group_dims=[8]\n",
      "[ 2018-07-27 21:59:13,405][cascade_classifier.transform] X_test.shape=(5370, 8)\n",
      "[ 2018-07-27 21:59:13,407][cascade_classifier.transform] [layer=0] look_indexs=[0], X_cur_test.shape=(5370, 8)\n"
     ]
    },
    {
     "name": "stdout",
     "output_type": "stream",
     "text": [
      "Test Accuracy of DeepExtraTrees = 98.063315 %\n"
     ]
    }
   ],
   "source": [
    "# predict\n",
    "y_pred = gc.predict(X_test)\n",
    "acc = accuracy_score(y_test, y_pred)\n",
    "print(\"Test Accuracy of DeepExtraTrees = {:.6f} %\".format(acc * 100))"
   ]
  },
  {
   "cell_type": "code",
   "execution_count": 10,
   "metadata": {},
   "outputs": [
    {
     "name": "stdout",
     "output_type": "stream",
     "text": [
      "[[4898   28]\n",
      " [  76  368]]\n",
      "\n",
      "\n",
      "             precision    recall  f1-score   support\n",
      "\n",
      "        0.0       0.98      0.99      0.99      4926\n",
      "        1.0       0.93      0.83      0.88       444\n",
      "\n",
      "avg / total       0.98      0.98      0.98      5370\n",
      "\n"
     ]
    }
   ],
   "source": [
    " # Matrix de confusion\n",
    "from sklearn.metrics import classification_report, confusion_matrix\n",
    "print(confusion_matrix(y_test,y_pred))\n",
    "print('\\n')\n",
    "print(classification_report(y_test,y_pred))"
   ]
  },
  {
   "cell_type": "code",
   "execution_count": 11,
   "metadata": {},
   "outputs": [
    {
     "name": "stdout",
     "output_type": "stream",
     "text": [
      "X_train_enc.shape=(12528, 2), X_test_enc.shape=(5370, 2)\n"
     ]
    }
   ],
   "source": [
    "print(\"X_train_enc.shape={}, X_test_enc.shape={}\".format(X_train_enc.shape, X_test_enc.shape))"
   ]
  },
  {
   "cell_type": "code",
   "execution_count": 12,
   "metadata": {},
   "outputs": [
    {
     "name": "stdout",
     "output_type": "stream",
     "text": [
      "X_train.shape=(12528, 8), X_test.shape=(5370, 8)\n"
     ]
    }
   ],
   "source": [
    "print(\"X_train.shape={}, X_test.shape={}\".format(X_train.shape, X_test.shape))"
   ]
  },
  {
   "cell_type": "code",
   "execution_count": 13,
   "metadata": {},
   "outputs": [
    {
     "name": "stderr",
     "output_type": "stream",
     "text": [
      "[ 2018-07-27 21:59:15,793][cascade_classifier.transform] X_groups_test.shape=[(5370, 8)]\n",
      "[ 2018-07-27 21:59:15,795][cascade_classifier.transform] group_dims=[8]\n",
      "[ 2018-07-27 21:59:15,796][cascade_classifier.transform] X_test.shape=(5370, 8)\n",
      "[ 2018-07-27 21:59:15,797][cascade_classifier.transform] [layer=0] look_indexs=[0], X_cur_test.shape=(5370, 8)\n"
     ]
    }
   ],
   "source": [
    "# Make Data + Estimators\n",
    "X_test_enc = gc.transform(X_test)\n",
    "X_train_enc = X_train_enc.reshape((X_train_enc.shape[0], -1))\n",
    "X_test_enc = X_test_enc.reshape((X_test_enc.shape[0], -1))\n",
    "X_train_origin = X_train.reshape((X_train.shape[0], -1))\n",
    "X_test_origin = X_test.reshape((X_test.shape[0], -1))\n",
    "X_train_enc = np.hstack((X_train_origin, X_train_enc))\n",
    "X_test_enc = np.hstack((X_test_origin, X_test_enc))"
   ]
  },
  {
   "cell_type": "code",
   "execution_count": 14,
   "metadata": {},
   "outputs": [
    {
     "name": "stdout",
     "output_type": "stream",
     "text": [
      "X_train_enc.shape=(12528, 10), X_test_enc.shape=(5370, 10)\n"
     ]
    }
   ],
   "source": [
    "print(\"X_train_enc.shape={}, X_test_enc.shape={}\".format(X_train_enc.shape, X_test_enc.shape))"
   ]
  },
  {
   "cell_type": "code",
   "execution_count": 15,
   "metadata": {},
   "outputs": [
    {
     "name": "stderr",
     "output_type": "stream",
     "text": [
      "[ 2018-07-27 21:59:18,233][cascade_classifier.fit_transform] X_groups_train.shape=[(12528, 10)],y_train.shape=(12528,),X_groups_test.shape=[(5370, 10)],y_test.shape=(5370,)\n",
      "[ 2018-07-27 21:59:18,235][cascade_classifier.fit_transform] group_dims=[10]\n",
      "[ 2018-07-27 21:59:18,236][cascade_classifier.fit_transform] group_starts=[0]\n",
      "[ 2018-07-27 21:59:18,237][cascade_classifier.fit_transform] group_ends=[10]\n",
      "[ 2018-07-27 21:59:18,239][cascade_classifier.fit_transform] X_train.shape=(12528, 10),X_test.shape=(5370, 10)\n",
      "[ 2018-07-27 21:59:18,240][cascade_classifier.fit_transform] [layer=0] look_indexs=[0], X_cur_train.shape=(12528, 10), X_cur_test.shape=(5370, 10)\n",
      "[ 2018-07-27 21:59:18,985][kfold_wrapper.log_eval_metrics] Accuracy(layer_0 - estimator_0 - 10_folds.train_0.predict)=98.09%\n",
      "[ 2018-07-27 21:59:19,990][kfold_wrapper.log_eval_metrics] Accuracy(layer_0 - estimator_0 - 10_folds.train_1.predict)=97.85%\n",
      "[ 2018-07-27 21:59:20,964][kfold_wrapper.log_eval_metrics] Accuracy(layer_0 - estimator_0 - 10_folds.train_2.predict)=98.72%\n",
      "[ 2018-07-27 21:59:21,944][kfold_wrapper.log_eval_metrics] Accuracy(layer_0 - estimator_0 - 10_folds.train_3.predict)=97.21%\n",
      "[ 2018-07-27 21:59:22,921][kfold_wrapper.log_eval_metrics] Accuracy(layer_0 - estimator_0 - 10_folds.train_4.predict)=97.21%\n",
      "[ 2018-07-27 21:59:23,918][kfold_wrapper.log_eval_metrics] Accuracy(layer_0 - estimator_0 - 10_folds.train_5.predict)=98.00%\n",
      "[ 2018-07-27 21:59:24,914][kfold_wrapper.log_eval_metrics] Accuracy(layer_0 - estimator_0 - 10_folds.train_6.predict)=98.00%\n",
      "[ 2018-07-27 21:59:25,906][kfold_wrapper.log_eval_metrics] Accuracy(layer_0 - estimator_0 - 10_folds.train_7.predict)=97.92%\n",
      "[ 2018-07-27 21:59:26,894][kfold_wrapper.log_eval_metrics] Accuracy(layer_0 - estimator_0 - 10_folds.train_8.predict)=98.16%\n",
      "[ 2018-07-27 21:59:27,902][kfold_wrapper.log_eval_metrics] Accuracy(layer_0 - estimator_0 - 10_folds.train_9.predict)=97.92%\n",
      "[ 2018-07-27 21:59:28,143][kfold_wrapper.log_eval_metrics] Accuracy(layer_0 - estimator_0 - 10_folds.train_cv.predict)=97.91%\n",
      "[ 2018-07-27 21:59:28,144][kfold_wrapper.log_eval_metrics] Accuracy(layer_0 - estimator_0 - 10_folds.test.predict)=97.95%\n",
      "[ 2018-07-27 21:59:28,147][cascade_classifier.calc_accuracy] Accuracy(layer_0 - train.classifier_average)=97.91%\n",
      "[ 2018-07-27 21:59:28,148][cascade_classifier.calc_accuracy] Accuracy(layer_0 - test.classifier_average)=97.95%\n",
      "[ 2018-07-27 21:59:28,149][cascade_classifier.fit_transform] [Result][Reach Max Layer] opt_layer_num=1, accuracy_train=97.91%, accuracy_test=97.95%\n"
     ]
    }
   ],
   "source": [
    "# New data\n",
    "X_train=X_train_enc\n",
    "X_test=X_test_enc \n",
    "X_train_enc, X_test_enc = gc.fit_transform(X_train, y_train, X_test=X_test, y_test=y_test)"
   ]
  },
  {
   "cell_type": "code",
   "execution_count": 16,
   "metadata": {},
   "outputs": [
    {
     "name": "stderr",
     "output_type": "stream",
     "text": [
      "[ 2018-07-27 21:59:28,156][cascade_classifier.transform] X_groups_test.shape=[(5370, 10)]\n",
      "[ 2018-07-27 21:59:28,157][cascade_classifier.transform] group_dims=[10]\n",
      "[ 2018-07-27 21:59:28,159][cascade_classifier.transform] X_test.shape=(5370, 10)\n",
      "[ 2018-07-27 21:59:28,160][cascade_classifier.transform] [layer=0] look_indexs=[0], X_cur_test.shape=(5370, 10)\n"
     ]
    },
    {
     "name": "stdout",
     "output_type": "stream",
     "text": [
      "Test Accuracy of DeepExtraTrees = 97.951583 %\n"
     ]
    }
   ],
   "source": [
    "# predict  data + Es\n",
    "y_pred = gc.predict(X_test)\n",
    "acc = accuracy_score(y_test, y_pred)\n",
    "print(\"Test Accuracy of DeepExtraTrees = {:.6f} %\".format(acc * 100))"
   ]
  },
  {
   "cell_type": "code",
   "execution_count": 17,
   "metadata": {},
   "outputs": [
    {
     "name": "stdout",
     "output_type": "stream",
     "text": [
      "[[4888   38]\n",
      " [  72  372]]\n",
      "\n",
      "\n",
      "             precision    recall  f1-score   support\n",
      "\n",
      "        0.0       0.99      0.99      0.99      4926\n",
      "        1.0       0.91      0.84      0.87       444\n",
      "\n",
      "avg / total       0.98      0.98      0.98      5370\n",
      "\n"
     ]
    }
   ],
   "source": [
    " # Matrix de confusion\n",
    "from sklearn.metrics import classification_report, confusion_matrix\n",
    "print(confusion_matrix(y_test,y_pred))\n",
    "print('\\n')\n",
    "print(classification_report(y_test,y_pred))"
   ]
  },
  {
   "cell_type": "code",
   "execution_count": 18,
   "metadata": {},
   "outputs": [
    {
     "name": "stderr",
     "output_type": "stream",
     "text": [
      "[ 2018-07-27 21:59:30,618][cascade_classifier.fit_transform] X_groups_train.shape=[(12528, 10)],y_train.shape=(12528,),X_groups_test.shape=[(5370, 10)],y_test.shape=(5370,)\n",
      "[ 2018-07-27 21:59:30,619][cascade_classifier.fit_transform] group_dims=[10]\n",
      "[ 2018-07-27 21:59:30,621][cascade_classifier.fit_transform] group_starts=[0]\n",
      "[ 2018-07-27 21:59:30,622][cascade_classifier.fit_transform] group_ends=[10]\n",
      "[ 2018-07-27 21:59:30,623][cascade_classifier.fit_transform] X_train.shape=(12528, 10),X_test.shape=(5370, 10)\n",
      "[ 2018-07-27 21:59:30,625][cascade_classifier.fit_transform] [layer=0] look_indexs=[0], X_cur_train.shape=(12528, 10), X_cur_test.shape=(5370, 10)\n",
      "[ 2018-07-27 21:59:31,418][kfold_wrapper.log_eval_metrics] Accuracy(layer_0 - estimator_0 - 10_folds.train_0.predict)=98.09%\n",
      "[ 2018-07-27 21:59:32,427][kfold_wrapper.log_eval_metrics] Accuracy(layer_0 - estimator_0 - 10_folds.train_1.predict)=97.85%\n",
      "[ 2018-07-27 21:59:33,405][kfold_wrapper.log_eval_metrics] Accuracy(layer_0 - estimator_0 - 10_folds.train_2.predict)=98.80%\n",
      "[ 2018-07-27 21:59:34,362][kfold_wrapper.log_eval_metrics] Accuracy(layer_0 - estimator_0 - 10_folds.train_3.predict)=97.21%\n",
      "[ 2018-07-27 21:59:35,321][kfold_wrapper.log_eval_metrics] Accuracy(layer_0 - estimator_0 - 10_folds.train_4.predict)=96.97%\n",
      "[ 2018-07-27 21:59:36,291][kfold_wrapper.log_eval_metrics] Accuracy(layer_0 - estimator_0 - 10_folds.train_5.predict)=98.08%\n",
      "[ 2018-07-27 21:59:37,244][kfold_wrapper.log_eval_metrics] Accuracy(layer_0 - estimator_0 - 10_folds.train_6.predict)=98.00%\n",
      "[ 2018-07-27 21:59:38,242][kfold_wrapper.log_eval_metrics] Accuracy(layer_0 - estimator_0 - 10_folds.train_7.predict)=97.76%\n",
      "[ 2018-07-27 21:59:39,199][kfold_wrapper.log_eval_metrics] Accuracy(layer_0 - estimator_0 - 10_folds.train_8.predict)=97.92%\n",
      "[ 2018-07-27 21:59:40,227][kfold_wrapper.log_eval_metrics] Accuracy(layer_0 - estimator_0 - 10_folds.train_9.predict)=97.68%\n",
      "[ 2018-07-27 21:59:40,464][kfold_wrapper.log_eval_metrics] Accuracy(layer_0 - estimator_0 - 10_folds.train_cv.predict)=97.84%\n",
      "[ 2018-07-27 21:59:40,465][kfold_wrapper.log_eval_metrics] Accuracy(layer_0 - estimator_0 - 10_folds.test.predict)=98.12%\n",
      "[ 2018-07-27 21:59:40,469][cascade_classifier.calc_accuracy] Accuracy(layer_0 - train.classifier_average)=97.84%\n",
      "[ 2018-07-27 21:59:40,470][cascade_classifier.calc_accuracy] Accuracy(layer_0 - test.classifier_average)=98.12%\n",
      "[ 2018-07-27 21:59:40,471][cascade_classifier.fit_transform] [Result][Reach Max Layer] opt_layer_num=1, accuracy_train=97.84%, accuracy_test=98.12%\n",
      "[ 2018-07-27 21:59:40,472][cascade_classifier.transform] X_groups_test.shape=[(5370, 10)]\n",
      "[ 2018-07-27 21:59:40,473][cascade_classifier.transform] group_dims=[10]\n",
      "[ 2018-07-27 21:59:40,474][cascade_classifier.transform] X_test.shape=(5370, 10)\n",
      "[ 2018-07-27 21:59:40,475][cascade_classifier.transform] [layer=0] look_indexs=[0], X_cur_test.shape=(5370, 10)\n",
      "[ 2018-07-27 21:59:42,737][cascade_classifier.fit_transform] X_groups_train.shape=[(12528, 10)],y_train.shape=(12528,),X_groups_test.shape=[(5370, 10)],y_test.shape=(5370,)\n",
      "[ 2018-07-27 21:59:42,738][cascade_classifier.fit_transform] group_dims=[10]\n",
      "[ 2018-07-27 21:59:42,739][cascade_classifier.fit_transform] group_starts=[0]\n",
      "[ 2018-07-27 21:59:42,741][cascade_classifier.fit_transform] group_ends=[10]\n",
      "[ 2018-07-27 21:59:42,742][cascade_classifier.fit_transform] X_train.shape=(12528, 10),X_test.shape=(5370, 10)\n",
      "[ 2018-07-27 21:59:42,744][cascade_classifier.fit_transform] [layer=0] look_indexs=[0], X_cur_train.shape=(12528, 10), X_cur_test.shape=(5370, 10)\n"
     ]
    },
    {
     "name": "stdout",
     "output_type": "stream",
     "text": [
      "('Test Accuracy of DeepExtratTrees = 98.119181 %', 'Layer :', 0)\n",
      "[[4896   30]\n",
      " [  71  373]]\n",
      "\n",
      "\n",
      "             precision    recall  f1-score   support\n",
      "\n",
      "        0.0       0.99      0.99      0.99      4926\n",
      "        1.0       0.93      0.84      0.88       444\n",
      "\n",
      "avg / total       0.98      0.98      0.98      5370\n",
      "\n",
      "(' Time ', '9.855', ' seconds')\n"
     ]
    },
    {
     "name": "stderr",
     "output_type": "stream",
     "text": [
      "[ 2018-07-27 21:59:43,774][kfold_wrapper.log_eval_metrics] Accuracy(layer_0 - estimator_0 - 10_folds.train_0.predict)=98.25%\n",
      "[ 2018-07-27 21:59:44,992][kfold_wrapper.log_eval_metrics] Accuracy(layer_0 - estimator_0 - 10_folds.train_1.predict)=98.17%\n",
      "[ 2018-07-27 21:59:46,042][kfold_wrapper.log_eval_metrics] Accuracy(layer_0 - estimator_0 - 10_folds.train_2.predict)=98.80%\n",
      "[ 2018-07-27 21:59:47,045][kfold_wrapper.log_eval_metrics] Accuracy(layer_0 - estimator_0 - 10_folds.train_3.predict)=97.45%\n",
      "[ 2018-07-27 21:59:48,009][kfold_wrapper.log_eval_metrics] Accuracy(layer_0 - estimator_0 - 10_folds.train_4.predict)=97.29%\n",
      "[ 2018-07-27 21:59:48,974][kfold_wrapper.log_eval_metrics] Accuracy(layer_0 - estimator_0 - 10_folds.train_5.predict)=98.16%\n",
      "[ 2018-07-27 21:59:49,936][kfold_wrapper.log_eval_metrics] Accuracy(layer_0 - estimator_0 - 10_folds.train_6.predict)=97.60%\n",
      "[ 2018-07-27 21:59:50,894][kfold_wrapper.log_eval_metrics] Accuracy(layer_0 - estimator_0 - 10_folds.train_7.predict)=97.68%\n",
      "[ 2018-07-27 21:59:51,874][kfold_wrapper.log_eval_metrics] Accuracy(layer_0 - estimator_0 - 10_folds.train_8.predict)=97.92%\n",
      "[ 2018-07-27 21:59:52,859][kfold_wrapper.log_eval_metrics] Accuracy(layer_0 - estimator_0 - 10_folds.train_9.predict)=98.16%\n",
      "[ 2018-07-27 21:59:53,099][kfold_wrapper.log_eval_metrics] Accuracy(layer_0 - estimator_0 - 10_folds.train_cv.predict)=97.95%\n",
      "[ 2018-07-27 21:59:53,100][kfold_wrapper.log_eval_metrics] Accuracy(layer_0 - estimator_0 - 10_folds.test.predict)=98.03%\n",
      "[ 2018-07-27 21:59:53,104][cascade_classifier.calc_accuracy] Accuracy(layer_0 - train.classifier_average)=97.95%\n",
      "[ 2018-07-27 21:59:53,106][cascade_classifier.calc_accuracy] Accuracy(layer_0 - test.classifier_average)=98.03%\n",
      "[ 2018-07-27 21:59:53,107][cascade_classifier.fit_transform] [Result][Reach Max Layer] opt_layer_num=1, accuracy_train=97.95%, accuracy_test=98.03%\n",
      "[ 2018-07-27 21:59:53,108][cascade_classifier.transform] X_groups_test.shape=[(5370, 10)]\n",
      "[ 2018-07-27 21:59:53,109][cascade_classifier.transform] group_dims=[10]\n",
      "[ 2018-07-27 21:59:53,110][cascade_classifier.transform] X_test.shape=(5370, 10)\n",
      "[ 2018-07-27 21:59:53,112][cascade_classifier.transform] [layer=0] look_indexs=[0], X_cur_test.shape=(5370, 10)\n",
      "[ 2018-07-27 21:59:55,484][cascade_classifier.fit_transform] X_groups_train.shape=[(12528, 10)],y_train.shape=(12528,),X_groups_test.shape=[(5370, 10)],y_test.shape=(5370,)\n",
      "[ 2018-07-27 21:59:55,485][cascade_classifier.fit_transform] group_dims=[10]\n",
      "[ 2018-07-27 21:59:55,486][cascade_classifier.fit_transform] group_starts=[0]\n",
      "[ 2018-07-27 21:59:55,487][cascade_classifier.fit_transform] group_ends=[10]\n",
      "[ 2018-07-27 21:59:55,487][cascade_classifier.fit_transform] X_train.shape=(12528, 10),X_test.shape=(5370, 10)\n",
      "[ 2018-07-27 21:59:55,489][cascade_classifier.fit_transform] [layer=0] look_indexs=[0], X_cur_train.shape=(12528, 10), X_cur_test.shape=(5370, 10)\n"
     ]
    },
    {
     "name": "stdout",
     "output_type": "stream",
     "text": [
      "('Test Accuracy of DeepExtratTrees = 98.026071 %', 'Layer :', 1)\n",
      "[[4894   32]\n",
      " [  74  370]]\n",
      "\n",
      "\n",
      "             precision    recall  f1-score   support\n",
      "\n",
      "        0.0       0.99      0.99      0.99      4926\n",
      "        1.0       0.92      0.83      0.87       444\n",
      "\n",
      "avg / total       0.98      0.98      0.98      5370\n",
      "\n",
      "(' Time ', '10.373', ' seconds')\n"
     ]
    },
    {
     "name": "stderr",
     "output_type": "stream",
     "text": [
      "[ 2018-07-27 21:59:56,232][kfold_wrapper.log_eval_metrics] Accuracy(layer_0 - estimator_0 - 10_folds.train_0.predict)=98.17%\n",
      "[ 2018-07-27 21:59:57,205][kfold_wrapper.log_eval_metrics] Accuracy(layer_0 - estimator_0 - 10_folds.train_1.predict)=97.93%\n",
      "[ 2018-07-27 21:59:57,933][kfold_wrapper.log_eval_metrics] Accuracy(layer_0 - estimator_0 - 10_folds.train_2.predict)=98.64%\n",
      "[ 2018-07-27 21:59:58,770][kfold_wrapper.log_eval_metrics] Accuracy(layer_0 - estimator_0 - 10_folds.train_3.predict)=97.45%\n",
      "[ 2018-07-27 21:59:59,602][kfold_wrapper.log_eval_metrics] Accuracy(layer_0 - estimator_0 - 10_folds.train_4.predict)=97.21%\n",
      "[ 2018-07-27 22:00:00,328][kfold_wrapper.log_eval_metrics] Accuracy(layer_0 - estimator_0 - 10_folds.train_5.predict)=98.16%\n",
      "[ 2018-07-27 22:00:01,173][kfold_wrapper.log_eval_metrics] Accuracy(layer_0 - estimator_0 - 10_folds.train_6.predict)=97.60%\n",
      "[ 2018-07-27 22:00:02,147][kfold_wrapper.log_eval_metrics] Accuracy(layer_0 - estimator_0 - 10_folds.train_7.predict)=97.52%\n",
      "[ 2018-07-27 22:00:02,983][kfold_wrapper.log_eval_metrics] Accuracy(layer_0 - estimator_0 - 10_folds.train_8.predict)=97.84%\n",
      "[ 2018-07-27 22:00:03,703][kfold_wrapper.log_eval_metrics] Accuracy(layer_0 - estimator_0 - 10_folds.train_9.predict)=98.08%\n",
      "[ 2018-07-27 22:00:03,933][kfold_wrapper.log_eval_metrics] Accuracy(layer_0 - estimator_0 - 10_folds.train_cv.predict)=97.86%\n",
      "[ 2018-07-27 22:00:03,934][kfold_wrapper.log_eval_metrics] Accuracy(layer_0 - estimator_0 - 10_folds.test.predict)=98.03%\n",
      "[ 2018-07-27 22:00:03,937][cascade_classifier.calc_accuracy] Accuracy(layer_0 - train.classifier_average)=97.86%\n",
      "[ 2018-07-27 22:00:03,938][cascade_classifier.calc_accuracy] Accuracy(layer_0 - test.classifier_average)=98.03%\n",
      "[ 2018-07-27 22:00:03,939][cascade_classifier.fit_transform] [Result][Reach Max Layer] opt_layer_num=1, accuracy_train=97.86%, accuracy_test=98.03%\n",
      "[ 2018-07-27 22:00:03,939][cascade_classifier.transform] X_groups_test.shape=[(5370, 10)]\n",
      "[ 2018-07-27 22:00:03,940][cascade_classifier.transform] group_dims=[10]\n",
      "[ 2018-07-27 22:00:03,941][cascade_classifier.transform] X_test.shape=(5370, 10)\n",
      "[ 2018-07-27 22:00:03,942][cascade_classifier.transform] [layer=0] look_indexs=[0], X_cur_test.shape=(5370, 10)\n",
      "[ 2018-07-27 22:00:06,241][cascade_classifier.fit_transform] X_groups_train.shape=[(12528, 10)],y_train.shape=(12528,),X_groups_test.shape=[(5370, 10)],y_test.shape=(5370,)\n",
      "[ 2018-07-27 22:00:06,242][cascade_classifier.fit_transform] group_dims=[10]\n",
      "[ 2018-07-27 22:00:06,243][cascade_classifier.fit_transform] group_starts=[0]\n",
      "[ 2018-07-27 22:00:06,244][cascade_classifier.fit_transform] group_ends=[10]\n",
      "[ 2018-07-27 22:00:06,245][cascade_classifier.fit_transform] X_train.shape=(12528, 10),X_test.shape=(5370, 10)\n",
      "[ 2018-07-27 22:00:06,246][cascade_classifier.fit_transform] [layer=0] look_indexs=[0], X_cur_train.shape=(12528, 10), X_cur_test.shape=(5370, 10)\n"
     ]
    },
    {
     "name": "stdout",
     "output_type": "stream",
     "text": [
      "('Test Accuracy of DeepExtratTrees = 98.026071 %', 'Layer :', 2)\n",
      "[[4891   35]\n",
      " [  71  373]]\n",
      "\n",
      "\n",
      "             precision    recall  f1-score   support\n",
      "\n",
      "        0.0       0.99      0.99      0.99      4926\n",
      "        1.0       0.91      0.84      0.88       444\n",
      "\n",
      "avg / total       0.98      0.98      0.98      5370\n",
      "\n",
      "(' Time ', '8.457', ' seconds')\n"
     ]
    },
    {
     "name": "stderr",
     "output_type": "stream",
     "text": [
      "[ 2018-07-27 22:00:06,865][kfold_wrapper.log_eval_metrics] Accuracy(layer_0 - estimator_0 - 10_folds.train_0.predict)=98.09%\n",
      "[ 2018-07-27 22:00:07,582][kfold_wrapper.log_eval_metrics] Accuracy(layer_0 - estimator_0 - 10_folds.train_1.predict)=98.41%\n",
      "[ 2018-07-27 22:00:08,417][kfold_wrapper.log_eval_metrics] Accuracy(layer_0 - estimator_0 - 10_folds.train_2.predict)=98.72%\n",
      "[ 2018-07-27 22:00:09,289][kfold_wrapper.log_eval_metrics] Accuracy(layer_0 - estimator_0 - 10_folds.train_3.predict)=97.61%\n",
      "[ 2018-07-27 22:00:10,118][kfold_wrapper.log_eval_metrics] Accuracy(layer_0 - estimator_0 - 10_folds.train_4.predict)=97.53%\n",
      "[ 2018-07-27 22:00:10,951][kfold_wrapper.log_eval_metrics] Accuracy(layer_0 - estimator_0 - 10_folds.train_5.predict)=98.00%\n",
      "[ 2018-07-27 22:00:11,781][kfold_wrapper.log_eval_metrics] Accuracy(layer_0 - estimator_0 - 10_folds.train_6.predict)=97.84%\n",
      "[ 2018-07-27 22:00:12,622][kfold_wrapper.log_eval_metrics] Accuracy(layer_0 - estimator_0 - 10_folds.train_7.predict)=97.84%\n",
      "[ 2018-07-27 22:00:13,459][kfold_wrapper.log_eval_metrics] Accuracy(layer_0 - estimator_0 - 10_folds.train_8.predict)=97.68%\n",
      "[ 2018-07-27 22:00:14,292][kfold_wrapper.log_eval_metrics] Accuracy(layer_0 - estimator_0 - 10_folds.train_9.predict)=97.92%\n",
      "[ 2018-07-27 22:00:14,523][kfold_wrapper.log_eval_metrics] Accuracy(layer_0 - estimator_0 - 10_folds.train_cv.predict)=97.96%\n",
      "[ 2018-07-27 22:00:14,524][kfold_wrapper.log_eval_metrics] Accuracy(layer_0 - estimator_0 - 10_folds.test.predict)=98.10%\n",
      "[ 2018-07-27 22:00:14,527][cascade_classifier.calc_accuracy] Accuracy(layer_0 - train.classifier_average)=97.96%\n",
      "[ 2018-07-27 22:00:14,528][cascade_classifier.calc_accuracy] Accuracy(layer_0 - test.classifier_average)=98.10%\n",
      "[ 2018-07-27 22:00:14,529][cascade_classifier.fit_transform] [Result][Reach Max Layer] opt_layer_num=1, accuracy_train=97.96%, accuracy_test=98.10%\n",
      "[ 2018-07-27 22:00:14,531][cascade_classifier.transform] X_groups_test.shape=[(5370, 10)]\n",
      "[ 2018-07-27 22:00:14,532][cascade_classifier.transform] group_dims=[10]\n",
      "[ 2018-07-27 22:00:14,533][cascade_classifier.transform] X_test.shape=(5370, 10)\n",
      "[ 2018-07-27 22:00:14,534][cascade_classifier.transform] [layer=0] look_indexs=[0], X_cur_test.shape=(5370, 10)\n",
      "[ 2018-07-27 22:00:16,825][cascade_classifier.fit_transform] X_groups_train.shape=[(12528, 10)],y_train.shape=(12528,),X_groups_test.shape=[(5370, 10)],y_test.shape=(5370,)\n",
      "[ 2018-07-27 22:00:16,827][cascade_classifier.fit_transform] group_dims=[10]\n",
      "[ 2018-07-27 22:00:16,827][cascade_classifier.fit_transform] group_starts=[0]\n",
      "[ 2018-07-27 22:00:16,828][cascade_classifier.fit_transform] group_ends=[10]\n",
      "[ 2018-07-27 22:00:16,829][cascade_classifier.fit_transform] X_train.shape=(12528, 10),X_test.shape=(5370, 10)\n",
      "[ 2018-07-27 22:00:16,831][cascade_classifier.fit_transform] [layer=0] look_indexs=[0], X_cur_train.shape=(12528, 10), X_cur_test.shape=(5370, 10)\n"
     ]
    },
    {
     "name": "stdout",
     "output_type": "stream",
     "text": [
      "('Test Accuracy of DeepExtratTrees = 98.100559 %', 'Layer :', 3)\n",
      "[[4893   33]\n",
      " [  69  375]]\n",
      "\n",
      "\n",
      "             precision    recall  f1-score   support\n",
      "\n",
      "        0.0       0.99      0.99      0.99      4926\n",
      "        1.0       0.92      0.84      0.88       444\n",
      "\n",
      "avg / total       0.98      0.98      0.98      5370\n",
      "\n",
      "(' Time ', '8.291', ' seconds')\n"
     ]
    },
    {
     "name": "stderr",
     "output_type": "stream",
     "text": [
      "[ 2018-07-27 22:00:17,443][kfold_wrapper.log_eval_metrics] Accuracy(layer_0 - estimator_0 - 10_folds.train_0.predict)=98.09%\n",
      "[ 2018-07-27 22:00:18,274][kfold_wrapper.log_eval_metrics] Accuracy(layer_0 - estimator_0 - 10_folds.train_1.predict)=97.93%\n",
      "[ 2018-07-27 22:00:19,109][kfold_wrapper.log_eval_metrics] Accuracy(layer_0 - estimator_0 - 10_folds.train_2.predict)=98.48%\n",
      "[ 2018-07-27 22:00:19,941][kfold_wrapper.log_eval_metrics] Accuracy(layer_0 - estimator_0 - 10_folds.train_3.predict)=97.61%\n",
      "[ 2018-07-27 22:00:20,657][kfold_wrapper.log_eval_metrics] Accuracy(layer_0 - estimator_0 - 10_folds.train_4.predict)=97.21%\n",
      "[ 2018-07-27 22:00:21,518][kfold_wrapper.log_eval_metrics] Accuracy(layer_0 - estimator_0 - 10_folds.train_5.predict)=97.92%\n",
      "[ 2018-07-27 22:00:22,490][kfold_wrapper.log_eval_metrics] Accuracy(layer_0 - estimator_0 - 10_folds.train_6.predict)=97.92%\n",
      "[ 2018-07-27 22:00:23,207][kfold_wrapper.log_eval_metrics] Accuracy(layer_0 - estimator_0 - 10_folds.train_7.predict)=97.60%\n",
      "[ 2018-07-27 22:00:24,044][kfold_wrapper.log_eval_metrics] Accuracy(layer_0 - estimator_0 - 10_folds.train_8.predict)=97.84%\n",
      "[ 2018-07-27 22:00:25,005][kfold_wrapper.log_eval_metrics] Accuracy(layer_0 - estimator_0 - 10_folds.train_9.predict)=97.76%\n",
      "[ 2018-07-27 22:00:25,236][kfold_wrapper.log_eval_metrics] Accuracy(layer_0 - estimator_0 - 10_folds.train_cv.predict)=97.84%\n",
      "[ 2018-07-27 22:00:25,238][kfold_wrapper.log_eval_metrics] Accuracy(layer_0 - estimator_0 - 10_folds.test.predict)=98.08%\n",
      "[ 2018-07-27 22:00:25,241][cascade_classifier.calc_accuracy] Accuracy(layer_0 - train.classifier_average)=97.84%\n",
      "[ 2018-07-27 22:00:25,242][cascade_classifier.calc_accuracy] Accuracy(layer_0 - test.classifier_average)=98.08%\n",
      "[ 2018-07-27 22:00:25,243][cascade_classifier.fit_transform] [Result][Reach Max Layer] opt_layer_num=1, accuracy_train=97.84%, accuracy_test=98.08%\n",
      "[ 2018-07-27 22:00:25,244][cascade_classifier.transform] X_groups_test.shape=[(5370, 10)]\n",
      "[ 2018-07-27 22:00:25,245][cascade_classifier.transform] group_dims=[10]\n",
      "[ 2018-07-27 22:00:25,246][cascade_classifier.transform] X_test.shape=(5370, 10)\n",
      "[ 2018-07-27 22:00:25,248][cascade_classifier.transform] [layer=0] look_indexs=[0], X_cur_test.shape=(5370, 10)\n",
      "[ 2018-07-27 22:00:27,553][cascade_classifier.fit_transform] X_groups_train.shape=[(12528, 10)],y_train.shape=(12528,),X_groups_test.shape=[(5370, 10)],y_test.shape=(5370,)\n",
      "[ 2018-07-27 22:00:27,554][cascade_classifier.fit_transform] group_dims=[10]\n",
      "[ 2018-07-27 22:00:27,555][cascade_classifier.fit_transform] group_starts=[0]\n",
      "[ 2018-07-27 22:00:27,555][cascade_classifier.fit_transform] group_ends=[10]\n",
      "[ 2018-07-27 22:00:27,556][cascade_classifier.fit_transform] X_train.shape=(12528, 10),X_test.shape=(5370, 10)\n",
      "[ 2018-07-27 22:00:27,557][cascade_classifier.fit_transform] [layer=0] look_indexs=[0], X_cur_train.shape=(12528, 10), X_cur_test.shape=(5370, 10)\n"
     ]
    },
    {
     "name": "stdout",
     "output_type": "stream",
     "text": [
      "('Test Accuracy of DeepExtratTrees = 98.081937 %', 'Layer :', 4)\n",
      "[[4895   31]\n",
      " [  72  372]]\n",
      "\n",
      "\n",
      "             precision    recall  f1-score   support\n",
      "\n",
      "        0.0       0.99      0.99      0.99      4926\n",
      "        1.0       0.92      0.84      0.88       444\n",
      "\n",
      "avg / total       0.98      0.98      0.98      5370\n",
      "\n",
      "(' Time ', '8.42', ' seconds')\n"
     ]
    },
    {
     "name": "stderr",
     "output_type": "stream",
     "text": [
      "[ 2018-07-27 22:00:28,172][kfold_wrapper.log_eval_metrics] Accuracy(layer_0 - estimator_0 - 10_folds.train_0.predict)=98.01%\n",
      "[ 2018-07-27 22:00:29,010][kfold_wrapper.log_eval_metrics] Accuracy(layer_0 - estimator_0 - 10_folds.train_1.predict)=98.41%\n",
      "[ 2018-07-27 22:00:29,858][kfold_wrapper.log_eval_metrics] Accuracy(layer_0 - estimator_0 - 10_folds.train_2.predict)=98.64%\n",
      "[ 2018-07-27 22:00:30,688][kfold_wrapper.log_eval_metrics] Accuracy(layer_0 - estimator_0 - 10_folds.train_3.predict)=97.37%\n",
      "[ 2018-07-27 22:00:31,514][kfold_wrapper.log_eval_metrics] Accuracy(layer_0 - estimator_0 - 10_folds.train_4.predict)=97.61%\n",
      "[ 2018-07-27 22:00:32,347][kfold_wrapper.log_eval_metrics] Accuracy(layer_0 - estimator_0 - 10_folds.train_5.predict)=98.16%\n",
      "[ 2018-07-27 22:00:33,176][kfold_wrapper.log_eval_metrics] Accuracy(layer_0 - estimator_0 - 10_folds.train_6.predict)=97.76%\n",
      "[ 2018-07-27 22:00:34,010][kfold_wrapper.log_eval_metrics] Accuracy(layer_0 - estimator_0 - 10_folds.train_7.predict)=97.60%\n",
      "[ 2018-07-27 22:00:34,846][kfold_wrapper.log_eval_metrics] Accuracy(layer_0 - estimator_0 - 10_folds.train_8.predict)=97.92%\n",
      "[ 2018-07-27 22:00:35,677][kfold_wrapper.log_eval_metrics] Accuracy(layer_0 - estimator_0 - 10_folds.train_9.predict)=98.16%\n",
      "[ 2018-07-27 22:00:35,908][kfold_wrapper.log_eval_metrics] Accuracy(layer_0 - estimator_0 - 10_folds.train_cv.predict)=97.96%\n",
      "[ 2018-07-27 22:00:35,909][kfold_wrapper.log_eval_metrics] Accuracy(layer_0 - estimator_0 - 10_folds.test.predict)=97.99%\n",
      "[ 2018-07-27 22:00:35,912][cascade_classifier.calc_accuracy] Accuracy(layer_0 - train.classifier_average)=97.96%\n",
      "[ 2018-07-27 22:00:35,913][cascade_classifier.calc_accuracy] Accuracy(layer_0 - test.classifier_average)=97.99%\n",
      "[ 2018-07-27 22:00:35,913][cascade_classifier.fit_transform] [Result][Reach Max Layer] opt_layer_num=1, accuracy_train=97.96%, accuracy_test=97.99%\n",
      "[ 2018-07-27 22:00:35,914][cascade_classifier.transform] X_groups_test.shape=[(5370, 10)]\n",
      "[ 2018-07-27 22:00:35,915][cascade_classifier.transform] group_dims=[10]\n",
      "[ 2018-07-27 22:00:35,916][cascade_classifier.transform] X_test.shape=(5370, 10)\n",
      "[ 2018-07-27 22:00:35,916][cascade_classifier.transform] [layer=0] look_indexs=[0], X_cur_test.shape=(5370, 10)\n",
      "[ 2018-07-27 22:00:38,205][cascade_classifier.fit_transform] X_groups_train.shape=[(12528, 10)],y_train.shape=(12528,),X_groups_test.shape=[(5370, 10)],y_test.shape=(5370,)\n",
      "[ 2018-07-27 22:00:38,206][cascade_classifier.fit_transform] group_dims=[10]\n",
      "[ 2018-07-27 22:00:38,207][cascade_classifier.fit_transform] group_starts=[0]\n",
      "[ 2018-07-27 22:00:38,207][cascade_classifier.fit_transform] group_ends=[10]\n",
      "[ 2018-07-27 22:00:38,208][cascade_classifier.fit_transform] X_train.shape=(12528, 10),X_test.shape=(5370, 10)\n",
      "[ 2018-07-27 22:00:38,209][cascade_classifier.fit_transform] [layer=0] look_indexs=[0], X_cur_train.shape=(12528, 10), X_cur_test.shape=(5370, 10)\n"
     ]
    },
    {
     "name": "stdout",
     "output_type": "stream",
     "text": [
      "('Test Accuracy of DeepExtratTrees = 97.988827 %', 'Layer :', 5)\n",
      "[[4890   36]\n",
      " [  72  372]]\n",
      "\n",
      "\n",
      "             precision    recall  f1-score   support\n",
      "\n",
      "        0.0       0.99      0.99      0.99      4926\n",
      "        1.0       0.91      0.84      0.87       444\n",
      "\n",
      "avg / total       0.98      0.98      0.98      5370\n",
      "\n",
      "(' Time ', '8.363', ' seconds')\n"
     ]
    },
    {
     "name": "stderr",
     "output_type": "stream",
     "text": [
      "[ 2018-07-27 22:00:38,815][kfold_wrapper.log_eval_metrics] Accuracy(layer_0 - estimator_0 - 10_folds.train_0.predict)=97.93%\n",
      "[ 2018-07-27 22:00:39,648][kfold_wrapper.log_eval_metrics] Accuracy(layer_0 - estimator_0 - 10_folds.train_1.predict)=98.09%\n",
      "[ 2018-07-27 22:00:40,365][kfold_wrapper.log_eval_metrics] Accuracy(layer_0 - estimator_0 - 10_folds.train_2.predict)=98.48%\n",
      "[ 2018-07-27 22:00:41,330][kfold_wrapper.log_eval_metrics] Accuracy(layer_0 - estimator_0 - 10_folds.train_3.predict)=97.37%\n",
      "[ 2018-07-27 22:00:42,162][kfold_wrapper.log_eval_metrics] Accuracy(layer_0 - estimator_0 - 10_folds.train_4.predict)=97.29%\n",
      "[ 2018-07-27 22:00:42,880][kfold_wrapper.log_eval_metrics] Accuracy(layer_0 - estimator_0 - 10_folds.train_5.predict)=98.00%\n",
      "[ 2018-07-27 22:00:43,711][kfold_wrapper.log_eval_metrics] Accuracy(layer_0 - estimator_0 - 10_folds.train_6.predict)=97.76%\n",
      "[ 2018-07-27 22:00:44,433][kfold_wrapper.log_eval_metrics] Accuracy(layer_0 - estimator_0 - 10_folds.train_7.predict)=97.44%\n",
      "[ 2018-07-27 22:00:45,267][kfold_wrapper.log_eval_metrics] Accuracy(layer_0 - estimator_0 - 10_folds.train_8.predict)=97.92%\n",
      "[ 2018-07-27 22:00:46,099][kfold_wrapper.log_eval_metrics] Accuracy(layer_0 - estimator_0 - 10_folds.train_9.predict)=98.08%\n",
      "[ 2018-07-27 22:00:46,327][kfold_wrapper.log_eval_metrics] Accuracy(layer_0 - estimator_0 - 10_folds.train_cv.predict)=97.84%\n",
      "[ 2018-07-27 22:00:46,328][kfold_wrapper.log_eval_metrics] Accuracy(layer_0 - estimator_0 - 10_folds.test.predict)=98.06%\n",
      "[ 2018-07-27 22:00:46,331][cascade_classifier.calc_accuracy] Accuracy(layer_0 - train.classifier_average)=97.84%\n",
      "[ 2018-07-27 22:00:46,332][cascade_classifier.calc_accuracy] Accuracy(layer_0 - test.classifier_average)=98.06%\n",
      "[ 2018-07-27 22:00:46,333][cascade_classifier.fit_transform] [Result][Reach Max Layer] opt_layer_num=1, accuracy_train=97.84%, accuracy_test=98.06%\n",
      "[ 2018-07-27 22:00:46,334][cascade_classifier.transform] X_groups_test.shape=[(5370, 10)]\n",
      "[ 2018-07-27 22:00:46,335][cascade_classifier.transform] group_dims=[10]\n",
      "[ 2018-07-27 22:00:46,336][cascade_classifier.transform] X_test.shape=(5370, 10)\n",
      "[ 2018-07-27 22:00:46,336][cascade_classifier.transform] [layer=0] look_indexs=[0], X_cur_test.shape=(5370, 10)\n",
      "[ 2018-07-27 22:00:48,634][cascade_classifier.fit_transform] X_groups_train.shape=[(12528, 10)],y_train.shape=(12528,),X_groups_test.shape=[(5370, 10)],y_test.shape=(5370,)\n",
      "[ 2018-07-27 22:00:48,635][cascade_classifier.fit_transform] group_dims=[10]\n",
      "[ 2018-07-27 22:00:48,636][cascade_classifier.fit_transform] group_starts=[0]\n",
      "[ 2018-07-27 22:00:48,637][cascade_classifier.fit_transform] group_ends=[10]\n",
      "[ 2018-07-27 22:00:48,638][cascade_classifier.fit_transform] X_train.shape=(12528, 10),X_test.shape=(5370, 10)\n",
      "[ 2018-07-27 22:00:48,639][cascade_classifier.fit_transform] [layer=0] look_indexs=[0], X_cur_train.shape=(12528, 10), X_cur_test.shape=(5370, 10)\n"
     ]
    },
    {
     "name": "stdout",
     "output_type": "stream",
     "text": [
      "('Test Accuracy of DeepExtratTrees = 98.081937 %', 'Layer :', 6)\n",
      "[[4891   35]\n",
      " [  68  376]]\n",
      "\n",
      "\n",
      "             precision    recall  f1-score   support\n",
      "\n",
      "        0.0       0.99      0.99      0.99      4926\n",
      "        1.0       0.91      0.85      0.88       444\n",
      "\n",
      "avg / total       0.98      0.98      0.98      5370\n",
      "\n",
      "(' Time ', '8.13', ' seconds')\n"
     ]
    },
    {
     "name": "stderr",
     "output_type": "stream",
     "text": [
      "[ 2018-07-27 22:00:49,246][kfold_wrapper.log_eval_metrics] Accuracy(layer_0 - estimator_0 - 10_folds.train_0.predict)=97.93%\n",
      "[ 2018-07-27 22:00:50,200][kfold_wrapper.log_eval_metrics] Accuracy(layer_0 - estimator_0 - 10_folds.train_1.predict)=98.17%\n",
      "[ 2018-07-27 22:00:51,186][kfold_wrapper.log_eval_metrics] Accuracy(layer_0 - estimator_0 - 10_folds.train_2.predict)=98.80%\n",
      "[ 2018-07-27 22:00:52,161][kfold_wrapper.log_eval_metrics] Accuracy(layer_0 - estimator_0 - 10_folds.train_3.predict)=97.53%\n",
      "[ 2018-07-27 22:00:53,150][kfold_wrapper.log_eval_metrics] Accuracy(layer_0 - estimator_0 - 10_folds.train_4.predict)=97.21%\n",
      "[ 2018-07-27 22:00:54,118][kfold_wrapper.log_eval_metrics] Accuracy(layer_0 - estimator_0 - 10_folds.train_5.predict)=98.24%\n",
      "[ 2018-07-27 22:00:55,114][kfold_wrapper.log_eval_metrics] Accuracy(layer_0 - estimator_0 - 10_folds.train_6.predict)=97.76%\n",
      "[ 2018-07-27 22:00:56,081][kfold_wrapper.log_eval_metrics] Accuracy(layer_0 - estimator_0 - 10_folds.train_7.predict)=97.84%\n",
      "[ 2018-07-27 22:00:57,026][kfold_wrapper.log_eval_metrics] Accuracy(layer_0 - estimator_0 - 10_folds.train_8.predict)=97.68%\n",
      "[ 2018-07-27 22:00:57,859][kfold_wrapper.log_eval_metrics] Accuracy(layer_0 - estimator_0 - 10_folds.train_9.predict)=97.92%\n",
      "[ 2018-07-27 22:00:58,087][kfold_wrapper.log_eval_metrics] Accuracy(layer_0 - estimator_0 - 10_folds.train_cv.predict)=97.91%\n",
      "[ 2018-07-27 22:00:58,088][kfold_wrapper.log_eval_metrics] Accuracy(layer_0 - estimator_0 - 10_folds.test.predict)=98.16%\n",
      "[ 2018-07-27 22:00:58,091][cascade_classifier.calc_accuracy] Accuracy(layer_0 - train.classifier_average)=97.91%\n",
      "[ 2018-07-27 22:00:58,092][cascade_classifier.calc_accuracy] Accuracy(layer_0 - test.classifier_average)=98.16%\n",
      "[ 2018-07-27 22:00:58,093][cascade_classifier.fit_transform] [Result][Reach Max Layer] opt_layer_num=1, accuracy_train=97.91%, accuracy_test=98.16%\n",
      "[ 2018-07-27 22:00:58,093][cascade_classifier.transform] X_groups_test.shape=[(5370, 10)]\n",
      "[ 2018-07-27 22:00:58,094][cascade_classifier.transform] group_dims=[10]\n",
      "[ 2018-07-27 22:00:58,095][cascade_classifier.transform] X_test.shape=(5370, 10)\n",
      "[ 2018-07-27 22:00:58,096][cascade_classifier.transform] [layer=0] look_indexs=[0], X_cur_test.shape=(5370, 10)\n",
      "[ 2018-07-27 22:01:00,379][cascade_classifier.fit_transform] X_groups_train.shape=[(12528, 10)],y_train.shape=(12528,),X_groups_test.shape=[(5370, 10)],y_test.shape=(5370,)\n",
      "[ 2018-07-27 22:01:00,380][cascade_classifier.fit_transform] group_dims=[10]\n",
      "[ 2018-07-27 22:01:00,381][cascade_classifier.fit_transform] group_starts=[0]\n",
      "[ 2018-07-27 22:01:00,381][cascade_classifier.fit_transform] group_ends=[10]\n",
      "[ 2018-07-27 22:01:00,382][cascade_classifier.fit_transform] X_train.shape=(12528, 10),X_test.shape=(5370, 10)\n",
      "[ 2018-07-27 22:01:00,383][cascade_classifier.fit_transform] [layer=0] look_indexs=[0], X_cur_train.shape=(12528, 10), X_cur_test.shape=(5370, 10)\n"
     ]
    },
    {
     "name": "stdout",
     "output_type": "stream",
     "text": [
      "('Test Accuracy of DeepExtratTrees = 98.156425 %', 'Layer :', 7)\n",
      "[[4885   41]\n",
      " [  58  386]]\n",
      "\n",
      "\n",
      "             precision    recall  f1-score   support\n",
      "\n",
      "        0.0       0.99      0.99      0.99      4926\n",
      "        1.0       0.90      0.87      0.89       444\n",
      "\n",
      "avg / total       0.98      0.98      0.98      5370\n",
      "\n",
      "(' Time ', '9.461', ' seconds')\n"
     ]
    },
    {
     "name": "stderr",
     "output_type": "stream",
     "text": [
      "[ 2018-07-27 22:01:00,875][kfold_wrapper.log_eval_metrics] Accuracy(layer_0 - estimator_0 - 10_folds.train_0.predict)=98.01%\n",
      "[ 2018-07-27 22:01:01,713][kfold_wrapper.log_eval_metrics] Accuracy(layer_0 - estimator_0 - 10_folds.train_1.predict)=97.61%\n",
      "[ 2018-07-27 22:01:02,544][kfold_wrapper.log_eval_metrics] Accuracy(layer_0 - estimator_0 - 10_folds.train_2.predict)=98.56%\n",
      "[ 2018-07-27 22:01:03,265][kfold_wrapper.log_eval_metrics] Accuracy(layer_0 - estimator_0 - 10_folds.train_3.predict)=97.37%\n",
      "[ 2018-07-27 22:01:04,093][kfold_wrapper.log_eval_metrics] Accuracy(layer_0 - estimator_0 - 10_folds.train_4.predict)=97.21%\n",
      "[ 2018-07-27 22:01:05,060][kfold_wrapper.log_eval_metrics] Accuracy(layer_0 - estimator_0 - 10_folds.train_5.predict)=98.16%\n",
      "[ 2018-07-27 22:01:05,892][kfold_wrapper.log_eval_metrics] Accuracy(layer_0 - estimator_0 - 10_folds.train_6.predict)=97.60%\n",
      "[ 2018-07-27 22:01:06,726][kfold_wrapper.log_eval_metrics] Accuracy(layer_0 - estimator_0 - 10_folds.train_7.predict)=97.36%\n",
      "[ 2018-07-27 22:01:07,556][kfold_wrapper.log_eval_metrics] Accuracy(layer_0 - estimator_0 - 10_folds.train_8.predict)=97.52%\n",
      "[ 2018-07-27 22:01:08,390][kfold_wrapper.log_eval_metrics] Accuracy(layer_0 - estimator_0 - 10_folds.train_9.predict)=98.00%\n",
      "[ 2018-07-27 22:01:08,619][kfold_wrapper.log_eval_metrics] Accuracy(layer_0 - estimator_0 - 10_folds.train_cv.predict)=97.74%\n",
      "[ 2018-07-27 22:01:08,620][kfold_wrapper.log_eval_metrics] Accuracy(layer_0 - estimator_0 - 10_folds.test.predict)=98.03%\n",
      "[ 2018-07-27 22:01:08,624][cascade_classifier.calc_accuracy] Accuracy(layer_0 - train.classifier_average)=97.74%\n",
      "[ 2018-07-27 22:01:08,625][cascade_classifier.calc_accuracy] Accuracy(layer_0 - test.classifier_average)=98.03%\n",
      "[ 2018-07-27 22:01:08,626][cascade_classifier.fit_transform] [Result][Reach Max Layer] opt_layer_num=1, accuracy_train=97.74%, accuracy_test=98.03%\n",
      "[ 2018-07-27 22:01:08,627][cascade_classifier.transform] X_groups_test.shape=[(5370, 10)]\n",
      "[ 2018-07-27 22:01:08,628][cascade_classifier.transform] group_dims=[10]\n",
      "[ 2018-07-27 22:01:08,629][cascade_classifier.transform] X_test.shape=(5370, 10)\n",
      "[ 2018-07-27 22:01:08,630][cascade_classifier.transform] [layer=0] look_indexs=[0], X_cur_test.shape=(5370, 10)\n",
      "[ 2018-07-27 22:01:10,924][cascade_classifier.fit_transform] X_groups_train.shape=[(12528, 10)],y_train.shape=(12528,),X_groups_test.shape=[(5370, 10)],y_test.shape=(5370,)\n",
      "[ 2018-07-27 22:01:10,926][cascade_classifier.fit_transform] group_dims=[10]\n",
      "[ 2018-07-27 22:01:10,926][cascade_classifier.fit_transform] group_starts=[0]\n",
      "[ 2018-07-27 22:01:10,927][cascade_classifier.fit_transform] group_ends=[10]\n",
      "[ 2018-07-27 22:01:10,928][cascade_classifier.fit_transform] X_train.shape=(12528, 10),X_test.shape=(5370, 10)\n",
      "[ 2018-07-27 22:01:10,929][cascade_classifier.fit_transform] [layer=0] look_indexs=[0], X_cur_train.shape=(12528, 10), X_cur_test.shape=(5370, 10)\n"
     ]
    },
    {
     "name": "stdout",
     "output_type": "stream",
     "text": [
      "('Test Accuracy of DeepExtratTrees = 98.026071 %', 'Layer :', 8)\n",
      "[[4885   41]\n",
      " [  65  379]]\n",
      "\n",
      "\n",
      "             precision    recall  f1-score   support\n",
      "\n",
      "        0.0       0.99      0.99      0.99      4926\n",
      "        1.0       0.90      0.85      0.88       444\n",
      "\n",
      "avg / total       0.98      0.98      0.98      5370\n",
      "\n",
      "(' Time ', '8.249', ' seconds')\n"
     ]
    },
    {
     "name": "stderr",
     "output_type": "stream",
     "text": [
      "[ 2018-07-27 22:01:11,539][kfold_wrapper.log_eval_metrics] Accuracy(layer_0 - estimator_0 - 10_folds.train_0.predict)=98.01%\n",
      "[ 2018-07-27 22:01:12,370][kfold_wrapper.log_eval_metrics] Accuracy(layer_0 - estimator_0 - 10_folds.train_1.predict)=98.01%\n",
      "[ 2018-07-27 22:01:13,209][kfold_wrapper.log_eval_metrics] Accuracy(layer_0 - estimator_0 - 10_folds.train_2.predict)=98.48%\n",
      "[ 2018-07-27 22:01:14,043][kfold_wrapper.log_eval_metrics] Accuracy(layer_0 - estimator_0 - 10_folds.train_3.predict)=97.77%\n",
      "[ 2018-07-27 22:01:14,876][kfold_wrapper.log_eval_metrics] Accuracy(layer_0 - estimator_0 - 10_folds.train_4.predict)=97.37%\n",
      "[ 2018-07-27 22:01:15,710][kfold_wrapper.log_eval_metrics] Accuracy(layer_0 - estimator_0 - 10_folds.train_5.predict)=97.92%\n",
      "[ 2018-07-27 22:01:16,549][kfold_wrapper.log_eval_metrics] Accuracy(layer_0 - estimator_0 - 10_folds.train_6.predict)=97.68%\n",
      "[ 2018-07-27 22:01:17,382][kfold_wrapper.log_eval_metrics] Accuracy(layer_0 - estimator_0 - 10_folds.train_7.predict)=97.44%\n",
      "[ 2018-07-27 22:01:18,214][kfold_wrapper.log_eval_metrics] Accuracy(layer_0 - estimator_0 - 10_folds.train_8.predict)=97.76%\n",
      "[ 2018-07-27 22:01:19,084][kfold_wrapper.log_eval_metrics] Accuracy(layer_0 - estimator_0 - 10_folds.train_9.predict)=97.92%\n",
      "[ 2018-07-27 22:01:19,314][kfold_wrapper.log_eval_metrics] Accuracy(layer_0 - estimator_0 - 10_folds.train_cv.predict)=97.84%\n",
      "[ 2018-07-27 22:01:19,315][kfold_wrapper.log_eval_metrics] Accuracy(layer_0 - estimator_0 - 10_folds.test.predict)=98.14%\n",
      "[ 2018-07-27 22:01:19,318][cascade_classifier.calc_accuracy] Accuracy(layer_0 - train.classifier_average)=97.84%\n",
      "[ 2018-07-27 22:01:19,319][cascade_classifier.calc_accuracy] Accuracy(layer_0 - test.classifier_average)=98.14%\n",
      "[ 2018-07-27 22:01:19,320][cascade_classifier.fit_transform] [Result][Reach Max Layer] opt_layer_num=1, accuracy_train=97.84%, accuracy_test=98.14%\n",
      "[ 2018-07-27 22:01:19,321][cascade_classifier.transform] X_groups_test.shape=[(5370, 10)]\n",
      "[ 2018-07-27 22:01:19,322][cascade_classifier.transform] group_dims=[10]\n",
      "[ 2018-07-27 22:01:19,322][cascade_classifier.transform] X_test.shape=(5370, 10)\n",
      "[ 2018-07-27 22:01:19,323][cascade_classifier.transform] [layer=0] look_indexs=[0], X_cur_test.shape=(5370, 10)\n",
      "[ 2018-07-27 22:01:21,610][cascade_classifier.fit_transform] X_groups_train.shape=[(12528, 10)],y_train.shape=(12528,),X_groups_test.shape=[(5370, 10)],y_test.shape=(5370,)\n",
      "[ 2018-07-27 22:01:21,611][cascade_classifier.fit_transform] group_dims=[10]\n",
      "[ 2018-07-27 22:01:21,612][cascade_classifier.fit_transform] group_starts=[0]\n",
      "[ 2018-07-27 22:01:21,613][cascade_classifier.fit_transform] group_ends=[10]\n",
      "[ 2018-07-27 22:01:21,613][cascade_classifier.fit_transform] X_train.shape=(12528, 10),X_test.shape=(5370, 10)\n",
      "[ 2018-07-27 22:01:21,615][cascade_classifier.fit_transform] [layer=0] look_indexs=[0], X_cur_train.shape=(12528, 10), X_cur_test.shape=(5370, 10)\n"
     ]
    },
    {
     "name": "stdout",
     "output_type": "stream",
     "text": [
      "('Test Accuracy of DeepExtratTrees = 98.137803 %', 'Layer :', 9)\n",
      "[[4887   39]\n",
      " [  61  383]]\n",
      "\n",
      "\n",
      "             precision    recall  f1-score   support\n",
      "\n",
      "        0.0       0.99      0.99      0.99      4926\n",
      "        1.0       0.91      0.86      0.88       444\n",
      "\n",
      "avg / total       0.98      0.98      0.98      5370\n",
      "\n",
      "(' Time ', '8.397', ' seconds')\n"
     ]
    },
    {
     "name": "stderr",
     "output_type": "stream",
     "text": [
      "[ 2018-07-27 22:01:22,219][kfold_wrapper.log_eval_metrics] Accuracy(layer_0 - estimator_0 - 10_folds.train_0.predict)=97.93%\n",
      "[ 2018-07-27 22:01:23,054][kfold_wrapper.log_eval_metrics] Accuracy(layer_0 - estimator_0 - 10_folds.train_1.predict)=97.85%\n",
      "[ 2018-07-27 22:01:23,884][kfold_wrapper.log_eval_metrics] Accuracy(layer_0 - estimator_0 - 10_folds.train_2.predict)=98.56%\n",
      "[ 2018-07-27 22:01:24,713][kfold_wrapper.log_eval_metrics] Accuracy(layer_0 - estimator_0 - 10_folds.train_3.predict)=97.37%\n",
      "[ 2018-07-27 22:01:25,426][kfold_wrapper.log_eval_metrics] Accuracy(layer_0 - estimator_0 - 10_folds.train_4.predict)=97.29%\n",
      "[ 2018-07-27 22:01:26,260][kfold_wrapper.log_eval_metrics] Accuracy(layer_0 - estimator_0 - 10_folds.train_5.predict)=97.84%\n",
      "[ 2018-07-27 22:01:27,095][kfold_wrapper.log_eval_metrics] Accuracy(layer_0 - estimator_0 - 10_folds.train_6.predict)=97.76%\n",
      "[ 2018-07-27 22:01:27,927][kfold_wrapper.log_eval_metrics] Accuracy(layer_0 - estimator_0 - 10_folds.train_7.predict)=97.44%\n",
      "[ 2018-07-27 22:01:28,757][kfold_wrapper.log_eval_metrics] Accuracy(layer_0 - estimator_0 - 10_folds.train_8.predict)=97.76%\n",
      "[ 2018-07-27 22:01:29,594][kfold_wrapper.log_eval_metrics] Accuracy(layer_0 - estimator_0 - 10_folds.train_9.predict)=98.16%\n",
      "[ 2018-07-27 22:01:29,824][kfold_wrapper.log_eval_metrics] Accuracy(layer_0 - estimator_0 - 10_folds.train_cv.predict)=97.80%\n",
      "[ 2018-07-27 22:01:29,825][kfold_wrapper.log_eval_metrics] Accuracy(layer_0 - estimator_0 - 10_folds.test.predict)=98.19%\n",
      "[ 2018-07-27 22:01:29,829][cascade_classifier.calc_accuracy] Accuracy(layer_0 - train.classifier_average)=97.80%\n",
      "[ 2018-07-27 22:01:29,830][cascade_classifier.calc_accuracy] Accuracy(layer_0 - test.classifier_average)=98.19%\n",
      "[ 2018-07-27 22:01:29,831][cascade_classifier.fit_transform] [Result][Reach Max Layer] opt_layer_num=1, accuracy_train=97.80%, accuracy_test=98.19%\n",
      "[ 2018-07-27 22:01:29,832][cascade_classifier.transform] X_groups_test.shape=[(5370, 10)]\n",
      "[ 2018-07-27 22:01:29,833][cascade_classifier.transform] group_dims=[10]\n",
      "[ 2018-07-27 22:01:29,834][cascade_classifier.transform] X_test.shape=(5370, 10)\n",
      "[ 2018-07-27 22:01:29,836][cascade_classifier.transform] [layer=0] look_indexs=[0], X_cur_test.shape=(5370, 10)\n",
      "[ 2018-07-27 22:01:32,135][cascade_classifier.fit_transform] X_groups_train.shape=[(12528, 10)],y_train.shape=(12528,),X_groups_test.shape=[(5370, 10)],y_test.shape=(5370,)\n",
      "[ 2018-07-27 22:01:32,136][cascade_classifier.fit_transform] group_dims=[10]\n",
      "[ 2018-07-27 22:01:32,137][cascade_classifier.fit_transform] group_starts=[0]\n",
      "[ 2018-07-27 22:01:32,138][cascade_classifier.fit_transform] group_ends=[10]\n",
      "[ 2018-07-27 22:01:32,139][cascade_classifier.fit_transform] X_train.shape=(12528, 10),X_test.shape=(5370, 10)\n",
      "[ 2018-07-27 22:01:32,141][cascade_classifier.fit_transform] [layer=0] look_indexs=[0], X_cur_train.shape=(12528, 10), X_cur_test.shape=(5370, 10)\n"
     ]
    },
    {
     "name": "stdout",
     "output_type": "stream",
     "text": [
      "('Test Accuracy of DeepExtratTrees = 98.193669 %', 'Layer :', 10)\n",
      "[[4895   31]\n",
      " [  66  378]]\n",
      "\n",
      "\n",
      "             precision    recall  f1-score   support\n",
      "\n",
      "        0.0       0.99      0.99      0.99      4926\n",
      "        1.0       0.92      0.85      0.89       444\n",
      "\n",
      "avg / total       0.98      0.98      0.98      5370\n",
      "\n",
      "(' Time ', '8.223', ' seconds')\n"
     ]
    },
    {
     "name": "stderr",
     "output_type": "stream",
     "text": [
      "[ 2018-07-27 22:01:32,746][kfold_wrapper.log_eval_metrics] Accuracy(layer_0 - estimator_0 - 10_folds.train_0.predict)=97.93%\n",
      "[ 2018-07-27 22:01:33,613][kfold_wrapper.log_eval_metrics] Accuracy(layer_0 - estimator_0 - 10_folds.train_1.predict)=98.33%\n",
      "[ 2018-07-27 22:01:34,444][kfold_wrapper.log_eval_metrics] Accuracy(layer_0 - estimator_0 - 10_folds.train_2.predict)=98.41%\n",
      "[ 2018-07-27 22:01:35,275][kfold_wrapper.log_eval_metrics] Accuracy(layer_0 - estimator_0 - 10_folds.train_3.predict)=97.45%\n",
      "[ 2018-07-27 22:01:35,987][kfold_wrapper.log_eval_metrics] Accuracy(layer_0 - estimator_0 - 10_folds.train_4.predict)=97.45%\n",
      "[ 2018-07-27 22:01:36,818][kfold_wrapper.log_eval_metrics] Accuracy(layer_0 - estimator_0 - 10_folds.train_5.predict)=98.16%\n",
      "[ 2018-07-27 22:01:37,648][kfold_wrapper.log_eval_metrics] Accuracy(layer_0 - estimator_0 - 10_folds.train_6.predict)=97.68%\n",
      "[ 2018-07-27 22:01:38,480][kfold_wrapper.log_eval_metrics] Accuracy(layer_0 - estimator_0 - 10_folds.train_7.predict)=98.08%\n",
      "[ 2018-07-27 22:01:39,309][kfold_wrapper.log_eval_metrics] Accuracy(layer_0 - estimator_0 - 10_folds.train_8.predict)=97.68%\n",
      "[ 2018-07-27 22:01:40,140][kfold_wrapper.log_eval_metrics] Accuracy(layer_0 - estimator_0 - 10_folds.train_9.predict)=97.68%\n",
      "[ 2018-07-27 22:01:40,372][kfold_wrapper.log_eval_metrics] Accuracy(layer_0 - estimator_0 - 10_folds.train_cv.predict)=97.88%\n",
      "[ 2018-07-27 22:01:40,373][kfold_wrapper.log_eval_metrics] Accuracy(layer_0 - estimator_0 - 10_folds.test.predict)=98.04%\n",
      "[ 2018-07-27 22:01:40,376][cascade_classifier.calc_accuracy] Accuracy(layer_0 - train.classifier_average)=97.88%\n",
      "[ 2018-07-27 22:01:40,377][cascade_classifier.calc_accuracy] Accuracy(layer_0 - test.classifier_average)=98.04%\n",
      "[ 2018-07-27 22:01:40,378][cascade_classifier.fit_transform] [Result][Reach Max Layer] opt_layer_num=1, accuracy_train=97.88%, accuracy_test=98.04%\n",
      "[ 2018-07-27 22:01:40,378][cascade_classifier.transform] X_groups_test.shape=[(5370, 10)]\n",
      "[ 2018-07-27 22:01:40,379][cascade_classifier.transform] group_dims=[10]\n",
      "[ 2018-07-27 22:01:40,380][cascade_classifier.transform] X_test.shape=(5370, 10)\n",
      "[ 2018-07-27 22:01:40,381][cascade_classifier.transform] [layer=0] look_indexs=[0], X_cur_test.shape=(5370, 10)\n",
      "[ 2018-07-27 22:01:42,697][cascade_classifier.fit_transform] X_groups_train.shape=[(12528, 10)],y_train.shape=(12528,),X_groups_test.shape=[(5370, 10)],y_test.shape=(5370,)\n",
      "[ 2018-07-27 22:01:42,698][cascade_classifier.fit_transform] group_dims=[10]\n",
      "[ 2018-07-27 22:01:42,699][cascade_classifier.fit_transform] group_starts=[0]\n",
      "[ 2018-07-27 22:01:42,699][cascade_classifier.fit_transform] group_ends=[10]\n",
      "[ 2018-07-27 22:01:42,700][cascade_classifier.fit_transform] X_train.shape=(12528, 10),X_test.shape=(5370, 10)\n",
      "[ 2018-07-27 22:01:42,701][cascade_classifier.fit_transform] [layer=0] look_indexs=[0], X_cur_train.shape=(12528, 10), X_cur_test.shape=(5370, 10)\n"
     ]
    },
    {
     "name": "stdout",
     "output_type": "stream",
     "text": [
      "('Test Accuracy of DeepExtratTrees = 98.044693 %', 'Layer :', 11)\n",
      "[[4890   36]\n",
      " [  69  375]]\n",
      "\n",
      "\n",
      "             precision    recall  f1-score   support\n",
      "\n",
      "        0.0       0.99      0.99      0.99      4926\n",
      "        1.0       0.91      0.84      0.88       444\n",
      "\n",
      "avg / total       0.98      0.98      0.98      5370\n",
      "\n",
      "(' Time ', '8.245', ' seconds')\n"
     ]
    },
    {
     "name": "stderr",
     "output_type": "stream",
     "text": [
      "[ 2018-07-27 22:01:43,311][kfold_wrapper.log_eval_metrics] Accuracy(layer_0 - estimator_0 - 10_folds.train_0.predict)=97.69%\n",
      "[ 2018-07-27 22:01:44,146][kfold_wrapper.log_eval_metrics] Accuracy(layer_0 - estimator_0 - 10_folds.train_1.predict)=98.17%\n",
      "[ 2018-07-27 22:01:44,860][kfold_wrapper.log_eval_metrics] Accuracy(layer_0 - estimator_0 - 10_folds.train_2.predict)=98.33%\n",
      "[ 2018-07-27 22:01:45,693][kfold_wrapper.log_eval_metrics] Accuracy(layer_0 - estimator_0 - 10_folds.train_3.predict)=97.53%\n",
      "[ 2018-07-27 22:01:46,525][kfold_wrapper.log_eval_metrics] Accuracy(layer_0 - estimator_0 - 10_folds.train_4.predict)=97.13%\n",
      "[ 2018-07-27 22:01:47,358][kfold_wrapper.log_eval_metrics] Accuracy(layer_0 - estimator_0 - 10_folds.train_5.predict)=97.92%\n",
      "[ 2018-07-27 22:01:48,184][kfold_wrapper.log_eval_metrics] Accuracy(layer_0 - estimator_0 - 10_folds.train_6.predict)=97.76%\n",
      "[ 2018-07-27 22:01:49,015][kfold_wrapper.log_eval_metrics] Accuracy(layer_0 - estimator_0 - 10_folds.train_7.predict)=97.68%\n",
      "[ 2018-07-27 22:01:49,847][kfold_wrapper.log_eval_metrics] Accuracy(layer_0 - estimator_0 - 10_folds.train_8.predict)=97.60%\n",
      "[ 2018-07-27 22:01:50,808][kfold_wrapper.log_eval_metrics] Accuracy(layer_0 - estimator_0 - 10_folds.train_9.predict)=98.08%\n",
      "[ 2018-07-27 22:01:51,043][kfold_wrapper.log_eval_metrics] Accuracy(layer_0 - estimator_0 - 10_folds.train_cv.predict)=97.79%\n",
      "[ 2018-07-27 22:01:51,045][kfold_wrapper.log_eval_metrics] Accuracy(layer_0 - estimator_0 - 10_folds.test.predict)=98.08%\n",
      "[ 2018-07-27 22:01:51,048][cascade_classifier.calc_accuracy] Accuracy(layer_0 - train.classifier_average)=97.79%\n",
      "[ 2018-07-27 22:01:51,049][cascade_classifier.calc_accuracy] Accuracy(layer_0 - test.classifier_average)=98.08%\n",
      "[ 2018-07-27 22:01:51,049][cascade_classifier.fit_transform] [Result][Reach Max Layer] opt_layer_num=1, accuracy_train=97.79%, accuracy_test=98.08%\n",
      "[ 2018-07-27 22:01:51,050][cascade_classifier.transform] X_groups_test.shape=[(5370, 10)]\n",
      "[ 2018-07-27 22:01:51,051][cascade_classifier.transform] group_dims=[10]\n",
      "[ 2018-07-27 22:01:51,052][cascade_classifier.transform] X_test.shape=(5370, 10)\n",
      "[ 2018-07-27 22:01:51,053][cascade_classifier.transform] [layer=0] look_indexs=[0], X_cur_test.shape=(5370, 10)\n",
      "[ 2018-07-27 22:01:53,385][cascade_classifier.fit_transform] X_groups_train.shape=[(12528, 10)],y_train.shape=(12528,),X_groups_test.shape=[(5370, 10)],y_test.shape=(5370,)\n",
      "[ 2018-07-27 22:01:53,386][cascade_classifier.fit_transform] group_dims=[10]\n",
      "[ 2018-07-27 22:01:53,387][cascade_classifier.fit_transform] group_starts=[0]\n",
      "[ 2018-07-27 22:01:53,388][cascade_classifier.fit_transform] group_ends=[10]\n",
      "[ 2018-07-27 22:01:53,388][cascade_classifier.fit_transform] X_train.shape=(12528, 10),X_test.shape=(5370, 10)\n",
      "[ 2018-07-27 22:01:53,390][cascade_classifier.fit_transform] [layer=0] look_indexs=[0], X_cur_train.shape=(12528, 10), X_cur_test.shape=(5370, 10)\n"
     ]
    },
    {
     "name": "stdout",
     "output_type": "stream",
     "text": [
      "('Test Accuracy of DeepExtratTrees = 98.081937 %', 'Layer :', 12)\n",
      "[[4892   34]\n",
      " [  69  375]]\n",
      "\n",
      "\n",
      "             precision    recall  f1-score   support\n",
      "\n",
      "        0.0       0.99      0.99      0.99      4926\n",
      "        1.0       0.92      0.84      0.88       444\n",
      "\n",
      "avg / total       0.98      0.98      0.98      5370\n",
      "\n",
      "(' Time ', '8.355', ' seconds')\n"
     ]
    },
    {
     "name": "stderr",
     "output_type": "stream",
     "text": [
      "[ 2018-07-27 22:01:54,142][kfold_wrapper.log_eval_metrics] Accuracy(layer_0 - estimator_0 - 10_folds.train_0.predict)=98.09%\n",
      "[ 2018-07-27 22:01:55,155][kfold_wrapper.log_eval_metrics] Accuracy(layer_0 - estimator_0 - 10_folds.train_1.predict)=98.01%\n",
      "[ 2018-07-27 22:01:56,120][kfold_wrapper.log_eval_metrics] Accuracy(layer_0 - estimator_0 - 10_folds.train_2.predict)=98.25%\n",
      "[ 2018-07-27 22:01:56,961][kfold_wrapper.log_eval_metrics] Accuracy(layer_0 - estimator_0 - 10_folds.train_3.predict)=97.45%\n",
      "[ 2018-07-27 22:01:57,789][kfold_wrapper.log_eval_metrics] Accuracy(layer_0 - estimator_0 - 10_folds.train_4.predict)=97.29%\n",
      "[ 2018-07-27 22:01:58,618][kfold_wrapper.log_eval_metrics] Accuracy(layer_0 - estimator_0 - 10_folds.train_5.predict)=98.00%\n",
      "[ 2018-07-27 22:01:59,464][kfold_wrapper.log_eval_metrics] Accuracy(layer_0 - estimator_0 - 10_folds.train_6.predict)=97.92%\n",
      "[ 2018-07-27 22:02:00,297][kfold_wrapper.log_eval_metrics] Accuracy(layer_0 - estimator_0 - 10_folds.train_7.predict)=97.44%\n",
      "[ 2018-07-27 22:02:01,126][kfold_wrapper.log_eval_metrics] Accuracy(layer_0 - estimator_0 - 10_folds.train_8.predict)=97.92%\n",
      "[ 2018-07-27 22:02:01,847][kfold_wrapper.log_eval_metrics] Accuracy(layer_0 - estimator_0 - 10_folds.train_9.predict)=97.84%\n",
      "[ 2018-07-27 22:02:02,116][kfold_wrapper.log_eval_metrics] Accuracy(layer_0 - estimator_0 - 10_folds.train_cv.predict)=97.82%\n",
      "[ 2018-07-27 22:02:02,117][kfold_wrapper.log_eval_metrics] Accuracy(layer_0 - estimator_0 - 10_folds.test.predict)=98.16%\n",
      "[ 2018-07-27 22:02:02,120][cascade_classifier.calc_accuracy] Accuracy(layer_0 - train.classifier_average)=97.82%\n",
      "[ 2018-07-27 22:02:02,121][cascade_classifier.calc_accuracy] Accuracy(layer_0 - test.classifier_average)=98.16%\n",
      "[ 2018-07-27 22:02:02,122][cascade_classifier.fit_transform] [Result][Reach Max Layer] opt_layer_num=1, accuracy_train=97.82%, accuracy_test=98.16%\n",
      "[ 2018-07-27 22:02:02,123][cascade_classifier.transform] X_groups_test.shape=[(5370, 10)]\n",
      "[ 2018-07-27 22:02:02,124][cascade_classifier.transform] group_dims=[10]\n",
      "[ 2018-07-27 22:02:02,125][cascade_classifier.transform] X_test.shape=(5370, 10)\n",
      "[ 2018-07-27 22:02:02,126][cascade_classifier.transform] [layer=0] look_indexs=[0], X_cur_test.shape=(5370, 10)\n",
      "[ 2018-07-27 22:02:04,419][cascade_classifier.fit_transform] X_groups_train.shape=[(12528, 10)],y_train.shape=(12528,),X_groups_test.shape=[(5370, 10)],y_test.shape=(5370,)\n",
      "[ 2018-07-27 22:02:04,420][cascade_classifier.fit_transform] group_dims=[10]\n",
      "[ 2018-07-27 22:02:04,420][cascade_classifier.fit_transform] group_starts=[0]\n",
      "[ 2018-07-27 22:02:04,421][cascade_classifier.fit_transform] group_ends=[10]\n",
      "[ 2018-07-27 22:02:04,422][cascade_classifier.fit_transform] X_train.shape=(12528, 10),X_test.shape=(5370, 10)\n",
      "[ 2018-07-27 22:02:04,423][cascade_classifier.fit_transform] [layer=0] look_indexs=[0], X_cur_train.shape=(12528, 10), X_cur_test.shape=(5370, 10)\n"
     ]
    },
    {
     "name": "stdout",
     "output_type": "stream",
     "text": [
      "('Test Accuracy of DeepExtratTrees = 98.137803 %', 'Layer :', 13)\n",
      "[[4893   33]\n",
      " [  67  377]]\n",
      "\n",
      "\n",
      "             precision    recall  f1-score   support\n",
      "\n",
      "        0.0       0.99      0.99      0.99      4926\n",
      "        1.0       0.92      0.85      0.88       444\n",
      "\n",
      "avg / total       0.98      0.98      0.98      5370\n",
      "\n",
      "(' Time ', '8.739', ' seconds')\n"
     ]
    },
    {
     "name": "stderr",
     "output_type": "stream",
     "text": [
      "[ 2018-07-27 22:02:05,044][kfold_wrapper.log_eval_metrics] Accuracy(layer_0 - estimator_0 - 10_folds.train_0.predict)=97.93%\n",
      "[ 2018-07-27 22:02:05,875][kfold_wrapper.log_eval_metrics] Accuracy(layer_0 - estimator_0 - 10_folds.train_1.predict)=98.09%\n",
      "[ 2018-07-27 22:02:06,709][kfold_wrapper.log_eval_metrics] Accuracy(layer_0 - estimator_0 - 10_folds.train_2.predict)=98.64%\n",
      "[ 2018-07-27 22:02:07,678][kfold_wrapper.log_eval_metrics] Accuracy(layer_0 - estimator_0 - 10_folds.train_3.predict)=97.37%\n",
      "[ 2018-07-27 22:02:08,645][kfold_wrapper.log_eval_metrics] Accuracy(layer_0 - estimator_0 - 10_folds.train_4.predict)=97.53%\n",
      "[ 2018-07-27 22:02:09,605][kfold_wrapper.log_eval_metrics] Accuracy(layer_0 - estimator_0 - 10_folds.train_5.predict)=98.16%\n",
      "[ 2018-07-27 22:02:10,575][kfold_wrapper.log_eval_metrics] Accuracy(layer_0 - estimator_0 - 10_folds.train_6.predict)=97.84%\n",
      "[ 2018-07-27 22:02:11,549][kfold_wrapper.log_eval_metrics] Accuracy(layer_0 - estimator_0 - 10_folds.train_7.predict)=97.84%\n",
      "[ 2018-07-27 22:02:12,515][kfold_wrapper.log_eval_metrics] Accuracy(layer_0 - estimator_0 - 10_folds.train_8.predict)=97.76%\n",
      "[ 2018-07-27 22:02:13,485][kfold_wrapper.log_eval_metrics] Accuracy(layer_0 - estimator_0 - 10_folds.train_9.predict)=98.24%\n",
      "[ 2018-07-27 22:02:13,719][kfold_wrapper.log_eval_metrics] Accuracy(layer_0 - estimator_0 - 10_folds.train_cv.predict)=97.94%\n",
      "[ 2018-07-27 22:02:13,720][kfold_wrapper.log_eval_metrics] Accuracy(layer_0 - estimator_0 - 10_folds.test.predict)=97.99%\n",
      "[ 2018-07-27 22:02:13,724][cascade_classifier.calc_accuracy] Accuracy(layer_0 - train.classifier_average)=97.94%\n",
      "[ 2018-07-27 22:02:13,725][cascade_classifier.calc_accuracy] Accuracy(layer_0 - test.classifier_average)=97.99%\n",
      "[ 2018-07-27 22:02:13,726][cascade_classifier.fit_transform] [Result][Reach Max Layer] opt_layer_num=1, accuracy_train=97.94%, accuracy_test=97.99%\n",
      "[ 2018-07-27 22:02:13,727][cascade_classifier.transform] X_groups_test.shape=[(5370, 10)]\n",
      "[ 2018-07-27 22:02:13,728][cascade_classifier.transform] group_dims=[10]\n",
      "[ 2018-07-27 22:02:13,729][cascade_classifier.transform] X_test.shape=(5370, 10)\n",
      "[ 2018-07-27 22:02:13,730][cascade_classifier.transform] [layer=0] look_indexs=[0], X_cur_test.shape=(5370, 10)\n",
      "[ 2018-07-27 22:02:16,072][cascade_classifier.fit_transform] X_groups_train.shape=[(12528, 10)],y_train.shape=(12528,),X_groups_test.shape=[(5370, 10)],y_test.shape=(5370,)\n",
      "[ 2018-07-27 22:02:16,074][cascade_classifier.fit_transform] group_dims=[10]\n",
      "[ 2018-07-27 22:02:16,075][cascade_classifier.fit_transform] group_starts=[0]\n",
      "[ 2018-07-27 22:02:16,076][cascade_classifier.fit_transform] group_ends=[10]\n",
      "[ 2018-07-27 22:02:16,077][cascade_classifier.fit_transform] X_train.shape=(12528, 10),X_test.shape=(5370, 10)\n",
      "[ 2018-07-27 22:02:16,078][cascade_classifier.fit_transform] [layer=0] look_indexs=[0], X_cur_train.shape=(12528, 10), X_cur_test.shape=(5370, 10)\n"
     ]
    },
    {
     "name": "stdout",
     "output_type": "stream",
     "text": [
      "('Test Accuracy of DeepExtratTrees = 97.988827 %', 'Layer :', 14)\n",
      "[[4887   39]\n",
      " [  69  375]]\n",
      "\n",
      "\n",
      "             precision    recall  f1-score   support\n",
      "\n",
      "        0.0       0.99      0.99      0.99      4926\n",
      "        1.0       0.91      0.84      0.87       444\n",
      "\n",
      "avg / total       0.98      0.98      0.98      5370\n",
      "\n",
      "(' Time ', '9.31', ' seconds')\n"
     ]
    },
    {
     "name": "stderr",
     "output_type": "stream",
     "text": [
      "[ 2018-07-27 22:02:16,812][kfold_wrapper.log_eval_metrics] Accuracy(layer_0 - estimator_0 - 10_folds.train_0.predict)=98.25%\n",
      "[ 2018-07-27 22:02:17,779][kfold_wrapper.log_eval_metrics] Accuracy(layer_0 - estimator_0 - 10_folds.train_1.predict)=98.09%\n",
      "[ 2018-07-27 22:02:18,747][kfold_wrapper.log_eval_metrics] Accuracy(layer_0 - estimator_0 - 10_folds.train_2.predict)=98.41%\n",
      "[ 2018-07-27 22:02:19,756][kfold_wrapper.log_eval_metrics] Accuracy(layer_0 - estimator_0 - 10_folds.train_3.predict)=97.53%\n",
      "[ 2018-07-27 22:02:20,721][kfold_wrapper.log_eval_metrics] Accuracy(layer_0 - estimator_0 - 10_folds.train_4.predict)=97.29%\n",
      "[ 2018-07-27 22:02:21,687][kfold_wrapper.log_eval_metrics] Accuracy(layer_0 - estimator_0 - 10_folds.train_5.predict)=98.16%\n",
      "[ 2018-07-27 22:02:22,662][kfold_wrapper.log_eval_metrics] Accuracy(layer_0 - estimator_0 - 10_folds.train_6.predict)=97.76%\n",
      "[ 2018-07-27 22:02:23,633][kfold_wrapper.log_eval_metrics] Accuracy(layer_0 - estimator_0 - 10_folds.train_7.predict)=97.76%\n",
      "[ 2018-07-27 22:02:24,595][kfold_wrapper.log_eval_metrics] Accuracy(layer_0 - estimator_0 - 10_folds.train_8.predict)=97.92%\n",
      "[ 2018-07-27 22:02:25,555][kfold_wrapper.log_eval_metrics] Accuracy(layer_0 - estimator_0 - 10_folds.train_9.predict)=98.08%\n",
      "[ 2018-07-27 22:02:25,791][kfold_wrapper.log_eval_metrics] Accuracy(layer_0 - estimator_0 - 10_folds.train_cv.predict)=97.92%\n",
      "[ 2018-07-27 22:02:25,792][kfold_wrapper.log_eval_metrics] Accuracy(layer_0 - estimator_0 - 10_folds.test.predict)=97.99%\n",
      "[ 2018-07-27 22:02:25,795][cascade_classifier.calc_accuracy] Accuracy(layer_0 - train.classifier_average)=97.92%\n",
      "[ 2018-07-27 22:02:25,797][cascade_classifier.calc_accuracy] Accuracy(layer_0 - test.classifier_average)=97.99%\n",
      "[ 2018-07-27 22:02:25,797][cascade_classifier.fit_transform] [Result][Reach Max Layer] opt_layer_num=1, accuracy_train=97.92%, accuracy_test=97.99%\n",
      "[ 2018-07-27 22:02:25,798][cascade_classifier.transform] X_groups_test.shape=[(5370, 10)]\n",
      "[ 2018-07-27 22:02:25,799][cascade_classifier.transform] group_dims=[10]\n",
      "[ 2018-07-27 22:02:25,800][cascade_classifier.transform] X_test.shape=(5370, 10)\n",
      "[ 2018-07-27 22:02:25,801][cascade_classifier.transform] [layer=0] look_indexs=[0], X_cur_test.shape=(5370, 10)\n",
      "[ 2018-07-27 22:02:28,141][cascade_classifier.fit_transform] X_groups_train.shape=[(12528, 10)],y_train.shape=(12528,),X_groups_test.shape=[(5370, 10)],y_test.shape=(5370,)\n",
      "[ 2018-07-27 22:02:28,143][cascade_classifier.fit_transform] group_dims=[10]\n",
      "[ 2018-07-27 22:02:28,143][cascade_classifier.fit_transform] group_starts=[0]\n",
      "[ 2018-07-27 22:02:28,144][cascade_classifier.fit_transform] group_ends=[10]\n",
      "[ 2018-07-27 22:02:28,145][cascade_classifier.fit_transform] X_train.shape=(12528, 10),X_test.shape=(5370, 10)\n",
      "[ 2018-07-27 22:02:28,146][cascade_classifier.fit_transform] [layer=0] look_indexs=[0], X_cur_train.shape=(12528, 10), X_cur_test.shape=(5370, 10)\n"
     ]
    },
    {
     "name": "stdout",
     "output_type": "stream",
     "text": [
      "('Test Accuracy of DeepExtratTrees = 97.988827 %', 'Layer :', 15)\n",
      "[[4886   40]\n",
      " [  68  376]]\n",
      "\n",
      "\n",
      "             precision    recall  f1-score   support\n",
      "\n",
      "        0.0       0.99      0.99      0.99      4926\n",
      "        1.0       0.90      0.85      0.87       444\n",
      "\n",
      "avg / total       0.98      0.98      0.98      5370\n",
      "\n",
      "(' Time ', '9.727', ' seconds')\n"
     ]
    },
    {
     "name": "stderr",
     "output_type": "stream",
     "text": [
      "[ 2018-07-27 22:02:28,875][kfold_wrapper.log_eval_metrics] Accuracy(layer_0 - estimator_0 - 10_folds.train_0.predict)=98.01%\n",
      "[ 2018-07-27 22:02:29,868][kfold_wrapper.log_eval_metrics] Accuracy(layer_0 - estimator_0 - 10_folds.train_1.predict)=98.17%\n",
      "[ 2018-07-27 22:02:30,829][kfold_wrapper.log_eval_metrics] Accuracy(layer_0 - estimator_0 - 10_folds.train_2.predict)=98.25%\n",
      "[ 2018-07-27 22:02:31,784][kfold_wrapper.log_eval_metrics] Accuracy(layer_0 - estimator_0 - 10_folds.train_3.predict)=97.29%\n",
      "[ 2018-07-27 22:02:32,747][kfold_wrapper.log_eval_metrics] Accuracy(layer_0 - estimator_0 - 10_folds.train_4.predict)=97.13%\n",
      "[ 2018-07-27 22:02:33,713][kfold_wrapper.log_eval_metrics] Accuracy(layer_0 - estimator_0 - 10_folds.train_5.predict)=97.92%\n",
      "[ 2018-07-27 22:02:34,672][kfold_wrapper.log_eval_metrics] Accuracy(layer_0 - estimator_0 - 10_folds.train_6.predict)=97.60%\n",
      "[ 2018-07-27 22:02:35,625][kfold_wrapper.log_eval_metrics] Accuracy(layer_0 - estimator_0 - 10_folds.train_7.predict)=97.44%\n",
      "[ 2018-07-27 22:02:36,579][kfold_wrapper.log_eval_metrics] Accuracy(layer_0 - estimator_0 - 10_folds.train_8.predict)=97.92%\n",
      "[ 2018-07-27 22:02:37,549][kfold_wrapper.log_eval_metrics] Accuracy(layer_0 - estimator_0 - 10_folds.train_9.predict)=97.84%\n",
      "[ 2018-07-27 22:02:37,782][kfold_wrapper.log_eval_metrics] Accuracy(layer_0 - estimator_0 - 10_folds.train_cv.predict)=97.76%\n",
      "[ 2018-07-27 22:02:37,783][kfold_wrapper.log_eval_metrics] Accuracy(layer_0 - estimator_0 - 10_folds.test.predict)=98.08%\n",
      "[ 2018-07-27 22:02:37,786][cascade_classifier.calc_accuracy] Accuracy(layer_0 - train.classifier_average)=97.76%\n",
      "[ 2018-07-27 22:02:37,787][cascade_classifier.calc_accuracy] Accuracy(layer_0 - test.classifier_average)=98.08%\n",
      "[ 2018-07-27 22:02:37,788][cascade_classifier.fit_transform] [Result][Reach Max Layer] opt_layer_num=1, accuracy_train=97.76%, accuracy_test=98.08%\n",
      "[ 2018-07-27 22:02:37,789][cascade_classifier.transform] X_groups_test.shape=[(5370, 10)]\n",
      "[ 2018-07-27 22:02:37,790][cascade_classifier.transform] group_dims=[10]\n",
      "[ 2018-07-27 22:02:37,791][cascade_classifier.transform] X_test.shape=(5370, 10)\n",
      "[ 2018-07-27 22:02:37,792][cascade_classifier.transform] [layer=0] look_indexs=[0], X_cur_test.shape=(5370, 10)\n",
      "[ 2018-07-27 22:02:40,129][cascade_classifier.fit_transform] X_groups_train.shape=[(12528, 10)],y_train.shape=(12528,),X_groups_test.shape=[(5370, 10)],y_test.shape=(5370,)\n",
      "[ 2018-07-27 22:02:40,130][cascade_classifier.fit_transform] group_dims=[10]\n",
      "[ 2018-07-27 22:02:40,131][cascade_classifier.fit_transform] group_starts=[0]\n",
      "[ 2018-07-27 22:02:40,131][cascade_classifier.fit_transform] group_ends=[10]\n",
      "[ 2018-07-27 22:02:40,132][cascade_classifier.fit_transform] X_train.shape=(12528, 10),X_test.shape=(5370, 10)\n",
      "[ 2018-07-27 22:02:40,133][cascade_classifier.fit_transform] [layer=0] look_indexs=[0], X_cur_train.shape=(12528, 10), X_cur_test.shape=(5370, 10)\n"
     ]
    },
    {
     "name": "stdout",
     "output_type": "stream",
     "text": [
      "('Test Accuracy of DeepExtratTrees = 98.081937 %', 'Layer :', 16)\n",
      "[[4887   39]\n",
      " [  64  380]]\n",
      "\n",
      "\n",
      "             precision    recall  f1-score   support\n",
      "\n",
      "        0.0       0.99      0.99      0.99      4926\n",
      "        1.0       0.91      0.86      0.88       444\n",
      "\n",
      "avg / total       0.98      0.98      0.98      5370\n",
      "\n",
      "(' Time ', '9.649', ' seconds')\n"
     ]
    },
    {
     "name": "stderr",
     "output_type": "stream",
     "text": [
      "[ 2018-07-27 22:02:40,902][kfold_wrapper.log_eval_metrics] Accuracy(layer_0 - estimator_0 - 10_folds.train_0.predict)=97.93%\n",
      "[ 2018-07-27 22:02:41,932][kfold_wrapper.log_eval_metrics] Accuracy(layer_0 - estimator_0 - 10_folds.train_1.predict)=97.93%\n",
      "[ 2018-07-27 22:02:43,143][kfold_wrapper.log_eval_metrics] Accuracy(layer_0 - estimator_0 - 10_folds.train_2.predict)=98.80%\n",
      "[ 2018-07-27 22:02:44,325][kfold_wrapper.log_eval_metrics] Accuracy(layer_0 - estimator_0 - 10_folds.train_3.predict)=97.61%\n",
      "[ 2018-07-27 22:02:45,298][kfold_wrapper.log_eval_metrics] Accuracy(layer_0 - estimator_0 - 10_folds.train_4.predict)=97.45%\n",
      "[ 2018-07-27 22:02:46,250][kfold_wrapper.log_eval_metrics] Accuracy(layer_0 - estimator_0 - 10_folds.train_5.predict)=98.24%\n",
      "[ 2018-07-27 22:02:47,220][kfold_wrapper.log_eval_metrics] Accuracy(layer_0 - estimator_0 - 10_folds.train_6.predict)=97.60%\n",
      "[ 2018-07-27 22:02:48,199][kfold_wrapper.log_eval_metrics] Accuracy(layer_0 - estimator_0 - 10_folds.train_7.predict)=97.44%\n",
      "[ 2018-07-27 22:02:49,174][kfold_wrapper.log_eval_metrics] Accuracy(layer_0 - estimator_0 - 10_folds.train_8.predict)=97.92%\n",
      "[ 2018-07-27 22:02:50,140][kfold_wrapper.log_eval_metrics] Accuracy(layer_0 - estimator_0 - 10_folds.train_9.predict)=98.16%\n",
      "[ 2018-07-27 22:02:50,376][kfold_wrapper.log_eval_metrics] Accuracy(layer_0 - estimator_0 - 10_folds.train_cv.predict)=97.91%\n",
      "[ 2018-07-27 22:02:50,377][kfold_wrapper.log_eval_metrics] Accuracy(layer_0 - estimator_0 - 10_folds.test.predict)=97.95%\n",
      "[ 2018-07-27 22:02:50,381][cascade_classifier.calc_accuracy] Accuracy(layer_0 - train.classifier_average)=97.91%\n",
      "[ 2018-07-27 22:02:50,382][cascade_classifier.calc_accuracy] Accuracy(layer_0 - test.classifier_average)=97.95%\n",
      "[ 2018-07-27 22:02:50,383][cascade_classifier.fit_transform] [Result][Reach Max Layer] opt_layer_num=1, accuracy_train=97.91%, accuracy_test=97.95%\n",
      "[ 2018-07-27 22:02:50,384][cascade_classifier.transform] X_groups_test.shape=[(5370, 10)]\n",
      "[ 2018-07-27 22:02:50,385][cascade_classifier.transform] group_dims=[10]\n",
      "[ 2018-07-27 22:02:50,386][cascade_classifier.transform] X_test.shape=(5370, 10)\n",
      "[ 2018-07-27 22:02:50,387][cascade_classifier.transform] [layer=0] look_indexs=[0], X_cur_test.shape=(5370, 10)\n",
      "[ 2018-07-27 22:02:52,782][cascade_classifier.fit_transform] X_groups_train.shape=[(12528, 10)],y_train.shape=(12528,),X_groups_test.shape=[(5370, 10)],y_test.shape=(5370,)\n",
      "[ 2018-07-27 22:02:52,783][cascade_classifier.fit_transform] group_dims=[10]\n",
      "[ 2018-07-27 22:02:52,784][cascade_classifier.fit_transform] group_starts=[0]\n",
      "[ 2018-07-27 22:02:52,785][cascade_classifier.fit_transform] group_ends=[10]\n",
      "[ 2018-07-27 22:02:52,786][cascade_classifier.fit_transform] X_train.shape=(12528, 10),X_test.shape=(5370, 10)\n",
      "[ 2018-07-27 22:02:52,787][cascade_classifier.fit_transform] [layer=0] look_indexs=[0], X_cur_train.shape=(12528, 10), X_cur_test.shape=(5370, 10)\n"
     ]
    },
    {
     "name": "stdout",
     "output_type": "stream",
     "text": [
      "('Test Accuracy of DeepExtratTrees = 97.951583 %', 'Layer :', 17)\n",
      "[[4884   42]\n",
      " [  68  376]]\n",
      "\n",
      "\n",
      "             precision    recall  f1-score   support\n",
      "\n",
      "        0.0       0.99      0.99      0.99      4926\n",
      "        1.0       0.90      0.85      0.87       444\n",
      "\n",
      "avg / total       0.98      0.98      0.98      5370\n",
      "\n",
      "(' Time ', '10.256', ' seconds')\n"
     ]
    },
    {
     "name": "stderr",
     "output_type": "stream",
     "text": [
      "[ 2018-07-27 22:02:53,533][kfold_wrapper.log_eval_metrics] Accuracy(layer_0 - estimator_0 - 10_folds.train_0.predict)=98.01%\n",
      "[ 2018-07-27 22:02:54,523][kfold_wrapper.log_eval_metrics] Accuracy(layer_0 - estimator_0 - 10_folds.train_1.predict)=98.09%\n",
      "[ 2018-07-27 22:02:55,503][kfold_wrapper.log_eval_metrics] Accuracy(layer_0 - estimator_0 - 10_folds.train_2.predict)=98.48%\n",
      "[ 2018-07-27 22:02:56,529][kfold_wrapper.log_eval_metrics] Accuracy(layer_0 - estimator_0 - 10_folds.train_3.predict)=97.37%\n",
      "[ 2018-07-27 22:02:57,494][kfold_wrapper.log_eval_metrics] Accuracy(layer_0 - estimator_0 - 10_folds.train_4.predict)=96.97%\n",
      "[ 2018-07-27 22:02:58,473][kfold_wrapper.log_eval_metrics] Accuracy(layer_0 - estimator_0 - 10_folds.train_5.predict)=98.16%\n",
      "[ 2018-07-27 22:02:59,476][kfold_wrapper.log_eval_metrics] Accuracy(layer_0 - estimator_0 - 10_folds.train_6.predict)=97.84%\n",
      "[ 2018-07-27 22:03:00,430][kfold_wrapper.log_eval_metrics] Accuracy(layer_0 - estimator_0 - 10_folds.train_7.predict)=97.52%\n",
      "[ 2018-07-27 22:03:01,405][kfold_wrapper.log_eval_metrics] Accuracy(layer_0 - estimator_0 - 10_folds.train_8.predict)=98.00%\n",
      "[ 2018-07-27 22:03:02,367][kfold_wrapper.log_eval_metrics] Accuracy(layer_0 - estimator_0 - 10_folds.train_9.predict)=98.24%\n",
      "[ 2018-07-27 22:03:02,600][kfold_wrapper.log_eval_metrics] Accuracy(layer_0 - estimator_0 - 10_folds.train_cv.predict)=97.87%\n",
      "[ 2018-07-27 22:03:02,601][kfold_wrapper.log_eval_metrics] Accuracy(layer_0 - estimator_0 - 10_folds.test.predict)=98.06%\n",
      "[ 2018-07-27 22:03:02,605][cascade_classifier.calc_accuracy] Accuracy(layer_0 - train.classifier_average)=97.87%\n",
      "[ 2018-07-27 22:03:02,605][cascade_classifier.calc_accuracy] Accuracy(layer_0 - test.classifier_average)=98.06%\n",
      "[ 2018-07-27 22:03:02,606][cascade_classifier.fit_transform] [Result][Reach Max Layer] opt_layer_num=1, accuracy_train=97.87%, accuracy_test=98.06%\n",
      "[ 2018-07-27 22:03:02,607][cascade_classifier.transform] X_groups_test.shape=[(5370, 10)]\n",
      "[ 2018-07-27 22:03:02,608][cascade_classifier.transform] group_dims=[10]\n",
      "[ 2018-07-27 22:03:02,609][cascade_classifier.transform] X_test.shape=(5370, 10)\n",
      "[ 2018-07-27 22:03:02,610][cascade_classifier.transform] [layer=0] look_indexs=[0], X_cur_test.shape=(5370, 10)\n",
      "[ 2018-07-27 22:03:04,946][cascade_classifier.fit_transform] X_groups_train.shape=[(12528, 10)],y_train.shape=(12528,),X_groups_test.shape=[(5370, 10)],y_test.shape=(5370,)\n",
      "[ 2018-07-27 22:03:04,947][cascade_classifier.fit_transform] group_dims=[10]\n",
      "[ 2018-07-27 22:03:04,948][cascade_classifier.fit_transform] group_starts=[0]\n",
      "[ 2018-07-27 22:03:04,949][cascade_classifier.fit_transform] group_ends=[10]\n",
      "[ 2018-07-27 22:03:04,950][cascade_classifier.fit_transform] X_train.shape=(12528, 10),X_test.shape=(5370, 10)\n",
      "[ 2018-07-27 22:03:04,951][cascade_classifier.fit_transform] [layer=0] look_indexs=[0], X_cur_train.shape=(12528, 10), X_cur_test.shape=(5370, 10)\n"
     ]
    },
    {
     "name": "stdout",
     "output_type": "stream",
     "text": [
      "('Test Accuracy of DeepExtratTrees = 98.063315 %', 'Layer :', 18)\n",
      "[[4890   36]\n",
      " [  68  376]]\n",
      "\n",
      "\n",
      "             precision    recall  f1-score   support\n",
      "\n",
      "        0.0       0.99      0.99      0.99      4926\n",
      "        1.0       0.91      0.85      0.88       444\n",
      "\n",
      "avg / total       0.98      0.98      0.98      5370\n",
      "\n",
      "(' Time ', '9.826', ' seconds')\n"
     ]
    },
    {
     "name": "stderr",
     "output_type": "stream",
     "text": [
      "[ 2018-07-27 22:03:05,694][kfold_wrapper.log_eval_metrics] Accuracy(layer_0 - estimator_0 - 10_folds.train_0.predict)=98.17%\n",
      "[ 2018-07-27 22:03:06,648][kfold_wrapper.log_eval_metrics] Accuracy(layer_0 - estimator_0 - 10_folds.train_1.predict)=98.01%\n",
      "[ 2018-07-27 22:03:07,589][kfold_wrapper.log_eval_metrics] Accuracy(layer_0 - estimator_0 - 10_folds.train_2.predict)=98.56%\n",
      "[ 2018-07-27 22:03:09,361][kfold_wrapper.log_eval_metrics] Accuracy(layer_0 - estimator_0 - 10_folds.train_3.predict)=97.29%\n",
      "[ 2018-07-27 22:03:11,245][kfold_wrapper.log_eval_metrics] Accuracy(layer_0 - estimator_0 - 10_folds.train_4.predict)=97.13%\n",
      "[ 2018-07-27 22:03:12,297][kfold_wrapper.log_eval_metrics] Accuracy(layer_0 - estimator_0 - 10_folds.train_5.predict)=98.32%\n",
      "[ 2018-07-27 22:03:13,746][kfold_wrapper.log_eval_metrics] Accuracy(layer_0 - estimator_0 - 10_folds.train_6.predict)=98.16%\n",
      "[ 2018-07-27 22:03:15,353][kfold_wrapper.log_eval_metrics] Accuracy(layer_0 - estimator_0 - 10_folds.train_7.predict)=97.84%\n",
      "[ 2018-07-27 22:03:16,800][kfold_wrapper.log_eval_metrics] Accuracy(layer_0 - estimator_0 - 10_folds.train_8.predict)=98.00%\n",
      "[ 2018-07-27 22:03:17,877][kfold_wrapper.log_eval_metrics] Accuracy(layer_0 - estimator_0 - 10_folds.train_9.predict)=98.00%\n",
      "[ 2018-07-27 22:03:18,345][kfold_wrapper.log_eval_metrics] Accuracy(layer_0 - estimator_0 - 10_folds.train_cv.predict)=97.95%\n",
      "[ 2018-07-27 22:03:18,347][kfold_wrapper.log_eval_metrics] Accuracy(layer_0 - estimator_0 - 10_folds.test.predict)=98.08%\n",
      "[ 2018-07-27 22:03:18,354][cascade_classifier.calc_accuracy] Accuracy(layer_0 - train.classifier_average)=97.95%\n",
      "[ 2018-07-27 22:03:18,355][cascade_classifier.calc_accuracy] Accuracy(layer_0 - test.classifier_average)=98.08%\n",
      "[ 2018-07-27 22:03:18,358][cascade_classifier.fit_transform] [Result][Reach Max Layer] opt_layer_num=1, accuracy_train=97.95%, accuracy_test=98.08%\n",
      "[ 2018-07-27 22:03:18,360][cascade_classifier.transform] X_groups_test.shape=[(5370, 10)]\n",
      "[ 2018-07-27 22:03:18,362][cascade_classifier.transform] group_dims=[10]\n",
      "[ 2018-07-27 22:03:18,365][cascade_classifier.transform] X_test.shape=(5370, 10)\n",
      "[ 2018-07-27 22:03:18,369][cascade_classifier.transform] [layer=0] look_indexs=[0], X_cur_test.shape=(5370, 10)\n"
     ]
    },
    {
     "name": "stdout",
     "output_type": "stream",
     "text": [
      "('Test Accuracy of DeepExtratTrees = 98.081937 %', 'Layer :', 19)\n",
      "[[4892   34]\n",
      " [  69  375]]\n",
      "\n",
      "\n",
      "             precision    recall  f1-score   support\n",
      "\n",
      "        0.0       0.99      0.99      0.99      4926\n",
      "        1.0       0.92      0.84      0.88       444\n",
      "\n",
      "avg / total       0.98      0.98      0.98      5370\n",
      "\n",
      "(' Time ', '13.415', ' seconds')\n"
     ]
    }
   ],
   "source": [
    "def update(X_train,X_test):\n",
    "    # update Estimators\n",
    "    M = np.delete(X_train, (-1), axis=1)\n",
    "    X_train= np.delete(M, (-1), axis=1)\n",
    "    M = np.delete(X_test, (-1), axis=1)\n",
    "    X_test = np.delete(M, (-1), axis=1)\n",
    "    return X_train,X_test\n",
    "\n",
    "def newdata(X_test_enc, X_train_enc):\n",
    "    # Make Data + Estimators\n",
    "    X_train_origin = X_train.reshape((X_train.shape[0], -1))\n",
    "    X_test_origin = X_test.reshape((X_test.shape[0], -1))\n",
    "    X_train_enc = np.hstack((X_train_origin, X_train_enc))\n",
    "    X_test_enc = np.hstack((X_test_origin, X_test_enc))\n",
    "    return X_test_enc, X_train_enc\n",
    "\n",
    "Accuracy = []\n",
    "def affiche():\n",
    "    # predict\n",
    "    y_pred = gc.predict(X_test)\n",
    "    acc = accuracy_score(y_test, y_pred)\n",
    "    print(\"Test Accuracy of DeepExtratTrees = {:.6f} %\".format(acc * 100),\"Layer :\",i)\n",
    "    Accuracy.append(round(acc*100 , 2))\n",
    "    # Matrix de confusion\n",
    "    from sklearn.metrics import classification_report, confusion_matrix\n",
    "    print(confusion_matrix(y_test,y_pred))\n",
    "    print('\\n')\n",
    "    print(classification_report(y_test,y_pred))\n",
    "    \n",
    "# Deep\n",
    "t = []\n",
    "for i in range (20):\n",
    "    t0 = time()\n",
    "    X_train,X_test=update(X_train,X_test)\n",
    "    X_test_enc, X_train_enc=newdata(X_test_enc, X_train_enc)\n",
    "\n",
    "    X_train=X_train_enc\n",
    "    X_test=X_test_enc \n",
    "    X_train_enc, X_test_enc = gc.fit_transform(X_train, y_train, X_test=X_test, y_test=y_test)\n",
    "    tt = time() - t0\n",
    "    affiche() \n",
    "    t.append(round(tt,2))\n",
    "    print (\" Time \",format(round(tt,3)),\" seconds\")"
   ]
  },
  {
   "cell_type": "code",
   "execution_count": 19,
   "metadata": {},
   "outputs": [
    {
     "name": "stdout",
     "output_type": "stream",
     "text": [
      "('Opt_layer_num =', 10, ' Accuracy =', 98.19, 'Time =', 96.219999999999999)\n"
     ]
    },
    {
     "data": {
      "image/png": "[encoded data removed]",
      "text/plain": [
       "<matplotlib.figure.Figure at 0x7faf785ec490>"
      ]
     },
     "metadata": {},
     "output_type": "display_data"
    }
   ],
   "source": [
    "print (\"Opt_layer_num =\",Accuracy.index(max(Accuracy)), \" Accuracy =\", max(Accuracy) ,\n",
    "       \"Time =\" , np.sum(t[0:Accuracy.index(max(Accuracy))+1]))\n",
    "\n",
    "import matplotlib.pyplot as plt\n",
    "from matplotlib.pyplot import figure\n",
    "figure(figsize=(8, 6), dpi=100)\n",
    "plt.plot(Accuracy, '-o', ms=20, lw=2, alpha=0.7, mfc='orange')\n",
    "plt.ylabel('Accuracy')\n",
    "plt.xlabel('Layer numbers')\n",
    "plt.show()"
   ]
  },
  {
   "cell_type": "code",
   "execution_count": 20,
   "metadata": {},
   "outputs": [
    {
     "data": {
      "text/plain": [
       "[98.12,\n",
       " 98.03,\n",
       " 98.03,\n",
       " 98.1,\n",
       " 98.08,\n",
       " 97.99,\n",
       " 98.08,\n",
       " 98.16,\n",
       " 98.03,\n",
       " 98.14,\n",
       " 98.19,\n",
       " 98.04,\n",
       " 98.08,\n",
       " 98.14,\n",
       " 97.99,\n",
       " 97.99,\n",
       " 98.08,\n",
       " 97.95,\n",
       " 98.06,\n",
       " 98.08]"
      ]
     },
     "execution_count": 20,
     "metadata": {},
     "output_type": "execute_result"
    }
   ],
   "source": [
    "Accuracy"
   ]
  }
 ],
 "metadata": {
  "kernelspec": {
   "display_name": "Python 2",
   "language": "python",
   "name": "python2"
  },
  "language_info": {
   "codemirror_mode": {
    "name": "ipython",
    "version": 2
   },
   "file_extension": ".py",
   "mimetype": "text/x-python",
   "name": "python",
   "nbconvert_exporter": "python",
   "pygments_lexer": "ipython2",
   "version": "2.7.13"
  }
 },
 "nbformat": 4,
 "nbformat_minor": 2
}
