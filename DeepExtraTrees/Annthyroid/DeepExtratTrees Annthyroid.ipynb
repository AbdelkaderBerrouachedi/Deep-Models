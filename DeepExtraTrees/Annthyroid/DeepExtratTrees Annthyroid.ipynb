{
 "cells": [
  {
   "cell_type": "code",
   "execution_count": 1,
   "metadata": {
    "collapsed": true
   },
   "outputs": [],
   "source": [
    "# imports \n",
    "import numpy as np\n",
    "from math import sqrt \n",
    "from pprint import pprint\n",
    "from numpy import array\n",
    "from scipy.io import arff\n",
    "import pandas as pd\n",
    "from time import time"
   ]
  },
  {
   "cell_type": "code",
   "execution_count": 2,
   "metadata": {},
   "outputs": [
    {
     "data": {
      "text/html": [
       "<div>\n",
       "<style>\n",
       "    .dataframe thead tr:only-child th {\n",
       "        text-align: right;\n",
       "    }\n",
       "\n",
       "    .dataframe thead th {\n",
       "        text-align: left;\n",
       "    }\n",
       "\n",
       "    .dataframe tbody tr th {\n",
       "        vertical-align: top;\n",
       "    }\n",
       "</style>\n",
       "<table border=\"1\" class=\"dataframe\">\n",
       "  <thead>\n",
       "    <tr style=\"text-align: right;\">\n",
       "      <th></th>\n",
       "      <th>att1</th>\n",
       "      <th>att2</th>\n",
       "      <th>att3</th>\n",
       "      <th>att4</th>\n",
       "      <th>att5</th>\n",
       "      <th>att6</th>\n",
       "      <th>att7</th>\n",
       "      <th>att8</th>\n",
       "      <th>att9</th>\n",
       "      <th>att10</th>\n",
       "      <th>...</th>\n",
       "      <th>att13</th>\n",
       "      <th>att14</th>\n",
       "      <th>att15</th>\n",
       "      <th>att16</th>\n",
       "      <th>att17</th>\n",
       "      <th>att18</th>\n",
       "      <th>att19</th>\n",
       "      <th>att20</th>\n",
       "      <th>att21</th>\n",
       "      <th>outlier</th>\n",
       "    </tr>\n",
       "  </thead>\n",
       "  <tbody>\n",
       "    <tr>\n",
       "      <th>0</th>\n",
       "      <td>0.73</td>\n",
       "      <td>0.0</td>\n",
       "      <td>1.0</td>\n",
       "      <td>0.0</td>\n",
       "      <td>0.0</td>\n",
       "      <td>0.0</td>\n",
       "      <td>0.0</td>\n",
       "      <td>0.0</td>\n",
       "      <td>1.0</td>\n",
       "      <td>0.0</td>\n",
       "      <td>...</td>\n",
       "      <td>0.0</td>\n",
       "      <td>0.0</td>\n",
       "      <td>0.0</td>\n",
       "      <td>0.0</td>\n",
       "      <td>0.00060</td>\n",
       "      <td>0.015</td>\n",
       "      <td>0.120</td>\n",
       "      <td>0.082</td>\n",
       "      <td>0.146</td>\n",
       "      <td>0</td>\n",
       "    </tr>\n",
       "    <tr>\n",
       "      <th>1</th>\n",
       "      <td>0.24</td>\n",
       "      <td>0.0</td>\n",
       "      <td>0.0</td>\n",
       "      <td>0.0</td>\n",
       "      <td>0.0</td>\n",
       "      <td>0.0</td>\n",
       "      <td>0.0</td>\n",
       "      <td>0.0</td>\n",
       "      <td>0.0</td>\n",
       "      <td>0.0</td>\n",
       "      <td>...</td>\n",
       "      <td>0.0</td>\n",
       "      <td>0.0</td>\n",
       "      <td>0.0</td>\n",
       "      <td>0.0</td>\n",
       "      <td>0.00025</td>\n",
       "      <td>0.030</td>\n",
       "      <td>0.143</td>\n",
       "      <td>0.133</td>\n",
       "      <td>0.108</td>\n",
       "      <td>0</td>\n",
       "    </tr>\n",
       "    <tr>\n",
       "      <th>2</th>\n",
       "      <td>0.47</td>\n",
       "      <td>0.0</td>\n",
       "      <td>0.0</td>\n",
       "      <td>0.0</td>\n",
       "      <td>0.0</td>\n",
       "      <td>0.0</td>\n",
       "      <td>0.0</td>\n",
       "      <td>0.0</td>\n",
       "      <td>0.0</td>\n",
       "      <td>0.0</td>\n",
       "      <td>...</td>\n",
       "      <td>0.0</td>\n",
       "      <td>0.0</td>\n",
       "      <td>0.0</td>\n",
       "      <td>0.0</td>\n",
       "      <td>0.00190</td>\n",
       "      <td>0.024</td>\n",
       "      <td>0.102</td>\n",
       "      <td>0.131</td>\n",
       "      <td>0.078</td>\n",
       "      <td>0</td>\n",
       "    </tr>\n",
       "    <tr>\n",
       "      <th>3</th>\n",
       "      <td>0.64</td>\n",
       "      <td>1.0</td>\n",
       "      <td>0.0</td>\n",
       "      <td>0.0</td>\n",
       "      <td>0.0</td>\n",
       "      <td>0.0</td>\n",
       "      <td>0.0</td>\n",
       "      <td>0.0</td>\n",
       "      <td>0.0</td>\n",
       "      <td>0.0</td>\n",
       "      <td>...</td>\n",
       "      <td>0.0</td>\n",
       "      <td>0.0</td>\n",
       "      <td>0.0</td>\n",
       "      <td>0.0</td>\n",
       "      <td>0.00090</td>\n",
       "      <td>0.017</td>\n",
       "      <td>0.077</td>\n",
       "      <td>0.090</td>\n",
       "      <td>0.085</td>\n",
       "      <td>0</td>\n",
       "    </tr>\n",
       "    <tr>\n",
       "      <th>4</th>\n",
       "      <td>0.23</td>\n",
       "      <td>0.0</td>\n",
       "      <td>0.0</td>\n",
       "      <td>0.0</td>\n",
       "      <td>0.0</td>\n",
       "      <td>0.0</td>\n",
       "      <td>0.0</td>\n",
       "      <td>0.0</td>\n",
       "      <td>0.0</td>\n",
       "      <td>0.0</td>\n",
       "      <td>...</td>\n",
       "      <td>0.0</td>\n",
       "      <td>0.0</td>\n",
       "      <td>0.0</td>\n",
       "      <td>0.0</td>\n",
       "      <td>0.00025</td>\n",
       "      <td>0.026</td>\n",
       "      <td>0.139</td>\n",
       "      <td>0.090</td>\n",
       "      <td>0.153</td>\n",
       "      <td>0</td>\n",
       "    </tr>\n",
       "  </tbody>\n",
       "</table>\n",
       "<p>5 rows × 22 columns</p>\n",
       "</div>"
      ],
      "text/plain": [
       "   att1  att2  att3  att4  att5  att6  att7  att8  att9  att10   ...     \\\n",
       "0  0.73   0.0   1.0   0.0   0.0   0.0   0.0   0.0   1.0    0.0   ...      \n",
       "1  0.24   0.0   0.0   0.0   0.0   0.0   0.0   0.0   0.0    0.0   ...      \n",
       "2  0.47   0.0   0.0   0.0   0.0   0.0   0.0   0.0   0.0    0.0   ...      \n",
       "3  0.64   1.0   0.0   0.0   0.0   0.0   0.0   0.0   0.0    0.0   ...      \n",
       "4  0.23   0.0   0.0   0.0   0.0   0.0   0.0   0.0   0.0    0.0   ...      \n",
       "\n",
       "   att13  att14  att15  att16    att17  att18  att19  att20  att21  outlier  \n",
       "0    0.0    0.0    0.0    0.0  0.00060  0.015  0.120  0.082  0.146        0  \n",
       "1    0.0    0.0    0.0    0.0  0.00025  0.030  0.143  0.133  0.108        0  \n",
       "2    0.0    0.0    0.0    0.0  0.00190  0.024  0.102  0.131  0.078        0  \n",
       "3    0.0    0.0    0.0    0.0  0.00090  0.017  0.077  0.090  0.085        0  \n",
       "4    0.0    0.0    0.0    0.0  0.00025  0.026  0.139  0.090  0.153        0  \n",
       "\n",
       "[5 rows x 22 columns]"
      ]
     },
     "execution_count": 2,
     "metadata": {},
     "output_type": "execute_result"
    }
   ],
   "source": [
    "# load data\n",
    "\n",
    "df=pd.read_csv('Annthyroid_02_v01.csv')  \n",
    "\n",
    "del df['id']\n",
    "del df['Unnamed: 0']\n",
    "df['outlier'] = df.outlier.apply(lambda label: 1 if label == \"'yes'\" else 0)\n",
    "\n",
    "df.head()"
   ]
  },
  {
   "cell_type": "code",
   "execution_count": 3,
   "metadata": {},
   "outputs": [
    {
     "data": {
      "text/plain": [
       "(6802, 22)"
      ]
     },
     "execution_count": 3,
     "metadata": {},
     "output_type": "execute_result"
    }
   ],
   "source": [
    "df.shape"
   ]
  },
  {
   "cell_type": "code",
   "execution_count": 4,
   "metadata": {
    "collapsed": true
   },
   "outputs": [],
   "source": [
    "# data to values\n",
    "df = df.values"
   ]
  },
  {
   "cell_type": "code",
   "execution_count": 5,
   "metadata": {
    "collapsed": true
   },
   "outputs": [],
   "source": [
    "# Extratrees Deep\n",
    "import argparse\n",
    "import sys\n",
    "import pickle\n",
    "from sklearn.metrics import accuracy_score\n",
    "sys.path.insert(0, \"lib\")\n",
    "from gcforest.gcforest import GCForest\n",
    "from gcforest.utils.config_utils import load_json\n",
    "config = load_json(\"./examples/Annthyroid.json\")\n",
    "gc = GCForest(config)"
   ]
  },
  {
   "cell_type": "code",
   "execution_count": 6,
   "metadata": {},
   "outputs": [
    {
     "name": "stderr",
     "output_type": "stream",
     "text": [
      "/home/ubuntu/anaconda2/lib/python2.7/site-packages/sklearn/cross_validation.py:44: DeprecationWarning: This module was deprecated in version 0.18 in favor of the model_selection module into which all the refactored classes and functions are moved. Also note that the interface of the new CV iterators are different from that of this module. This module will be removed in 0.20.\n",
      "  \"This module will be removed in 0.20.\", DeprecationWarning)\n"
     ]
    }
   ],
   "source": [
    "# train test \n",
    "from sklearn.cross_validation import train_test_split\n",
    "y = df[:,21]\n",
    "X = df[:,0:21]\n",
    "\n",
    "X_train,X_test,y_train,y_test = train_test_split(X, y, test_size=0.33, random_state=42)"
   ]
  },
  {
   "cell_type": "code",
   "execution_count": 7,
   "metadata": {},
   "outputs": [
    {
     "data": {
      "text/plain": [
       "2"
      ]
     },
     "execution_count": 7,
     "metadata": {},
     "output_type": "execute_result"
    }
   ],
   "source": [
    "# number of class\n",
    "len(np.unique(y_train))"
   ]
  },
  {
   "cell_type": "code",
   "execution_count": 8,
   "metadata": {},
   "outputs": [
    {
     "name": "stderr",
     "output_type": "stream",
     "text": [
      "[ 2018-07-27 20:29:29,883][cascade_classifier.fit_transform] X_groups_train.shape=[(4557, 21)],y_train.shape=(4557,),X_groups_test.shape=[(2245, 21)],y_test.shape=(2245,)\n",
      "[ 2018-07-27 20:29:29,884][cascade_classifier.fit_transform] group_dims=[21]\n",
      "[ 2018-07-27 20:29:29,886][cascade_classifier.fit_transform] group_starts=[0]\n",
      "[ 2018-07-27 20:29:29,887][cascade_classifier.fit_transform] group_ends=[21]\n",
      "[ 2018-07-27 20:29:29,888][cascade_classifier.fit_transform] X_train.shape=(4557, 21),X_test.shape=(2245, 21)\n",
      "[ 2018-07-27 20:29:29,890][cascade_classifier.fit_transform] [layer=0] look_indexs=[0], X_cur_train.shape=(4557, 21), X_cur_test.shape=(2245, 21)\n",
      "[ 2018-07-27 20:29:30,425][kfold_wrapper.log_eval_metrics] Accuracy(layer_0 - estimator_0 - 10_folds.train_0.predict)=98.25%\n",
      "[ 2018-07-27 20:29:31,144][kfold_wrapper.log_eval_metrics] Accuracy(layer_0 - estimator_0 - 10_folds.train_1.predict)=99.56%\n",
      "[ 2018-07-27 20:29:31,899][kfold_wrapper.log_eval_metrics] Accuracy(layer_0 - estimator_0 - 10_folds.train_2.predict)=100.00%\n",
      "[ 2018-07-27 20:29:32,617][kfold_wrapper.log_eval_metrics] Accuracy(layer_0 - estimator_0 - 10_folds.train_3.predict)=98.46%\n",
      "[ 2018-07-27 20:29:33,343][kfold_wrapper.log_eval_metrics] Accuracy(layer_0 - estimator_0 - 10_folds.train_4.predict)=98.68%\n",
      "[ 2018-07-27 20:29:34,065][kfold_wrapper.log_eval_metrics] Accuracy(layer_0 - estimator_0 - 10_folds.train_5.predict)=98.90%\n",
      "[ 2018-07-27 20:29:34,789][kfold_wrapper.log_eval_metrics] Accuracy(layer_0 - estimator_0 - 10_folds.train_6.predict)=98.68%\n",
      "[ 2018-07-27 20:29:35,623][kfold_wrapper.log_eval_metrics] Accuracy(layer_0 - estimator_0 - 10_folds.train_7.predict)=98.25%\n",
      "[ 2018-07-27 20:29:36,366][kfold_wrapper.log_eval_metrics] Accuracy(layer_0 - estimator_0 - 10_folds.train_8.predict)=98.90%\n",
      "[ 2018-07-27 20:29:37,075][kfold_wrapper.log_eval_metrics] Accuracy(layer_0 - estimator_0 - 10_folds.train_9.predict)=99.12%\n",
      "[ 2018-07-27 20:29:37,309][kfold_wrapper.log_eval_metrics] Accuracy(layer_0 - estimator_0 - 10_folds.train_cv.predict)=98.88%\n",
      "[ 2018-07-27 20:29:37,310][kfold_wrapper.log_eval_metrics] Accuracy(layer_0 - estimator_0 - 10_folds.test.predict)=98.84%\n",
      "[ 2018-07-27 20:29:37,311][cascade_classifier.calc_accuracy] Accuracy(layer_0 - train.classifier_average)=98.88%\n",
      "[ 2018-07-27 20:29:37,312][cascade_classifier.calc_accuracy] Accuracy(layer_0 - test.classifier_average)=98.84%\n",
      "[ 2018-07-27 20:29:37,313][cascade_classifier.fit_transform] [Result][Reach Max Layer] opt_layer_num=1, accuracy_train=98.88%, accuracy_test=98.84%\n"
     ]
    }
   ],
   "source": [
    "         # X_enc is the concatenated predict_proba result of DeepDeepExtraTrees\n",
    "\n",
    "X_train_enc, X_test_enc = gc.fit_transform(X_train, y_train, X_test=X_test, y_test=y_test)\n",
    "   "
   ]
  },
  {
   "cell_type": "code",
   "execution_count": 9,
   "metadata": {},
   "outputs": [
    {
     "name": "stderr",
     "output_type": "stream",
     "text": [
      "[ 2018-07-27 20:29:37,320][cascade_classifier.transform] X_groups_test.shape=[(2245, 21)]\n",
      "[ 2018-07-27 20:29:37,322][cascade_classifier.transform] group_dims=[21]\n",
      "[ 2018-07-27 20:29:37,324][cascade_classifier.transform] X_test.shape=(2245, 21)\n",
      "[ 2018-07-27 20:29:37,325][cascade_classifier.transform] [layer=0] look_indexs=[0], X_cur_test.shape=(2245, 21)\n"
     ]
    },
    {
     "name": "stdout",
     "output_type": "stream",
     "text": [
      "Test Accuracy of DeepExtraTrees = 98.841871 %\n",
      "[[2194    3]\n",
      " [  23   25]]\n",
      "\n",
      "\n",
      "             precision    recall  f1-score   support\n",
      "\n",
      "        0.0       0.99      1.00      0.99      2197\n",
      "        1.0       0.89      0.52      0.66        48\n",
      "\n",
      "avg / total       0.99      0.99      0.99      2245\n",
      "\n"
     ]
    }
   ],
   "source": [
    "# predict\n",
    "y_pred = gc.predict(X_test)\n",
    "acc = accuracy_score(y_test, y_pred)\n",
    "print(\"Test Accuracy of DeepExtraTrees = {:.6f} %\".format(acc * 100))\n",
    " # Matrix de confusion\n",
    "from sklearn.metrics import classification_report, confusion_matrix\n",
    "print(confusion_matrix(y_test,y_pred))\n",
    "print('\\n')\n",
    "print(classification_report(y_test,y_pred))"
   ]
  },
  {
   "cell_type": "code",
   "execution_count": 10,
   "metadata": {},
   "outputs": [
    {
     "name": "stderr",
     "output_type": "stream",
     "text": [
      "[ 2018-07-27 20:29:39,593][cascade_classifier.transform] X_groups_test.shape=[(2245, 21)]\n",
      "[ 2018-07-27 20:29:39,595][cascade_classifier.transform] group_dims=[21]\n",
      "[ 2018-07-27 20:29:39,597][cascade_classifier.transform] X_test.shape=(2245, 21)\n",
      "[ 2018-07-27 20:29:39,599][cascade_classifier.transform] [layer=0] look_indexs=[0], X_cur_test.shape=(2245, 21)\n"
     ]
    }
   ],
   "source": [
    "# Make data + estimators\n",
    "X_test_enc = gc.transform(X_test)\n",
    "X_train_enc = X_train_enc.reshape((X_train_enc.shape[0], -1))\n",
    "X_test_enc = X_test_enc.reshape((X_test_enc.shape[0], -1))\n",
    "X_train_origin = X_train.reshape((X_train.shape[0], -1))\n",
    "X_test_origin = X_test.reshape((X_test.shape[0], -1))\n",
    "X_train_enc = np.hstack((X_train_origin, X_train_enc))\n",
    "X_test_enc = np.hstack((X_test_origin, X_test_enc))"
   ]
  },
  {
   "cell_type": "code",
   "execution_count": 11,
   "metadata": {},
   "outputs": [
    {
     "name": "stderr",
     "output_type": "stream",
     "text": [
      "[ 2018-07-27 20:29:41,933][cascade_classifier.fit_transform] X_groups_train.shape=[(4557, 23)],y_train.shape=(4557,),X_groups_test.shape=[(2245, 23)],y_test.shape=(2245,)\n",
      "[ 2018-07-27 20:29:41,936][cascade_classifier.fit_transform] group_dims=[23]\n",
      "[ 2018-07-27 20:29:41,938][cascade_classifier.fit_transform] group_starts=[0]\n",
      "[ 2018-07-27 20:29:41,939][cascade_classifier.fit_transform] group_ends=[23]\n",
      "[ 2018-07-27 20:29:41,940][cascade_classifier.fit_transform] X_train.shape=(4557, 23),X_test.shape=(2245, 23)\n",
      "[ 2018-07-27 20:29:41,942][cascade_classifier.fit_transform] [layer=0] look_indexs=[0], X_cur_train.shape=(4557, 23), X_cur_test.shape=(2245, 23)\n",
      "[ 2018-07-27 20:29:42,810][kfold_wrapper.log_eval_metrics] Accuracy(layer_0 - estimator_0 - 10_folds.train_0.predict)=98.68%\n",
      "[ 2018-07-27 20:29:43,912][kfold_wrapper.log_eval_metrics] Accuracy(layer_0 - estimator_0 - 10_folds.train_1.predict)=99.56%\n",
      "[ 2018-07-27 20:29:44,917][kfold_wrapper.log_eval_metrics] Accuracy(layer_0 - estimator_0 - 10_folds.train_2.predict)=99.56%\n",
      "[ 2018-07-27 20:29:45,720][kfold_wrapper.log_eval_metrics] Accuracy(layer_0 - estimator_0 - 10_folds.train_3.predict)=99.56%\n",
      "[ 2018-07-27 20:29:46,482][kfold_wrapper.log_eval_metrics] Accuracy(layer_0 - estimator_0 - 10_folds.train_4.predict)=98.68%\n",
      "[ 2018-07-27 20:29:47,197][kfold_wrapper.log_eval_metrics] Accuracy(layer_0 - estimator_0 - 10_folds.train_5.predict)=98.46%\n",
      "[ 2018-07-27 20:29:47,916][kfold_wrapper.log_eval_metrics] Accuracy(layer_0 - estimator_0 - 10_folds.train_6.predict)=98.90%\n",
      "[ 2018-07-27 20:29:48,632][kfold_wrapper.log_eval_metrics] Accuracy(layer_0 - estimator_0 - 10_folds.train_7.predict)=99.34%\n",
      "[ 2018-07-27 20:29:49,239][kfold_wrapper.log_eval_metrics] Accuracy(layer_0 - estimator_0 - 10_folds.train_8.predict)=99.34%\n",
      "[ 2018-07-27 20:29:49,977][kfold_wrapper.log_eval_metrics] Accuracy(layer_0 - estimator_0 - 10_folds.train_9.predict)=99.34%\n",
      "[ 2018-07-27 20:29:50,200][kfold_wrapper.log_eval_metrics] Accuracy(layer_0 - estimator_0 - 10_folds.train_cv.predict)=99.14%\n",
      "[ 2018-07-27 20:29:50,201][kfold_wrapper.log_eval_metrics] Accuracy(layer_0 - estimator_0 - 10_folds.test.predict)=99.11%\n",
      "[ 2018-07-27 20:29:50,204][cascade_classifier.calc_accuracy] Accuracy(layer_0 - train.classifier_average)=99.14%\n",
      "[ 2018-07-27 20:29:50,205][cascade_classifier.calc_accuracy] Accuracy(layer_0 - test.classifier_average)=99.11%\n",
      "[ 2018-07-27 20:29:50,206][cascade_classifier.fit_transform] [Result][Reach Max Layer] opt_layer_num=1, accuracy_train=99.14%, accuracy_test=99.11%\n"
     ]
    }
   ],
   "source": [
    "# New data\n",
    "X_train=X_train_enc\n",
    "X_test=X_test_enc \n",
    "X_train_enc, X_test_enc = gc.fit_transform(X_train, y_train, X_test=X_test, y_test=y_test)"
   ]
  },
  {
   "cell_type": "code",
   "execution_count": 12,
   "metadata": {},
   "outputs": [
    {
     "name": "stderr",
     "output_type": "stream",
     "text": [
      "[ 2018-07-27 20:29:50,214][cascade_classifier.transform] X_groups_test.shape=[(2245, 23)]\n",
      "[ 2018-07-27 20:29:50,215][cascade_classifier.transform] group_dims=[23]\n",
      "[ 2018-07-27 20:29:50,217][cascade_classifier.transform] X_test.shape=(2245, 23)\n",
      "[ 2018-07-27 20:29:50,218][cascade_classifier.transform] [layer=0] look_indexs=[0], X_cur_test.shape=(2245, 23)\n"
     ]
    },
    {
     "name": "stdout",
     "output_type": "stream",
     "text": [
      "Test Accuracy of DeepExtraTrees = 99.109131 %\n",
      "[[2188    9]\n",
      " [  11   37]]\n",
      "\n",
      "\n",
      "             precision    recall  f1-score   support\n",
      "\n",
      "        0.0       0.99      1.00      1.00      2197\n",
      "        1.0       0.80      0.77      0.79        48\n",
      "\n",
      "avg / total       0.99      0.99      0.99      2245\n",
      "\n"
     ]
    }
   ],
   "source": [
    "# predict  data + Es\n",
    "y_pred = gc.predict(X_test)\n",
    "acc = accuracy_score(y_test, y_pred)\n",
    "print(\"Test Accuracy of DeepExtraTrees = {:.6f} %\".format(acc * 100))\n",
    " # Matrix de confusion\n",
    "from sklearn.metrics import classification_report, confusion_matrix\n",
    "print(confusion_matrix(y_test,y_pred))\n",
    "print('\\n')\n",
    "print(classification_report(y_test,y_pred))"
   ]
  },
  {
   "cell_type": "code",
   "execution_count": 13,
   "metadata": {},
   "outputs": [
    {
     "name": "stderr",
     "output_type": "stream",
     "text": [
      "[ 2018-07-27 20:29:51,888][cascade_classifier.fit_transform] X_groups_train.shape=[(4557, 23)],y_train.shape=(4557,),X_groups_test.shape=[(2245, 23)],y_test.shape=(2245,)\n",
      "[ 2018-07-27 20:29:51,889][cascade_classifier.fit_transform] group_dims=[23]\n",
      "[ 2018-07-27 20:29:51,891][cascade_classifier.fit_transform] group_starts=[0]\n",
      "[ 2018-07-27 20:29:51,891][cascade_classifier.fit_transform] group_ends=[23]\n",
      "[ 2018-07-27 20:29:51,892][cascade_classifier.fit_transform] X_train.shape=(4557, 23),X_test.shape=(2245, 23)\n",
      "[ 2018-07-27 20:29:51,894][cascade_classifier.fit_transform] [layer=0] look_indexs=[0], X_cur_train.shape=(4557, 23), X_cur_test.shape=(2245, 23)\n",
      "[ 2018-07-27 20:29:52,396][kfold_wrapper.log_eval_metrics] Accuracy(layer_0 - estimator_0 - 10_folds.train_0.predict)=98.68%\n",
      "[ 2018-07-27 20:29:53,003][kfold_wrapper.log_eval_metrics] Accuracy(layer_0 - estimator_0 - 10_folds.train_1.predict)=99.56%\n",
      "[ 2018-07-27 20:29:53,720][kfold_wrapper.log_eval_metrics] Accuracy(layer_0 - estimator_0 - 10_folds.train_2.predict)=99.56%\n",
      "[ 2018-07-27 20:29:54,438][kfold_wrapper.log_eval_metrics] Accuracy(layer_0 - estimator_0 - 10_folds.train_3.predict)=99.34%\n",
      "[ 2018-07-27 20:29:55,155][kfold_wrapper.log_eval_metrics] Accuracy(layer_0 - estimator_0 - 10_folds.train_4.predict)=98.46%\n",
      "[ 2018-07-27 20:29:55,876][kfold_wrapper.log_eval_metrics] Accuracy(layer_0 - estimator_0 - 10_folds.train_5.predict)=98.46%\n",
      "[ 2018-07-27 20:29:56,627][kfold_wrapper.log_eval_metrics] Accuracy(layer_0 - estimator_0 - 10_folds.train_6.predict)=98.68%\n",
      "[ 2018-07-27 20:29:57,658][kfold_wrapper.log_eval_metrics] Accuracy(layer_0 - estimator_0 - 10_folds.train_7.predict)=99.34%\n",
      "[ 2018-07-27 20:29:58,753][kfold_wrapper.log_eval_metrics] Accuracy(layer_0 - estimator_0 - 10_folds.train_8.predict)=99.78%\n",
      "[ 2018-07-27 20:29:59,778][kfold_wrapper.log_eval_metrics] Accuracy(layer_0 - estimator_0 - 10_folds.train_9.predict)=99.56%\n",
      "[ 2018-07-27 20:30:00,005][kfold_wrapper.log_eval_metrics] Accuracy(layer_0 - estimator_0 - 10_folds.train_cv.predict)=99.14%\n",
      "[ 2018-07-27 20:30:00,006][kfold_wrapper.log_eval_metrics] Accuracy(layer_0 - estimator_0 - 10_folds.test.predict)=99.11%\n",
      "[ 2018-07-27 20:30:00,013][cascade_classifier.calc_accuracy] Accuracy(layer_0 - train.classifier_average)=99.14%\n",
      "[ 2018-07-27 20:30:00,014][cascade_classifier.calc_accuracy] Accuracy(layer_0 - test.classifier_average)=99.11%\n",
      "[ 2018-07-27 20:30:00,017][cascade_classifier.fit_transform] [Result][Reach Max Layer] opt_layer_num=1, accuracy_train=99.14%, accuracy_test=99.11%\n",
      "[ 2018-07-27 20:30:00,020][cascade_classifier.transform] X_groups_test.shape=[(2245, 23)]\n",
      "[ 2018-07-27 20:30:00,023][cascade_classifier.transform] group_dims=[23]\n",
      "[ 2018-07-27 20:30:00,024][cascade_classifier.transform] X_test.shape=(2245, 23)\n",
      "[ 2018-07-27 20:30:00,027][cascade_classifier.transform] [layer=0] look_indexs=[0], X_cur_test.shape=(2245, 23)\n",
      "[ 2018-07-27 20:30:02,320][cascade_classifier.fit_transform] X_groups_train.shape=[(4557, 23)],y_train.shape=(4557,),X_groups_test.shape=[(2245, 23)],y_test.shape=(2245,)\n",
      "[ 2018-07-27 20:30:02,322][cascade_classifier.fit_transform] group_dims=[23]\n",
      "[ 2018-07-27 20:30:02,326][cascade_classifier.fit_transform] group_starts=[0]\n",
      "[ 2018-07-27 20:30:02,330][cascade_classifier.fit_transform] group_ends=[23]\n",
      "[ 2018-07-27 20:30:02,331][cascade_classifier.fit_transform] X_train.shape=(4557, 23),X_test.shape=(2245, 23)\n",
      "[ 2018-07-27 20:30:02,333][cascade_classifier.fit_transform] [layer=0] look_indexs=[0], X_cur_train.shape=(4557, 23), X_cur_test.shape=(2245, 23)\n"
     ]
    },
    {
     "name": "stdout",
     "output_type": "stream",
     "text": [
      "('Test Accuracy of DeepExtratTrees = 99.109131 %', 'Layer :', 0)\n",
      "[[2189    8]\n",
      " [  12   36]]\n",
      "\n",
      "\n",
      "             precision    recall  f1-score   support\n",
      "\n",
      "        0.0       0.99      1.00      1.00      2197\n",
      "        1.0       0.82      0.75      0.78        48\n",
      "\n",
      "avg / total       0.99      0.99      0.99      2245\n",
      "\n",
      "(' Time ', '8.132', ' seconds')\n"
     ]
    },
    {
     "name": "stderr",
     "output_type": "stream",
     "text": [
      "[ 2018-07-27 20:30:03,208][kfold_wrapper.log_eval_metrics] Accuracy(layer_0 - estimator_0 - 10_folds.train_0.predict)=98.68%\n",
      "[ 2018-07-27 20:30:04,133][kfold_wrapper.log_eval_metrics] Accuracy(layer_0 - estimator_0 - 10_folds.train_1.predict)=99.56%\n",
      "[ 2018-07-27 20:30:04,849][kfold_wrapper.log_eval_metrics] Accuracy(layer_0 - estimator_0 - 10_folds.train_2.predict)=99.34%\n",
      "[ 2018-07-27 20:30:05,681][kfold_wrapper.log_eval_metrics] Accuracy(layer_0 - estimator_0 - 10_folds.train_3.predict)=99.12%\n",
      "[ 2018-07-27 20:30:06,400][kfold_wrapper.log_eval_metrics] Accuracy(layer_0 - estimator_0 - 10_folds.train_4.predict)=98.68%\n",
      "[ 2018-07-27 20:30:07,121][kfold_wrapper.log_eval_metrics] Accuracy(layer_0 - estimator_0 - 10_folds.train_5.predict)=98.46%\n",
      "[ 2018-07-27 20:30:07,841][kfold_wrapper.log_eval_metrics] Accuracy(layer_0 - estimator_0 - 10_folds.train_6.predict)=98.68%\n",
      "[ 2018-07-27 20:30:08,444][kfold_wrapper.log_eval_metrics] Accuracy(layer_0 - estimator_0 - 10_folds.train_7.predict)=99.56%\n",
      "[ 2018-07-27 20:30:09,047][kfold_wrapper.log_eval_metrics] Accuracy(layer_0 - estimator_0 - 10_folds.train_8.predict)=99.78%\n",
      "[ 2018-07-27 20:30:09,653][kfold_wrapper.log_eval_metrics] Accuracy(layer_0 - estimator_0 - 10_folds.train_9.predict)=99.56%\n",
      "[ 2018-07-27 20:30:09,874][kfold_wrapper.log_eval_metrics] Accuracy(layer_0 - estimator_0 - 10_folds.train_cv.predict)=99.14%\n",
      "[ 2018-07-27 20:30:09,875][kfold_wrapper.log_eval_metrics] Accuracy(layer_0 - estimator_0 - 10_folds.test.predict)=98.98%\n",
      "[ 2018-07-27 20:30:09,878][cascade_classifier.calc_accuracy] Accuracy(layer_0 - train.classifier_average)=99.14%\n",
      "[ 2018-07-27 20:30:09,879][cascade_classifier.calc_accuracy] Accuracy(layer_0 - test.classifier_average)=98.98%\n",
      "[ 2018-07-27 20:30:09,880][cascade_classifier.fit_transform] [Result][Reach Max Layer] opt_layer_num=1, accuracy_train=99.14%, accuracy_test=98.98%\n",
      "[ 2018-07-27 20:30:09,881][cascade_classifier.transform] X_groups_test.shape=[(2245, 23)]\n",
      "[ 2018-07-27 20:30:09,882][cascade_classifier.transform] group_dims=[23]\n",
      "[ 2018-07-27 20:30:09,883][cascade_classifier.transform] X_test.shape=(2245, 23)\n",
      "[ 2018-07-27 20:30:09,884][cascade_classifier.transform] [layer=0] look_indexs=[0], X_cur_test.shape=(2245, 23)\n",
      "[ 2018-07-27 20:30:11,503][cascade_classifier.fit_transform] X_groups_train.shape=[(4557, 23)],y_train.shape=(4557,),X_groups_test.shape=[(2245, 23)],y_test.shape=(2245,)\n",
      "[ 2018-07-27 20:30:11,504][cascade_classifier.fit_transform] group_dims=[23]\n",
      "[ 2018-07-27 20:30:11,505][cascade_classifier.fit_transform] group_starts=[0]\n",
      "[ 2018-07-27 20:30:11,506][cascade_classifier.fit_transform] group_ends=[23]\n",
      "[ 2018-07-27 20:30:11,506][cascade_classifier.fit_transform] X_train.shape=(4557, 23),X_test.shape=(2245, 23)\n",
      "[ 2018-07-27 20:30:11,507][cascade_classifier.fit_transform] [layer=0] look_indexs=[0], X_cur_train.shape=(4557, 23), X_cur_test.shape=(2245, 23)\n"
     ]
    },
    {
     "name": "stdout",
     "output_type": "stream",
     "text": [
      "('Test Accuracy of DeepExtratTrees = 98.975501 %', 'Layer :', 1)\n",
      "[[2187   10]\n",
      " [  13   35]]\n",
      "\n",
      "\n",
      "             precision    recall  f1-score   support\n",
      "\n",
      "        0.0       0.99      1.00      0.99      2197\n",
      "        1.0       0.78      0.73      0.75        48\n",
      "\n",
      "avg / total       0.99      0.99      0.99      2245\n",
      "\n",
      "(' Time ', '7.562', ' seconds')\n"
     ]
    },
    {
     "name": "stderr",
     "output_type": "stream",
     "text": [
      "[ 2018-07-27 20:30:12,010][kfold_wrapper.log_eval_metrics] Accuracy(layer_0 - estimator_0 - 10_folds.train_0.predict)=98.46%\n",
      "[ 2018-07-27 20:30:12,613][kfold_wrapper.log_eval_metrics] Accuracy(layer_0 - estimator_0 - 10_folds.train_1.predict)=99.34%\n",
      "[ 2018-07-27 20:30:13,463][kfold_wrapper.log_eval_metrics] Accuracy(layer_0 - estimator_0 - 10_folds.train_2.predict)=99.34%\n",
      "[ 2018-07-27 20:30:14,067][kfold_wrapper.log_eval_metrics] Accuracy(layer_0 - estimator_0 - 10_folds.train_3.predict)=99.12%\n",
      "[ 2018-07-27 20:30:14,784][kfold_wrapper.log_eval_metrics] Accuracy(layer_0 - estimator_0 - 10_folds.train_4.predict)=98.68%\n",
      "[ 2018-07-27 20:30:15,498][kfold_wrapper.log_eval_metrics] Accuracy(layer_0 - estimator_0 - 10_folds.train_5.predict)=98.25%\n",
      "[ 2018-07-27 20:30:16,215][kfold_wrapper.log_eval_metrics] Accuracy(layer_0 - estimator_0 - 10_folds.train_6.predict)=98.90%\n",
      "[ 2018-07-27 20:30:16,815][kfold_wrapper.log_eval_metrics] Accuracy(layer_0 - estimator_0 - 10_folds.train_7.predict)=99.12%\n",
      "[ 2018-07-27 20:30:17,534][kfold_wrapper.log_eval_metrics] Accuracy(layer_0 - estimator_0 - 10_folds.train_8.predict)=99.78%\n",
      "[ 2018-07-27 20:30:18,254][kfold_wrapper.log_eval_metrics] Accuracy(layer_0 - estimator_0 - 10_folds.train_9.predict)=99.34%\n",
      "[ 2018-07-27 20:30:18,359][kfold_wrapper.log_eval_metrics] Accuracy(layer_0 - estimator_0 - 10_folds.train_cv.predict)=99.03%\n",
      "[ 2018-07-27 20:30:18,360][kfold_wrapper.log_eval_metrics] Accuracy(layer_0 - estimator_0 - 10_folds.test.predict)=99.06%\n",
      "[ 2018-07-27 20:30:18,363][cascade_classifier.calc_accuracy] Accuracy(layer_0 - train.classifier_average)=99.03%\n",
      "[ 2018-07-27 20:30:18,364][cascade_classifier.calc_accuracy] Accuracy(layer_0 - test.classifier_average)=99.06%\n",
      "[ 2018-07-27 20:30:18,365][cascade_classifier.fit_transform] [Result][Reach Max Layer] opt_layer_num=1, accuracy_train=99.03%, accuracy_test=99.06%\n",
      "[ 2018-07-27 20:30:18,366][cascade_classifier.transform] X_groups_test.shape=[(2245, 23)]\n",
      "[ 2018-07-27 20:30:18,367][cascade_classifier.transform] group_dims=[23]\n",
      "[ 2018-07-27 20:30:18,368][cascade_classifier.transform] X_test.shape=(2245, 23)\n",
      "[ 2018-07-27 20:30:18,369][cascade_classifier.transform] [layer=0] look_indexs=[0], X_cur_test.shape=(2245, 23)\n",
      "[ 2018-07-27 20:30:20,704][cascade_classifier.fit_transform] X_groups_train.shape=[(4557, 23)],y_train.shape=(4557,),X_groups_test.shape=[(2245, 23)],y_test.shape=(2245,)\n",
      "[ 2018-07-27 20:30:20,706][cascade_classifier.fit_transform] group_dims=[23]\n",
      "[ 2018-07-27 20:30:20,707][cascade_classifier.fit_transform] group_starts=[0]\n",
      "[ 2018-07-27 20:30:20,708][cascade_classifier.fit_transform] group_ends=[23]\n",
      "[ 2018-07-27 20:30:20,709][cascade_classifier.fit_transform] X_train.shape=(4557, 23),X_test.shape=(2245, 23)\n",
      "[ 2018-07-27 20:30:20,711][cascade_classifier.fit_transform] [layer=0] look_indexs=[0], X_cur_train.shape=(4557, 23), X_cur_test.shape=(2245, 23)\n"
     ]
    },
    {
     "name": "stdout",
     "output_type": "stream",
     "text": [
      "('Test Accuracy of DeepExtratTrees = 99.064588 %', 'Layer :', 2)\n",
      "[[2189    8]\n",
      " [  13   35]]\n",
      "\n",
      "\n",
      "             precision    recall  f1-score   support\n",
      "\n",
      "        0.0       0.99      1.00      1.00      2197\n",
      "        1.0       0.81      0.73      0.77        48\n",
      "\n",
      "avg / total       0.99      0.99      0.99      2245\n",
      "\n",
      "(' Time ', '6.864', ' seconds')\n"
     ]
    },
    {
     "name": "stderr",
     "output_type": "stream",
     "text": [
      "[ 2018-07-27 20:30:21,522][kfold_wrapper.log_eval_metrics] Accuracy(layer_0 - estimator_0 - 10_folds.train_0.predict)=98.68%\n",
      "[ 2018-07-27 20:30:22,328][kfold_wrapper.log_eval_metrics] Accuracy(layer_0 - estimator_0 - 10_folds.train_1.predict)=99.34%\n",
      "[ 2018-07-27 20:30:23,062][kfold_wrapper.log_eval_metrics] Accuracy(layer_0 - estimator_0 - 10_folds.train_2.predict)=99.12%\n",
      "[ 2018-07-27 20:30:23,786][kfold_wrapper.log_eval_metrics] Accuracy(layer_0 - estimator_0 - 10_folds.train_3.predict)=99.34%\n",
      "[ 2018-07-27 20:30:24,545][kfold_wrapper.log_eval_metrics] Accuracy(layer_0 - estimator_0 - 10_folds.train_4.predict)=98.46%\n",
      "[ 2018-07-27 20:30:25,384][kfold_wrapper.log_eval_metrics] Accuracy(layer_0 - estimator_0 - 10_folds.train_5.predict)=98.46%\n",
      "[ 2018-07-27 20:30:26,126][kfold_wrapper.log_eval_metrics] Accuracy(layer_0 - estimator_0 - 10_folds.train_6.predict)=98.90%\n",
      "[ 2018-07-27 20:30:26,843][kfold_wrapper.log_eval_metrics] Accuracy(layer_0 - estimator_0 - 10_folds.train_7.predict)=99.34%\n",
      "[ 2018-07-27 20:30:27,562][kfold_wrapper.log_eval_metrics] Accuracy(layer_0 - estimator_0 - 10_folds.train_8.predict)=99.56%\n",
      "[ 2018-07-27 20:30:28,277][kfold_wrapper.log_eval_metrics] Accuracy(layer_0 - estimator_0 - 10_folds.train_9.predict)=99.56%\n",
      "[ 2018-07-27 20:30:28,497][kfold_wrapper.log_eval_metrics] Accuracy(layer_0 - estimator_0 - 10_folds.train_cv.predict)=99.08%\n",
      "[ 2018-07-27 20:30:28,498][kfold_wrapper.log_eval_metrics] Accuracy(layer_0 - estimator_0 - 10_folds.test.predict)=99.15%\n",
      "[ 2018-07-27 20:30:28,501][cascade_classifier.calc_accuracy] Accuracy(layer_0 - train.classifier_average)=99.08%\n",
      "[ 2018-07-27 20:30:28,501][cascade_classifier.calc_accuracy] Accuracy(layer_0 - test.classifier_average)=99.15%\n",
      "[ 2018-07-27 20:30:28,502][cascade_classifier.fit_transform] [Result][Reach Max Layer] opt_layer_num=1, accuracy_train=99.08%, accuracy_test=99.15%\n",
      "[ 2018-07-27 20:30:28,503][cascade_classifier.transform] X_groups_test.shape=[(2245, 23)]\n",
      "[ 2018-07-27 20:30:28,504][cascade_classifier.transform] group_dims=[23]\n",
      "[ 2018-07-27 20:30:28,504][cascade_classifier.transform] X_test.shape=(2245, 23)\n",
      "[ 2018-07-27 20:30:28,505][cascade_classifier.transform] [layer=0] look_indexs=[0], X_cur_test.shape=(2245, 23)\n",
      "[ 2018-07-27 20:30:30,135][cascade_classifier.fit_transform] X_groups_train.shape=[(4557, 23)],y_train.shape=(4557,),X_groups_test.shape=[(2245, 23)],y_test.shape=(2245,)\n",
      "[ 2018-07-27 20:30:30,136][cascade_classifier.fit_transform] group_dims=[23]\n",
      "[ 2018-07-27 20:30:30,137][cascade_classifier.fit_transform] group_starts=[0]\n",
      "[ 2018-07-27 20:30:30,137][cascade_classifier.fit_transform] group_ends=[23]\n",
      "[ 2018-07-27 20:30:30,138][cascade_classifier.fit_transform] X_train.shape=(4557, 23),X_test.shape=(2245, 23)\n",
      "[ 2018-07-27 20:30:30,139][cascade_classifier.fit_transform] [layer=0] look_indexs=[0], X_cur_train.shape=(4557, 23), X_cur_test.shape=(2245, 23)\n"
     ]
    },
    {
     "name": "stdout",
     "output_type": "stream",
     "text": [
      "('Test Accuracy of DeepExtratTrees = 99.153675 %', 'Layer :', 3)\n",
      "[[2191    6]\n",
      " [  13   35]]\n",
      "\n",
      "\n",
      "             precision    recall  f1-score   support\n",
      "\n",
      "        0.0       0.99      1.00      1.00      2197\n",
      "        1.0       0.85      0.73      0.79        48\n",
      "\n",
      "avg / total       0.99      0.99      0.99      2245\n",
      "\n",
      "(' Time ', '7.8', ' seconds')\n"
     ]
    },
    {
     "name": "stderr",
     "output_type": "stream",
     "text": [
      "[ 2018-07-27 20:30:30,642][kfold_wrapper.log_eval_metrics] Accuracy(layer_0 - estimator_0 - 10_folds.train_0.predict)=98.68%\n",
      "[ 2018-07-27 20:30:31,356][kfold_wrapper.log_eval_metrics] Accuracy(layer_0 - estimator_0 - 10_folds.train_1.predict)=99.34%\n",
      "[ 2018-07-27 20:30:31,967][kfold_wrapper.log_eval_metrics] Accuracy(layer_0 - estimator_0 - 10_folds.train_2.predict)=99.12%\n",
      "[ 2018-07-27 20:30:32,576][kfold_wrapper.log_eval_metrics] Accuracy(layer_0 - estimator_0 - 10_folds.train_3.predict)=99.34%\n",
      "[ 2018-07-27 20:30:33,292][kfold_wrapper.log_eval_metrics] Accuracy(layer_0 - estimator_0 - 10_folds.train_4.predict)=98.46%\n",
      "[ 2018-07-27 20:30:34,011][kfold_wrapper.log_eval_metrics] Accuracy(layer_0 - estimator_0 - 10_folds.train_5.predict)=98.68%\n",
      "[ 2018-07-27 20:30:34,613][kfold_wrapper.log_eval_metrics] Accuracy(layer_0 - estimator_0 - 10_folds.train_6.predict)=99.12%\n",
      "[ 2018-07-27 20:30:35,328][kfold_wrapper.log_eval_metrics] Accuracy(layer_0 - estimator_0 - 10_folds.train_7.predict)=99.12%\n",
      "[ 2018-07-27 20:30:36,095][kfold_wrapper.log_eval_metrics] Accuracy(layer_0 - estimator_0 - 10_folds.train_8.predict)=99.78%\n",
      "[ 2018-07-27 20:30:36,932][kfold_wrapper.log_eval_metrics] Accuracy(layer_0 - estimator_0 - 10_folds.train_9.predict)=99.56%\n",
      "[ 2018-07-27 20:30:37,152][kfold_wrapper.log_eval_metrics] Accuracy(layer_0 - estimator_0 - 10_folds.train_cv.predict)=99.12%\n",
      "[ 2018-07-27 20:30:37,154][kfold_wrapper.log_eval_metrics] Accuracy(layer_0 - estimator_0 - 10_folds.test.predict)=99.15%\n",
      "[ 2018-07-27 20:30:37,156][cascade_classifier.calc_accuracy] Accuracy(layer_0 - train.classifier_average)=99.12%\n",
      "[ 2018-07-27 20:30:37,157][cascade_classifier.calc_accuracy] Accuracy(layer_0 - test.classifier_average)=99.15%\n",
      "[ 2018-07-27 20:30:37,158][cascade_classifier.fit_transform] [Result][Reach Max Layer] opt_layer_num=1, accuracy_train=99.12%, accuracy_test=99.15%\n",
      "[ 2018-07-27 20:30:37,159][cascade_classifier.transform] X_groups_test.shape=[(2245, 23)]\n",
      "[ 2018-07-27 20:30:37,160][cascade_classifier.transform] group_dims=[23]\n",
      "[ 2018-07-27 20:30:37,161][cascade_classifier.transform] X_test.shape=(2245, 23)\n",
      "[ 2018-07-27 20:30:37,162][cascade_classifier.transform] [layer=0] look_indexs=[0], X_cur_test.shape=(2245, 23)\n",
      "[ 2018-07-27 20:30:39,386][cascade_classifier.fit_transform] X_groups_train.shape=[(4557, 23)],y_train.shape=(4557,),X_groups_test.shape=[(2245, 23)],y_test.shape=(2245,)\n",
      "[ 2018-07-27 20:30:39,388][cascade_classifier.fit_transform] group_dims=[23]\n",
      "[ 2018-07-27 20:30:39,389][cascade_classifier.fit_transform] group_starts=[0]\n",
      "[ 2018-07-27 20:30:39,390][cascade_classifier.fit_transform] group_ends=[23]\n",
      "[ 2018-07-27 20:30:39,391][cascade_classifier.fit_transform] X_train.shape=(4557, 23),X_test.shape=(2245, 23)\n",
      "[ 2018-07-27 20:30:39,393][cascade_classifier.fit_transform] [layer=0] look_indexs=[0], X_cur_train.shape=(4557, 23), X_cur_test.shape=(2245, 23)\n"
     ]
    },
    {
     "name": "stdout",
     "output_type": "stream",
     "text": [
      "('Test Accuracy of DeepExtratTrees = 99.153675 %', 'Layer :', 4)\n",
      "[[2191    6]\n",
      " [  13   35]]\n",
      "\n",
      "\n",
      "             precision    recall  f1-score   support\n",
      "\n",
      "        0.0       0.99      1.00      1.00      2197\n",
      "        1.0       0.85      0.73      0.79        48\n",
      "\n",
      "avg / total       0.99      0.99      0.99      2245\n",
      "\n",
      "(' Time ', '7.025', ' seconds')\n"
     ]
    },
    {
     "name": "stderr",
     "output_type": "stream",
     "text": [
      "[ 2018-07-27 20:30:40,264][kfold_wrapper.log_eval_metrics] Accuracy(layer_0 - estimator_0 - 10_folds.train_0.predict)=98.68%\n",
      "[ 2018-07-27 20:30:41,271][kfold_wrapper.log_eval_metrics] Accuracy(layer_0 - estimator_0 - 10_folds.train_1.predict)=99.34%\n",
      "[ 2018-07-27 20:30:42,003][kfold_wrapper.log_eval_metrics] Accuracy(layer_0 - estimator_0 - 10_folds.train_2.predict)=99.12%\n",
      "[ 2018-07-27 20:30:42,726][kfold_wrapper.log_eval_metrics] Accuracy(layer_0 - estimator_0 - 10_folds.train_3.predict)=99.12%\n",
      "[ 2018-07-27 20:30:43,328][kfold_wrapper.log_eval_metrics] Accuracy(layer_0 - estimator_0 - 10_folds.train_4.predict)=98.68%\n",
      "[ 2018-07-27 20:30:44,050][kfold_wrapper.log_eval_metrics] Accuracy(layer_0 - estimator_0 - 10_folds.train_5.predict)=98.68%\n",
      "[ 2018-07-27 20:30:44,656][kfold_wrapper.log_eval_metrics] Accuracy(layer_0 - estimator_0 - 10_folds.train_6.predict)=99.12%\n",
      "[ 2018-07-27 20:30:45,258][kfold_wrapper.log_eval_metrics] Accuracy(layer_0 - estimator_0 - 10_folds.train_7.predict)=99.12%\n",
      "[ 2018-07-27 20:30:45,974][kfold_wrapper.log_eval_metrics] Accuracy(layer_0 - estimator_0 - 10_folds.train_8.predict)=99.78%\n",
      "[ 2018-07-27 20:30:46,689][kfold_wrapper.log_eval_metrics] Accuracy(layer_0 - estimator_0 - 10_folds.train_9.predict)=99.34%\n",
      "[ 2018-07-27 20:30:46,910][kfold_wrapper.log_eval_metrics] Accuracy(layer_0 - estimator_0 - 10_folds.train_cv.predict)=99.10%\n",
      "[ 2018-07-27 20:30:46,911][kfold_wrapper.log_eval_metrics] Accuracy(layer_0 - estimator_0 - 10_folds.test.predict)=99.15%\n",
      "[ 2018-07-27 20:30:46,913][cascade_classifier.calc_accuracy] Accuracy(layer_0 - train.classifier_average)=99.10%\n",
      "[ 2018-07-27 20:30:46,914][cascade_classifier.calc_accuracy] Accuracy(layer_0 - test.classifier_average)=99.15%\n",
      "[ 2018-07-27 20:30:46,915][cascade_classifier.fit_transform] [Result][Reach Max Layer] opt_layer_num=1, accuracy_train=99.10%, accuracy_test=99.15%\n",
      "[ 2018-07-27 20:30:46,916][cascade_classifier.transform] X_groups_test.shape=[(2245, 23)]\n",
      "[ 2018-07-27 20:30:46,916][cascade_classifier.transform] group_dims=[23]\n",
      "[ 2018-07-27 20:30:46,917][cascade_classifier.transform] X_test.shape=(2245, 23)\n",
      "[ 2018-07-27 20:30:46,918][cascade_classifier.transform] [layer=0] look_indexs=[0], X_cur_test.shape=(2245, 23)\n",
      "[ 2018-07-27 20:30:48,657][cascade_classifier.fit_transform] X_groups_train.shape=[(4557, 23)],y_train.shape=(4557,),X_groups_test.shape=[(2245, 23)],y_test.shape=(2245,)\n",
      "[ 2018-07-27 20:30:48,658][cascade_classifier.fit_transform] group_dims=[23]\n",
      "[ 2018-07-27 20:30:48,659][cascade_classifier.fit_transform] group_starts=[0]\n",
      "[ 2018-07-27 20:30:48,660][cascade_classifier.fit_transform] group_ends=[23]\n",
      "[ 2018-07-27 20:30:48,660][cascade_classifier.fit_transform] X_train.shape=(4557, 23),X_test.shape=(2245, 23)\n",
      "[ 2018-07-27 20:30:48,661][cascade_classifier.fit_transform] [layer=0] look_indexs=[0], X_cur_train.shape=(4557, 23), X_cur_test.shape=(2245, 23)\n"
     ]
    },
    {
     "name": "stdout",
     "output_type": "stream",
     "text": [
      "('Test Accuracy of DeepExtratTrees = 99.153675 %', 'Layer :', 5)\n",
      "[[2190    7]\n",
      " [  12   36]]\n",
      "\n",
      "\n",
      "             precision    recall  f1-score   support\n",
      "\n",
      "        0.0       0.99      1.00      1.00      2197\n",
      "        1.0       0.84      0.75      0.79        48\n",
      "\n",
      "avg / total       0.99      0.99      0.99      2245\n",
      "\n",
      "(' Time ', '7.53', ' seconds')\n"
     ]
    },
    {
     "name": "stderr",
     "output_type": "stream",
     "text": [
      "[ 2018-07-27 20:30:49,204][kfold_wrapper.log_eval_metrics] Accuracy(layer_0 - estimator_0 - 10_folds.train_0.predict)=98.46%\n",
      "[ 2018-07-27 20:30:49,921][kfold_wrapper.log_eval_metrics] Accuracy(layer_0 - estimator_0 - 10_folds.train_1.predict)=99.34%\n",
      "[ 2018-07-27 20:30:50,752][kfold_wrapper.log_eval_metrics] Accuracy(layer_0 - estimator_0 - 10_folds.train_2.predict)=99.34%\n",
      "[ 2018-07-27 20:30:51,469][kfold_wrapper.log_eval_metrics] Accuracy(layer_0 - estimator_0 - 10_folds.train_3.predict)=99.12%\n",
      "[ 2018-07-27 20:30:52,070][kfold_wrapper.log_eval_metrics] Accuracy(layer_0 - estimator_0 - 10_folds.train_4.predict)=98.46%\n",
      "[ 2018-07-27 20:30:52,789][kfold_wrapper.log_eval_metrics] Accuracy(layer_0 - estimator_0 - 10_folds.train_5.predict)=98.68%\n",
      "[ 2018-07-27 20:30:53,505][kfold_wrapper.log_eval_metrics] Accuracy(layer_0 - estimator_0 - 10_folds.train_6.predict)=99.12%\n",
      "[ 2018-07-27 20:30:54,109][kfold_wrapper.log_eval_metrics] Accuracy(layer_0 - estimator_0 - 10_folds.train_7.predict)=98.90%\n",
      "[ 2018-07-27 20:30:54,832][kfold_wrapper.log_eval_metrics] Accuracy(layer_0 - estimator_0 - 10_folds.train_8.predict)=99.78%\n",
      "[ 2018-07-27 20:30:55,550][kfold_wrapper.log_eval_metrics] Accuracy(layer_0 - estimator_0 - 10_folds.train_9.predict)=99.12%\n",
      "[ 2018-07-27 20:30:55,655][kfold_wrapper.log_eval_metrics] Accuracy(layer_0 - estimator_0 - 10_folds.train_cv.predict)=99.03%\n",
      "[ 2018-07-27 20:30:55,656][kfold_wrapper.log_eval_metrics] Accuracy(layer_0 - estimator_0 - 10_folds.test.predict)=99.20%\n",
      "[ 2018-07-27 20:30:55,659][cascade_classifier.calc_accuracy] Accuracy(layer_0 - train.classifier_average)=99.03%\n",
      "[ 2018-07-27 20:30:55,660][cascade_classifier.calc_accuracy] Accuracy(layer_0 - test.classifier_average)=99.20%\n",
      "[ 2018-07-27 20:30:55,660][cascade_classifier.fit_transform] [Result][Reach Max Layer] opt_layer_num=1, accuracy_train=99.03%, accuracy_test=99.20%\n",
      "[ 2018-07-27 20:30:55,661][cascade_classifier.transform] X_groups_test.shape=[(2245, 23)]\n",
      "[ 2018-07-27 20:30:55,662][cascade_classifier.transform] group_dims=[23]\n",
      "[ 2018-07-27 20:30:55,663][cascade_classifier.transform] X_test.shape=(2245, 23)\n",
      "[ 2018-07-27 20:30:55,663][cascade_classifier.transform] [layer=0] look_indexs=[0], X_cur_test.shape=(2245, 23)\n",
      "[ 2018-07-27 20:30:57,937][cascade_classifier.fit_transform] X_groups_train.shape=[(4557, 23)],y_train.shape=(4557,),X_groups_test.shape=[(2245, 23)],y_test.shape=(2245,)\n",
      "[ 2018-07-27 20:30:57,939][cascade_classifier.fit_transform] group_dims=[23]\n",
      "[ 2018-07-27 20:30:57,942][cascade_classifier.fit_transform] group_starts=[0]\n",
      "[ 2018-07-27 20:30:57,945][cascade_classifier.fit_transform] group_ends=[23]\n",
      "[ 2018-07-27 20:30:57,947][cascade_classifier.fit_transform] X_train.shape=(4557, 23),X_test.shape=(2245, 23)\n",
      "[ 2018-07-27 20:30:57,948][cascade_classifier.fit_transform] [layer=0] look_indexs=[0], X_cur_train.shape=(4557, 23), X_cur_test.shape=(2245, 23)\n"
     ]
    },
    {
     "name": "stdout",
     "output_type": "stream",
     "text": [
      "('Test Accuracy of DeepExtratTrees = 99.198218 %', 'Layer :', 6)\n",
      "[[2191    6]\n",
      " [  12   36]]\n",
      "\n",
      "\n",
      "             precision    recall  f1-score   support\n",
      "\n",
      "        0.0       0.99      1.00      1.00      2197\n",
      "        1.0       0.86      0.75      0.80        48\n",
      "\n",
      "avg / total       0.99      0.99      0.99      2245\n",
      "\n",
      "(' Time ', '7.005', ' seconds')\n"
     ]
    },
    {
     "name": "stderr",
     "output_type": "stream",
     "text": [
      "[ 2018-07-27 20:30:58,531][kfold_wrapper.log_eval_metrics] Accuracy(layer_0 - estimator_0 - 10_folds.train_0.predict)=98.46%\n",
      "[ 2018-07-27 20:30:59,471][kfold_wrapper.log_eval_metrics] Accuracy(layer_0 - estimator_0 - 10_folds.train_1.predict)=99.12%\n",
      "[ 2018-07-27 20:31:00,240][kfold_wrapper.log_eval_metrics] Accuracy(layer_0 - estimator_0 - 10_folds.train_2.predict)=99.56%\n",
      "[ 2018-07-27 20:31:00,958][kfold_wrapper.log_eval_metrics] Accuracy(layer_0 - estimator_0 - 10_folds.train_3.predict)=99.12%\n",
      "[ 2018-07-27 20:31:01,708][kfold_wrapper.log_eval_metrics] Accuracy(layer_0 - estimator_0 - 10_folds.train_4.predict)=98.46%\n",
      "[ 2018-07-27 20:31:02,312][kfold_wrapper.log_eval_metrics] Accuracy(layer_0 - estimator_0 - 10_folds.train_5.predict)=98.68%\n",
      "[ 2018-07-27 20:31:03,027][kfold_wrapper.log_eval_metrics] Accuracy(layer_0 - estimator_0 - 10_folds.train_6.predict)=98.90%\n",
      "[ 2018-07-27 20:31:03,740][kfold_wrapper.log_eval_metrics] Accuracy(layer_0 - estimator_0 - 10_folds.train_7.predict)=99.12%\n",
      "[ 2018-07-27 20:31:04,341][kfold_wrapper.log_eval_metrics] Accuracy(layer_0 - estimator_0 - 10_folds.train_8.predict)=99.56%\n",
      "[ 2018-07-27 20:31:05,059][kfold_wrapper.log_eval_metrics] Accuracy(layer_0 - estimator_0 - 10_folds.train_9.predict)=98.46%\n",
      "[ 2018-07-27 20:31:05,165][kfold_wrapper.log_eval_metrics] Accuracy(layer_0 - estimator_0 - 10_folds.train_cv.predict)=98.95%\n",
      "[ 2018-07-27 20:31:05,165][kfold_wrapper.log_eval_metrics] Accuracy(layer_0 - estimator_0 - 10_folds.test.predict)=99.20%\n",
      "[ 2018-07-27 20:31:05,168][cascade_classifier.calc_accuracy] Accuracy(layer_0 - train.classifier_average)=98.95%\n",
      "[ 2018-07-27 20:31:05,169][cascade_classifier.calc_accuracy] Accuracy(layer_0 - test.classifier_average)=99.20%\n",
      "[ 2018-07-27 20:31:05,170][cascade_classifier.fit_transform] [Result][Reach Max Layer] opt_layer_num=1, accuracy_train=98.95%, accuracy_test=99.20%\n",
      "[ 2018-07-27 20:31:05,170][cascade_classifier.transform] X_groups_test.shape=[(2245, 23)]\n",
      "[ 2018-07-27 20:31:05,171][cascade_classifier.transform] group_dims=[23]\n",
      "[ 2018-07-27 20:31:05,172][cascade_classifier.transform] X_test.shape=(2245, 23)\n",
      "[ 2018-07-27 20:31:05,173][cascade_classifier.transform] [layer=0] look_indexs=[0], X_cur_test.shape=(2245, 23)\n",
      "[ 2018-07-27 20:31:07,030][cascade_classifier.fit_transform] X_groups_train.shape=[(4557, 23)],y_train.shape=(4557,),X_groups_test.shape=[(2245, 23)],y_test.shape=(2245,)\n",
      "[ 2018-07-27 20:31:07,031][cascade_classifier.fit_transform] group_dims=[23]\n",
      "[ 2018-07-27 20:31:07,032][cascade_classifier.fit_transform] group_starts=[0]\n",
      "[ 2018-07-27 20:31:07,032][cascade_classifier.fit_transform] group_ends=[23]\n",
      "[ 2018-07-27 20:31:07,033][cascade_classifier.fit_transform] X_train.shape=(4557, 23),X_test.shape=(2245, 23)\n",
      "[ 2018-07-27 20:31:07,034][cascade_classifier.fit_transform] [layer=0] look_indexs=[0], X_cur_train.shape=(4557, 23), X_cur_test.shape=(2245, 23)\n"
     ]
    },
    {
     "name": "stdout",
     "output_type": "stream",
     "text": [
      "('Test Accuracy of DeepExtratTrees = 99.198218 %', 'Layer :', 7)\n",
      "[[2191    6]\n",
      " [  12   36]]\n",
      "\n",
      "\n",
      "             precision    recall  f1-score   support\n",
      "\n",
      "        0.0       0.99      1.00      1.00      2197\n",
      "        1.0       0.86      0.75      0.80        48\n",
      "\n",
      "avg / total       0.99      0.99      0.99      2245\n",
      "\n",
      "(' Time ', '7.235', ' seconds')\n"
     ]
    },
    {
     "name": "stderr",
     "output_type": "stream",
     "text": [
      "[ 2018-07-27 20:31:07,534][kfold_wrapper.log_eval_metrics] Accuracy(layer_0 - estimator_0 - 10_folds.train_0.predict)=98.68%\n",
      "[ 2018-07-27 20:31:08,140][kfold_wrapper.log_eval_metrics] Accuracy(layer_0 - estimator_0 - 10_folds.train_1.predict)=99.12%\n",
      "[ 2018-07-27 20:31:08,861][kfold_wrapper.log_eval_metrics] Accuracy(layer_0 - estimator_0 - 10_folds.train_2.predict)=99.34%\n",
      "[ 2018-07-27 20:31:09,472][kfold_wrapper.log_eval_metrics] Accuracy(layer_0 - estimator_0 - 10_folds.train_3.predict)=99.12%\n",
      "[ 2018-07-27 20:31:10,074][kfold_wrapper.log_eval_metrics] Accuracy(layer_0 - estimator_0 - 10_folds.train_4.predict)=98.68%\n",
      "[ 2018-07-27 20:31:10,677][kfold_wrapper.log_eval_metrics] Accuracy(layer_0 - estimator_0 - 10_folds.train_5.predict)=98.90%\n",
      "[ 2018-07-27 20:31:11,394][kfold_wrapper.log_eval_metrics] Accuracy(layer_0 - estimator_0 - 10_folds.train_6.predict)=99.12%\n",
      "[ 2018-07-27 20:31:12,113][kfold_wrapper.log_eval_metrics] Accuracy(layer_0 - estimator_0 - 10_folds.train_7.predict)=99.12%\n",
      "[ 2018-07-27 20:31:12,835][kfold_wrapper.log_eval_metrics] Accuracy(layer_0 - estimator_0 - 10_folds.train_8.predict)=99.56%\n",
      "[ 2018-07-27 20:31:13,478][kfold_wrapper.log_eval_metrics] Accuracy(layer_0 - estimator_0 - 10_folds.train_9.predict)=98.68%\n",
      "[ 2018-07-27 20:31:13,700][kfold_wrapper.log_eval_metrics] Accuracy(layer_0 - estimator_0 - 10_folds.train_cv.predict)=99.03%\n",
      "[ 2018-07-27 20:31:13,701][kfold_wrapper.log_eval_metrics] Accuracy(layer_0 - estimator_0 - 10_folds.test.predict)=99.15%\n",
      "[ 2018-07-27 20:31:13,703][cascade_classifier.calc_accuracy] Accuracy(layer_0 - train.classifier_average)=99.03%\n",
      "[ 2018-07-27 20:31:13,704][cascade_classifier.calc_accuracy] Accuracy(layer_0 - test.classifier_average)=99.15%\n",
      "[ 2018-07-27 20:31:13,705][cascade_classifier.fit_transform] [Result][Reach Max Layer] opt_layer_num=1, accuracy_train=99.03%, accuracy_test=99.15%\n",
      "[ 2018-07-27 20:31:13,705][cascade_classifier.transform] X_groups_test.shape=[(2245, 23)]\n",
      "[ 2018-07-27 20:31:13,707][cascade_classifier.transform] group_dims=[23]\n",
      "[ 2018-07-27 20:31:13,707][cascade_classifier.transform] X_test.shape=(2245, 23)\n",
      "[ 2018-07-27 20:31:13,708][cascade_classifier.transform] [layer=0] look_indexs=[0], X_cur_test.shape=(2245, 23)\n",
      "[ 2018-07-27 20:31:15,238][cascade_classifier.fit_transform] X_groups_train.shape=[(4557, 23)],y_train.shape=(4557,),X_groups_test.shape=[(2245, 23)],y_test.shape=(2245,)\n",
      "[ 2018-07-27 20:31:15,239][cascade_classifier.fit_transform] group_dims=[23]\n",
      "[ 2018-07-27 20:31:15,240][cascade_classifier.fit_transform] group_starts=[0]\n",
      "[ 2018-07-27 20:31:15,242][cascade_classifier.fit_transform] group_ends=[23]\n",
      "[ 2018-07-27 20:31:15,243][cascade_classifier.fit_transform] X_train.shape=(4557, 23),X_test.shape=(2245, 23)\n",
      "[ 2018-07-27 20:31:15,244][cascade_classifier.fit_transform] [layer=0] look_indexs=[0], X_cur_train.shape=(4557, 23), X_cur_test.shape=(2245, 23)\n"
     ]
    },
    {
     "name": "stdout",
     "output_type": "stream",
     "text": [
      "('Test Accuracy of DeepExtratTrees = 99.153675 %', 'Layer :', 8)\n",
      "[[2192    5]\n",
      " [  14   34]]\n",
      "\n",
      "\n",
      "             precision    recall  f1-score   support\n",
      "\n",
      "        0.0       0.99      1.00      1.00      2197\n",
      "        1.0       0.87      0.71      0.78        48\n",
      "\n",
      "avg / total       0.99      0.99      0.99      2245\n",
      "\n",
      "(' Time ', '6.677', ' seconds')\n"
     ]
    },
    {
     "name": "stderr",
     "output_type": "stream",
     "text": [
      "[ 2018-07-27 20:31:15,863][kfold_wrapper.log_eval_metrics] Accuracy(layer_0 - estimator_0 - 10_folds.train_0.predict)=98.46%\n",
      "[ 2018-07-27 20:31:16,900][kfold_wrapper.log_eval_metrics] Accuracy(layer_0 - estimator_0 - 10_folds.train_1.predict)=99.34%\n",
      "[ 2018-07-27 20:31:17,909][kfold_wrapper.log_eval_metrics] Accuracy(layer_0 - estimator_0 - 10_folds.train_2.predict)=99.34%\n",
      "[ 2018-07-27 20:31:18,774][kfold_wrapper.log_eval_metrics] Accuracy(layer_0 - estimator_0 - 10_folds.train_3.predict)=99.12%\n",
      "[ 2018-07-27 20:31:19,491][kfold_wrapper.log_eval_metrics] Accuracy(layer_0 - estimator_0 - 10_folds.train_4.predict)=98.68%\n",
      "[ 2018-07-27 20:31:20,096][kfold_wrapper.log_eval_metrics] Accuracy(layer_0 - estimator_0 - 10_folds.train_5.predict)=98.68%\n",
      "[ 2018-07-27 20:31:20,697][kfold_wrapper.log_eval_metrics] Accuracy(layer_0 - estimator_0 - 10_folds.train_6.predict)=98.90%\n",
      "[ 2018-07-27 20:31:21,298][kfold_wrapper.log_eval_metrics] Accuracy(layer_0 - estimator_0 - 10_folds.train_7.predict)=98.68%\n",
      "[ 2018-07-27 20:31:21,902][kfold_wrapper.log_eval_metrics] Accuracy(layer_0 - estimator_0 - 10_folds.train_8.predict)=99.56%\n",
      "[ 2018-07-27 20:31:22,618][kfold_wrapper.log_eval_metrics] Accuracy(layer_0 - estimator_0 - 10_folds.train_9.predict)=98.68%\n",
      "[ 2018-07-27 20:31:22,725][kfold_wrapper.log_eval_metrics] Accuracy(layer_0 - estimator_0 - 10_folds.train_cv.predict)=98.95%\n",
      "[ 2018-07-27 20:31:22,726][kfold_wrapper.log_eval_metrics] Accuracy(layer_0 - estimator_0 - 10_folds.test.predict)=99.11%\n",
      "[ 2018-07-27 20:31:22,728][cascade_classifier.calc_accuracy] Accuracy(layer_0 - train.classifier_average)=98.95%\n",
      "[ 2018-07-27 20:31:22,729][cascade_classifier.calc_accuracy] Accuracy(layer_0 - test.classifier_average)=99.11%\n",
      "[ 2018-07-27 20:31:22,730][cascade_classifier.fit_transform] [Result][Reach Max Layer] opt_layer_num=1, accuracy_train=98.95%, accuracy_test=99.11%\n",
      "[ 2018-07-27 20:31:22,731][cascade_classifier.transform] X_groups_test.shape=[(2245, 23)]\n",
      "[ 2018-07-27 20:31:22,732][cascade_classifier.transform] group_dims=[23]\n",
      "[ 2018-07-27 20:31:22,732][cascade_classifier.transform] X_test.shape=(2245, 23)\n",
      "[ 2018-07-27 20:31:22,733][cascade_classifier.transform] [layer=0] look_indexs=[0], X_cur_test.shape=(2245, 23)\n",
      "[ 2018-07-27 20:31:24,591][cascade_classifier.fit_transform] X_groups_train.shape=[(4557, 23)],y_train.shape=(4557,),X_groups_test.shape=[(2245, 23)],y_test.shape=(2245,)\n",
      "[ 2018-07-27 20:31:24,592][cascade_classifier.fit_transform] group_dims=[23]\n",
      "[ 2018-07-27 20:31:24,593][cascade_classifier.fit_transform] group_starts=[0]\n",
      "[ 2018-07-27 20:31:24,594][cascade_classifier.fit_transform] group_ends=[23]\n",
      "[ 2018-07-27 20:31:24,594][cascade_classifier.fit_transform] X_train.shape=(4557, 23),X_test.shape=(2245, 23)\n",
      "[ 2018-07-27 20:31:24,596][cascade_classifier.fit_transform] [layer=0] look_indexs=[0], X_cur_train.shape=(4557, 23), X_cur_test.shape=(2245, 23)\n"
     ]
    },
    {
     "name": "stdout",
     "output_type": "stream",
     "text": [
      "('Test Accuracy of DeepExtratTrees = 99.109131 %', 'Layer :', 9)\n",
      "[[2191    6]\n",
      " [  14   34]]\n",
      "\n",
      "\n",
      "             precision    recall  f1-score   support\n",
      "\n",
      "        0.0       0.99      1.00      1.00      2197\n",
      "        1.0       0.85      0.71      0.77        48\n",
      "\n",
      "avg / total       0.99      0.99      0.99      2245\n",
      "\n",
      "(' Time ', '7.494', ' seconds')\n"
     ]
    },
    {
     "name": "stderr",
     "output_type": "stream",
     "text": [
      "[ 2018-07-27 20:31:25,093][kfold_wrapper.log_eval_metrics] Accuracy(layer_0 - estimator_0 - 10_folds.train_0.predict)=98.68%\n",
      "[ 2018-07-27 20:31:25,962][kfold_wrapper.log_eval_metrics] Accuracy(layer_0 - estimator_0 - 10_folds.train_1.predict)=99.12%\n",
      "[ 2018-07-27 20:31:26,691][kfold_wrapper.log_eval_metrics] Accuracy(layer_0 - estimator_0 - 10_folds.train_2.predict)=99.12%\n",
      "[ 2018-07-27 20:31:27,291][kfold_wrapper.log_eval_metrics] Accuracy(layer_0 - estimator_0 - 10_folds.train_3.predict)=99.12%\n",
      "[ 2018-07-27 20:31:28,007][kfold_wrapper.log_eval_metrics] Accuracy(layer_0 - estimator_0 - 10_folds.train_4.predict)=98.03%\n",
      "[ 2018-07-27 20:31:28,612][kfold_wrapper.log_eval_metrics] Accuracy(layer_0 - estimator_0 - 10_folds.train_5.predict)=98.68%\n",
      "[ 2018-07-27 20:31:29,331][kfold_wrapper.log_eval_metrics] Accuracy(layer_0 - estimator_0 - 10_folds.train_6.predict)=98.90%\n",
      "[ 2018-07-27 20:31:29,934][kfold_wrapper.log_eval_metrics] Accuracy(layer_0 - estimator_0 - 10_folds.train_7.predict)=98.68%\n",
      "[ 2018-07-27 20:31:30,652][kfold_wrapper.log_eval_metrics] Accuracy(layer_0 - estimator_0 - 10_folds.train_8.predict)=99.34%\n",
      "[ 2018-07-27 20:31:31,376][kfold_wrapper.log_eval_metrics] Accuracy(layer_0 - estimator_0 - 10_folds.train_9.predict)=98.68%\n",
      "[ 2018-07-27 20:31:31,595][kfold_wrapper.log_eval_metrics] Accuracy(layer_0 - estimator_0 - 10_folds.train_cv.predict)=98.84%\n",
      "[ 2018-07-27 20:31:31,596][kfold_wrapper.log_eval_metrics] Accuracy(layer_0 - estimator_0 - 10_folds.test.predict)=99.02%\n",
      "[ 2018-07-27 20:31:31,599][cascade_classifier.calc_accuracy] Accuracy(layer_0 - train.classifier_average)=98.84%\n",
      "[ 2018-07-27 20:31:31,600][cascade_classifier.calc_accuracy] Accuracy(layer_0 - test.classifier_average)=99.02%\n",
      "[ 2018-07-27 20:31:31,601][cascade_classifier.fit_transform] [Result][Reach Max Layer] opt_layer_num=1, accuracy_train=98.84%, accuracy_test=99.02%\n",
      "[ 2018-07-27 20:31:31,601][cascade_classifier.transform] X_groups_test.shape=[(2245, 23)]\n",
      "[ 2018-07-27 20:31:31,602][cascade_classifier.transform] group_dims=[23]\n",
      "[ 2018-07-27 20:31:31,603][cascade_classifier.transform] X_test.shape=(2245, 23)\n",
      "[ 2018-07-27 20:31:31,604][cascade_classifier.transform] [layer=0] look_indexs=[0], X_cur_test.shape=(2245, 23)\n",
      "[ 2018-07-27 20:31:33,117][cascade_classifier.fit_transform] X_groups_train.shape=[(4557, 23)],y_train.shape=(4557,),X_groups_test.shape=[(2245, 23)],y_test.shape=(2245,)\n",
      "[ 2018-07-27 20:31:33,118][cascade_classifier.fit_transform] group_dims=[23]\n",
      "[ 2018-07-27 20:31:33,119][cascade_classifier.fit_transform] group_starts=[0]\n",
      "[ 2018-07-27 20:31:33,119][cascade_classifier.fit_transform] group_ends=[23]\n",
      "[ 2018-07-27 20:31:33,120][cascade_classifier.fit_transform] X_train.shape=(4557, 23),X_test.shape=(2245, 23)\n",
      "[ 2018-07-27 20:31:33,121][cascade_classifier.fit_transform] [layer=0] look_indexs=[0], X_cur_train.shape=(4557, 23), X_cur_test.shape=(2245, 23)\n"
     ]
    },
    {
     "name": "stdout",
     "output_type": "stream",
     "text": [
      "('Test Accuracy of DeepExtratTrees = 99.020045 %', 'Layer :', 10)\n",
      "[[2187   10]\n",
      " [  12   36]]\n",
      "\n",
      "\n",
      "             precision    recall  f1-score   support\n",
      "\n",
      "        0.0       0.99      1.00      0.99      2197\n",
      "        1.0       0.78      0.75      0.77        48\n",
      "\n",
      "avg / total       0.99      0.99      0.99      2245\n",
      "\n",
      "(' Time ', '7.011', ' seconds')\n"
     ]
    },
    {
     "name": "stderr",
     "output_type": "stream",
     "text": [
      "[ 2018-07-27 20:31:33,753][kfold_wrapper.log_eval_metrics] Accuracy(layer_0 - estimator_0 - 10_folds.train_0.predict)=98.46%\n",
      "[ 2018-07-27 20:31:34,615][kfold_wrapper.log_eval_metrics] Accuracy(layer_0 - estimator_0 - 10_folds.train_1.predict)=99.34%\n",
      "[ 2018-07-27 20:31:35,516][kfold_wrapper.log_eval_metrics] Accuracy(layer_0 - estimator_0 - 10_folds.train_2.predict)=98.68%\n",
      "[ 2018-07-27 20:31:36,704][kfold_wrapper.log_eval_metrics] Accuracy(layer_0 - estimator_0 - 10_folds.train_3.predict)=99.34%\n",
      "[ 2018-07-27 20:31:37,691][kfold_wrapper.log_eval_metrics] Accuracy(layer_0 - estimator_0 - 10_folds.train_4.predict)=98.68%\n",
      "[ 2018-07-27 20:31:38,412][kfold_wrapper.log_eval_metrics] Accuracy(layer_0 - estimator_0 - 10_folds.train_5.predict)=98.68%\n",
      "[ 2018-07-27 20:31:39,019][kfold_wrapper.log_eval_metrics] Accuracy(layer_0 - estimator_0 - 10_folds.train_6.predict)=99.12%\n",
      "[ 2018-07-27 20:31:39,738][kfold_wrapper.log_eval_metrics] Accuracy(layer_0 - estimator_0 - 10_folds.train_7.predict)=99.12%\n",
      "[ 2018-07-27 20:31:40,345][kfold_wrapper.log_eval_metrics] Accuracy(layer_0 - estimator_0 - 10_folds.train_8.predict)=99.34%\n",
      "[ 2018-07-27 20:31:41,056][kfold_wrapper.log_eval_metrics] Accuracy(layer_0 - estimator_0 - 10_folds.train_9.predict)=98.90%\n",
      "[ 2018-07-27 20:31:41,277][kfold_wrapper.log_eval_metrics] Accuracy(layer_0 - estimator_0 - 10_folds.train_cv.predict)=98.97%\n",
      "[ 2018-07-27 20:31:41,278][kfold_wrapper.log_eval_metrics] Accuracy(layer_0 - estimator_0 - 10_folds.test.predict)=99.24%\n",
      "[ 2018-07-27 20:31:41,281][cascade_classifier.calc_accuracy] Accuracy(layer_0 - train.classifier_average)=98.97%\n",
      "[ 2018-07-27 20:31:41,282][cascade_classifier.calc_accuracy] Accuracy(layer_0 - test.classifier_average)=99.24%\n",
      "[ 2018-07-27 20:31:41,283][cascade_classifier.fit_transform] [Result][Reach Max Layer] opt_layer_num=1, accuracy_train=98.97%, accuracy_test=99.24%\n",
      "[ 2018-07-27 20:31:41,284][cascade_classifier.transform] X_groups_test.shape=[(2245, 23)]\n",
      "[ 2018-07-27 20:31:41,285][cascade_classifier.transform] group_dims=[23]\n",
      "[ 2018-07-27 20:31:41,286][cascade_classifier.transform] X_test.shape=(2245, 23)\n",
      "[ 2018-07-27 20:31:41,287][cascade_classifier.transform] [layer=0] look_indexs=[0], X_cur_test.shape=(2245, 23)\n",
      "[ 2018-07-27 20:31:43,385][cascade_classifier.fit_transform] X_groups_train.shape=[(4557, 23)],y_train.shape=(4557,),X_groups_test.shape=[(2245, 23)],y_test.shape=(2245,)\n",
      "[ 2018-07-27 20:31:43,387][cascade_classifier.fit_transform] group_dims=[23]\n",
      "[ 2018-07-27 20:31:43,387][cascade_classifier.fit_transform] group_starts=[0]\n",
      "[ 2018-07-27 20:31:43,389][cascade_classifier.fit_transform] group_ends=[23]\n",
      "[ 2018-07-27 20:31:43,390][cascade_classifier.fit_transform] X_train.shape=(4557, 23),X_test.shape=(2245, 23)\n",
      "[ 2018-07-27 20:31:43,391][cascade_classifier.fit_transform] [layer=0] look_indexs=[0], X_cur_train.shape=(4557, 23), X_cur_test.shape=(2245, 23)\n"
     ]
    },
    {
     "name": "stdout",
     "output_type": "stream",
     "text": [
      "('Test Accuracy of DeepExtratTrees = 99.242762 %', 'Layer :', 11)\n",
      "[[2188    9]\n",
      " [   8   40]]\n",
      "\n",
      "\n",
      "             precision    recall  f1-score   support\n",
      "\n",
      "        0.0       1.00      1.00      1.00      2197\n",
      "        1.0       0.82      0.83      0.82        48\n",
      "\n",
      "avg / total       0.99      0.99      0.99      2245\n",
      "\n",
      "(' Time ', '8.168', ' seconds')\n"
     ]
    },
    {
     "name": "stderr",
     "output_type": "stream",
     "text": [
      "[ 2018-07-27 20:31:43,896][kfold_wrapper.log_eval_metrics] Accuracy(layer_0 - estimator_0 - 10_folds.train_0.predict)=98.68%\n",
      "[ 2018-07-27 20:31:44,616][kfold_wrapper.log_eval_metrics] Accuracy(layer_0 - estimator_0 - 10_folds.train_1.predict)=99.34%\n",
      "[ 2018-07-27 20:31:45,332][kfold_wrapper.log_eval_metrics] Accuracy(layer_0 - estimator_0 - 10_folds.train_2.predict)=98.90%\n",
      "[ 2018-07-27 20:31:46,050][kfold_wrapper.log_eval_metrics] Accuracy(layer_0 - estimator_0 - 10_folds.train_3.predict)=99.34%\n",
      "[ 2018-07-27 20:31:46,648][kfold_wrapper.log_eval_metrics] Accuracy(layer_0 - estimator_0 - 10_folds.train_4.predict)=98.68%\n",
      "[ 2018-07-27 20:31:47,249][kfold_wrapper.log_eval_metrics] Accuracy(layer_0 - estimator_0 - 10_folds.train_5.predict)=98.90%\n",
      "[ 2018-07-27 20:31:47,966][kfold_wrapper.log_eval_metrics] Accuracy(layer_0 - estimator_0 - 10_folds.train_6.predict)=98.68%\n",
      "[ 2018-07-27 20:31:48,682][kfold_wrapper.log_eval_metrics] Accuracy(layer_0 - estimator_0 - 10_folds.train_7.predict)=99.12%\n",
      "[ 2018-07-27 20:31:49,398][kfold_wrapper.log_eval_metrics] Accuracy(layer_0 - estimator_0 - 10_folds.train_8.predict)=99.56%\n",
      "[ 2018-07-27 20:31:50,038][kfold_wrapper.log_eval_metrics] Accuracy(layer_0 - estimator_0 - 10_folds.train_9.predict)=98.68%\n",
      "[ 2018-07-27 20:31:50,145][kfold_wrapper.log_eval_metrics] Accuracy(layer_0 - estimator_0 - 10_folds.train_cv.predict)=98.99%\n",
      "[ 2018-07-27 20:31:50,146][kfold_wrapper.log_eval_metrics] Accuracy(layer_0 - estimator_0 - 10_folds.test.predict)=99.15%\n",
      "[ 2018-07-27 20:31:50,149][cascade_classifier.calc_accuracy] Accuracy(layer_0 - train.classifier_average)=98.99%\n",
      "[ 2018-07-27 20:31:50,149][cascade_classifier.calc_accuracy] Accuracy(layer_0 - test.classifier_average)=99.15%\n",
      "[ 2018-07-27 20:31:50,150][cascade_classifier.fit_transform] [Result][Reach Max Layer] opt_layer_num=1, accuracy_train=98.99%, accuracy_test=99.15%\n",
      "[ 2018-07-27 20:31:50,151][cascade_classifier.transform] X_groups_test.shape=[(2245, 23)]\n",
      "[ 2018-07-27 20:31:50,152][cascade_classifier.transform] group_dims=[23]\n",
      "[ 2018-07-27 20:31:50,152][cascade_classifier.transform] X_test.shape=(2245, 23)\n",
      "[ 2018-07-27 20:31:50,153][cascade_classifier.transform] [layer=0] look_indexs=[0], X_cur_test.shape=(2245, 23)\n",
      "[ 2018-07-27 20:31:51,777][cascade_classifier.fit_transform] X_groups_train.shape=[(4557, 23)],y_train.shape=(4557,),X_groups_test.shape=[(2245, 23)],y_test.shape=(2245,)\n",
      "[ 2018-07-27 20:31:51,778][cascade_classifier.fit_transform] group_dims=[23]\n",
      "[ 2018-07-27 20:31:51,778][cascade_classifier.fit_transform] group_starts=[0]\n",
      "[ 2018-07-27 20:31:51,779][cascade_classifier.fit_transform] group_ends=[23]\n",
      "[ 2018-07-27 20:31:51,780][cascade_classifier.fit_transform] X_train.shape=(4557, 23),X_test.shape=(2245, 23)\n",
      "[ 2018-07-27 20:31:51,781][cascade_classifier.fit_transform] [layer=0] look_indexs=[0], X_cur_train.shape=(4557, 23), X_cur_test.shape=(2245, 23)\n"
     ]
    },
    {
     "name": "stdout",
     "output_type": "stream",
     "text": [
      "('Test Accuracy of DeepExtratTrees = 99.153675 %', 'Layer :', 12)\n",
      "[[2187   10]\n",
      " [   9   39]]\n",
      "\n",
      "\n",
      "             precision    recall  f1-score   support\n",
      "\n",
      "        0.0       1.00      1.00      1.00      2197\n",
      "        1.0       0.80      0.81      0.80        48\n",
      "\n",
      "avg / total       0.99      0.99      0.99      2245\n",
      "\n",
      "(' Time ', '6.766', ' seconds')\n"
     ]
    },
    {
     "name": "stderr",
     "output_type": "stream",
     "text": [
      "[ 2018-07-27 20:31:52,415][kfold_wrapper.log_eval_metrics] Accuracy(layer_0 - estimator_0 - 10_folds.train_0.predict)=98.68%\n",
      "[ 2018-07-27 20:31:53,425][kfold_wrapper.log_eval_metrics] Accuracy(layer_0 - estimator_0 - 10_folds.train_1.predict)=99.34%\n",
      "[ 2018-07-27 20:31:54,311][kfold_wrapper.log_eval_metrics] Accuracy(layer_0 - estimator_0 - 10_folds.train_2.predict)=99.12%\n",
      "[ 2018-07-27 20:31:55,374][kfold_wrapper.log_eval_metrics] Accuracy(layer_0 - estimator_0 - 10_folds.train_3.predict)=99.34%\n",
      "[ 2018-07-27 20:31:56,137][kfold_wrapper.log_eval_metrics] Accuracy(layer_0 - estimator_0 - 10_folds.train_4.predict)=98.68%\n",
      "[ 2018-07-27 20:31:56,742][kfold_wrapper.log_eval_metrics] Accuracy(layer_0 - estimator_0 - 10_folds.train_5.predict)=98.90%\n",
      "[ 2018-07-27 20:31:57,460][kfold_wrapper.log_eval_metrics] Accuracy(layer_0 - estimator_0 - 10_folds.train_6.predict)=98.68%\n",
      "[ 2018-07-27 20:31:58,180][kfold_wrapper.log_eval_metrics] Accuracy(layer_0 - estimator_0 - 10_folds.train_7.predict)=98.90%\n",
      "[ 2018-07-27 20:31:58,904][kfold_wrapper.log_eval_metrics] Accuracy(layer_0 - estimator_0 - 10_folds.train_8.predict)=99.56%\n",
      "[ 2018-07-27 20:31:59,625][kfold_wrapper.log_eval_metrics] Accuracy(layer_0 - estimator_0 - 10_folds.train_9.predict)=98.68%\n",
      "[ 2018-07-27 20:31:59,846][kfold_wrapper.log_eval_metrics] Accuracy(layer_0 - estimator_0 - 10_folds.train_cv.predict)=98.99%\n",
      "[ 2018-07-27 20:31:59,847][kfold_wrapper.log_eval_metrics] Accuracy(layer_0 - estimator_0 - 10_folds.test.predict)=99.24%\n",
      "[ 2018-07-27 20:31:59,850][cascade_classifier.calc_accuracy] Accuracy(layer_0 - train.classifier_average)=98.99%\n",
      "[ 2018-07-27 20:31:59,851][cascade_classifier.calc_accuracy] Accuracy(layer_0 - test.classifier_average)=99.24%\n",
      "[ 2018-07-27 20:31:59,852][cascade_classifier.fit_transform] [Result][Reach Max Layer] opt_layer_num=1, accuracy_train=98.99%, accuracy_test=99.24%\n",
      "[ 2018-07-27 20:31:59,852][cascade_classifier.transform] X_groups_test.shape=[(2245, 23)]\n",
      "[ 2018-07-27 20:31:59,853][cascade_classifier.transform] group_dims=[23]\n",
      "[ 2018-07-27 20:31:59,854][cascade_classifier.transform] X_test.shape=(2245, 23)\n",
      "[ 2018-07-27 20:31:59,855][cascade_classifier.transform] [layer=0] look_indexs=[0], X_cur_test.shape=(2245, 23)\n",
      "[ 2018-07-27 20:32:01,877][cascade_classifier.fit_transform] X_groups_train.shape=[(4557, 23)],y_train.shape=(4557,),X_groups_test.shape=[(2245, 23)],y_test.shape=(2245,)\n",
      "[ 2018-07-27 20:32:01,878][cascade_classifier.fit_transform] group_dims=[23]\n",
      "[ 2018-07-27 20:32:01,879][cascade_classifier.fit_transform] group_starts=[0]\n",
      "[ 2018-07-27 20:32:01,880][cascade_classifier.fit_transform] group_ends=[23]\n",
      "[ 2018-07-27 20:32:01,881][cascade_classifier.fit_transform] X_train.shape=(4557, 23),X_test.shape=(2245, 23)\n",
      "[ 2018-07-27 20:32:01,882][cascade_classifier.fit_transform] [layer=0] look_indexs=[0], X_cur_train.shape=(4557, 23), X_cur_test.shape=(2245, 23)\n"
     ]
    },
    {
     "name": "stdout",
     "output_type": "stream",
     "text": [
      "('Test Accuracy of DeepExtratTrees = 99.242762 %', 'Layer :', 13)\n",
      "[[2189    8]\n",
      " [   9   39]]\n",
      "\n",
      "\n",
      "             precision    recall  f1-score   support\n",
      "\n",
      "        0.0       1.00      1.00      1.00      2197\n",
      "        1.0       0.83      0.81      0.82        48\n",
      "\n",
      "avg / total       0.99      0.99      0.99      2245\n",
      "\n",
      "(' Time ', '8.077', ' seconds')\n"
     ]
    },
    {
     "name": "stderr",
     "output_type": "stream",
     "text": [
      "[ 2018-07-27 20:32:02,381][kfold_wrapper.log_eval_metrics] Accuracy(layer_0 - estimator_0 - 10_folds.train_0.predict)=98.46%\n",
      "[ 2018-07-27 20:32:03,239][kfold_wrapper.log_eval_metrics] Accuracy(layer_0 - estimator_0 - 10_folds.train_1.predict)=99.34%\n",
      "[ 2018-07-27 20:32:03,967][kfold_wrapper.log_eval_metrics] Accuracy(layer_0 - estimator_0 - 10_folds.train_2.predict)=99.34%\n",
      "[ 2018-07-27 20:32:04,693][kfold_wrapper.log_eval_metrics] Accuracy(layer_0 - estimator_0 - 10_folds.train_3.predict)=99.12%\n",
      "[ 2018-07-27 20:32:05,565][kfold_wrapper.log_eval_metrics] Accuracy(layer_0 - estimator_0 - 10_folds.train_4.predict)=98.68%\n",
      "[ 2018-07-27 20:32:06,408][kfold_wrapper.log_eval_metrics] Accuracy(layer_0 - estimator_0 - 10_folds.train_5.predict)=98.68%\n",
      "[ 2018-07-27 20:32:07,127][kfold_wrapper.log_eval_metrics] Accuracy(layer_0 - estimator_0 - 10_folds.train_6.predict)=98.68%\n",
      "[ 2018-07-27 20:32:07,855][kfold_wrapper.log_eval_metrics] Accuracy(layer_0 - estimator_0 - 10_folds.train_7.predict)=98.68%\n",
      "[ 2018-07-27 20:32:08,458][kfold_wrapper.log_eval_metrics] Accuracy(layer_0 - estimator_0 - 10_folds.train_8.predict)=99.34%\n",
      "[ 2018-07-27 20:32:09,298][kfold_wrapper.log_eval_metrics] Accuracy(layer_0 - estimator_0 - 10_folds.train_9.predict)=98.68%\n",
      "[ 2018-07-27 20:32:09,539][kfold_wrapper.log_eval_metrics] Accuracy(layer_0 - estimator_0 - 10_folds.train_cv.predict)=98.90%\n",
      "[ 2018-07-27 20:32:09,541][kfold_wrapper.log_eval_metrics] Accuracy(layer_0 - estimator_0 - 10_folds.test.predict)=99.11%\n",
      "[ 2018-07-27 20:32:09,544][cascade_classifier.calc_accuracy] Accuracy(layer_0 - train.classifier_average)=98.90%\n",
      "[ 2018-07-27 20:32:09,546][cascade_classifier.calc_accuracy] Accuracy(layer_0 - test.classifier_average)=99.11%\n",
      "[ 2018-07-27 20:32:09,547][cascade_classifier.fit_transform] [Result][Reach Max Layer] opt_layer_num=1, accuracy_train=98.90%, accuracy_test=99.11%\n",
      "[ 2018-07-27 20:32:09,548][cascade_classifier.transform] X_groups_test.shape=[(2245, 23)]\n",
      "[ 2018-07-27 20:32:09,550][cascade_classifier.transform] group_dims=[23]\n",
      "[ 2018-07-27 20:32:09,551][cascade_classifier.transform] X_test.shape=(2245, 23)\n",
      "[ 2018-07-27 20:32:09,552][cascade_classifier.transform] [layer=0] look_indexs=[0], X_cur_test.shape=(2245, 23)\n",
      "[ 2018-07-27 20:32:11,812][cascade_classifier.fit_transform] X_groups_train.shape=[(4557, 23)],y_train.shape=(4557,),X_groups_test.shape=[(2245, 23)],y_test.shape=(2245,)\n",
      "[ 2018-07-27 20:32:11,813][cascade_classifier.fit_transform] group_dims=[23]\n",
      "[ 2018-07-27 20:32:11,814][cascade_classifier.fit_transform] group_starts=[0]\n",
      "[ 2018-07-27 20:32:11,815][cascade_classifier.fit_transform] group_ends=[23]\n",
      "[ 2018-07-27 20:32:11,816][cascade_classifier.fit_transform] X_train.shape=(4557, 23),X_test.shape=(2245, 23)\n",
      "[ 2018-07-27 20:32:11,817][cascade_classifier.fit_transform] [layer=0] look_indexs=[0], X_cur_train.shape=(4557, 23), X_cur_test.shape=(2245, 23)\n"
     ]
    },
    {
     "name": "stdout",
     "output_type": "stream",
     "text": [
      "('Test Accuracy of DeepExtratTrees = 99.109131 %', 'Layer :', 14)\n",
      "[[2188    9]\n",
      " [  11   37]]\n",
      "\n",
      "\n",
      "             precision    recall  f1-score   support\n",
      "\n",
      "        0.0       0.99      1.00      1.00      2197\n",
      "        1.0       0.80      0.77      0.79        48\n",
      "\n",
      "avg / total       0.99      0.99      0.99      2245\n",
      "\n",
      "(' Time ', '7.672', ' seconds')\n"
     ]
    },
    {
     "name": "stderr",
     "output_type": "stream",
     "text": [
      "[ 2018-07-27 20:32:12,494][kfold_wrapper.log_eval_metrics] Accuracy(layer_0 - estimator_0 - 10_folds.train_0.predict)=98.25%\n",
      "[ 2018-07-27 20:32:13,497][kfold_wrapper.log_eval_metrics] Accuracy(layer_0 - estimator_0 - 10_folds.train_1.predict)=99.12%\n",
      "[ 2018-07-27 20:32:14,444][kfold_wrapper.log_eval_metrics] Accuracy(layer_0 - estimator_0 - 10_folds.train_2.predict)=99.34%\n",
      "[ 2018-07-27 20:32:15,299][kfold_wrapper.log_eval_metrics] Accuracy(layer_0 - estimator_0 - 10_folds.train_3.predict)=98.68%\n",
      "[ 2018-07-27 20:32:16,429][kfold_wrapper.log_eval_metrics] Accuracy(layer_0 - estimator_0 - 10_folds.train_4.predict)=98.25%\n",
      "[ 2018-07-27 20:32:17,248][kfold_wrapper.log_eval_metrics] Accuracy(layer_0 - estimator_0 - 10_folds.train_5.predict)=98.90%\n",
      "[ 2018-07-27 20:32:18,123][kfold_wrapper.log_eval_metrics] Accuracy(layer_0 - estimator_0 - 10_folds.train_6.predict)=98.90%\n",
      "[ 2018-07-27 20:32:18,889][kfold_wrapper.log_eval_metrics] Accuracy(layer_0 - estimator_0 - 10_folds.train_7.predict)=98.90%\n",
      "[ 2018-07-27 20:32:19,608][kfold_wrapper.log_eval_metrics] Accuracy(layer_0 - estimator_0 - 10_folds.train_8.predict)=98.90%\n",
      "[ 2018-07-27 20:32:20,208][kfold_wrapper.log_eval_metrics] Accuracy(layer_0 - estimator_0 - 10_folds.train_9.predict)=98.90%\n",
      "[ 2018-07-27 20:32:20,429][kfold_wrapper.log_eval_metrics] Accuracy(layer_0 - estimator_0 - 10_folds.train_cv.predict)=98.82%\n",
      "[ 2018-07-27 20:32:20,430][kfold_wrapper.log_eval_metrics] Accuracy(layer_0 - estimator_0 - 10_folds.test.predict)=99.38%\n",
      "[ 2018-07-27 20:32:20,433][cascade_classifier.calc_accuracy] Accuracy(layer_0 - train.classifier_average)=98.82%\n",
      "[ 2018-07-27 20:32:20,434][cascade_classifier.calc_accuracy] Accuracy(layer_0 - test.classifier_average)=99.38%\n",
      "[ 2018-07-27 20:32:20,435][cascade_classifier.fit_transform] [Result][Reach Max Layer] opt_layer_num=1, accuracy_train=98.82%, accuracy_test=99.38%\n",
      "[ 2018-07-27 20:32:20,436][cascade_classifier.transform] X_groups_test.shape=[(2245, 23)]\n",
      "[ 2018-07-27 20:32:20,438][cascade_classifier.transform] group_dims=[23]\n",
      "[ 2018-07-27 20:32:20,439][cascade_classifier.transform] X_test.shape=(2245, 23)\n",
      "[ 2018-07-27 20:32:20,440][cascade_classifier.transform] [layer=0] look_indexs=[0], X_cur_test.shape=(2245, 23)\n",
      "[ 2018-07-27 20:32:22,650][cascade_classifier.fit_transform] X_groups_train.shape=[(4557, 23)],y_train.shape=(4557,),X_groups_test.shape=[(2245, 23)],y_test.shape=(2245,)\n",
      "[ 2018-07-27 20:32:22,651][cascade_classifier.fit_transform] group_dims=[23]\n",
      "[ 2018-07-27 20:32:22,651][cascade_classifier.fit_transform] group_starts=[0]\n",
      "[ 2018-07-27 20:32:22,652][cascade_classifier.fit_transform] group_ends=[23]\n",
      "[ 2018-07-27 20:32:22,653][cascade_classifier.fit_transform] X_train.shape=(4557, 23),X_test.shape=(2245, 23)\n",
      "[ 2018-07-27 20:32:22,655][cascade_classifier.fit_transform] [layer=0] look_indexs=[0], X_cur_train.shape=(4557, 23), X_cur_test.shape=(2245, 23)\n"
     ]
    },
    {
     "name": "stdout",
     "output_type": "stream",
     "text": [
      "('Test Accuracy of DeepExtratTrees = 99.376392 %', 'Layer :', 15)\n",
      "[[2193    4]\n",
      " [  10   38]]\n",
      "\n",
      "\n",
      "             precision    recall  f1-score   support\n",
      "\n",
      "        0.0       1.00      1.00      1.00      2197\n",
      "        1.0       0.90      0.79      0.84        48\n",
      "\n",
      "avg / total       0.99      0.99      0.99      2245\n",
      "\n",
      "(' Time ', '8.626', ' seconds')\n"
     ]
    },
    {
     "name": "stderr",
     "output_type": "stream",
     "text": [
      "[ 2018-07-27 20:32:23,158][kfold_wrapper.log_eval_metrics] Accuracy(layer_0 - estimator_0 - 10_folds.train_0.predict)=98.68%\n",
      "[ 2018-07-27 20:32:23,876][kfold_wrapper.log_eval_metrics] Accuracy(layer_0 - estimator_0 - 10_folds.train_1.predict)=99.12%\n",
      "[ 2018-07-27 20:32:24,596][kfold_wrapper.log_eval_metrics] Accuracy(layer_0 - estimator_0 - 10_folds.train_2.predict)=99.34%\n",
      "[ 2018-07-27 20:32:25,315][kfold_wrapper.log_eval_metrics] Accuracy(layer_0 - estimator_0 - 10_folds.train_3.predict)=98.68%\n",
      "[ 2018-07-27 20:32:26,153][kfold_wrapper.log_eval_metrics] Accuracy(layer_0 - estimator_0 - 10_folds.train_4.predict)=98.25%\n",
      "[ 2018-07-27 20:32:26,878][kfold_wrapper.log_eval_metrics] Accuracy(layer_0 - estimator_0 - 10_folds.train_5.predict)=98.90%\n",
      "[ 2018-07-27 20:32:27,596][kfold_wrapper.log_eval_metrics] Accuracy(layer_0 - estimator_0 - 10_folds.train_6.predict)=99.12%\n",
      "[ 2018-07-27 20:32:28,204][kfold_wrapper.log_eval_metrics] Accuracy(layer_0 - estimator_0 - 10_folds.train_7.predict)=98.46%\n",
      "[ 2018-07-27 20:32:28,804][kfold_wrapper.log_eval_metrics] Accuracy(layer_0 - estimator_0 - 10_folds.train_8.predict)=99.56%\n",
      "[ 2018-07-27 20:32:29,526][kfold_wrapper.log_eval_metrics] Accuracy(layer_0 - estimator_0 - 10_folds.train_9.predict)=98.90%\n",
      "[ 2018-07-27 20:32:29,746][kfold_wrapper.log_eval_metrics] Accuracy(layer_0 - estimator_0 - 10_folds.train_cv.predict)=98.90%\n",
      "[ 2018-07-27 20:32:29,747][kfold_wrapper.log_eval_metrics] Accuracy(layer_0 - estimator_0 - 10_folds.test.predict)=99.15%\n",
      "[ 2018-07-27 20:32:29,750][cascade_classifier.calc_accuracy] Accuracy(layer_0 - train.classifier_average)=98.90%\n",
      "[ 2018-07-27 20:32:29,751][cascade_classifier.calc_accuracy] Accuracy(layer_0 - test.classifier_average)=99.15%\n",
      "[ 2018-07-27 20:32:29,752][cascade_classifier.fit_transform] [Result][Reach Max Layer] opt_layer_num=1, accuracy_train=98.90%, accuracy_test=99.15%\n",
      "[ 2018-07-27 20:32:29,752][cascade_classifier.transform] X_groups_test.shape=[(2245, 23)]\n",
      "[ 2018-07-27 20:32:29,753][cascade_classifier.transform] group_dims=[23]\n",
      "[ 2018-07-27 20:32:29,754][cascade_classifier.transform] X_test.shape=(2245, 23)\n",
      "[ 2018-07-27 20:32:29,755][cascade_classifier.transform] [layer=0] look_indexs=[0], X_cur_test.shape=(2245, 23)\n",
      "[ 2018-07-27 20:32:31,831][cascade_classifier.fit_transform] X_groups_train.shape=[(4557, 23)],y_train.shape=(4557,),X_groups_test.shape=[(2245, 23)],y_test.shape=(2245,)\n",
      "[ 2018-07-27 20:32:31,832][cascade_classifier.fit_transform] group_dims=[23]\n",
      "[ 2018-07-27 20:32:31,833][cascade_classifier.fit_transform] group_starts=[0]\n",
      "[ 2018-07-27 20:32:31,834][cascade_classifier.fit_transform] group_ends=[23]\n",
      "[ 2018-07-27 20:32:31,834][cascade_classifier.fit_transform] X_train.shape=(4557, 23),X_test.shape=(2245, 23)\n",
      "[ 2018-07-27 20:32:31,836][cascade_classifier.fit_transform] [layer=0] look_indexs=[0], X_cur_train.shape=(4557, 23), X_cur_test.shape=(2245, 23)\n"
     ]
    },
    {
     "name": "stdout",
     "output_type": "stream",
     "text": [
      "('Test Accuracy of DeepExtratTrees = 99.153675 %', 'Layer :', 16)\n",
      "[[2190    7]\n",
      " [  12   36]]\n",
      "\n",
      "\n",
      "             precision    recall  f1-score   support\n",
      "\n",
      "        0.0       0.99      1.00      1.00      2197\n",
      "        1.0       0.84      0.75      0.79        48\n",
      "\n",
      "avg / total       0.99      0.99      0.99      2245\n",
      "\n",
      "(' Time ', '7.104', ' seconds')\n"
     ]
    },
    {
     "name": "stderr",
     "output_type": "stream",
     "text": [
      "[ 2018-07-27 20:32:32,339][kfold_wrapper.log_eval_metrics] Accuracy(layer_0 - estimator_0 - 10_folds.train_0.predict)=98.46%\n",
      "[ 2018-07-27 20:32:32,946][kfold_wrapper.log_eval_metrics] Accuracy(layer_0 - estimator_0 - 10_folds.train_1.predict)=98.90%\n",
      "[ 2018-07-27 20:32:33,664][kfold_wrapper.log_eval_metrics] Accuracy(layer_0 - estimator_0 - 10_folds.train_2.predict)=99.12%\n",
      "[ 2018-07-27 20:32:34,380][kfold_wrapper.log_eval_metrics] Accuracy(layer_0 - estimator_0 - 10_folds.train_3.predict)=98.68%\n",
      "[ 2018-07-27 20:32:35,097][kfold_wrapper.log_eval_metrics] Accuracy(layer_0 - estimator_0 - 10_folds.train_4.predict)=98.68%\n",
      "[ 2018-07-27 20:32:35,818][kfold_wrapper.log_eval_metrics] Accuracy(layer_0 - estimator_0 - 10_folds.train_5.predict)=99.12%\n",
      "[ 2018-07-27 20:32:36,662][kfold_wrapper.log_eval_metrics] Accuracy(layer_0 - estimator_0 - 10_folds.train_6.predict)=98.90%\n",
      "[ 2018-07-27 20:32:37,507][kfold_wrapper.log_eval_metrics] Accuracy(layer_0 - estimator_0 - 10_folds.train_7.predict)=98.46%\n",
      "[ 2018-07-27 20:32:38,230][kfold_wrapper.log_eval_metrics] Accuracy(layer_0 - estimator_0 - 10_folds.train_8.predict)=99.56%\n",
      "[ 2018-07-27 20:32:38,945][kfold_wrapper.log_eval_metrics] Accuracy(layer_0 - estimator_0 - 10_folds.train_9.predict)=98.90%\n",
      "[ 2018-07-27 20:32:39,170][kfold_wrapper.log_eval_metrics] Accuracy(layer_0 - estimator_0 - 10_folds.train_cv.predict)=98.88%\n",
      "[ 2018-07-27 20:32:39,171][kfold_wrapper.log_eval_metrics] Accuracy(layer_0 - estimator_0 - 10_folds.test.predict)=99.29%\n",
      "[ 2018-07-27 20:32:39,174][cascade_classifier.calc_accuracy] Accuracy(layer_0 - train.classifier_average)=98.88%\n",
      "[ 2018-07-27 20:32:39,174][cascade_classifier.calc_accuracy] Accuracy(layer_0 - test.classifier_average)=99.29%\n",
      "[ 2018-07-27 20:32:39,175][cascade_classifier.fit_transform] [Result][Reach Max Layer] opt_layer_num=1, accuracy_train=98.88%, accuracy_test=99.29%\n",
      "[ 2018-07-27 20:32:39,176][cascade_classifier.transform] X_groups_test.shape=[(2245, 23)]\n",
      "[ 2018-07-27 20:32:39,177][cascade_classifier.transform] group_dims=[23]\n",
      "[ 2018-07-27 20:32:39,178][cascade_classifier.transform] X_test.shape=(2245, 23)\n",
      "[ 2018-07-27 20:32:39,179][cascade_classifier.transform] [layer=0] look_indexs=[0], X_cur_test.shape=(2245, 23)\n",
      "[ 2018-07-27 20:32:41,425][cascade_classifier.fit_transform] X_groups_train.shape=[(4557, 23)],y_train.shape=(4557,),X_groups_test.shape=[(2245, 23)],y_test.shape=(2245,)\n",
      "[ 2018-07-27 20:32:41,427][cascade_classifier.fit_transform] group_dims=[23]\n",
      "[ 2018-07-27 20:32:41,428][cascade_classifier.fit_transform] group_starts=[0]\n",
      "[ 2018-07-27 20:32:41,429][cascade_classifier.fit_transform] group_ends=[23]\n",
      "[ 2018-07-27 20:32:41,430][cascade_classifier.fit_transform] X_train.shape=(4557, 23),X_test.shape=(2245, 23)\n",
      "[ 2018-07-27 20:32:41,431][cascade_classifier.fit_transform] [layer=0] look_indexs=[0], X_cur_train.shape=(4557, 23), X_cur_test.shape=(2245, 23)\n"
     ]
    },
    {
     "name": "stdout",
     "output_type": "stream",
     "text": [
      "('Test Accuracy of DeepExtratTrees = 99.287305 %', 'Layer :', 17)\n",
      "[[2192    5]\n",
      " [  11   37]]\n",
      "\n",
      "\n",
      "             precision    recall  f1-score   support\n",
      "\n",
      "        0.0       1.00      1.00      1.00      2197\n",
      "        1.0       0.88      0.77      0.82        48\n",
      "\n",
      "avg / total       0.99      0.99      0.99      2245\n",
      "\n",
      "(' Time ', '7.346', ' seconds')\n"
     ]
    },
    {
     "name": "stderr",
     "output_type": "stream",
     "text": [
      "[ 2018-07-27 20:32:42,144][kfold_wrapper.log_eval_metrics] Accuracy(layer_0 - estimator_0 - 10_folds.train_0.predict)=98.46%\n",
      "[ 2018-07-27 20:32:43,302][kfold_wrapper.log_eval_metrics] Accuracy(layer_0 - estimator_0 - 10_folds.train_1.predict)=99.12%\n",
      "[ 2018-07-27 20:32:44,440][kfold_wrapper.log_eval_metrics] Accuracy(layer_0 - estimator_0 - 10_folds.train_2.predict)=99.12%\n",
      "[ 2018-07-27 20:32:45,572][kfold_wrapper.log_eval_metrics] Accuracy(layer_0 - estimator_0 - 10_folds.train_3.predict)=98.68%\n",
      "[ 2018-07-27 20:32:46,323][kfold_wrapper.log_eval_metrics] Accuracy(layer_0 - estimator_0 - 10_folds.train_4.predict)=98.68%\n",
      "[ 2018-07-27 20:32:46,929][kfold_wrapper.log_eval_metrics] Accuracy(layer_0 - estimator_0 - 10_folds.train_5.predict)=98.46%\n",
      "[ 2018-07-27 20:32:47,768][kfold_wrapper.log_eval_metrics] Accuracy(layer_0 - estimator_0 - 10_folds.train_6.predict)=98.90%\n",
      "[ 2018-07-27 20:32:48,374][kfold_wrapper.log_eval_metrics] Accuracy(layer_0 - estimator_0 - 10_folds.train_7.predict)=98.46%\n",
      "[ 2018-07-27 20:32:49,090][kfold_wrapper.log_eval_metrics] Accuracy(layer_0 - estimator_0 - 10_folds.train_8.predict)=99.56%\n",
      "[ 2018-07-27 20:32:49,809][kfold_wrapper.log_eval_metrics] Accuracy(layer_0 - estimator_0 - 10_folds.train_9.predict)=99.34%\n",
      "[ 2018-07-27 20:32:49,915][kfold_wrapper.log_eval_metrics] Accuracy(layer_0 - estimator_0 - 10_folds.train_cv.predict)=98.88%\n",
      "[ 2018-07-27 20:32:49,917][kfold_wrapper.log_eval_metrics] Accuracy(layer_0 - estimator_0 - 10_folds.test.predict)=99.29%\n",
      "[ 2018-07-27 20:32:49,919][cascade_classifier.calc_accuracy] Accuracy(layer_0 - train.classifier_average)=98.88%\n",
      "[ 2018-07-27 20:32:49,920][cascade_classifier.calc_accuracy] Accuracy(layer_0 - test.classifier_average)=99.29%\n",
      "[ 2018-07-27 20:32:49,921][cascade_classifier.fit_transform] [Result][Reach Max Layer] opt_layer_num=1, accuracy_train=98.88%, accuracy_test=99.29%\n",
      "[ 2018-07-27 20:32:49,922][cascade_classifier.transform] X_groups_test.shape=[(2245, 23)]\n",
      "[ 2018-07-27 20:32:49,923][cascade_classifier.transform] group_dims=[23]\n",
      "[ 2018-07-27 20:32:49,923][cascade_classifier.transform] X_test.shape=(2245, 23)\n",
      "[ 2018-07-27 20:32:49,924][cascade_classifier.transform] [layer=0] look_indexs=[0], X_cur_test.shape=(2245, 23)\n",
      "[ 2018-07-27 20:32:51,662][cascade_classifier.fit_transform] X_groups_train.shape=[(4557, 23)],y_train.shape=(4557,),X_groups_test.shape=[(2245, 23)],y_test.shape=(2245,)\n",
      "[ 2018-07-27 20:32:51,663][cascade_classifier.fit_transform] group_dims=[23]\n",
      "[ 2018-07-27 20:32:51,664][cascade_classifier.fit_transform] group_starts=[0]\n",
      "[ 2018-07-27 20:32:51,664][cascade_classifier.fit_transform] group_ends=[23]\n",
      "[ 2018-07-27 20:32:51,665][cascade_classifier.fit_transform] X_train.shape=(4557, 23),X_test.shape=(2245, 23)\n",
      "[ 2018-07-27 20:32:51,666][cascade_classifier.fit_transform] [layer=0] look_indexs=[0], X_cur_train.shape=(4557, 23), X_cur_test.shape=(2245, 23)\n"
     ]
    },
    {
     "name": "stdout",
     "output_type": "stream",
     "text": [
      "('Test Accuracy of DeepExtratTrees = 99.287305 %', 'Layer :', 18)\n",
      "[[2192    5]\n",
      " [  11   37]]\n",
      "\n",
      "\n",
      "             precision    recall  f1-score   support\n",
      "\n",
      "        0.0       1.00      1.00      1.00      2197\n",
      "        1.0       0.88      0.77      0.82        48\n",
      "\n",
      "avg / total       0.99      0.99      0.99      2245\n",
      "\n",
      "(' Time ', '8.498', ' seconds')\n"
     ]
    },
    {
     "name": "stderr",
     "output_type": "stream",
     "text": [
      "[ 2018-07-27 20:32:52,169][kfold_wrapper.log_eval_metrics] Accuracy(layer_0 - estimator_0 - 10_folds.train_0.predict)=98.25%\n",
      "[ 2018-07-27 20:32:52,887][kfold_wrapper.log_eval_metrics] Accuracy(layer_0 - estimator_0 - 10_folds.train_1.predict)=98.90%\n",
      "[ 2018-07-27 20:32:53,492][kfold_wrapper.log_eval_metrics] Accuracy(layer_0 - estimator_0 - 10_folds.train_2.predict)=99.12%\n",
      "[ 2018-07-27 20:32:54,214][kfold_wrapper.log_eval_metrics] Accuracy(layer_0 - estimator_0 - 10_folds.train_3.predict)=98.68%\n",
      "[ 2018-07-27 20:32:54,936][kfold_wrapper.log_eval_metrics] Accuracy(layer_0 - estimator_0 - 10_folds.train_4.predict)=98.46%\n",
      "[ 2018-07-27 20:32:55,535][kfold_wrapper.log_eval_metrics] Accuracy(layer_0 - estimator_0 - 10_folds.train_5.predict)=98.90%\n",
      "[ 2018-07-27 20:32:56,253][kfold_wrapper.log_eval_metrics] Accuracy(layer_0 - estimator_0 - 10_folds.train_6.predict)=98.68%\n",
      "[ 2018-07-27 20:32:57,005][kfold_wrapper.log_eval_metrics] Accuracy(layer_0 - estimator_0 - 10_folds.train_7.predict)=98.68%\n",
      "[ 2018-07-27 20:32:57,723][kfold_wrapper.log_eval_metrics] Accuracy(layer_0 - estimator_0 - 10_folds.train_8.predict)=98.90%\n",
      "[ 2018-07-27 20:32:58,442][kfold_wrapper.log_eval_metrics] Accuracy(layer_0 - estimator_0 - 10_folds.train_9.predict)=99.12%\n",
      "[ 2018-07-27 20:32:58,662][kfold_wrapper.log_eval_metrics] Accuracy(layer_0 - estimator_0 - 10_folds.train_cv.predict)=98.77%\n",
      "[ 2018-07-27 20:32:58,663][kfold_wrapper.log_eval_metrics] Accuracy(layer_0 - estimator_0 - 10_folds.test.predict)=99.20%\n",
      "[ 2018-07-27 20:32:58,666][cascade_classifier.calc_accuracy] Accuracy(layer_0 - train.classifier_average)=98.77%\n",
      "[ 2018-07-27 20:32:58,667][cascade_classifier.calc_accuracy] Accuracy(layer_0 - test.classifier_average)=99.20%\n",
      "[ 2018-07-27 20:32:58,667][cascade_classifier.fit_transform] [Result][Reach Max Layer] opt_layer_num=1, accuracy_train=98.77%, accuracy_test=99.20%\n",
      "[ 2018-07-27 20:32:58,668][cascade_classifier.transform] X_groups_test.shape=[(2245, 23)]\n",
      "[ 2018-07-27 20:32:58,669][cascade_classifier.transform] group_dims=[23]\n",
      "[ 2018-07-27 20:32:58,670][cascade_classifier.transform] X_test.shape=(2245, 23)\n",
      "[ 2018-07-27 20:32:58,670][cascade_classifier.transform] [layer=0] look_indexs=[0], X_cur_test.shape=(2245, 23)\n"
     ]
    },
    {
     "name": "stdout",
     "output_type": "stream",
     "text": [
      "('Test Accuracy of DeepExtratTrees = 99.198218 %', 'Layer :', 19)\n",
      "[[2192    5]\n",
      " [  13   35]]\n",
      "\n",
      "\n",
      "             precision    recall  f1-score   support\n",
      "\n",
      "        0.0       0.99      1.00      1.00      2197\n",
      "        1.0       0.88      0.73      0.80        48\n",
      "\n",
      "avg / total       0.99      0.99      0.99      2245\n",
      "\n",
      "(' Time ', '7.007', ' seconds')\n"
     ]
    }
   ],
   "source": [
    "def update(X_train,X_test):\n",
    "    # update Estimators\n",
    "    M = np.delete(X_train, (-1), axis=1)\n",
    "    X_train= np.delete(M, (-1), axis=1)\n",
    "    M = np.delete(X_test, (-1), axis=1)\n",
    "    X_test = np.delete(M, (-1), axis=1)\n",
    "    return X_train,X_test\n",
    "\n",
    "def newdata(X_test_enc, X_train_enc):\n",
    "    # Make Data + Estimators\n",
    "    X_train_origin = X_train.reshape((X_train.shape[0], -1))\n",
    "    X_test_origin = X_test.reshape((X_test.shape[0], -1))\n",
    "    X_train_enc = np.hstack((X_train_origin, X_train_enc))\n",
    "    X_test_enc = np.hstack((X_test_origin, X_test_enc))\n",
    "    return X_test_enc, X_train_enc\n",
    "\n",
    "Accuracy = []\n",
    "def affiche():\n",
    "    # predict\n",
    "    y_pred = gc.predict(X_test)\n",
    "    acc = accuracy_score(y_test, y_pred)\n",
    "    print(\"Test Accuracy of DeepExtratTrees = {:.6f} %\".format(acc * 100),\"Layer :\",i)\n",
    "    Accuracy.append(round(acc*100 , 2))\n",
    "    # Matrix de confusion\n",
    "    from sklearn.metrics import classification_report, confusion_matrix\n",
    "    print(confusion_matrix(y_test,y_pred))\n",
    "    print('\\n')\n",
    "    print(classification_report(y_test,y_pred))\n",
    "    \n",
    "# Deep\n",
    "t = []\n",
    "for i in range (20):\n",
    "    t0 = time()\n",
    "    X_train,X_test=update(X_train,X_test)\n",
    "    X_test_enc, X_train_enc=newdata(X_test_enc, X_train_enc)\n",
    "\n",
    "    X_train=X_train_enc\n",
    "    X_test=X_test_enc \n",
    "    X_train_enc, X_test_enc = gc.fit_transform(X_train, y_train, X_test=X_test, y_test=y_test)\n",
    "    tt = time() - t0\n",
    "    affiche() \n",
    "    t.append(round(tt,2))\n",
    "    print (\" Time \",format(round(tt,3)),\" seconds\")\n"
   ]
  },
  {
   "cell_type": "code",
   "execution_count": 14,
   "metadata": {},
   "outputs": [
    {
     "name": "stdout",
     "output_type": "stream",
     "text": [
      "('Opt_layer_num =', 15, ' Accuracy =', 99.38, 'Time =', 119.65000000000001)\n"
     ]
    },
    {
     "data": {
      "image/png": "[encoded data removed]",
      "text/plain": [
       "<matplotlib.figure.Figure at 0x7fc272593950>"
      ]
     },
     "metadata": {},
     "output_type": "display_data"
    }
   ],
   "source": [
    "print (\"Opt_layer_num =\",Accuracy.index(max(Accuracy)), \" Accuracy =\", max(Accuracy) ,\n",
    "       \"Time =\" , np.sum(t[0:Accuracy.index(max(Accuracy))+1]))\n",
    "\n",
    "import matplotlib.pyplot as plt\n",
    "from matplotlib.pyplot import figure\n",
    "figure(figsize=(8, 6), dpi=100)\n",
    "plt.plot(Accuracy, '-o', ms=20, lw=2, alpha=0.7, mfc='orange')\n",
    "plt.ylabel('Accuracy')\n",
    "plt.xlabel('Layer numbers')\n",
    "plt.show()"
   ]
  },
  {
   "cell_type": "code",
   "execution_count": null,
   "metadata": {
    "collapsed": true
   },
   "outputs": [],
   "source": []
  },
  {
   "cell_type": "code",
   "execution_count": 15,
   "metadata": {},
   "outputs": [
    {
     "data": {
      "text/plain": [
       "[99.11,\n",
       " 98.98,\n",
       " 99.06,\n",
       " 99.15,\n",
       " 99.15,\n",
       " 99.15,\n",
       " 99.2,\n",
       " 99.2,\n",
       " 99.15,\n",
       " 99.11,\n",
       " 99.02,\n",
       " 99.24,\n",
       " 99.15,\n",
       " 99.24,\n",
       " 99.11,\n",
       " 99.38,\n",
       " 99.15,\n",
       " 99.29,\n",
       " 99.29,\n",
       " 99.2]"
      ]
     },
     "execution_count": 15,
     "metadata": {},
     "output_type": "execute_result"
    }
   ],
   "source": [
    "Accuracy"
   ]
  },
  {
   "cell_type": "code",
   "execution_count": null,
   "metadata": {
    "collapsed": true
   },
   "outputs": [],
   "source": []
  }
 ],
 "metadata": {
  "kernelspec": {
   "display_name": "Python 2",
   "language": "python",
   "name": "python2"
  },
  "language_info": {
   "codemirror_mode": {
    "name": "ipython",
    "version": 2
   },
   "file_extension": ".py",
   "mimetype": "text/x-python",
   "name": "python",
   "nbconvert_exporter": "python",
   "pygments_lexer": "ipython2",
   "version": "2.7.13"
  }
 },
 "nbformat": 4,
 "nbformat_minor": 2
}
