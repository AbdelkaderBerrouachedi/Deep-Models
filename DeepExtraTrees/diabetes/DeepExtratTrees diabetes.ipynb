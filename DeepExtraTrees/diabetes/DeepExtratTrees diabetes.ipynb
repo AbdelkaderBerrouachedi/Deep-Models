{
 "cells": [
  {
   "cell_type": "code",
   "execution_count": 41,
   "metadata": {
    "collapsed": true
   },
   "outputs": [],
   "source": [
    "# imports \n",
    "import numpy as np\n",
    "from math import sqrt \n",
    "from pprint import pprint\n",
    "from numpy import array\n",
    "from scipy.io import arff\n",
    "import pandas as pd\n",
    "from time import time"
   ]
  },
  {
   "cell_type": "code",
   "execution_count": 42,
   "metadata": {},
   "outputs": [
    {
     "data": {
      "text/html": [
       "<div>\n",
       "<style>\n",
       "    .dataframe thead tr:only-child th {\n",
       "        text-align: right;\n",
       "    }\n",
       "\n",
       "    .dataframe thead th {\n",
       "        text-align: left;\n",
       "    }\n",
       "\n",
       "    .dataframe tbody tr th {\n",
       "        vertical-align: top;\n",
       "    }\n",
       "</style>\n",
       "<table border=\"1\" class=\"dataframe\">\n",
       "  <thead>\n",
       "    <tr style=\"text-align: right;\">\n",
       "      <th></th>\n",
       "      <th>Pregnancies</th>\n",
       "      <th>Glucose</th>\n",
       "      <th>BloodPressure</th>\n",
       "      <th>SkinThickness</th>\n",
       "      <th>Insulin</th>\n",
       "      <th>BMI</th>\n",
       "      <th>DiabetesPedigreeFunction</th>\n",
       "      <th>Age</th>\n",
       "      <th>Outcome</th>\n",
       "    </tr>\n",
       "  </thead>\n",
       "  <tbody>\n",
       "    <tr>\n",
       "      <th>0</th>\n",
       "      <td>6</td>\n",
       "      <td>148</td>\n",
       "      <td>72</td>\n",
       "      <td>35</td>\n",
       "      <td>0</td>\n",
       "      <td>33.6</td>\n",
       "      <td>0.627</td>\n",
       "      <td>50</td>\n",
       "      <td>1</td>\n",
       "    </tr>\n",
       "    <tr>\n",
       "      <th>1</th>\n",
       "      <td>1</td>\n",
       "      <td>85</td>\n",
       "      <td>66</td>\n",
       "      <td>29</td>\n",
       "      <td>0</td>\n",
       "      <td>26.6</td>\n",
       "      <td>0.351</td>\n",
       "      <td>31</td>\n",
       "      <td>0</td>\n",
       "    </tr>\n",
       "    <tr>\n",
       "      <th>2</th>\n",
       "      <td>8</td>\n",
       "      <td>183</td>\n",
       "      <td>64</td>\n",
       "      <td>0</td>\n",
       "      <td>0</td>\n",
       "      <td>23.3</td>\n",
       "      <td>0.672</td>\n",
       "      <td>32</td>\n",
       "      <td>1</td>\n",
       "    </tr>\n",
       "    <tr>\n",
       "      <th>3</th>\n",
       "      <td>1</td>\n",
       "      <td>89</td>\n",
       "      <td>66</td>\n",
       "      <td>23</td>\n",
       "      <td>94</td>\n",
       "      <td>28.1</td>\n",
       "      <td>0.167</td>\n",
       "      <td>21</td>\n",
       "      <td>0</td>\n",
       "    </tr>\n",
       "    <tr>\n",
       "      <th>4</th>\n",
       "      <td>0</td>\n",
       "      <td>137</td>\n",
       "      <td>40</td>\n",
       "      <td>35</td>\n",
       "      <td>168</td>\n",
       "      <td>43.1</td>\n",
       "      <td>2.288</td>\n",
       "      <td>33</td>\n",
       "      <td>1</td>\n",
       "    </tr>\n",
       "  </tbody>\n",
       "</table>\n",
       "</div>"
      ],
      "text/plain": [
       "   Pregnancies  Glucose  BloodPressure  SkinThickness  Insulin   BMI  \\\n",
       "0            6      148             72             35        0  33.6   \n",
       "1            1       85             66             29        0  26.6   \n",
       "2            8      183             64              0        0  23.3   \n",
       "3            1       89             66             23       94  28.1   \n",
       "4            0      137             40             35      168  43.1   \n",
       "\n",
       "   DiabetesPedigreeFunction  Age  Outcome  \n",
       "0                     0.627   50        1  \n",
       "1                     0.351   31        0  \n",
       "2                     0.672   32        1  \n",
       "3                     0.167   21        0  \n",
       "4                     2.288   33        1  "
      ]
     },
     "execution_count": 42,
     "metadata": {},
     "output_type": "execute_result"
    }
   ],
   "source": [
    "# load data\n",
    "df=pd.read_csv('diabetes.csv')  \n",
    "\n",
    "\n",
    "\n",
    "df.head()"
   ]
  },
  {
   "cell_type": "code",
   "execution_count": 43,
   "metadata": {},
   "outputs": [
    {
     "data": {
      "text/plain": [
       "(768, 9)"
      ]
     },
     "execution_count": 43,
     "metadata": {},
     "output_type": "execute_result"
    }
   ],
   "source": [
    "df.shape"
   ]
  },
  {
   "cell_type": "code",
   "execution_count": 44,
   "metadata": {},
   "outputs": [
    {
     "data": {
      "text/plain": [
       "Outcome\n",
       "0    500\n",
       "1    268\n",
       "dtype: int64"
      ]
     },
     "execution_count": 44,
     "metadata": {},
     "output_type": "execute_result"
    }
   ],
   "source": [
    "df.groupby('Outcome').size()"
   ]
  },
  {
   "cell_type": "code",
   "execution_count": 45,
   "metadata": {
    "collapsed": true
   },
   "outputs": [],
   "source": [
    "# data to values\n",
    "df = df.values"
   ]
  },
  {
   "cell_type": "code",
   "execution_count": 46,
   "metadata": {
    "collapsed": true
   },
   "outputs": [],
   "source": [
    "# Extratrees Deep\n",
    "import argparse\n",
    "import sys\n",
    "import pickle\n",
    "from sklearn.metrics import accuracy_score\n",
    "sys.path.insert(0, \"lib\")\n",
    "from gcforest.gcforest import GCForest\n",
    "from gcforest.utils.config_utils import load_json\n",
    "config = load_json(\"./examples/aloi.json\")\n",
    "gc = GCForest(config)"
   ]
  },
  {
   "cell_type": "code",
   "execution_count": 47,
   "metadata": {},
   "outputs": [],
   "source": [
    "# train test \n",
    "from sklearn.cross_validation import train_test_split\n",
    "y = df[:,8]\n",
    "X = df[:,0:8]\n",
    "X_train,X_test,y_train,y_test = train_test_split(X, y, test_size=0.3, random_state=0)"
   ]
  },
  {
   "cell_type": "code",
   "execution_count": 48,
   "metadata": {},
   "outputs": [
    {
     "data": {
      "text/plain": [
       "2"
      ]
     },
     "execution_count": 48,
     "metadata": {},
     "output_type": "execute_result"
    }
   ],
   "source": [
    "# number of class\n",
    "len(np.unique(y_train))"
   ]
  },
  {
   "cell_type": "code",
   "execution_count": 49,
   "metadata": {},
   "outputs": [
    {
     "name": "stderr",
     "output_type": "stream",
     "text": [
      "[ 2019-01-12 10:56:53,347][cascade_classifier.fit_transform] X_groups_train.shape=[(537, 8)],y_train.shape=(537,),X_groups_test.shape=[(231, 8)],y_test.shape=(231,)\n",
      "[ 2019-01-12 10:56:53,349][cascade_classifier.fit_transform] group_dims=[8]\n",
      "[ 2019-01-12 10:56:53,350][cascade_classifier.fit_transform] group_starts=[0]\n",
      "[ 2019-01-12 10:56:53,352][cascade_classifier.fit_transform] group_ends=[8]\n",
      "[ 2019-01-12 10:56:53,354][cascade_classifier.fit_transform] X_train.shape=(537, 8),X_test.shape=(231, 8)\n",
      "[ 2019-01-12 10:56:53,356][cascade_classifier.fit_transform] [layer=0] look_indexs=[0], X_cur_train.shape=(537, 8), X_cur_test.shape=(231, 8)\n",
      "[ 2019-01-12 10:56:54,022][kfold_wrapper.log_eval_metrics] Accuracy(layer_0 - estimator_0 - 10_folds.train_0.predict)=76.36%\n",
      "[ 2019-01-12 10:56:54,772][kfold_wrapper.log_eval_metrics] Accuracy(layer_0 - estimator_0 - 10_folds.train_1.predict)=74.55%\n",
      "[ 2019-01-12 10:56:55,540][kfold_wrapper.log_eval_metrics] Accuracy(layer_0 - estimator_0 - 10_folds.train_2.predict)=63.64%\n",
      "[ 2019-01-12 10:56:56,312][kfold_wrapper.log_eval_metrics] Accuracy(layer_0 - estimator_0 - 10_folds.train_3.predict)=75.93%\n",
      "[ 2019-01-12 10:56:57,124][kfold_wrapper.log_eval_metrics] Accuracy(layer_0 - estimator_0 - 10_folds.train_4.predict)=75.47%\n",
      "[ 2019-01-12 10:56:57,879][kfold_wrapper.log_eval_metrics] Accuracy(layer_0 - estimator_0 - 10_folds.train_5.predict)=90.57%\n",
      "[ 2019-01-12 10:56:58,634][kfold_wrapper.log_eval_metrics] Accuracy(layer_0 - estimator_0 - 10_folds.train_6.predict)=73.58%\n",
      "[ 2019-01-12 10:56:59,390][kfold_wrapper.log_eval_metrics] Accuracy(layer_0 - estimator_0 - 10_folds.train_7.predict)=64.15%\n",
      "[ 2019-01-12 10:57:00,150][kfold_wrapper.log_eval_metrics] Accuracy(layer_0 - estimator_0 - 10_folds.train_8.predict)=79.25%\n",
      "[ 2019-01-12 10:57:00,914][kfold_wrapper.log_eval_metrics] Accuracy(layer_0 - estimator_0 - 10_folds.train_9.predict)=79.25%\n",
      "[ 2019-01-12 10:57:01,044][kfold_wrapper.log_eval_metrics] Accuracy(layer_0 - estimator_0 - 10_folds.train_cv.predict)=75.23%\n",
      "[ 2019-01-12 10:57:01,046][kfold_wrapper.log_eval_metrics] Accuracy(layer_0 - estimator_0 - 10_folds.test.predict)=78.35%\n",
      "[ 2019-01-12 10:57:01,048][cascade_classifier.calc_accuracy] Accuracy(layer_0 - train.classifier_average)=75.23%\n",
      "[ 2019-01-12 10:57:01,049][cascade_classifier.calc_accuracy] Accuracy(layer_0 - test.classifier_average)=78.35%\n",
      "[ 2019-01-12 10:57:01,051][cascade_classifier.fit_transform] [Result][Reach Max Layer] opt_layer_num=1, accuracy_train=75.23%, accuracy_test=78.35%\n",
      "[ 2019-01-12 10:57:01,054][cascade_classifier.transform] X_groups_test.shape=[(231, 8)]\n",
      "[ 2019-01-12 10:57:01,055][cascade_classifier.transform] group_dims=[8]\n",
      "[ 2019-01-12 10:57:01,057][cascade_classifier.transform] X_test.shape=(231, 8)\n",
      "[ 2019-01-12 10:57:01,059][cascade_classifier.transform] [layer=0] look_indexs=[0], X_cur_test.shape=(231, 8)\n",
      "[ 2019-01-12 10:57:02,363][cascade_classifier.transform] X_groups_test.shape=[(231, 8)]\n",
      "[ 2019-01-12 10:57:02,365][cascade_classifier.transform] group_dims=[8]\n",
      "[ 2019-01-12 10:57:02,367][cascade_classifier.transform] X_test.shape=(231, 8)\n",
      "[ 2019-01-12 10:57:02,370][cascade_classifier.transform] [layer=0] look_indexs=[0], X_cur_test.shape=(231, 8)\n"
     ]
    },
    {
     "name": "stdout",
     "output_type": "stream",
     "text": [
      "Test Accuracy of DeepExtratTrees = 78.354978 %\n",
      "[[139  18]\n",
      " [ 32  42]]\n",
      "\n",
      "\n",
      "             precision    recall  f1-score   support\n",
      "\n",
      "        0.0       0.81      0.89      0.85       157\n",
      "        1.0       0.70      0.57      0.63        74\n",
      "\n",
      "avg / total       0.78      0.78      0.78       231\n",
      "\n"
     ]
    },
    {
     "name": "stderr",
     "output_type": "stream",
     "text": [
      "[ 2019-01-12 10:57:03,646][cascade_classifier.fit_transform] X_groups_train.shape=[(537, 10)],y_train.shape=(537,),X_groups_test.shape=[(231, 10)],y_test.shape=(231,)\n",
      "[ 2019-01-12 10:57:03,651][cascade_classifier.fit_transform] group_dims=[10]\n",
      "[ 2019-01-12 10:57:03,653][cascade_classifier.fit_transform] group_starts=[0]\n",
      "[ 2019-01-12 10:57:03,656][cascade_classifier.fit_transform] group_ends=[10]\n",
      "[ 2019-01-12 10:57:03,658][cascade_classifier.fit_transform] X_train.shape=(537, 10),X_test.shape=(231, 10)\n",
      "[ 2019-01-12 10:57:03,660][cascade_classifier.fit_transform] [layer=0] look_indexs=[0], X_cur_train.shape=(537, 10), X_cur_test.shape=(231, 10)\n",
      "[ 2019-01-12 10:57:04,322][kfold_wrapper.log_eval_metrics] Accuracy(layer_0 - estimator_0 - 10_folds.train_0.predict)=78.18%\n",
      "[ 2019-01-12 10:57:05,115][kfold_wrapper.log_eval_metrics] Accuracy(layer_0 - estimator_0 - 10_folds.train_1.predict)=74.55%\n",
      "[ 2019-01-12 10:57:05,893][kfold_wrapper.log_eval_metrics] Accuracy(layer_0 - estimator_0 - 10_folds.train_2.predict)=65.45%\n",
      "[ 2019-01-12 10:57:06,659][kfold_wrapper.log_eval_metrics] Accuracy(layer_0 - estimator_0 - 10_folds.train_3.predict)=70.37%\n",
      "[ 2019-01-12 10:57:07,444][kfold_wrapper.log_eval_metrics] Accuracy(layer_0 - estimator_0 - 10_folds.train_4.predict)=71.70%\n",
      "[ 2019-01-12 10:57:08,207][kfold_wrapper.log_eval_metrics] Accuracy(layer_0 - estimator_0 - 10_folds.train_5.predict)=84.91%\n",
      "[ 2019-01-12 10:57:08,950][kfold_wrapper.log_eval_metrics] Accuracy(layer_0 - estimator_0 - 10_folds.train_6.predict)=71.70%\n",
      "[ 2019-01-12 10:57:09,671][kfold_wrapper.log_eval_metrics] Accuracy(layer_0 - estimator_0 - 10_folds.train_7.predict)=67.92%\n",
      "[ 2019-01-12 10:57:10,446][kfold_wrapper.log_eval_metrics] Accuracy(layer_0 - estimator_0 - 10_folds.train_8.predict)=79.25%\n",
      "[ 2019-01-12 10:57:11,231][kfold_wrapper.log_eval_metrics] Accuracy(layer_0 - estimator_0 - 10_folds.train_9.predict)=81.13%\n",
      "[ 2019-01-12 10:57:11,366][kfold_wrapper.log_eval_metrics] Accuracy(layer_0 - estimator_0 - 10_folds.train_cv.predict)=74.49%\n",
      "[ 2019-01-12 10:57:11,369][kfold_wrapper.log_eval_metrics] Accuracy(layer_0 - estimator_0 - 10_folds.test.predict)=76.62%\n",
      "[ 2019-01-12 10:57:11,376][cascade_classifier.calc_accuracy] Accuracy(layer_0 - train.classifier_average)=74.49%\n",
      "[ 2019-01-12 10:57:11,378][cascade_classifier.calc_accuracy] Accuracy(layer_0 - test.classifier_average)=76.62%\n",
      "[ 2019-01-12 10:57:11,381][cascade_classifier.fit_transform] [Result][Reach Max Layer] opt_layer_num=1, accuracy_train=74.49%, accuracy_test=76.62%\n",
      "[ 2019-01-12 10:57:11,382][cascade_classifier.transform] X_groups_test.shape=[(231, 10)]\n",
      "[ 2019-01-12 10:57:11,385][cascade_classifier.transform] group_dims=[10]\n",
      "[ 2019-01-12 10:57:11,387][cascade_classifier.transform] X_test.shape=(231, 10)\n",
      "[ 2019-01-12 10:57:11,389][cascade_classifier.transform] [layer=0] look_indexs=[0], X_cur_test.shape=(231, 10)\n"
     ]
    },
    {
     "name": "stdout",
     "output_type": "stream",
     "text": [
      "Test Accuracy of DeepExtratTrees = 76.623377 %\n",
      "[[139  18]\n",
      " [ 36  38]]\n",
      "\n",
      "\n",
      "             precision    recall  f1-score   support\n",
      "\n",
      "        0.0       0.79      0.89      0.84       157\n",
      "        1.0       0.68      0.51      0.58        74\n",
      "\n",
      "avg / total       0.76      0.77      0.76       231\n",
      "\n"
     ]
    }
   ],
   "source": [
    "# X_enc is the concatenated predict_proba result of DeepExtraTrees\n",
    "X_train_enc, X_test_enc = gc.fit_transform(X_train, y_train, X_test=X_test, y_test=y_test)\n",
    "\n",
    "# predict\n",
    "y_pred = gc.predict(X_test)\n",
    "acc = accuracy_score(y_test, y_pred)\n",
    "print(\"Test Accuracy of DeepExtratTrees = {:.6f} %\".format(acc * 100))\n",
    " # Matrix de confusion\n",
    "from sklearn.metrics import classification_report, confusion_matrix\n",
    "print(confusion_matrix(y_test,y_pred))\n",
    "print('\\n')\n",
    "print(classification_report(y_test,y_pred))\n",
    "# Make data + estimators\n",
    "X_test_enc = gc.transform(X_test)\n",
    "X_train_enc = X_train_enc.reshape((X_train_enc.shape[0], -1))\n",
    "X_test_enc = X_test_enc.reshape((X_test_enc.shape[0], -1))\n",
    "X_train_origin = X_train.reshape((X_train.shape[0], -1))\n",
    "X_test_origin = X_test.reshape((X_test.shape[0], -1))\n",
    "X_train_enc = np.hstack((X_train_origin, X_train_enc))\n",
    "X_test_enc = np.hstack((X_test_origin, X_test_enc))\n",
    "\n",
    "# New data\n",
    "X_train=X_train_enc\n",
    "X_test=X_test_enc \n",
    "X_train_enc, X_test_enc = gc.fit_transform(X_train, y_train, X_test=X_test, y_test=y_test)\n",
    "\n",
    "# predict  data + Es\n",
    "y_pred = gc.predict(X_test)\n",
    "acc = accuracy_score(y_test, y_pred)\n",
    "print(\"Test Accuracy of DeepExtratTrees = {:.6f} %\".format(acc * 100))\n",
    " # Matrix de confusion\n",
    "from sklearn.metrics import classification_report, confusion_matrix\n",
    "print(confusion_matrix(y_test,y_pred))\n",
    "print('\\n')\n",
    "print(classification_report(y_test,y_pred))"
   ]
  },
  {
   "cell_type": "code",
   "execution_count": 50,
   "metadata": {},
   "outputs": [
    {
     "name": "stderr",
     "output_type": "stream",
     "text": [
      "[ 2019-01-12 10:57:12,704][cascade_classifier.fit_transform] X_groups_train.shape=[(537, 10)],y_train.shape=(537,),X_groups_test.shape=[(231, 10)],y_test.shape=(231,)\n",
      "[ 2019-01-12 10:57:12,706][cascade_classifier.fit_transform] group_dims=[10]\n",
      "[ 2019-01-12 10:57:12,708][cascade_classifier.fit_transform] group_starts=[0]\n",
      "[ 2019-01-12 10:57:12,709][cascade_classifier.fit_transform] group_ends=[10]\n",
      "[ 2019-01-12 10:57:12,711][cascade_classifier.fit_transform] X_train.shape=(537, 10),X_test.shape=(231, 10)\n",
      "[ 2019-01-12 10:57:12,712][cascade_classifier.fit_transform] [layer=0] look_indexs=[0], X_cur_train.shape=(537, 10), X_cur_test.shape=(231, 10)\n",
      "[ 2019-01-12 10:57:13,376][kfold_wrapper.log_eval_metrics] Accuracy(layer_0 - estimator_0 - 10_folds.train_0.predict)=74.55%\n",
      "[ 2019-01-12 10:57:14,143][kfold_wrapper.log_eval_metrics] Accuracy(layer_0 - estimator_0 - 10_folds.train_1.predict)=72.73%\n",
      "[ 2019-01-12 10:57:14,892][kfold_wrapper.log_eval_metrics] Accuracy(layer_0 - estimator_0 - 10_folds.train_2.predict)=69.09%\n",
      "[ 2019-01-12 10:57:15,642][kfold_wrapper.log_eval_metrics] Accuracy(layer_0 - estimator_0 - 10_folds.train_3.predict)=75.93%\n",
      "[ 2019-01-12 10:57:16,402][kfold_wrapper.log_eval_metrics] Accuracy(layer_0 - estimator_0 - 10_folds.train_4.predict)=71.70%\n",
      "[ 2019-01-12 10:57:17,176][kfold_wrapper.log_eval_metrics] Accuracy(layer_0 - estimator_0 - 10_folds.train_5.predict)=84.91%\n",
      "[ 2019-01-12 10:57:17,991][kfold_wrapper.log_eval_metrics] Accuracy(layer_0 - estimator_0 - 10_folds.train_6.predict)=73.58%\n",
      "[ 2019-01-12 10:57:18,732][kfold_wrapper.log_eval_metrics] Accuracy(layer_0 - estimator_0 - 10_folds.train_7.predict)=64.15%\n",
      "[ 2019-01-12 10:57:19,480][kfold_wrapper.log_eval_metrics] Accuracy(layer_0 - estimator_0 - 10_folds.train_8.predict)=81.13%\n",
      "[ 2019-01-12 10:57:20,221][kfold_wrapper.log_eval_metrics] Accuracy(layer_0 - estimator_0 - 10_folds.train_9.predict)=79.25%\n",
      "[ 2019-01-12 10:57:20,355][kfold_wrapper.log_eval_metrics] Accuracy(layer_0 - estimator_0 - 10_folds.train_cv.predict)=74.67%\n",
      "[ 2019-01-12 10:57:20,357][kfold_wrapper.log_eval_metrics] Accuracy(layer_0 - estimator_0 - 10_folds.test.predict)=74.03%\n",
      "[ 2019-01-12 10:57:20,363][cascade_classifier.calc_accuracy] Accuracy(layer_0 - train.classifier_average)=74.67%\n",
      "[ 2019-01-12 10:57:20,365][cascade_classifier.calc_accuracy] Accuracy(layer_0 - test.classifier_average)=74.03%\n",
      "[ 2019-01-12 10:57:20,367][cascade_classifier.fit_transform] [Result][Reach Max Layer] opt_layer_num=1, accuracy_train=74.67%, accuracy_test=74.03%\n",
      "[ 2019-01-12 10:57:20,369][cascade_classifier.transform] X_groups_test.shape=[(231, 10)]\n",
      "[ 2019-01-12 10:57:20,370][cascade_classifier.transform] group_dims=[10]\n",
      "[ 2019-01-12 10:57:20,372][cascade_classifier.transform] X_test.shape=(231, 10)\n",
      "[ 2019-01-12 10:57:20,373][cascade_classifier.transform] [layer=0] look_indexs=[0], X_cur_test.shape=(231, 10)\n",
      "[ 2019-01-12 10:57:21,681][cascade_classifier.fit_transform] X_groups_train.shape=[(537, 10)],y_train.shape=(537,),X_groups_test.shape=[(231, 10)],y_test.shape=(231,)\n",
      "[ 2019-01-12 10:57:21,684][cascade_classifier.fit_transform] group_dims=[10]\n",
      "[ 2019-01-12 10:57:21,686][cascade_classifier.fit_transform] group_starts=[0]\n",
      "[ 2019-01-12 10:57:21,688][cascade_classifier.fit_transform] group_ends=[10]\n",
      "[ 2019-01-12 10:57:21,689][cascade_classifier.fit_transform] X_train.shape=(537, 10),X_test.shape=(231, 10)\n",
      "[ 2019-01-12 10:57:21,691][cascade_classifier.fit_transform] [layer=0] look_indexs=[0], X_cur_train.shape=(537, 10), X_cur_test.shape=(231, 10)\n"
     ]
    },
    {
     "name": "stdout",
     "output_type": "stream",
     "text": [
      "('Test Accuracy of DeepExtratTrees = 74.025974 %', 'Layer :', 0)\n",
      "[[137  20]\n",
      " [ 40  34]]\n",
      "\n",
      "\n",
      "             precision    recall  f1-score   support\n",
      "\n",
      "        0.0       0.77      0.87      0.82       157\n",
      "        1.0       0.63      0.46      0.53        74\n",
      "\n",
      "avg / total       0.73      0.74      0.73       231\n",
      "\n",
      "(' Time ', '7.666', ' seconds')\n"
     ]
    },
    {
     "name": "stderr",
     "output_type": "stream",
     "text": [
      "[ 2019-01-12 10:57:22,358][kfold_wrapper.log_eval_metrics] Accuracy(layer_0 - estimator_0 - 10_folds.train_0.predict)=70.91%\n",
      "[ 2019-01-12 10:57:23,070][kfold_wrapper.log_eval_metrics] Accuracy(layer_0 - estimator_0 - 10_folds.train_1.predict)=70.91%\n",
      "[ 2019-01-12 10:57:23,822][kfold_wrapper.log_eval_metrics] Accuracy(layer_0 - estimator_0 - 10_folds.train_2.predict)=70.91%\n",
      "[ 2019-01-12 10:57:24,572][kfold_wrapper.log_eval_metrics] Accuracy(layer_0 - estimator_0 - 10_folds.train_3.predict)=74.07%\n",
      "[ 2019-01-12 10:57:25,347][kfold_wrapper.log_eval_metrics] Accuracy(layer_0 - estimator_0 - 10_folds.train_4.predict)=75.47%\n",
      "[ 2019-01-12 10:57:26,125][kfold_wrapper.log_eval_metrics] Accuracy(layer_0 - estimator_0 - 10_folds.train_5.predict)=88.68%\n",
      "[ 2019-01-12 10:57:26,863][kfold_wrapper.log_eval_metrics] Accuracy(layer_0 - estimator_0 - 10_folds.train_6.predict)=66.04%\n",
      "[ 2019-01-12 10:57:27,596][kfold_wrapper.log_eval_metrics] Accuracy(layer_0 - estimator_0 - 10_folds.train_7.predict)=66.04%\n",
      "[ 2019-01-12 10:57:28,393][kfold_wrapper.log_eval_metrics] Accuracy(layer_0 - estimator_0 - 10_folds.train_8.predict)=77.36%\n",
      "[ 2019-01-12 10:57:29,259][kfold_wrapper.log_eval_metrics] Accuracy(layer_0 - estimator_0 - 10_folds.train_9.predict)=79.25%\n",
      "[ 2019-01-12 10:57:29,382][kfold_wrapper.log_eval_metrics] Accuracy(layer_0 - estimator_0 - 10_folds.train_cv.predict)=73.93%\n",
      "[ 2019-01-12 10:57:29,386][kfold_wrapper.log_eval_metrics] Accuracy(layer_0 - estimator_0 - 10_folds.test.predict)=73.16%\n",
      "[ 2019-01-12 10:57:29,395][cascade_classifier.calc_accuracy] Accuracy(layer_0 - train.classifier_average)=73.93%\n",
      "[ 2019-01-12 10:57:29,400][cascade_classifier.calc_accuracy] Accuracy(layer_0 - test.classifier_average)=73.16%\n",
      "[ 2019-01-12 10:57:29,402][cascade_classifier.fit_transform] [Result][Reach Max Layer] opt_layer_num=1, accuracy_train=73.93%, accuracy_test=73.16%\n",
      "[ 2019-01-12 10:57:29,404][cascade_classifier.transform] X_groups_test.shape=[(231, 10)]\n",
      "[ 2019-01-12 10:57:29,407][cascade_classifier.transform] group_dims=[10]\n",
      "[ 2019-01-12 10:57:29,410][cascade_classifier.transform] X_test.shape=(231, 10)\n",
      "[ 2019-01-12 10:57:29,412][cascade_classifier.transform] [layer=0] look_indexs=[0], X_cur_test.shape=(231, 10)\n",
      "[ 2019-01-12 10:57:30,699][cascade_classifier.fit_transform] X_groups_train.shape=[(537, 10)],y_train.shape=(537,),X_groups_test.shape=[(231, 10)],y_test.shape=(231,)\n",
      "[ 2019-01-12 10:57:30,702][cascade_classifier.fit_transform] group_dims=[10]\n",
      "[ 2019-01-12 10:57:30,706][cascade_classifier.fit_transform] group_starts=[0]\n",
      "[ 2019-01-12 10:57:30,708][cascade_classifier.fit_transform] group_ends=[10]\n",
      "[ 2019-01-12 10:57:30,709][cascade_classifier.fit_transform] X_train.shape=(537, 10),X_test.shape=(231, 10)\n",
      "[ 2019-01-12 10:57:30,711][cascade_classifier.fit_transform] [layer=0] look_indexs=[0], X_cur_train.shape=(537, 10), X_cur_test.shape=(231, 10)\n"
     ]
    },
    {
     "name": "stdout",
     "output_type": "stream",
     "text": [
      "('Test Accuracy of DeepExtratTrees = 73.160173 %', 'Layer :', 1)\n",
      "[[133  24]\n",
      " [ 38  36]]\n",
      "\n",
      "\n",
      "             precision    recall  f1-score   support\n",
      "\n",
      "        0.0       0.78      0.85      0.81       157\n",
      "        1.0       0.60      0.49      0.54        74\n",
      "\n",
      "avg / total       0.72      0.73      0.72       231\n",
      "\n",
      "(' Time ', '7.723', ' seconds')\n"
     ]
    },
    {
     "name": "stderr",
     "output_type": "stream",
     "text": [
      "[ 2019-01-12 10:57:31,253][kfold_wrapper.log_eval_metrics] Accuracy(layer_0 - estimator_0 - 10_folds.train_0.predict)=69.09%\n",
      "[ 2019-01-12 10:57:32,030][kfold_wrapper.log_eval_metrics] Accuracy(layer_0 - estimator_0 - 10_folds.train_1.predict)=70.91%\n",
      "[ 2019-01-12 10:57:32,815][kfold_wrapper.log_eval_metrics] Accuracy(layer_0 - estimator_0 - 10_folds.train_2.predict)=67.27%\n",
      "[ 2019-01-12 10:57:33,620][kfold_wrapper.log_eval_metrics] Accuracy(layer_0 - estimator_0 - 10_folds.train_3.predict)=74.07%\n",
      "[ 2019-01-12 10:57:34,390][kfold_wrapper.log_eval_metrics] Accuracy(layer_0 - estimator_0 - 10_folds.train_4.predict)=75.47%\n",
      "[ 2019-01-12 10:57:35,161][kfold_wrapper.log_eval_metrics] Accuracy(layer_0 - estimator_0 - 10_folds.train_5.predict)=96.23%\n",
      "[ 2019-01-12 10:57:36,031][kfold_wrapper.log_eval_metrics] Accuracy(layer_0 - estimator_0 - 10_folds.train_6.predict)=71.70%\n",
      "[ 2019-01-12 10:57:36,883][kfold_wrapper.log_eval_metrics] Accuracy(layer_0 - estimator_0 - 10_folds.train_7.predict)=66.04%\n",
      "[ 2019-01-12 10:57:37,712][kfold_wrapper.log_eval_metrics] Accuracy(layer_0 - estimator_0 - 10_folds.train_8.predict)=84.91%\n",
      "[ 2019-01-12 10:57:38,598][kfold_wrapper.log_eval_metrics] Accuracy(layer_0 - estimator_0 - 10_folds.train_9.predict)=79.25%\n",
      "[ 2019-01-12 10:57:38,726][kfold_wrapper.log_eval_metrics] Accuracy(layer_0 - estimator_0 - 10_folds.train_cv.predict)=75.42%\n",
      "[ 2019-01-12 10:57:38,728][kfold_wrapper.log_eval_metrics] Accuracy(layer_0 - estimator_0 - 10_folds.test.predict)=78.35%\n",
      "[ 2019-01-12 10:57:38,733][cascade_classifier.calc_accuracy] Accuracy(layer_0 - train.classifier_average)=75.42%\n",
      "[ 2019-01-12 10:57:38,736][cascade_classifier.calc_accuracy] Accuracy(layer_0 - test.classifier_average)=78.35%\n",
      "[ 2019-01-12 10:57:38,746][cascade_classifier.fit_transform] [Result][Reach Max Layer] opt_layer_num=1, accuracy_train=75.42%, accuracy_test=78.35%\n",
      "[ 2019-01-12 10:57:38,748][cascade_classifier.transform] X_groups_test.shape=[(231, 10)]\n",
      "[ 2019-01-12 10:57:38,749][cascade_classifier.transform] group_dims=[10]\n",
      "[ 2019-01-12 10:57:38,751][cascade_classifier.transform] X_test.shape=(231, 10)\n",
      "[ 2019-01-12 10:57:38,752][cascade_classifier.transform] [layer=0] look_indexs=[0], X_cur_test.shape=(231, 10)\n",
      "[ 2019-01-12 10:57:39,959][cascade_classifier.fit_transform] X_groups_train.shape=[(537, 10)],y_train.shape=(537,),X_groups_test.shape=[(231, 10)],y_test.shape=(231,)\n",
      "[ 2019-01-12 10:57:39,961][cascade_classifier.fit_transform] group_dims=[10]\n",
      "[ 2019-01-12 10:57:39,962][cascade_classifier.fit_transform] group_starts=[0]\n",
      "[ 2019-01-12 10:57:39,964][cascade_classifier.fit_transform] group_ends=[10]\n",
      "[ 2019-01-12 10:57:39,965][cascade_classifier.fit_transform] X_train.shape=(537, 10),X_test.shape=(231, 10)\n",
      "[ 2019-01-12 10:57:39,966][cascade_classifier.fit_transform] [layer=0] look_indexs=[0], X_cur_train.shape=(537, 10), X_cur_test.shape=(231, 10)\n"
     ]
    },
    {
     "name": "stdout",
     "output_type": "stream",
     "text": [
      "('Test Accuracy of DeepExtratTrees = 78.354978 %', 'Layer :', 2)\n",
      "[[137  20]\n",
      " [ 30  44]]\n",
      "\n",
      "\n",
      "             precision    recall  f1-score   support\n",
      "\n",
      "        0.0       0.82      0.87      0.85       157\n",
      "        1.0       0.69      0.59      0.64        74\n",
      "\n",
      "avg / total       0.78      0.78      0.78       231\n",
      "\n",
      "(' Time ', '8.049', ' seconds')\n"
     ]
    },
    {
     "name": "stderr",
     "output_type": "stream",
     "text": [
      "[ 2019-01-12 10:57:40,654][kfold_wrapper.log_eval_metrics] Accuracy(layer_0 - estimator_0 - 10_folds.train_0.predict)=76.36%\n",
      "[ 2019-01-12 10:57:41,473][kfold_wrapper.log_eval_metrics] Accuracy(layer_0 - estimator_0 - 10_folds.train_1.predict)=72.73%\n",
      "[ 2019-01-12 10:57:42,133][kfold_wrapper.log_eval_metrics] Accuracy(layer_0 - estimator_0 - 10_folds.train_2.predict)=67.27%\n",
      "[ 2019-01-12 10:57:42,753][kfold_wrapper.log_eval_metrics] Accuracy(layer_0 - estimator_0 - 10_folds.train_3.predict)=70.37%\n",
      "[ 2019-01-12 10:57:43,512][kfold_wrapper.log_eval_metrics] Accuracy(layer_0 - estimator_0 - 10_folds.train_4.predict)=77.36%\n",
      "[ 2019-01-12 10:57:44,260][kfold_wrapper.log_eval_metrics] Accuracy(layer_0 - estimator_0 - 10_folds.train_5.predict)=88.68%\n",
      "[ 2019-01-12 10:57:45,018][kfold_wrapper.log_eval_metrics] Accuracy(layer_0 - estimator_0 - 10_folds.train_6.predict)=69.81%\n",
      "[ 2019-01-12 10:57:45,828][kfold_wrapper.log_eval_metrics] Accuracy(layer_0 - estimator_0 - 10_folds.train_7.predict)=66.04%\n",
      "[ 2019-01-12 10:57:46,609][kfold_wrapper.log_eval_metrics] Accuracy(layer_0 - estimator_0 - 10_folds.train_8.predict)=77.36%\n",
      "[ 2019-01-12 10:57:47,360][kfold_wrapper.log_eval_metrics] Accuracy(layer_0 - estimator_0 - 10_folds.train_9.predict)=81.13%\n",
      "[ 2019-01-12 10:57:47,490][kfold_wrapper.log_eval_metrics] Accuracy(layer_0 - estimator_0 - 10_folds.train_cv.predict)=74.67%\n",
      "[ 2019-01-12 10:57:47,493][kfold_wrapper.log_eval_metrics] Accuracy(layer_0 - estimator_0 - 10_folds.test.predict)=75.32%\n",
      "[ 2019-01-12 10:57:47,499][cascade_classifier.calc_accuracy] Accuracy(layer_0 - train.classifier_average)=74.67%\n",
      "[ 2019-01-12 10:57:47,501][cascade_classifier.calc_accuracy] Accuracy(layer_0 - test.classifier_average)=75.32%\n",
      "[ 2019-01-12 10:57:47,502][cascade_classifier.fit_transform] [Result][Reach Max Layer] opt_layer_num=1, accuracy_train=74.67%, accuracy_test=75.32%\n",
      "[ 2019-01-12 10:57:47,503][cascade_classifier.transform] X_groups_test.shape=[(231, 10)]\n",
      "[ 2019-01-12 10:57:47,505][cascade_classifier.transform] group_dims=[10]\n",
      "[ 2019-01-12 10:57:47,507][cascade_classifier.transform] X_test.shape=(231, 10)\n",
      "[ 2019-01-12 10:57:47,508][cascade_classifier.transform] [layer=0] look_indexs=[0], X_cur_test.shape=(231, 10)\n",
      "[ 2019-01-12 10:57:48,782][cascade_classifier.fit_transform] X_groups_train.shape=[(537, 10)],y_train.shape=(537,),X_groups_test.shape=[(231, 10)],y_test.shape=(231,)\n",
      "[ 2019-01-12 10:57:48,785][cascade_classifier.fit_transform] group_dims=[10]\n",
      "[ 2019-01-12 10:57:48,786][cascade_classifier.fit_transform] group_starts=[0]\n",
      "[ 2019-01-12 10:57:48,788][cascade_classifier.fit_transform] group_ends=[10]\n",
      "[ 2019-01-12 10:57:48,790][cascade_classifier.fit_transform] X_train.shape=(537, 10),X_test.shape=(231, 10)\n",
      "[ 2019-01-12 10:57:48,792][cascade_classifier.fit_transform] [layer=0] look_indexs=[0], X_cur_train.shape=(537, 10), X_cur_test.shape=(231, 10)\n"
     ]
    },
    {
     "name": "stdout",
     "output_type": "stream",
     "text": [
      "('Test Accuracy of DeepExtratTrees = 75.324675 %', 'Layer :', 3)\n",
      "[[136  21]\n",
      " [ 36  38]]\n",
      "\n",
      "\n",
      "             precision    recall  f1-score   support\n",
      "\n",
      "        0.0       0.79      0.87      0.83       157\n",
      "        1.0       0.64      0.51      0.57        74\n",
      "\n",
      "avg / total       0.74      0.75      0.74       231\n",
      "\n",
      "(' Time ', '7.545', ' seconds')\n"
     ]
    },
    {
     "name": "stderr",
     "output_type": "stream",
     "text": [
      "[ 2019-01-12 10:57:49,439][kfold_wrapper.log_eval_metrics] Accuracy(layer_0 - estimator_0 - 10_folds.train_0.predict)=72.73%\n",
      "[ 2019-01-12 10:57:50,208][kfold_wrapper.log_eval_metrics] Accuracy(layer_0 - estimator_0 - 10_folds.train_1.predict)=74.55%\n",
      "[ 2019-01-12 10:57:50,970][kfold_wrapper.log_eval_metrics] Accuracy(layer_0 - estimator_0 - 10_folds.train_2.predict)=63.64%\n",
      "[ 2019-01-12 10:57:51,712][kfold_wrapper.log_eval_metrics] Accuracy(layer_0 - estimator_0 - 10_folds.train_3.predict)=74.07%\n",
      "[ 2019-01-12 10:57:52,432][kfold_wrapper.log_eval_metrics] Accuracy(layer_0 - estimator_0 - 10_folds.train_4.predict)=75.47%\n",
      "[ 2019-01-12 10:57:53,259][kfold_wrapper.log_eval_metrics] Accuracy(layer_0 - estimator_0 - 10_folds.train_5.predict)=90.57%\n",
      "[ 2019-01-12 10:57:54,021][kfold_wrapper.log_eval_metrics] Accuracy(layer_0 - estimator_0 - 10_folds.train_6.predict)=67.92%\n",
      "[ 2019-01-12 10:57:54,776][kfold_wrapper.log_eval_metrics] Accuracy(layer_0 - estimator_0 - 10_folds.train_7.predict)=69.81%\n",
      "[ 2019-01-12 10:57:55,405][kfold_wrapper.log_eval_metrics] Accuracy(layer_0 - estimator_0 - 10_folds.train_8.predict)=81.13%\n",
      "[ 2019-01-12 10:57:56,155][kfold_wrapper.log_eval_metrics] Accuracy(layer_0 - estimator_0 - 10_folds.train_9.predict)=73.58%\n",
      "[ 2019-01-12 10:57:56,266][kfold_wrapper.log_eval_metrics] Accuracy(layer_0 - estimator_0 - 10_folds.train_cv.predict)=74.30%\n",
      "[ 2019-01-12 10:57:56,268][kfold_wrapper.log_eval_metrics] Accuracy(layer_0 - estimator_0 - 10_folds.test.predict)=74.89%\n",
      "[ 2019-01-12 10:57:56,273][cascade_classifier.calc_accuracy] Accuracy(layer_0 - train.classifier_average)=74.30%\n",
      "[ 2019-01-12 10:57:56,275][cascade_classifier.calc_accuracy] Accuracy(layer_0 - test.classifier_average)=74.89%\n",
      "[ 2019-01-12 10:57:56,277][cascade_classifier.fit_transform] [Result][Reach Max Layer] opt_layer_num=1, accuracy_train=74.30%, accuracy_test=74.89%\n",
      "[ 2019-01-12 10:57:56,284][cascade_classifier.transform] X_groups_test.shape=[(231, 10)]\n",
      "[ 2019-01-12 10:57:56,286][cascade_classifier.transform] group_dims=[10]\n",
      "[ 2019-01-12 10:57:56,287][cascade_classifier.transform] X_test.shape=(231, 10)\n",
      "[ 2019-01-12 10:57:56,289][cascade_classifier.transform] [layer=0] look_indexs=[0], X_cur_test.shape=(231, 10)\n",
      "[ 2019-01-12 10:57:57,553][cascade_classifier.fit_transform] X_groups_train.shape=[(537, 10)],y_train.shape=(537,),X_groups_test.shape=[(231, 10)],y_test.shape=(231,)\n",
      "[ 2019-01-12 10:57:57,555][cascade_classifier.fit_transform] group_dims=[10]\n",
      "[ 2019-01-12 10:57:57,557][cascade_classifier.fit_transform] group_starts=[0]\n",
      "[ 2019-01-12 10:57:57,561][cascade_classifier.fit_transform] group_ends=[10]\n",
      "[ 2019-01-12 10:57:57,563][cascade_classifier.fit_transform] X_train.shape=(537, 10),X_test.shape=(231, 10)\n",
      "[ 2019-01-12 10:57:57,564][cascade_classifier.fit_transform] [layer=0] look_indexs=[0], X_cur_train.shape=(537, 10), X_cur_test.shape=(231, 10)\n"
     ]
    },
    {
     "name": "stdout",
     "output_type": "stream",
     "text": [
      "('Test Accuracy of DeepExtratTrees = 74.891775 %', 'Layer :', 4)\n",
      "[[134  23]\n",
      " [ 35  39]]\n",
      "\n",
      "\n",
      "             precision    recall  f1-score   support\n",
      "\n",
      "        0.0       0.79      0.85      0.82       157\n",
      "        1.0       0.63      0.53      0.57        74\n",
      "\n",
      "avg / total       0.74      0.75      0.74       231\n",
      "\n",
      "(' Time ', '7.502', ' seconds')\n"
     ]
    },
    {
     "name": "stderr",
     "output_type": "stream",
     "text": [
      "[ 2019-01-12 10:57:58,225][kfold_wrapper.log_eval_metrics] Accuracy(layer_0 - estimator_0 - 10_folds.train_0.predict)=72.73%\n",
      "[ 2019-01-12 10:57:58,969][kfold_wrapper.log_eval_metrics] Accuracy(layer_0 - estimator_0 - 10_folds.train_1.predict)=72.73%\n",
      "[ 2019-01-12 10:57:59,712][kfold_wrapper.log_eval_metrics] Accuracy(layer_0 - estimator_0 - 10_folds.train_2.predict)=67.27%\n",
      "[ 2019-01-12 10:58:00,432][kfold_wrapper.log_eval_metrics] Accuracy(layer_0 - estimator_0 - 10_folds.train_3.predict)=70.37%\n",
      "[ 2019-01-12 10:58:01,218][kfold_wrapper.log_eval_metrics] Accuracy(layer_0 - estimator_0 - 10_folds.train_4.predict)=83.02%\n",
      "[ 2019-01-12 10:58:01,982][kfold_wrapper.log_eval_metrics] Accuracy(layer_0 - estimator_0 - 10_folds.train_5.predict)=88.68%\n",
      "[ 2019-01-12 10:58:02,635][kfold_wrapper.log_eval_metrics] Accuracy(layer_0 - estimator_0 - 10_folds.train_6.predict)=71.70%\n",
      "[ 2019-01-12 10:58:03,465][kfold_wrapper.log_eval_metrics] Accuracy(layer_0 - estimator_0 - 10_folds.train_7.predict)=73.58%\n",
      "[ 2019-01-12 10:58:04,239][kfold_wrapper.log_eval_metrics] Accuracy(layer_0 - estimator_0 - 10_folds.train_8.predict)=83.02%\n",
      "[ 2019-01-12 10:58:05,001][kfold_wrapper.log_eval_metrics] Accuracy(layer_0 - estimator_0 - 10_folds.train_9.predict)=69.81%\n",
      "[ 2019-01-12 10:58:05,136][kfold_wrapper.log_eval_metrics] Accuracy(layer_0 - estimator_0 - 10_folds.train_cv.predict)=75.23%\n",
      "[ 2019-01-12 10:58:05,139][kfold_wrapper.log_eval_metrics] Accuracy(layer_0 - estimator_0 - 10_folds.test.predict)=74.89%\n",
      "[ 2019-01-12 10:58:05,147][cascade_classifier.calc_accuracy] Accuracy(layer_0 - train.classifier_average)=75.23%\n",
      "[ 2019-01-12 10:58:05,150][cascade_classifier.calc_accuracy] Accuracy(layer_0 - test.classifier_average)=74.89%\n",
      "[ 2019-01-12 10:58:05,152][cascade_classifier.fit_transform] [Result][Reach Max Layer] opt_layer_num=1, accuracy_train=75.23%, accuracy_test=74.89%\n",
      "[ 2019-01-12 10:58:05,153][cascade_classifier.transform] X_groups_test.shape=[(231, 10)]\n",
      "[ 2019-01-12 10:58:05,155][cascade_classifier.transform] group_dims=[10]\n",
      "[ 2019-01-12 10:58:05,156][cascade_classifier.transform] X_test.shape=(231, 10)\n",
      "[ 2019-01-12 10:58:05,158][cascade_classifier.transform] [layer=0] look_indexs=[0], X_cur_test.shape=(231, 10)\n",
      "[ 2019-01-12 10:58:06,366][cascade_classifier.fit_transform] X_groups_train.shape=[(537, 10)],y_train.shape=(537,),X_groups_test.shape=[(231, 10)],y_test.shape=(231,)\n",
      "[ 2019-01-12 10:58:06,368][cascade_classifier.fit_transform] group_dims=[10]\n",
      "[ 2019-01-12 10:58:06,370][cascade_classifier.fit_transform] group_starts=[0]\n",
      "[ 2019-01-12 10:58:06,371][cascade_classifier.fit_transform] group_ends=[10]\n",
      "[ 2019-01-12 10:58:06,373][cascade_classifier.fit_transform] X_train.shape=(537, 10),X_test.shape=(231, 10)\n",
      "[ 2019-01-12 10:58:06,375][cascade_classifier.fit_transform] [layer=0] look_indexs=[0], X_cur_train.shape=(537, 10), X_cur_test.shape=(231, 10)\n"
     ]
    },
    {
     "name": "stdout",
     "output_type": "stream",
     "text": [
      "('Test Accuracy of DeepExtratTrees = 74.891775 %', 'Layer :', 5)\n",
      "[[130  27]\n",
      " [ 31  43]]\n",
      "\n",
      "\n",
      "             precision    recall  f1-score   support\n",
      "\n",
      "        0.0       0.81      0.83      0.82       157\n",
      "        1.0       0.61      0.58      0.60        74\n",
      "\n",
      "avg / total       0.75      0.75      0.75       231\n",
      "\n",
      "(' Time ', '7.601', ' seconds')\n"
     ]
    },
    {
     "name": "stderr",
     "output_type": "stream",
     "text": [
      "[ 2019-01-12 10:58:07,065][kfold_wrapper.log_eval_metrics] Accuracy(layer_0 - estimator_0 - 10_folds.train_0.predict)=78.18%\n",
      "[ 2019-01-12 10:58:07,826][kfold_wrapper.log_eval_metrics] Accuracy(layer_0 - estimator_0 - 10_folds.train_1.predict)=76.36%\n",
      "[ 2019-01-12 10:58:08,567][kfold_wrapper.log_eval_metrics] Accuracy(layer_0 - estimator_0 - 10_folds.train_2.predict)=72.73%\n",
      "[ 2019-01-12 10:58:09,365][kfold_wrapper.log_eval_metrics] Accuracy(layer_0 - estimator_0 - 10_folds.train_3.predict)=72.22%\n",
      "[ 2019-01-12 10:58:10,123][kfold_wrapper.log_eval_metrics] Accuracy(layer_0 - estimator_0 - 10_folds.train_4.predict)=73.58%\n",
      "[ 2019-01-12 10:58:10,872][kfold_wrapper.log_eval_metrics] Accuracy(layer_0 - estimator_0 - 10_folds.train_5.predict)=88.68%\n",
      "[ 2019-01-12 10:58:11,625][kfold_wrapper.log_eval_metrics] Accuracy(layer_0 - estimator_0 - 10_folds.train_6.predict)=69.81%\n",
      "[ 2019-01-12 10:58:12,378][kfold_wrapper.log_eval_metrics] Accuracy(layer_0 - estimator_0 - 10_folds.train_7.predict)=66.04%\n",
      "[ 2019-01-12 10:58:13,114][kfold_wrapper.log_eval_metrics] Accuracy(layer_0 - estimator_0 - 10_folds.train_8.predict)=84.91%\n",
      "[ 2019-01-12 10:58:13,898][kfold_wrapper.log_eval_metrics] Accuracy(layer_0 - estimator_0 - 10_folds.train_9.predict)=69.81%\n",
      "[ 2019-01-12 10:58:14,035][kfold_wrapper.log_eval_metrics] Accuracy(layer_0 - estimator_0 - 10_folds.train_cv.predict)=75.23%\n",
      "[ 2019-01-12 10:58:14,038][kfold_wrapper.log_eval_metrics] Accuracy(layer_0 - estimator_0 - 10_folds.test.predict)=75.32%\n",
      "[ 2019-01-12 10:58:14,045][cascade_classifier.calc_accuracy] Accuracy(layer_0 - train.classifier_average)=75.23%\n",
      "[ 2019-01-12 10:58:14,047][cascade_classifier.calc_accuracy] Accuracy(layer_0 - test.classifier_average)=75.32%\n",
      "[ 2019-01-12 10:58:14,049][cascade_classifier.fit_transform] [Result][Reach Max Layer] opt_layer_num=1, accuracy_train=75.23%, accuracy_test=75.32%\n",
      "[ 2019-01-12 10:58:14,050][cascade_classifier.transform] X_groups_test.shape=[(231, 10)]\n",
      "[ 2019-01-12 10:58:14,052][cascade_classifier.transform] group_dims=[10]\n",
      "[ 2019-01-12 10:58:14,054][cascade_classifier.transform] X_test.shape=(231, 10)\n",
      "[ 2019-01-12 10:58:14,056][cascade_classifier.transform] [layer=0] look_indexs=[0], X_cur_test.shape=(231, 10)\n",
      "[ 2019-01-12 10:58:15,344][cascade_classifier.fit_transform] X_groups_train.shape=[(537, 10)],y_train.shape=(537,),X_groups_test.shape=[(231, 10)],y_test.shape=(231,)\n",
      "[ 2019-01-12 10:58:15,347][cascade_classifier.fit_transform] group_dims=[10]\n",
      "[ 2019-01-12 10:58:15,350][cascade_classifier.fit_transform] group_starts=[0]\n",
      "[ 2019-01-12 10:58:15,352][cascade_classifier.fit_transform] group_ends=[10]\n",
      "[ 2019-01-12 10:58:15,353][cascade_classifier.fit_transform] X_train.shape=(537, 10),X_test.shape=(231, 10)\n",
      "[ 2019-01-12 10:58:15,355][cascade_classifier.fit_transform] [layer=0] look_indexs=[0], X_cur_train.shape=(537, 10), X_cur_test.shape=(231, 10)\n"
     ]
    },
    {
     "name": "stdout",
     "output_type": "stream",
     "text": [
      "('Test Accuracy of DeepExtratTrees = 75.757576 %', 'Layer :', 6)\n",
      "[[135  22]\n",
      " [ 34  40]]\n",
      "\n",
      "\n",
      "             precision    recall  f1-score   support\n",
      "\n",
      "        0.0       0.80      0.86      0.83       157\n",
      "        1.0       0.65      0.54      0.59        74\n",
      "\n",
      "avg / total       0.75      0.76      0.75       231\n",
      "\n",
      "(' Time ', '7.685', ' seconds')\n"
     ]
    },
    {
     "name": "stderr",
     "output_type": "stream",
     "text": [
      "[ 2019-01-12 10:58:15,912][kfold_wrapper.log_eval_metrics] Accuracy(layer_0 - estimator_0 - 10_folds.train_0.predict)=78.18%\n",
      "[ 2019-01-12 10:58:16,669][kfold_wrapper.log_eval_metrics] Accuracy(layer_0 - estimator_0 - 10_folds.train_1.predict)=74.55%\n",
      "[ 2019-01-12 10:58:17,452][kfold_wrapper.log_eval_metrics] Accuracy(layer_0 - estimator_0 - 10_folds.train_2.predict)=65.45%\n",
      "[ 2019-01-12 10:58:18,230][kfold_wrapper.log_eval_metrics] Accuracy(layer_0 - estimator_0 - 10_folds.train_3.predict)=75.93%\n",
      "[ 2019-01-12 10:58:18,994][kfold_wrapper.log_eval_metrics] Accuracy(layer_0 - estimator_0 - 10_folds.train_4.predict)=75.47%\n",
      "[ 2019-01-12 10:58:19,768][kfold_wrapper.log_eval_metrics] Accuracy(layer_0 - estimator_0 - 10_folds.train_5.predict)=83.02%\n",
      "[ 2019-01-12 10:58:20,531][kfold_wrapper.log_eval_metrics] Accuracy(layer_0 - estimator_0 - 10_folds.train_6.predict)=69.81%\n",
      "[ 2019-01-12 10:58:21,311][kfold_wrapper.log_eval_metrics] Accuracy(layer_0 - estimator_0 - 10_folds.train_7.predict)=64.15%\n",
      "[ 2019-01-12 10:58:22,070][kfold_wrapper.log_eval_metrics] Accuracy(layer_0 - estimator_0 - 10_folds.train_8.predict)=83.02%\n",
      "[ 2019-01-12 10:58:22,808][kfold_wrapper.log_eval_metrics] Accuracy(layer_0 - estimator_0 - 10_folds.train_9.predict)=73.58%\n",
      "[ 2019-01-12 10:58:22,928][kfold_wrapper.log_eval_metrics] Accuracy(layer_0 - estimator_0 - 10_folds.train_cv.predict)=74.30%\n",
      "[ 2019-01-12 10:58:22,930][kfold_wrapper.log_eval_metrics] Accuracy(layer_0 - estimator_0 - 10_folds.test.predict)=74.46%\n",
      "[ 2019-01-12 10:58:22,939][cascade_classifier.calc_accuracy] Accuracy(layer_0 - train.classifier_average)=74.30%\n",
      "[ 2019-01-12 10:58:22,940][cascade_classifier.calc_accuracy] Accuracy(layer_0 - test.classifier_average)=74.46%\n",
      "[ 2019-01-12 10:58:22,942][cascade_classifier.fit_transform] [Result][Reach Max Layer] opt_layer_num=1, accuracy_train=74.30%, accuracy_test=74.46%\n",
      "[ 2019-01-12 10:58:22,943][cascade_classifier.transform] X_groups_test.shape=[(231, 10)]\n",
      "[ 2019-01-12 10:58:22,945][cascade_classifier.transform] group_dims=[10]\n",
      "[ 2019-01-12 10:58:22,947][cascade_classifier.transform] X_test.shape=(231, 10)\n",
      "[ 2019-01-12 10:58:22,948][cascade_classifier.transform] [layer=0] look_indexs=[0], X_cur_test.shape=(231, 10)\n",
      "[ 2019-01-12 10:58:24,195][cascade_classifier.fit_transform] X_groups_train.shape=[(537, 10)],y_train.shape=(537,),X_groups_test.shape=[(231, 10)],y_test.shape=(231,)\n",
      "[ 2019-01-12 10:58:24,198][cascade_classifier.fit_transform] group_dims=[10]\n",
      "[ 2019-01-12 10:58:24,201][cascade_classifier.fit_transform] group_starts=[0]\n",
      "[ 2019-01-12 10:58:24,202][cascade_classifier.fit_transform] group_ends=[10]\n",
      "[ 2019-01-12 10:58:24,205][cascade_classifier.fit_transform] X_train.shape=(537, 10),X_test.shape=(231, 10)\n",
      "[ 2019-01-12 10:58:24,208][cascade_classifier.fit_transform] [layer=0] look_indexs=[0], X_cur_train.shape=(537, 10), X_cur_test.shape=(231, 10)\n"
     ]
    },
    {
     "name": "stdout",
     "output_type": "stream",
     "text": [
      "('Test Accuracy of DeepExtratTrees = 74.458874 %', 'Layer :', 7)\n",
      "[[133  24]\n",
      " [ 35  39]]\n",
      "\n",
      "\n",
      "             precision    recall  f1-score   support\n",
      "\n",
      "        0.0       0.79      0.85      0.82       157\n",
      "        1.0       0.62      0.53      0.57        74\n",
      "\n",
      "avg / total       0.74      0.74      0.74       231\n",
      "\n",
      "(' Time ', '7.601', ' seconds')\n"
     ]
    },
    {
     "name": "stderr",
     "output_type": "stream",
     "text": [
      "[ 2019-01-12 10:58:24,871][kfold_wrapper.log_eval_metrics] Accuracy(layer_0 - estimator_0 - 10_folds.train_0.predict)=81.82%\n",
      "[ 2019-01-12 10:58:25,506][kfold_wrapper.log_eval_metrics] Accuracy(layer_0 - estimator_0 - 10_folds.train_1.predict)=74.55%\n",
      "[ 2019-01-12 10:58:26,258][kfold_wrapper.log_eval_metrics] Accuracy(layer_0 - estimator_0 - 10_folds.train_2.predict)=65.45%\n",
      "[ 2019-01-12 10:58:26,998][kfold_wrapper.log_eval_metrics] Accuracy(layer_0 - estimator_0 - 10_folds.train_3.predict)=68.52%\n",
      "[ 2019-01-12 10:58:27,770][kfold_wrapper.log_eval_metrics] Accuracy(layer_0 - estimator_0 - 10_folds.train_4.predict)=66.04%\n",
      "[ 2019-01-12 10:58:28,543][kfold_wrapper.log_eval_metrics] Accuracy(layer_0 - estimator_0 - 10_folds.train_5.predict)=83.02%\n",
      "[ 2019-01-12 10:58:29,267][kfold_wrapper.log_eval_metrics] Accuracy(layer_0 - estimator_0 - 10_folds.train_6.predict)=69.81%\n",
      "[ 2019-01-12 10:58:30,001][kfold_wrapper.log_eval_metrics] Accuracy(layer_0 - estimator_0 - 10_folds.train_7.predict)=64.15%\n",
      "[ 2019-01-12 10:58:30,679][kfold_wrapper.log_eval_metrics] Accuracy(layer_0 - estimator_0 - 10_folds.train_8.predict)=88.68%\n",
      "[ 2019-01-12 10:58:31,441][kfold_wrapper.log_eval_metrics] Accuracy(layer_0 - estimator_0 - 10_folds.train_9.predict)=75.47%\n",
      "[ 2019-01-12 10:58:31,579][kfold_wrapper.log_eval_metrics] Accuracy(layer_0 - estimator_0 - 10_folds.train_cv.predict)=73.74%\n",
      "[ 2019-01-12 10:58:31,582][kfold_wrapper.log_eval_metrics] Accuracy(layer_0 - estimator_0 - 10_folds.test.predict)=74.46%\n",
      "[ 2019-01-12 10:58:31,591][cascade_classifier.calc_accuracy] Accuracy(layer_0 - train.classifier_average)=73.74%\n",
      "[ 2019-01-12 10:58:31,596][cascade_classifier.calc_accuracy] Accuracy(layer_0 - test.classifier_average)=74.46%\n",
      "[ 2019-01-12 10:58:31,599][cascade_classifier.fit_transform] [Result][Reach Max Layer] opt_layer_num=1, accuracy_train=73.74%, accuracy_test=74.46%\n",
      "[ 2019-01-12 10:58:31,602][cascade_classifier.transform] X_groups_test.shape=[(231, 10)]\n",
      "[ 2019-01-12 10:58:31,604][cascade_classifier.transform] group_dims=[10]\n",
      "[ 2019-01-12 10:58:31,606][cascade_classifier.transform] X_test.shape=(231, 10)\n",
      "[ 2019-01-12 10:58:31,607][cascade_classifier.transform] [layer=0] look_indexs=[0], X_cur_test.shape=(231, 10)\n",
      "[ 2019-01-12 10:58:32,860][cascade_classifier.fit_transform] X_groups_train.shape=[(537, 10)],y_train.shape=(537,),X_groups_test.shape=[(231, 10)],y_test.shape=(231,)\n",
      "[ 2019-01-12 10:58:32,862][cascade_classifier.fit_transform] group_dims=[10]\n",
      "[ 2019-01-12 10:58:32,865][cascade_classifier.fit_transform] group_starts=[0]\n",
      "[ 2019-01-12 10:58:32,868][cascade_classifier.fit_transform] group_ends=[10]\n",
      "[ 2019-01-12 10:58:32,870][cascade_classifier.fit_transform] X_train.shape=(537, 10),X_test.shape=(231, 10)\n",
      "[ 2019-01-12 10:58:32,872][cascade_classifier.fit_transform] [layer=0] look_indexs=[0], X_cur_train.shape=(537, 10), X_cur_test.shape=(231, 10)\n"
     ]
    },
    {
     "name": "stdout",
     "output_type": "stream",
     "text": [
      "('Test Accuracy of DeepExtratTrees = 74.458874 %', 'Layer :', 8)\n",
      "[[136  21]\n",
      " [ 38  36]]\n",
      "\n",
      "\n",
      "             precision    recall  f1-score   support\n",
      "\n",
      "        0.0       0.78      0.87      0.82       157\n",
      "        1.0       0.63      0.49      0.55        74\n",
      "\n",
      "avg / total       0.73      0.74      0.73       231\n",
      "\n",
      "(' Time ', '7.408', ' seconds')\n"
     ]
    },
    {
     "name": "stderr",
     "output_type": "stream",
     "text": [
      "[ 2019-01-12 10:58:33,587][kfold_wrapper.log_eval_metrics] Accuracy(layer_0 - estimator_0 - 10_folds.train_0.predict)=76.36%\n",
      "[ 2019-01-12 10:58:34,331][kfold_wrapper.log_eval_metrics] Accuracy(layer_0 - estimator_0 - 10_folds.train_1.predict)=63.64%\n",
      "[ 2019-01-12 10:58:35,090][kfold_wrapper.log_eval_metrics] Accuracy(layer_0 - estimator_0 - 10_folds.train_2.predict)=67.27%\n",
      "[ 2019-01-12 10:58:35,857][kfold_wrapper.log_eval_metrics] Accuracy(layer_0 - estimator_0 - 10_folds.train_3.predict)=68.52%\n",
      "[ 2019-01-12 10:58:36,597][kfold_wrapper.log_eval_metrics] Accuracy(layer_0 - estimator_0 - 10_folds.train_4.predict)=73.58%\n",
      "[ 2019-01-12 10:58:37,385][kfold_wrapper.log_eval_metrics] Accuracy(layer_0 - estimator_0 - 10_folds.train_5.predict)=84.91%\n",
      "[ 2019-01-12 10:58:38,143][kfold_wrapper.log_eval_metrics] Accuracy(layer_0 - estimator_0 - 10_folds.train_6.predict)=66.04%\n",
      "[ 2019-01-12 10:58:38,920][kfold_wrapper.log_eval_metrics] Accuracy(layer_0 - estimator_0 - 10_folds.train_7.predict)=67.92%\n",
      "[ 2019-01-12 10:58:39,683][kfold_wrapper.log_eval_metrics] Accuracy(layer_0 - estimator_0 - 10_folds.train_8.predict)=79.25%\n",
      "[ 2019-01-12 10:58:40,476][kfold_wrapper.log_eval_metrics] Accuracy(layer_0 - estimator_0 - 10_folds.train_9.predict)=73.58%\n",
      "[ 2019-01-12 10:58:40,603][kfold_wrapper.log_eval_metrics] Accuracy(layer_0 - estimator_0 - 10_folds.train_cv.predict)=72.07%\n",
      "[ 2019-01-12 10:58:40,604][kfold_wrapper.log_eval_metrics] Accuracy(layer_0 - estimator_0 - 10_folds.test.predict)=74.89%\n",
      "[ 2019-01-12 10:58:40,608][cascade_classifier.calc_accuracy] Accuracy(layer_0 - train.classifier_average)=72.07%\n",
      "[ 2019-01-12 10:58:40,611][cascade_classifier.calc_accuracy] Accuracy(layer_0 - test.classifier_average)=74.89%\n",
      "[ 2019-01-12 10:58:40,614][cascade_classifier.fit_transform] [Result][Reach Max Layer] opt_layer_num=1, accuracy_train=72.07%, accuracy_test=74.89%\n",
      "[ 2019-01-12 10:58:40,616][cascade_classifier.transform] X_groups_test.shape=[(231, 10)]\n",
      "[ 2019-01-12 10:58:40,619][cascade_classifier.transform] group_dims=[10]\n",
      "[ 2019-01-12 10:58:40,620][cascade_classifier.transform] X_test.shape=(231, 10)\n",
      "[ 2019-01-12 10:58:40,622][cascade_classifier.transform] [layer=0] look_indexs=[0], X_cur_test.shape=(231, 10)\n",
      "[ 2019-01-12 10:58:41,919][cascade_classifier.fit_transform] X_groups_train.shape=[(537, 10)],y_train.shape=(537,),X_groups_test.shape=[(231, 10)],y_test.shape=(231,)\n",
      "[ 2019-01-12 10:58:41,922][cascade_classifier.fit_transform] group_dims=[10]\n",
      "[ 2019-01-12 10:58:41,923][cascade_classifier.fit_transform] group_starts=[0]\n",
      "[ 2019-01-12 10:58:41,925][cascade_classifier.fit_transform] group_ends=[10]\n",
      "[ 2019-01-12 10:58:41,926][cascade_classifier.fit_transform] X_train.shape=(537, 10),X_test.shape=(231, 10)\n",
      "[ 2019-01-12 10:58:41,928][cascade_classifier.fit_transform] [layer=0] look_indexs=[0], X_cur_train.shape=(537, 10), X_cur_test.shape=(231, 10)\n"
     ]
    },
    {
     "name": "stdout",
     "output_type": "stream",
     "text": [
      "('Test Accuracy of DeepExtratTrees = 74.891775 %', 'Layer :', 9)\n",
      "[[130  27]\n",
      " [ 31  43]]\n",
      "\n",
      "\n",
      "             precision    recall  f1-score   support\n",
      "\n",
      "        0.0       0.81      0.83      0.82       157\n",
      "        1.0       0.61      0.58      0.60        74\n",
      "\n",
      "avg / total       0.75      0.75      0.75       231\n",
      "\n",
      "(' Time ', '7.758', ' seconds')\n"
     ]
    },
    {
     "name": "stderr",
     "output_type": "stream",
     "text": [
      "[ 2019-01-12 10:58:42,612][kfold_wrapper.log_eval_metrics] Accuracy(layer_0 - estimator_0 - 10_folds.train_0.predict)=78.18%\n",
      "[ 2019-01-12 10:58:43,385][kfold_wrapper.log_eval_metrics] Accuracy(layer_0 - estimator_0 - 10_folds.train_1.predict)=74.55%\n",
      "[ 2019-01-12 10:58:44,157][kfold_wrapper.log_eval_metrics] Accuracy(layer_0 - estimator_0 - 10_folds.train_2.predict)=63.64%\n",
      "[ 2019-01-12 10:58:44,915][kfold_wrapper.log_eval_metrics] Accuracy(layer_0 - estimator_0 - 10_folds.train_3.predict)=72.22%\n",
      "[ 2019-01-12 10:58:45,654][kfold_wrapper.log_eval_metrics] Accuracy(layer_0 - estimator_0 - 10_folds.train_4.predict)=71.70%\n",
      "[ 2019-01-12 10:58:46,391][kfold_wrapper.log_eval_metrics] Accuracy(layer_0 - estimator_0 - 10_folds.train_5.predict)=84.91%\n",
      "[ 2019-01-12 10:58:47,146][kfold_wrapper.log_eval_metrics] Accuracy(layer_0 - estimator_0 - 10_folds.train_6.predict)=66.04%\n",
      "[ 2019-01-12 10:58:47,905][kfold_wrapper.log_eval_metrics] Accuracy(layer_0 - estimator_0 - 10_folds.train_7.predict)=62.26%\n",
      "[ 2019-01-12 10:58:48,663][kfold_wrapper.log_eval_metrics] Accuracy(layer_0 - estimator_0 - 10_folds.train_8.predict)=84.91%\n",
      "[ 2019-01-12 10:58:49,459][kfold_wrapper.log_eval_metrics] Accuracy(layer_0 - estimator_0 - 10_folds.train_9.predict)=81.13%\n",
      "[ 2019-01-12 10:58:49,593][kfold_wrapper.log_eval_metrics] Accuracy(layer_0 - estimator_0 - 10_folds.train_cv.predict)=73.93%\n",
      "[ 2019-01-12 10:58:49,597][kfold_wrapper.log_eval_metrics] Accuracy(layer_0 - estimator_0 - 10_folds.test.predict)=76.62%\n",
      "[ 2019-01-12 10:58:49,603][cascade_classifier.calc_accuracy] Accuracy(layer_0 - train.classifier_average)=73.93%\n",
      "[ 2019-01-12 10:58:49,606][cascade_classifier.calc_accuracy] Accuracy(layer_0 - test.classifier_average)=76.62%\n",
      "[ 2019-01-12 10:58:49,607][cascade_classifier.fit_transform] [Result][Reach Max Layer] opt_layer_num=1, accuracy_train=73.93%, accuracy_test=76.62%\n",
      "[ 2019-01-12 10:58:49,609][cascade_classifier.transform] X_groups_test.shape=[(231, 10)]\n",
      "[ 2019-01-12 10:58:49,610][cascade_classifier.transform] group_dims=[10]\n",
      "[ 2019-01-12 10:58:49,611][cascade_classifier.transform] X_test.shape=(231, 10)\n",
      "[ 2019-01-12 10:58:49,613][cascade_classifier.transform] [layer=0] look_indexs=[0], X_cur_test.shape=(231, 10)\n",
      "[ 2019-01-12 10:58:50,916][cascade_classifier.fit_transform] X_groups_train.shape=[(537, 10)],y_train.shape=(537,),X_groups_test.shape=[(231, 10)],y_test.shape=(231,)\n",
      "[ 2019-01-12 10:58:50,918][cascade_classifier.fit_transform] group_dims=[10]\n",
      "[ 2019-01-12 10:58:50,919][cascade_classifier.fit_transform] group_starts=[0]\n",
      "[ 2019-01-12 10:58:50,921][cascade_classifier.fit_transform] group_ends=[10]\n",
      "[ 2019-01-12 10:58:50,922][cascade_classifier.fit_transform] X_train.shape=(537, 10),X_test.shape=(231, 10)\n",
      "[ 2019-01-12 10:58:50,925][cascade_classifier.fit_transform] [layer=0] look_indexs=[0], X_cur_train.shape=(537, 10), X_cur_test.shape=(231, 10)\n"
     ]
    },
    {
     "name": "stdout",
     "output_type": "stream",
     "text": [
      "('Test Accuracy of DeepExtratTrees = 76.623377 %', 'Layer :', 10)\n",
      "[[141  16]\n",
      " [ 38  36]]\n",
      "\n",
      "\n",
      "             precision    recall  f1-score   support\n",
      "\n",
      "        0.0       0.79      0.90      0.84       157\n",
      "        1.0       0.69      0.49      0.57        74\n",
      "\n",
      "avg / total       0.76      0.77      0.75       231\n",
      "\n",
      "(' Time ', '7.69', ' seconds')\n"
     ]
    },
    {
     "name": "stderr",
     "output_type": "stream",
     "text": [
      "[ 2019-01-12 10:58:51,622][kfold_wrapper.log_eval_metrics] Accuracy(layer_0 - estimator_0 - 10_folds.train_0.predict)=76.36%\n",
      "[ 2019-01-12 10:58:52,382][kfold_wrapper.log_eval_metrics] Accuracy(layer_0 - estimator_0 - 10_folds.train_1.predict)=76.36%\n",
      "[ 2019-01-12 10:58:53,153][kfold_wrapper.log_eval_metrics] Accuracy(layer_0 - estimator_0 - 10_folds.train_2.predict)=63.64%\n",
      "[ 2019-01-12 10:58:53,916][kfold_wrapper.log_eval_metrics] Accuracy(layer_0 - estimator_0 - 10_folds.train_3.predict)=74.07%\n",
      "[ 2019-01-12 10:58:54,706][kfold_wrapper.log_eval_metrics] Accuracy(layer_0 - estimator_0 - 10_folds.train_4.predict)=79.25%\n",
      "[ 2019-01-12 10:58:55,475][kfold_wrapper.log_eval_metrics] Accuracy(layer_0 - estimator_0 - 10_folds.train_5.predict)=86.79%\n",
      "[ 2019-01-12 10:58:56,238][kfold_wrapper.log_eval_metrics] Accuracy(layer_0 - estimator_0 - 10_folds.train_6.predict)=67.92%\n",
      "[ 2019-01-12 10:58:56,978][kfold_wrapper.log_eval_metrics] Accuracy(layer_0 - estimator_0 - 10_folds.train_7.predict)=66.04%\n",
      "[ 2019-01-12 10:58:57,741][kfold_wrapper.log_eval_metrics] Accuracy(layer_0 - estimator_0 - 10_folds.train_8.predict)=79.25%\n",
      "[ 2019-01-12 10:58:58,503][kfold_wrapper.log_eval_metrics] Accuracy(layer_0 - estimator_0 - 10_folds.train_9.predict)=69.81%\n",
      "[ 2019-01-12 10:58:58,637][kfold_wrapper.log_eval_metrics] Accuracy(layer_0 - estimator_0 - 10_folds.train_cv.predict)=73.93%\n",
      "[ 2019-01-12 10:58:58,640][kfold_wrapper.log_eval_metrics] Accuracy(layer_0 - estimator_0 - 10_folds.test.predict)=74.89%\n",
      "[ 2019-01-12 10:58:58,647][cascade_classifier.calc_accuracy] Accuracy(layer_0 - train.classifier_average)=73.93%\n",
      "[ 2019-01-12 10:58:58,650][cascade_classifier.calc_accuracy] Accuracy(layer_0 - test.classifier_average)=74.89%\n",
      "[ 2019-01-12 10:58:58,654][cascade_classifier.fit_transform] [Result][Reach Max Layer] opt_layer_num=1, accuracy_train=73.93%, accuracy_test=74.89%\n",
      "[ 2019-01-12 10:58:58,656][cascade_classifier.transform] X_groups_test.shape=[(231, 10)]\n",
      "[ 2019-01-12 10:58:58,658][cascade_classifier.transform] group_dims=[10]\n",
      "[ 2019-01-12 10:58:58,660][cascade_classifier.transform] X_test.shape=(231, 10)\n",
      "[ 2019-01-12 10:58:58,662][cascade_classifier.transform] [layer=0] look_indexs=[0], X_cur_test.shape=(231, 10)\n",
      "[ 2019-01-12 10:58:59,992][cascade_classifier.fit_transform] X_groups_train.shape=[(537, 10)],y_train.shape=(537,),X_groups_test.shape=[(231, 10)],y_test.shape=(231,)\n",
      "[ 2019-01-12 10:58:59,993][cascade_classifier.fit_transform] group_dims=[10]\n",
      "[ 2019-01-12 10:58:59,995][cascade_classifier.fit_transform] group_starts=[0]\n",
      "[ 2019-01-12 10:58:59,997][cascade_classifier.fit_transform] group_ends=[10]\n",
      "[ 2019-01-12 10:58:59,999][cascade_classifier.fit_transform] X_train.shape=(537, 10),X_test.shape=(231, 10)\n",
      "[ 2019-01-12 10:59:00,002][cascade_classifier.fit_transform] [layer=0] look_indexs=[0], X_cur_train.shape=(537, 10), X_cur_test.shape=(231, 10)\n"
     ]
    },
    {
     "name": "stdout",
     "output_type": "stream",
     "text": [
      "('Test Accuracy of DeepExtratTrees = 74.891775 %', 'Layer :', 11)\n",
      "[[135  22]\n",
      " [ 36  38]]\n",
      "\n",
      "\n",
      "             precision    recall  f1-score   support\n",
      "\n",
      "        0.0       0.79      0.86      0.82       157\n",
      "        1.0       0.63      0.51      0.57        74\n",
      "\n",
      "avg / total       0.74      0.75      0.74       231\n",
      "\n",
      "(' Time ', '7.741', ' seconds')\n"
     ]
    },
    {
     "name": "stderr",
     "output_type": "stream",
     "text": [
      "[ 2019-01-12 10:59:00,640][kfold_wrapper.log_eval_metrics] Accuracy(layer_0 - estimator_0 - 10_folds.train_0.predict)=80.00%\n",
      "[ 2019-01-12 10:59:01,271][kfold_wrapper.log_eval_metrics] Accuracy(layer_0 - estimator_0 - 10_folds.train_1.predict)=76.36%\n",
      "[ 2019-01-12 10:59:02,030][kfold_wrapper.log_eval_metrics] Accuracy(layer_0 - estimator_0 - 10_folds.train_2.predict)=67.27%\n",
      "[ 2019-01-12 10:59:02,773][kfold_wrapper.log_eval_metrics] Accuracy(layer_0 - estimator_0 - 10_folds.train_3.predict)=72.22%\n",
      "[ 2019-01-12 10:59:03,516][kfold_wrapper.log_eval_metrics] Accuracy(layer_0 - estimator_0 - 10_folds.train_4.predict)=75.47%\n",
      "[ 2019-01-12 10:59:04,275][kfold_wrapper.log_eval_metrics] Accuracy(layer_0 - estimator_0 - 10_folds.train_5.predict)=88.68%\n",
      "[ 2019-01-12 10:59:05,024][kfold_wrapper.log_eval_metrics] Accuracy(layer_0 - estimator_0 - 10_folds.train_6.predict)=73.58%\n",
      "[ 2019-01-12 10:59:05,803][kfold_wrapper.log_eval_metrics] Accuracy(layer_0 - estimator_0 - 10_folds.train_7.predict)=67.92%\n",
      "[ 2019-01-12 10:59:06,558][kfold_wrapper.log_eval_metrics] Accuracy(layer_0 - estimator_0 - 10_folds.train_8.predict)=83.02%\n",
      "[ 2019-01-12 10:59:07,293][kfold_wrapper.log_eval_metrics] Accuracy(layer_0 - estimator_0 - 10_folds.train_9.predict)=73.58%\n",
      "[ 2019-01-12 10:59:07,407][kfold_wrapper.log_eval_metrics] Accuracy(layer_0 - estimator_0 - 10_folds.train_cv.predict)=75.79%\n",
      "[ 2019-01-12 10:59:07,410][kfold_wrapper.log_eval_metrics] Accuracy(layer_0 - estimator_0 - 10_folds.test.predict)=75.76%\n",
      "[ 2019-01-12 10:59:07,418][cascade_classifier.calc_accuracy] Accuracy(layer_0 - train.classifier_average)=75.79%\n",
      "[ 2019-01-12 10:59:07,422][cascade_classifier.calc_accuracy] Accuracy(layer_0 - test.classifier_average)=75.76%\n",
      "[ 2019-01-12 10:59:07,424][cascade_classifier.fit_transform] [Result][Reach Max Layer] opt_layer_num=1, accuracy_train=75.79%, accuracy_test=75.76%\n",
      "[ 2019-01-12 10:59:07,425][cascade_classifier.transform] X_groups_test.shape=[(231, 10)]\n",
      "[ 2019-01-12 10:59:07,427][cascade_classifier.transform] group_dims=[10]\n",
      "[ 2019-01-12 10:59:07,428][cascade_classifier.transform] X_test.shape=(231, 10)\n",
      "[ 2019-01-12 10:59:07,429][cascade_classifier.transform] [layer=0] look_indexs=[0], X_cur_test.shape=(231, 10)\n",
      "[ 2019-01-12 10:59:08,721][cascade_classifier.fit_transform] X_groups_train.shape=[(537, 10)],y_train.shape=(537,),X_groups_test.shape=[(231, 10)],y_test.shape=(231,)\n",
      "[ 2019-01-12 10:59:08,723][cascade_classifier.fit_transform] group_dims=[10]\n",
      "[ 2019-01-12 10:59:08,725][cascade_classifier.fit_transform] group_starts=[0]\n",
      "[ 2019-01-12 10:59:08,727][cascade_classifier.fit_transform] group_ends=[10]\n",
      "[ 2019-01-12 10:59:08,728][cascade_classifier.fit_transform] X_train.shape=(537, 10),X_test.shape=(231, 10)\n",
      "[ 2019-01-12 10:59:08,730][cascade_classifier.fit_transform] [layer=0] look_indexs=[0], X_cur_train.shape=(537, 10), X_cur_test.shape=(231, 10)\n"
     ]
    },
    {
     "name": "stdout",
     "output_type": "stream",
     "text": [
      "('Test Accuracy of DeepExtratTrees = 75.757576 %', 'Layer :', 12)\n",
      "[[134  23]\n",
      " [ 33  41]]\n",
      "\n",
      "\n",
      "             precision    recall  f1-score   support\n",
      "\n",
      "        0.0       0.80      0.85      0.83       157\n",
      "        1.0       0.64      0.55      0.59        74\n",
      "\n",
      "avg / total       0.75      0.76      0.75       231\n",
      "\n",
      "(' Time ', '7.434', ' seconds')\n"
     ]
    },
    {
     "name": "stderr",
     "output_type": "stream",
     "text": [
      "[ 2019-01-12 10:59:09,375][kfold_wrapper.log_eval_metrics] Accuracy(layer_0 - estimator_0 - 10_folds.train_0.predict)=76.36%\n",
      "[ 2019-01-12 10:59:10,128][kfold_wrapper.log_eval_metrics] Accuracy(layer_0 - estimator_0 - 10_folds.train_1.predict)=70.91%\n",
      "[ 2019-01-12 10:59:10,891][kfold_wrapper.log_eval_metrics] Accuracy(layer_0 - estimator_0 - 10_folds.train_2.predict)=60.00%\n",
      "[ 2019-01-12 10:59:11,642][kfold_wrapper.log_eval_metrics] Accuracy(layer_0 - estimator_0 - 10_folds.train_3.predict)=74.07%\n",
      "[ 2019-01-12 10:59:12,432][kfold_wrapper.log_eval_metrics] Accuracy(layer_0 - estimator_0 - 10_folds.train_4.predict)=73.58%\n",
      "[ 2019-01-12 10:59:13,190][kfold_wrapper.log_eval_metrics] Accuracy(layer_0 - estimator_0 - 10_folds.train_5.predict)=84.91%\n",
      "[ 2019-01-12 10:59:14,007][kfold_wrapper.log_eval_metrics] Accuracy(layer_0 - estimator_0 - 10_folds.train_6.predict)=66.04%\n",
      "[ 2019-01-12 10:59:14,774][kfold_wrapper.log_eval_metrics] Accuracy(layer_0 - estimator_0 - 10_folds.train_7.predict)=64.15%\n",
      "[ 2019-01-12 10:59:15,519][kfold_wrapper.log_eval_metrics] Accuracy(layer_0 - estimator_0 - 10_folds.train_8.predict)=83.02%\n",
      "[ 2019-01-12 10:59:16,365][kfold_wrapper.log_eval_metrics] Accuracy(layer_0 - estimator_0 - 10_folds.train_9.predict)=77.36%\n",
      "[ 2019-01-12 10:59:16,494][kfold_wrapper.log_eval_metrics] Accuracy(layer_0 - estimator_0 - 10_folds.train_cv.predict)=73.00%\n",
      "[ 2019-01-12 10:59:16,497][kfold_wrapper.log_eval_metrics] Accuracy(layer_0 - estimator_0 - 10_folds.test.predict)=77.06%\n",
      "[ 2019-01-12 10:59:16,504][cascade_classifier.calc_accuracy] Accuracy(layer_0 - train.classifier_average)=73.00%\n",
      "[ 2019-01-12 10:59:16,506][cascade_classifier.calc_accuracy] Accuracy(layer_0 - test.classifier_average)=77.06%\n",
      "[ 2019-01-12 10:59:16,508][cascade_classifier.fit_transform] [Result][Reach Max Layer] opt_layer_num=1, accuracy_train=73.00%, accuracy_test=77.06%\n",
      "[ 2019-01-12 10:59:16,509][cascade_classifier.transform] X_groups_test.shape=[(231, 10)]\n",
      "[ 2019-01-12 10:59:16,510][cascade_classifier.transform] group_dims=[10]\n",
      "[ 2019-01-12 10:59:16,512][cascade_classifier.transform] X_test.shape=(231, 10)\n",
      "[ 2019-01-12 10:59:16,514][cascade_classifier.transform] [layer=0] look_indexs=[0], X_cur_test.shape=(231, 10)\n",
      "[ 2019-01-12 10:59:17,748][cascade_classifier.fit_transform] X_groups_train.shape=[(537, 10)],y_train.shape=(537,),X_groups_test.shape=[(231, 10)],y_test.shape=(231,)\n",
      "[ 2019-01-12 10:59:17,750][cascade_classifier.fit_transform] group_dims=[10]\n",
      "[ 2019-01-12 10:59:17,752][cascade_classifier.fit_transform] group_starts=[0]\n",
      "[ 2019-01-12 10:59:17,753][cascade_classifier.fit_transform] group_ends=[10]\n",
      "[ 2019-01-12 10:59:17,755][cascade_classifier.fit_transform] X_train.shape=(537, 10),X_test.shape=(231, 10)\n",
      "[ 2019-01-12 10:59:17,757][cascade_classifier.fit_transform] [layer=0] look_indexs=[0], X_cur_train.shape=(537, 10), X_cur_test.shape=(231, 10)\n"
     ]
    },
    {
     "name": "stdout",
     "output_type": "stream",
     "text": [
      "('Test Accuracy of DeepExtratTrees = 77.056277 %', 'Layer :', 13)\n",
      "[[137  20]\n",
      " [ 33  41]]\n",
      "\n",
      "\n",
      "             precision    recall  f1-score   support\n",
      "\n",
      "        0.0       0.81      0.87      0.84       157\n",
      "        1.0       0.67      0.55      0.61        74\n",
      "\n",
      "avg / total       0.76      0.77      0.76       231\n",
      "\n",
      "(' Time ', '7.789', ' seconds')\n"
     ]
    },
    {
     "name": "stderr",
     "output_type": "stream",
     "text": [
      "[ 2019-01-12 10:59:18,376][kfold_wrapper.log_eval_metrics] Accuracy(layer_0 - estimator_0 - 10_folds.train_0.predict)=76.36%\n",
      "[ 2019-01-12 10:59:19,201][kfold_wrapper.log_eval_metrics] Accuracy(layer_0 - estimator_0 - 10_folds.train_1.predict)=74.55%\n",
      "[ 2019-01-12 10:59:20,091][kfold_wrapper.log_eval_metrics] Accuracy(layer_0 - estimator_0 - 10_folds.train_2.predict)=65.45%\n",
      "[ 2019-01-12 10:59:20,935][kfold_wrapper.log_eval_metrics] Accuracy(layer_0 - estimator_0 - 10_folds.train_3.predict)=74.07%\n",
      "[ 2019-01-12 10:59:21,787][kfold_wrapper.log_eval_metrics] Accuracy(layer_0 - estimator_0 - 10_folds.train_4.predict)=77.36%\n",
      "[ 2019-01-12 10:59:22,723][kfold_wrapper.log_eval_metrics] Accuracy(layer_0 - estimator_0 - 10_folds.train_5.predict)=83.02%\n",
      "[ 2019-01-12 10:59:23,587][kfold_wrapper.log_eval_metrics] Accuracy(layer_0 - estimator_0 - 10_folds.train_6.predict)=67.92%\n",
      "[ 2019-01-12 10:59:24,493][kfold_wrapper.log_eval_metrics] Accuracy(layer_0 - estimator_0 - 10_folds.train_7.predict)=67.92%\n",
      "[ 2019-01-12 10:59:25,401][kfold_wrapper.log_eval_metrics] Accuracy(layer_0 - estimator_0 - 10_folds.train_8.predict)=79.25%\n",
      "[ 2019-01-12 10:59:26,268][kfold_wrapper.log_eval_metrics] Accuracy(layer_0 - estimator_0 - 10_folds.train_9.predict)=75.47%\n",
      "[ 2019-01-12 10:59:26,403][kfold_wrapper.log_eval_metrics] Accuracy(layer_0 - estimator_0 - 10_folds.train_cv.predict)=74.12%\n",
      "[ 2019-01-12 10:59:26,404][kfold_wrapper.log_eval_metrics] Accuracy(layer_0 - estimator_0 - 10_folds.test.predict)=74.89%\n",
      "[ 2019-01-12 10:59:26,409][cascade_classifier.calc_accuracy] Accuracy(layer_0 - train.classifier_average)=74.12%\n",
      "[ 2019-01-12 10:59:26,410][cascade_classifier.calc_accuracy] Accuracy(layer_0 - test.classifier_average)=74.89%\n",
      "[ 2019-01-12 10:59:26,412][cascade_classifier.fit_transform] [Result][Reach Max Layer] opt_layer_num=1, accuracy_train=74.12%, accuracy_test=74.89%\n",
      "[ 2019-01-12 10:59:26,414][cascade_classifier.transform] X_groups_test.shape=[(231, 10)]\n",
      "[ 2019-01-12 10:59:26,416][cascade_classifier.transform] group_dims=[10]\n",
      "[ 2019-01-12 10:59:26,417][cascade_classifier.transform] X_test.shape=(231, 10)\n",
      "[ 2019-01-12 10:59:26,419][cascade_classifier.transform] [layer=0] look_indexs=[0], X_cur_test.shape=(231, 10)\n",
      "[ 2019-01-12 10:59:27,606][cascade_classifier.fit_transform] X_groups_train.shape=[(537, 10)],y_train.shape=(537,),X_groups_test.shape=[(231, 10)],y_test.shape=(231,)\n",
      "[ 2019-01-12 10:59:27,608][cascade_classifier.fit_transform] group_dims=[10]\n",
      "[ 2019-01-12 10:59:27,610][cascade_classifier.fit_transform] group_starts=[0]\n",
      "[ 2019-01-12 10:59:27,611][cascade_classifier.fit_transform] group_ends=[10]\n",
      "[ 2019-01-12 10:59:27,612][cascade_classifier.fit_transform] X_train.shape=(537, 10),X_test.shape=(231, 10)\n",
      "[ 2019-01-12 10:59:27,614][cascade_classifier.fit_transform] [layer=0] look_indexs=[0], X_cur_train.shape=(537, 10), X_cur_test.shape=(231, 10)\n"
     ]
    },
    {
     "name": "stdout",
     "output_type": "stream",
     "text": [
      "('Test Accuracy of DeepExtratTrees = 74.891775 %', 'Layer :', 14)\n",
      "[[135  22]\n",
      " [ 36  38]]\n",
      "\n",
      "\n",
      "             precision    recall  f1-score   support\n",
      "\n",
      "        0.0       0.79      0.86      0.82       157\n",
      "        1.0       0.63      0.51      0.57        74\n",
      "\n",
      "avg / total       0.74      0.75      0.74       231\n",
      "\n",
      "(' Time ', '8.667', ' seconds')\n"
     ]
    },
    {
     "name": "stderr",
     "output_type": "stream",
     "text": [
      "[ 2019-01-12 10:59:28,319][kfold_wrapper.log_eval_metrics] Accuracy(layer_0 - estimator_0 - 10_folds.train_0.predict)=78.18%\n",
      "[ 2019-01-12 10:59:29,105][kfold_wrapper.log_eval_metrics] Accuracy(layer_0 - estimator_0 - 10_folds.train_1.predict)=67.27%\n",
      "[ 2019-01-12 10:59:29,856][kfold_wrapper.log_eval_metrics] Accuracy(layer_0 - estimator_0 - 10_folds.train_2.predict)=67.27%\n",
      "[ 2019-01-12 10:59:30,609][kfold_wrapper.log_eval_metrics] Accuracy(layer_0 - estimator_0 - 10_folds.train_3.predict)=72.22%\n",
      "[ 2019-01-12 10:59:31,322][kfold_wrapper.log_eval_metrics] Accuracy(layer_0 - estimator_0 - 10_folds.train_4.predict)=75.47%\n",
      "[ 2019-01-12 10:59:32,124][kfold_wrapper.log_eval_metrics] Accuracy(layer_0 - estimator_0 - 10_folds.train_5.predict)=83.02%\n",
      "[ 2019-01-12 10:59:32,858][kfold_wrapper.log_eval_metrics] Accuracy(layer_0 - estimator_0 - 10_folds.train_6.predict)=67.92%\n",
      "[ 2019-01-12 10:59:33,620][kfold_wrapper.log_eval_metrics] Accuracy(layer_0 - estimator_0 - 10_folds.train_7.predict)=67.92%\n",
      "[ 2019-01-12 10:59:34,507][kfold_wrapper.log_eval_metrics] Accuracy(layer_0 - estimator_0 - 10_folds.train_8.predict)=79.25%\n",
      "[ 2019-01-12 10:59:35,339][kfold_wrapper.log_eval_metrics] Accuracy(layer_0 - estimator_0 - 10_folds.train_9.predict)=66.04%\n",
      "[ 2019-01-12 10:59:35,459][kfold_wrapper.log_eval_metrics] Accuracy(layer_0 - estimator_0 - 10_folds.train_cv.predict)=72.44%\n",
      "[ 2019-01-12 10:59:35,461][kfold_wrapper.log_eval_metrics] Accuracy(layer_0 - estimator_0 - 10_folds.test.predict)=79.65%\n",
      "[ 2019-01-12 10:59:35,465][cascade_classifier.calc_accuracy] Accuracy(layer_0 - train.classifier_average)=72.44%\n",
      "[ 2019-01-12 10:59:35,471][cascade_classifier.calc_accuracy] Accuracy(layer_0 - test.classifier_average)=79.65%\n",
      "[ 2019-01-12 10:59:35,473][cascade_classifier.fit_transform] [Result][Reach Max Layer] opt_layer_num=1, accuracy_train=72.44%, accuracy_test=79.65%\n",
      "[ 2019-01-12 10:59:35,475][cascade_classifier.transform] X_groups_test.shape=[(231, 10)]\n",
      "[ 2019-01-12 10:59:35,476][cascade_classifier.transform] group_dims=[10]\n",
      "[ 2019-01-12 10:59:35,478][cascade_classifier.transform] X_test.shape=(231, 10)\n",
      "[ 2019-01-12 10:59:35,479][cascade_classifier.transform] [layer=0] look_indexs=[0], X_cur_test.shape=(231, 10)\n",
      "[ 2019-01-12 10:59:36,687][cascade_classifier.fit_transform] X_groups_train.shape=[(537, 10)],y_train.shape=(537,),X_groups_test.shape=[(231, 10)],y_test.shape=(231,)\n",
      "[ 2019-01-12 10:59:36,689][cascade_classifier.fit_transform] group_dims=[10]\n",
      "[ 2019-01-12 10:59:36,691][cascade_classifier.fit_transform] group_starts=[0]\n",
      "[ 2019-01-12 10:59:36,693][cascade_classifier.fit_transform] group_ends=[10]\n",
      "[ 2019-01-12 10:59:36,697][cascade_classifier.fit_transform] X_train.shape=(537, 10),X_test.shape=(231, 10)\n",
      "[ 2019-01-12 10:59:36,698][cascade_classifier.fit_transform] [layer=0] look_indexs=[0], X_cur_train.shape=(537, 10), X_cur_test.shape=(231, 10)\n"
     ]
    },
    {
     "name": "stdout",
     "output_type": "stream",
     "text": [
      "('Test Accuracy of DeepExtratTrees = 79.653680 %', 'Layer :', 15)\n",
      "[[142  15]\n",
      " [ 32  42]]\n",
      "\n",
      "\n",
      "             precision    recall  f1-score   support\n",
      "\n",
      "        0.0       0.82      0.90      0.86       157\n",
      "        1.0       0.74      0.57      0.64        74\n",
      "\n",
      "avg / total       0.79      0.80      0.79       231\n",
      "\n",
      "(' Time ', '7.869', ' seconds')\n"
     ]
    },
    {
     "name": "stderr",
     "output_type": "stream",
     "text": [
      "[ 2019-01-12 10:59:37,458][kfold_wrapper.log_eval_metrics] Accuracy(layer_0 - estimator_0 - 10_folds.train_0.predict)=72.73%\n",
      "[ 2019-01-12 10:59:38,308][kfold_wrapper.log_eval_metrics] Accuracy(layer_0 - estimator_0 - 10_folds.train_1.predict)=76.36%\n",
      "[ 2019-01-12 10:59:39,046][kfold_wrapper.log_eval_metrics] Accuracy(layer_0 - estimator_0 - 10_folds.train_2.predict)=58.18%\n",
      "[ 2019-01-12 10:59:39,784][kfold_wrapper.log_eval_metrics] Accuracy(layer_0 - estimator_0 - 10_folds.train_3.predict)=72.22%\n",
      "[ 2019-01-12 10:59:40,568][kfold_wrapper.log_eval_metrics] Accuracy(layer_0 - estimator_0 - 10_folds.train_4.predict)=83.02%\n",
      "[ 2019-01-12 10:59:41,304][kfold_wrapper.log_eval_metrics] Accuracy(layer_0 - estimator_0 - 10_folds.train_5.predict)=88.68%\n",
      "[ 2019-01-12 10:59:42,037][kfold_wrapper.log_eval_metrics] Accuracy(layer_0 - estimator_0 - 10_folds.train_6.predict)=69.81%\n",
      "[ 2019-01-12 10:59:42,823][kfold_wrapper.log_eval_metrics] Accuracy(layer_0 - estimator_0 - 10_folds.train_7.predict)=66.04%\n",
      "[ 2019-01-12 10:59:43,572][kfold_wrapper.log_eval_metrics] Accuracy(layer_0 - estimator_0 - 10_folds.train_8.predict)=84.91%\n",
      "[ 2019-01-12 10:59:44,331][kfold_wrapper.log_eval_metrics] Accuracy(layer_0 - estimator_0 - 10_folds.train_9.predict)=79.25%\n",
      "[ 2019-01-12 10:59:44,467][kfold_wrapper.log_eval_metrics] Accuracy(layer_0 - estimator_0 - 10_folds.train_cv.predict)=75.05%\n",
      "[ 2019-01-12 10:59:44,472][kfold_wrapper.log_eval_metrics] Accuracy(layer_0 - estimator_0 - 10_folds.test.predict)=74.46%\n",
      "[ 2019-01-12 10:59:44,480][cascade_classifier.calc_accuracy] Accuracy(layer_0 - train.classifier_average)=75.05%\n",
      "[ 2019-01-12 10:59:44,482][cascade_classifier.calc_accuracy] Accuracy(layer_0 - test.classifier_average)=74.46%\n",
      "[ 2019-01-12 10:59:44,484][cascade_classifier.fit_transform] [Result][Reach Max Layer] opt_layer_num=1, accuracy_train=75.05%, accuracy_test=74.46%\n",
      "[ 2019-01-12 10:59:44,485][cascade_classifier.transform] X_groups_test.shape=[(231, 10)]\n",
      "[ 2019-01-12 10:59:44,487][cascade_classifier.transform] group_dims=[10]\n",
      "[ 2019-01-12 10:59:44,489][cascade_classifier.transform] X_test.shape=(231, 10)\n",
      "[ 2019-01-12 10:59:44,491][cascade_classifier.transform] [layer=0] look_indexs=[0], X_cur_test.shape=(231, 10)\n",
      "[ 2019-01-12 10:59:45,775][cascade_classifier.fit_transform] X_groups_train.shape=[(537, 10)],y_train.shape=(537,),X_groups_test.shape=[(231, 10)],y_test.shape=(231,)\n",
      "[ 2019-01-12 10:59:45,778][cascade_classifier.fit_transform] group_dims=[10]\n",
      "[ 2019-01-12 10:59:45,780][cascade_classifier.fit_transform] group_starts=[0]\n",
      "[ 2019-01-12 10:59:45,782][cascade_classifier.fit_transform] group_ends=[10]\n",
      "[ 2019-01-12 10:59:45,784][cascade_classifier.fit_transform] X_train.shape=(537, 10),X_test.shape=(231, 10)\n",
      "[ 2019-01-12 10:59:45,786][cascade_classifier.fit_transform] [layer=0] look_indexs=[0], X_cur_train.shape=(537, 10), X_cur_test.shape=(231, 10)\n"
     ]
    },
    {
     "name": "stdout",
     "output_type": "stream",
     "text": [
      "('Test Accuracy of DeepExtratTrees = 74.458874 %', 'Layer :', 16)\n",
      "[[134  23]\n",
      " [ 36  38]]\n",
      "\n",
      "\n",
      "             precision    recall  f1-score   support\n",
      "\n",
      "        0.0       0.79      0.85      0.82       157\n",
      "        1.0       0.62      0.51      0.56        74\n",
      "\n",
      "avg / total       0.74      0.74      0.74       231\n",
      "\n",
      "(' Time ', '7.798', ' seconds')\n"
     ]
    },
    {
     "name": "stderr",
     "output_type": "stream",
     "text": [
      "[ 2019-01-12 10:59:46,444][kfold_wrapper.log_eval_metrics] Accuracy(layer_0 - estimator_0 - 10_folds.train_0.predict)=72.73%\n",
      "[ 2019-01-12 10:59:47,218][kfold_wrapper.log_eval_metrics] Accuracy(layer_0 - estimator_0 - 10_folds.train_1.predict)=70.91%\n",
      "[ 2019-01-12 10:59:47,967][kfold_wrapper.log_eval_metrics] Accuracy(layer_0 - estimator_0 - 10_folds.train_2.predict)=65.45%\n",
      "[ 2019-01-12 10:59:48,780][kfold_wrapper.log_eval_metrics] Accuracy(layer_0 - estimator_0 - 10_folds.train_3.predict)=72.22%\n",
      "[ 2019-01-12 10:59:49,539][kfold_wrapper.log_eval_metrics] Accuracy(layer_0 - estimator_0 - 10_folds.train_4.predict)=75.47%\n",
      "[ 2019-01-12 10:59:50,299][kfold_wrapper.log_eval_metrics] Accuracy(layer_0 - estimator_0 - 10_folds.train_5.predict)=86.79%\n",
      "[ 2019-01-12 10:59:51,056][kfold_wrapper.log_eval_metrics] Accuracy(layer_0 - estimator_0 - 10_folds.train_6.predict)=73.58%\n",
      "[ 2019-01-12 10:59:51,819][kfold_wrapper.log_eval_metrics] Accuracy(layer_0 - estimator_0 - 10_folds.train_7.predict)=69.81%\n",
      "[ 2019-01-12 10:59:52,579][kfold_wrapper.log_eval_metrics] Accuracy(layer_0 - estimator_0 - 10_folds.train_8.predict)=79.25%\n",
      "[ 2019-01-12 10:59:53,368][kfold_wrapper.log_eval_metrics] Accuracy(layer_0 - estimator_0 - 10_folds.train_9.predict)=75.47%\n",
      "[ 2019-01-12 10:59:53,500][kfold_wrapper.log_eval_metrics] Accuracy(layer_0 - estimator_0 - 10_folds.train_cv.predict)=74.12%\n",
      "[ 2019-01-12 10:59:53,503][kfold_wrapper.log_eval_metrics] Accuracy(layer_0 - estimator_0 - 10_folds.test.predict)=77.49%\n",
      "[ 2019-01-12 10:59:53,511][cascade_classifier.calc_accuracy] Accuracy(layer_0 - train.classifier_average)=74.12%\n",
      "[ 2019-01-12 10:59:53,513][cascade_classifier.calc_accuracy] Accuracy(layer_0 - test.classifier_average)=77.49%\n",
      "[ 2019-01-12 10:59:53,514][cascade_classifier.fit_transform] [Result][Reach Max Layer] opt_layer_num=1, accuracy_train=74.12%, accuracy_test=77.49%\n",
      "[ 2019-01-12 10:59:53,516][cascade_classifier.transform] X_groups_test.shape=[(231, 10)]\n",
      "[ 2019-01-12 10:59:53,517][cascade_classifier.transform] group_dims=[10]\n",
      "[ 2019-01-12 10:59:53,518][cascade_classifier.transform] X_test.shape=(231, 10)\n",
      "[ 2019-01-12 10:59:53,520][cascade_classifier.transform] [layer=0] look_indexs=[0], X_cur_test.shape=(231, 10)\n",
      "[ 2019-01-12 10:59:54,830][cascade_classifier.fit_transform] X_groups_train.shape=[(537, 10)],y_train.shape=(537,),X_groups_test.shape=[(231, 10)],y_test.shape=(231,)\n",
      "[ 2019-01-12 10:59:54,832][cascade_classifier.fit_transform] group_dims=[10]\n",
      "[ 2019-01-12 10:59:54,836][cascade_classifier.fit_transform] group_starts=[0]\n",
      "[ 2019-01-12 10:59:54,837][cascade_classifier.fit_transform] group_ends=[10]\n",
      "[ 2019-01-12 10:59:54,840][cascade_classifier.fit_transform] X_train.shape=(537, 10),X_test.shape=(231, 10)\n",
      "[ 2019-01-12 10:59:54,842][cascade_classifier.fit_transform] [layer=0] look_indexs=[0], X_cur_train.shape=(537, 10), X_cur_test.shape=(231, 10)\n"
     ]
    },
    {
     "name": "stdout",
     "output_type": "stream",
     "text": [
      "('Test Accuracy of DeepExtratTrees = 77.489177 %', 'Layer :', 17)\n",
      "[[139  18]\n",
      " [ 34  40]]\n",
      "\n",
      "\n",
      "             precision    recall  f1-score   support\n",
      "\n",
      "        0.0       0.80      0.89      0.84       157\n",
      "        1.0       0.69      0.54      0.61        74\n",
      "\n",
      "avg / total       0.77      0.77      0.77       231\n",
      "\n",
      "(' Time ', '7.742', ' seconds')\n"
     ]
    },
    {
     "name": "stderr",
     "output_type": "stream",
     "text": [
      "[ 2019-01-12 10:59:55,512][kfold_wrapper.log_eval_metrics] Accuracy(layer_0 - estimator_0 - 10_folds.train_0.predict)=80.00%\n",
      "[ 2019-01-12 10:59:56,263][kfold_wrapper.log_eval_metrics] Accuracy(layer_0 - estimator_0 - 10_folds.train_1.predict)=72.73%\n",
      "[ 2019-01-12 10:59:57,056][kfold_wrapper.log_eval_metrics] Accuracy(layer_0 - estimator_0 - 10_folds.train_2.predict)=67.27%\n",
      "[ 2019-01-12 10:59:57,800][kfold_wrapper.log_eval_metrics] Accuracy(layer_0 - estimator_0 - 10_folds.train_3.predict)=70.37%\n",
      "[ 2019-01-12 10:59:58,561][kfold_wrapper.log_eval_metrics] Accuracy(layer_0 - estimator_0 - 10_folds.train_4.predict)=71.70%\n",
      "[ 2019-01-12 10:59:59,309][kfold_wrapper.log_eval_metrics] Accuracy(layer_0 - estimator_0 - 10_folds.train_5.predict)=86.79%\n",
      "[ 2019-01-12 11:00:00,078][kfold_wrapper.log_eval_metrics] Accuracy(layer_0 - estimator_0 - 10_folds.train_6.predict)=69.81%\n",
      "[ 2019-01-12 11:00:00,923][kfold_wrapper.log_eval_metrics] Accuracy(layer_0 - estimator_0 - 10_folds.train_7.predict)=67.92%\n",
      "[ 2019-01-12 11:00:01,678][kfold_wrapper.log_eval_metrics] Accuracy(layer_0 - estimator_0 - 10_folds.train_8.predict)=81.13%\n",
      "[ 2019-01-12 11:00:02,432][kfold_wrapper.log_eval_metrics] Accuracy(layer_0 - estimator_0 - 10_folds.train_9.predict)=81.13%\n",
      "[ 2019-01-12 11:00:02,560][kfold_wrapper.log_eval_metrics] Accuracy(layer_0 - estimator_0 - 10_folds.train_cv.predict)=74.86%\n",
      "[ 2019-01-12 11:00:02,563][kfold_wrapper.log_eval_metrics] Accuracy(layer_0 - estimator_0 - 10_folds.test.predict)=76.62%\n",
      "[ 2019-01-12 11:00:02,568][cascade_classifier.calc_accuracy] Accuracy(layer_0 - train.classifier_average)=74.86%\n",
      "[ 2019-01-12 11:00:02,570][cascade_classifier.calc_accuracy] Accuracy(layer_0 - test.classifier_average)=76.62%\n",
      "[ 2019-01-12 11:00:02,573][cascade_classifier.fit_transform] [Result][Reach Max Layer] opt_layer_num=1, accuracy_train=74.86%, accuracy_test=76.62%\n",
      "[ 2019-01-12 11:00:02,575][cascade_classifier.transform] X_groups_test.shape=[(231, 10)]\n",
      "[ 2019-01-12 11:00:02,577][cascade_classifier.transform] group_dims=[10]\n",
      "[ 2019-01-12 11:00:02,578][cascade_classifier.transform] X_test.shape=(231, 10)\n",
      "[ 2019-01-12 11:00:02,580][cascade_classifier.transform] [layer=0] look_indexs=[0], X_cur_test.shape=(231, 10)\n",
      "[ 2019-01-12 11:00:03,851][cascade_classifier.fit_transform] X_groups_train.shape=[(537, 10)],y_train.shape=(537,),X_groups_test.shape=[(231, 10)],y_test.shape=(231,)\n",
      "[ 2019-01-12 11:00:03,853][cascade_classifier.fit_transform] group_dims=[10]\n",
      "[ 2019-01-12 11:00:03,854][cascade_classifier.fit_transform] group_starts=[0]\n",
      "[ 2019-01-12 11:00:03,856][cascade_classifier.fit_transform] group_ends=[10]\n",
      "[ 2019-01-12 11:00:03,857][cascade_classifier.fit_transform] X_train.shape=(537, 10),X_test.shape=(231, 10)\n",
      "[ 2019-01-12 11:00:03,860][cascade_classifier.fit_transform] [layer=0] look_indexs=[0], X_cur_train.shape=(537, 10), X_cur_test.shape=(231, 10)\n"
     ]
    },
    {
     "name": "stdout",
     "output_type": "stream",
     "text": [
      "('Test Accuracy of DeepExtratTrees = 76.623377 %', 'Layer :', 18)\n",
      "[[136  21]\n",
      " [ 33  41]]\n",
      "\n",
      "\n",
      "             precision    recall  f1-score   support\n",
      "\n",
      "        0.0       0.80      0.87      0.83       157\n",
      "        1.0       0.66      0.55      0.60        74\n",
      "\n",
      "avg / total       0.76      0.77      0.76       231\n",
      "\n",
      "(' Time ', '7.745', ' seconds')\n"
     ]
    },
    {
     "name": "stderr",
     "output_type": "stream",
     "text": [
      "[ 2019-01-12 11:00:04,503][kfold_wrapper.log_eval_metrics] Accuracy(layer_0 - estimator_0 - 10_folds.train_0.predict)=76.36%\n",
      "[ 2019-01-12 11:00:05,256][kfold_wrapper.log_eval_metrics] Accuracy(layer_0 - estimator_0 - 10_folds.train_1.predict)=72.73%\n",
      "[ 2019-01-12 11:00:06,001][kfold_wrapper.log_eval_metrics] Accuracy(layer_0 - estimator_0 - 10_folds.train_2.predict)=65.45%\n",
      "[ 2019-01-12 11:00:06,760][kfold_wrapper.log_eval_metrics] Accuracy(layer_0 - estimator_0 - 10_folds.train_3.predict)=74.07%\n",
      "[ 2019-01-12 11:00:07,539][kfold_wrapper.log_eval_metrics] Accuracy(layer_0 - estimator_0 - 10_folds.train_4.predict)=77.36%\n",
      "[ 2019-01-12 11:00:08,329][kfold_wrapper.log_eval_metrics] Accuracy(layer_0 - estimator_0 - 10_folds.train_5.predict)=92.45%\n",
      "[ 2019-01-12 11:00:09,090][kfold_wrapper.log_eval_metrics] Accuracy(layer_0 - estimator_0 - 10_folds.train_6.predict)=67.92%\n",
      "[ 2019-01-12 11:00:09,856][kfold_wrapper.log_eval_metrics] Accuracy(layer_0 - estimator_0 - 10_folds.train_7.predict)=66.04%\n",
      "[ 2019-01-12 11:00:10,626][kfold_wrapper.log_eval_metrics] Accuracy(layer_0 - estimator_0 - 10_folds.train_8.predict)=83.02%\n",
      "[ 2019-01-12 11:00:11,384][kfold_wrapper.log_eval_metrics] Accuracy(layer_0 - estimator_0 - 10_folds.train_9.predict)=67.92%\n",
      "[ 2019-01-12 11:00:11,524][kfold_wrapper.log_eval_metrics] Accuracy(layer_0 - estimator_0 - 10_folds.train_cv.predict)=74.30%\n",
      "[ 2019-01-12 11:00:11,528][kfold_wrapper.log_eval_metrics] Accuracy(layer_0 - estimator_0 - 10_folds.test.predict)=78.35%\n",
      "[ 2019-01-12 11:00:11,534][cascade_classifier.calc_accuracy] Accuracy(layer_0 - train.classifier_average)=74.30%\n",
      "[ 2019-01-12 11:00:11,536][cascade_classifier.calc_accuracy] Accuracy(layer_0 - test.classifier_average)=78.35%\n",
      "[ 2019-01-12 11:00:11,542][cascade_classifier.fit_transform] [Result][Reach Max Layer] opt_layer_num=1, accuracy_train=74.30%, accuracy_test=78.35%\n",
      "[ 2019-01-12 11:00:11,543][cascade_classifier.transform] X_groups_test.shape=[(231, 10)]\n",
      "[ 2019-01-12 11:00:11,545][cascade_classifier.transform] group_dims=[10]\n",
      "[ 2019-01-12 11:00:11,547][cascade_classifier.transform] X_test.shape=(231, 10)\n",
      "[ 2019-01-12 11:00:11,548][cascade_classifier.transform] [layer=0] look_indexs=[0], X_cur_test.shape=(231, 10)\n"
     ]
    },
    {
     "name": "stdout",
     "output_type": "stream",
     "text": [
      "('Test Accuracy of DeepExtratTrees = 78.354978 %', 'Layer :', 19)\n",
      "[[140  17]\n",
      " [ 33  41]]\n",
      "\n",
      "\n",
      "             precision    recall  f1-score   support\n",
      "\n",
      "        0.0       0.81      0.89      0.85       157\n",
      "        1.0       0.71      0.55      0.62        74\n",
      "\n",
      "avg / total       0.78      0.78      0.78       231\n",
      "\n",
      "(' Time ', '7.692', ' seconds')\n"
     ]
    }
   ],
   "source": [
    "def update(X_train,X_test):\n",
    "    # update Estimators\n",
    "    M = np.delete(X_train, (-1), axis=1)\n",
    "    X_train= np.delete(M, (-1), axis=1)\n",
    "    M = np.delete(X_test, (-1), axis=1)\n",
    "    X_test = np.delete(M, (-1), axis=1)\n",
    "    return X_train,X_test\n",
    "\n",
    "def newdata(X_test_enc, X_train_enc):\n",
    "    # Make Data + Estimators\n",
    "    X_train_origin = X_train.reshape((X_train.shape[0], -1))\n",
    "    X_test_origin = X_test.reshape((X_test.shape[0], -1))\n",
    "    X_train_enc = np.hstack((X_train_origin, X_train_enc))\n",
    "    X_test_enc = np.hstack((X_test_origin, X_test_enc))\n",
    "    return X_test_enc, X_train_enc\n",
    "\n",
    "Accuracy = []\n",
    "def affiche():\n",
    "    # predict\n",
    "    y_pred = gc.predict(X_test)\n",
    "    acc = accuracy_score(y_test, y_pred)\n",
    "    print(\"Test Accuracy of DeepExtratTrees = {:.6f} %\".format(acc * 100),\"Layer :\",i)\n",
    "    Accuracy.append(round(acc*100 , 2))\n",
    "    # Matrix de confusion\n",
    "    from sklearn.metrics import classification_report, confusion_matrix\n",
    "    print(confusion_matrix(y_test,y_pred))\n",
    "    print('\\n')\n",
    "    print(classification_report(y_test,y_pred))\n",
    "    \n",
    "# Deep\n",
    "t = []\n",
    "for i in range (20):\n",
    "    t0 = time()\n",
    "    X_train,X_test=update(X_train,X_test)\n",
    "    X_test_enc, X_train_enc=newdata(X_test_enc, X_train_enc)\n",
    "\n",
    "    X_train=X_train_enc\n",
    "    X_test=X_test_enc \n",
    "    X_train_enc, X_test_enc = gc.fit_transform(X_train, y_train, X_test=X_test, y_test=y_test)\n",
    "    tt = time() - t0\n",
    "    affiche() \n",
    "    t.append(round(tt,2))\n",
    "    print (\" Time \",format(round(tt,3)),\" seconds\")\n"
   ]
  },
  {
   "cell_type": "code",
   "execution_count": 51,
   "metadata": {},
   "outputs": [
    {
     "name": "stdout",
     "output_type": "stream",
     "text": [
      "('Opt_layer_num =', 15, ' Accuracy =', 79.65, 'Time =', 123.73)\n"
     ]
    },
    {
     "data": {
      "image/png": "[encoded data removed]",
      "text/plain": [
       "<matplotlib.figure.Figure at 0x7f3c24095ed0>"
      ]
     },
     "metadata": {},
     "output_type": "display_data"
    }
   ],
   "source": [
    "print (\"Opt_layer_num =\",Accuracy.index(max(Accuracy)), \" Accuracy =\", max(Accuracy) ,\n",
    "       \"Time =\" , np.sum(t[0:Accuracy.index(max(Accuracy))+1]))\n",
    "\n",
    "import matplotlib.pyplot as plt\n",
    "from matplotlib.pyplot import figure\n",
    "figure(figsize=(8, 6), dpi=100)\n",
    "plt.plot(Accuracy, '-o', ms=20, lw=2, alpha=0.7, mfc='orange')\n",
    "plt.ylabel('Accuracy')\n",
    "plt.xlabel('Layer numbers')\n",
    "plt.show()"
   ]
  },
  {
   "cell_type": "code",
   "execution_count": 52,
   "metadata": {},
   "outputs": [
    {
     "data": {
      "text/plain": [
       "[74.03,\n",
       " 73.16,\n",
       " 78.35,\n",
       " 75.32,\n",
       " 74.89,\n",
       " 74.89,\n",
       " 75.76,\n",
       " 74.46,\n",
       " 74.46,\n",
       " 74.89,\n",
       " 76.62,\n",
       " 74.89,\n",
       " 75.76,\n",
       " 77.06,\n",
       " 74.89,\n",
       " 79.65,\n",
       " 74.46,\n",
       " 77.49,\n",
       " 76.62,\n",
       " 78.35]"
      ]
     },
     "execution_count": 52,
     "metadata": {},
     "output_type": "execute_result"
    }
   ],
   "source": [
    "Accuracy"
   ]
  },
  {
   "cell_type": "code",
   "execution_count": null,
   "metadata": {
    "collapsed": true
   },
   "outputs": [],
   "source": []
  },
  {
   "cell_type": "code",
   "execution_count": null,
   "metadata": {
    "collapsed": true
   },
   "outputs": [],
   "source": []
  },
  {
   "cell_type": "code",
   "execution_count": null,
   "metadata": {
    "collapsed": true
   },
   "outputs": [],
   "source": []
  },
  {
   "cell_type": "code",
   "execution_count": null,
   "metadata": {
    "collapsed": true
   },
   "outputs": [],
   "source": []
  },
  {
   "cell_type": "code",
   "execution_count": null,
   "metadata": {
    "collapsed": true
   },
   "outputs": [],
   "source": []
  }
 ],
 "metadata": {
  "kernelspec": {
   "display_name": "Python 2",
   "language": "python",
   "name": "python2"
  },
  "language_info": {
   "codemirror_mode": {
    "name": "ipython",
    "version": 2
   },
   "file_extension": ".py",
   "mimetype": "text/x-python",
   "name": "python",
   "nbconvert_exporter": "python",
   "pygments_lexer": "ipython2",
   "version": "2.7.14"
  }
 },
 "nbformat": 4,
 "nbformat_minor": 2
}
