{
 "cells": [
  {
   "cell_type": "code",
   "execution_count": 5,
   "metadata": {
    "collapsed": true
   },
   "outputs": [],
   "source": [
    "# imports \n",
    "import numpy as np\n",
    "from math import sqrt \n",
    "from pprint import pprint\n",
    "from numpy import array\n",
    "from scipy.io import arff\n",
    "import pandas as pd\n",
    "from time import time"
   ]
  },
  {
   "cell_type": "code",
   "execution_count": 6,
   "metadata": {},
   "outputs": [
    {
     "data": {
      "text/html": [
       "<div>\n",
       "<style>\n",
       "    .dataframe thead tr:only-child th {\n",
       "        text-align: right;\n",
       "    }\n",
       "\n",
       "    .dataframe thead th {\n",
       "        text-align: left;\n",
       "    }\n",
       "\n",
       "    .dataframe tbody tr th {\n",
       "        vertical-align: top;\n",
       "    }\n",
       "</style>\n",
       "<table border=\"1\" class=\"dataframe\">\n",
       "  <thead>\n",
       "    <tr style=\"text-align: right;\">\n",
       "      <th></th>\n",
       "      <th>Pregnancies</th>\n",
       "      <th>Glucose</th>\n",
       "      <th>BloodPressure</th>\n",
       "      <th>SkinThickness</th>\n",
       "      <th>Insulin</th>\n",
       "      <th>BMI</th>\n",
       "      <th>DiabetesPedigreeFunction</th>\n",
       "      <th>Age</th>\n",
       "      <th>Outcome</th>\n",
       "    </tr>\n",
       "  </thead>\n",
       "  <tbody>\n",
       "    <tr>\n",
       "      <th>0</th>\n",
       "      <td>6</td>\n",
       "      <td>148</td>\n",
       "      <td>72</td>\n",
       "      <td>35</td>\n",
       "      <td>0</td>\n",
       "      <td>33.6</td>\n",
       "      <td>0.627</td>\n",
       "      <td>50</td>\n",
       "      <td>1</td>\n",
       "    </tr>\n",
       "    <tr>\n",
       "      <th>1</th>\n",
       "      <td>1</td>\n",
       "      <td>85</td>\n",
       "      <td>66</td>\n",
       "      <td>29</td>\n",
       "      <td>0</td>\n",
       "      <td>26.6</td>\n",
       "      <td>0.351</td>\n",
       "      <td>31</td>\n",
       "      <td>0</td>\n",
       "    </tr>\n",
       "    <tr>\n",
       "      <th>2</th>\n",
       "      <td>8</td>\n",
       "      <td>183</td>\n",
       "      <td>64</td>\n",
       "      <td>0</td>\n",
       "      <td>0</td>\n",
       "      <td>23.3</td>\n",
       "      <td>0.672</td>\n",
       "      <td>32</td>\n",
       "      <td>1</td>\n",
       "    </tr>\n",
       "    <tr>\n",
       "      <th>3</th>\n",
       "      <td>1</td>\n",
       "      <td>89</td>\n",
       "      <td>66</td>\n",
       "      <td>23</td>\n",
       "      <td>94</td>\n",
       "      <td>28.1</td>\n",
       "      <td>0.167</td>\n",
       "      <td>21</td>\n",
       "      <td>0</td>\n",
       "    </tr>\n",
       "    <tr>\n",
       "      <th>4</th>\n",
       "      <td>0</td>\n",
       "      <td>137</td>\n",
       "      <td>40</td>\n",
       "      <td>35</td>\n",
       "      <td>168</td>\n",
       "      <td>43.1</td>\n",
       "      <td>2.288</td>\n",
       "      <td>33</td>\n",
       "      <td>1</td>\n",
       "    </tr>\n",
       "  </tbody>\n",
       "</table>\n",
       "</div>"
      ],
      "text/plain": [
       "   Pregnancies  Glucose  BloodPressure  SkinThickness  Insulin   BMI  \\\n",
       "0            6      148             72             35        0  33.6   \n",
       "1            1       85             66             29        0  26.6   \n",
       "2            8      183             64              0        0  23.3   \n",
       "3            1       89             66             23       94  28.1   \n",
       "4            0      137             40             35      168  43.1   \n",
       "\n",
       "   DiabetesPedigreeFunction  Age  Outcome  \n",
       "0                     0.627   50        1  \n",
       "1                     0.351   31        0  \n",
       "2                     0.672   32        1  \n",
       "3                     0.167   21        0  \n",
       "4                     2.288   33        1  "
      ]
     },
     "execution_count": 6,
     "metadata": {},
     "output_type": "execute_result"
    }
   ],
   "source": [
    "# load data\n",
    "df=pd.read_csv('diabetes.csv')  \n",
    "\n",
    "\n",
    "\n",
    "df.head()"
   ]
  },
  {
   "cell_type": "code",
   "execution_count": 7,
   "metadata": {},
   "outputs": [
    {
     "data": {
      "text/plain": [
       "(768, 9)"
      ]
     },
     "execution_count": 7,
     "metadata": {},
     "output_type": "execute_result"
    }
   ],
   "source": [
    "df.shape"
   ]
  },
  {
   "cell_type": "code",
   "execution_count": 8,
   "metadata": {},
   "outputs": [
    {
     "data": {
      "text/plain": [
       "Outcome\n",
       "0    500\n",
       "1    268\n",
       "dtype: int64"
      ]
     },
     "execution_count": 8,
     "metadata": {},
     "output_type": "execute_result"
    }
   ],
   "source": [
    "df.groupby('Outcome').size()"
   ]
  },
  {
   "cell_type": "code",
   "execution_count": 9,
   "metadata": {
    "collapsed": true
   },
   "outputs": [],
   "source": [
    "# data to values\n",
    "df = df.values"
   ]
  },
  {
   "cell_type": "code",
   "execution_count": 10,
   "metadata": {
    "collapsed": true
   },
   "outputs": [],
   "source": [
    "# Extratrees Deep\n",
    "import argparse\n",
    "import sys\n",
    "import pickle\n",
    "from sklearn.metrics import accuracy_score\n",
    "sys.path.insert(0, \"lib\")\n",
    "from gcforest.gcforest import GCForest\n",
    "from gcforest.utils.config_utils import load_json\n",
    "config = load_json(\"./examples/aloi.json\")\n",
    "gc = GCForest(config)"
   ]
  },
  {
   "cell_type": "code",
   "execution_count": 11,
   "metadata": {},
   "outputs": [
    {
     "name": "stderr",
     "output_type": "stream",
     "text": [
      "/home/kader/anaconda3/envs/py27/lib/python2.7/site-packages/sklearn/cross_validation.py:41: DeprecationWarning: This module was deprecated in version 0.18 in favor of the model_selection module into which all the refactored classes and functions are moved. Also note that the interface of the new CV iterators are different from that of this module. This module will be removed in 0.20.\n",
      "  \"This module will be removed in 0.20.\", DeprecationWarning)\n"
     ]
    }
   ],
   "source": [
    "# train test \n",
    "from sklearn.cross_validation import train_test_split\n",
    "y = df[:,8]\n",
    "X = df[:,0:8]\n",
    "X_train,X_test,y_train,y_test = train_test_split(X, y, test_size=0.33, random_state=42)"
   ]
  },
  {
   "cell_type": "code",
   "execution_count": 12,
   "metadata": {},
   "outputs": [
    {
     "data": {
      "text/plain": [
       "2"
      ]
     },
     "execution_count": 12,
     "metadata": {},
     "output_type": "execute_result"
    }
   ],
   "source": [
    "# number of class\n",
    "len(np.unique(y_train))"
   ]
  },
  {
   "cell_type": "code",
   "execution_count": null,
   "metadata": {},
   "outputs": [
    {
     "name": "stderr",
     "output_type": "stream",
     "text": [
      "[ 2019-01-12 10:30:12,863][cascade_classifier.fit_transform] X_groups_train.shape=[(514, 8)],y_train.shape=(514,),X_groups_test.shape=[(254, 8)],y_test.shape=(254,)\n",
      "[ 2019-01-12 10:30:12,867][cascade_classifier.fit_transform] group_dims=[8]\n",
      "[ 2019-01-12 10:30:12,871][cascade_classifier.fit_transform] group_starts=[0]\n",
      "[ 2019-01-12 10:30:12,872][cascade_classifier.fit_transform] group_ends=[8]\n",
      "[ 2019-01-12 10:30:12,874][cascade_classifier.fit_transform] X_train.shape=(514, 8),X_test.shape=(254, 8)\n",
      "[ 2019-01-12 10:30:12,876][cascade_classifier.fit_transform] [layer=0] look_indexs=[0], X_cur_train.shape=(514, 8), X_cur_test.shape=(254, 8)\n",
      "[ 2019-01-12 10:30:13,954][kfold_wrapper.log_eval_metrics] Accuracy(layer_0 - estimator_0 - 10_folds.train_0.predict)=75.47%\n",
      "[ 2019-01-12 10:30:14,728][kfold_wrapper.log_eval_metrics] Accuracy(layer_0 - estimator_0 - 10_folds.train_1.predict)=75.47%\n",
      "[ 2019-01-12 10:30:15,493][kfold_wrapper.log_eval_metrics] Accuracy(layer_0 - estimator_0 - 10_folds.train_2.predict)=70.59%\n",
      "[ 2019-01-12 10:30:16,228][kfold_wrapper.log_eval_metrics] Accuracy(layer_0 - estimator_0 - 10_folds.train_3.predict)=80.39%\n",
      "[ 2019-01-12 10:30:16,971][kfold_wrapper.log_eval_metrics] Accuracy(layer_0 - estimator_0 - 10_folds.train_4.predict)=72.55%\n",
      "[ 2019-01-12 10:30:17,710][kfold_wrapper.log_eval_metrics] Accuracy(layer_0 - estimator_0 - 10_folds.train_5.predict)=80.39%\n",
      "[ 2019-01-12 10:30:18,453][kfold_wrapper.log_eval_metrics] Accuracy(layer_0 - estimator_0 - 10_folds.train_6.predict)=80.39%\n",
      "[ 2019-01-12 10:30:19,202][kfold_wrapper.log_eval_metrics] Accuracy(layer_0 - estimator_0 - 10_folds.train_7.predict)=76.47%\n",
      "[ 2019-01-12 10:30:19,953][kfold_wrapper.log_eval_metrics] Accuracy(layer_0 - estimator_0 - 10_folds.train_8.predict)=76.47%\n",
      "[ 2019-01-12 10:30:20,689][kfold_wrapper.log_eval_metrics] Accuracy(layer_0 - estimator_0 - 10_folds.train_9.predict)=80.39%\n",
      "[ 2019-01-12 10:30:20,814][kfold_wrapper.log_eval_metrics] Accuracy(layer_0 - estimator_0 - 10_folds.train_cv.predict)=76.85%\n",
      "[ 2019-01-12 10:30:20,818][kfold_wrapper.log_eval_metrics] Accuracy(layer_0 - estimator_0 - 10_folds.test.predict)=74.80%\n",
      "[ 2019-01-12 10:30:20,823][cascade_classifier.calc_accuracy] Accuracy(layer_0 - train.classifier_average)=76.85%\n",
      "[ 2019-01-12 10:30:20,825][cascade_classifier.calc_accuracy] Accuracy(layer_0 - test.classifier_average)=74.80%\n",
      "[ 2019-01-12 10:30:20,826][cascade_classifier.fit_transform] [Result][Reach Max Layer] opt_layer_num=1, accuracy_train=76.85%, accuracy_test=74.80%\n",
      "[ 2019-01-12 10:30:20,828][cascade_classifier.transform] X_groups_test.shape=[(254, 8)]\n",
      "[ 2019-01-12 10:30:20,831][cascade_classifier.transform] group_dims=[8]\n",
      "[ 2019-01-12 10:30:20,832][cascade_classifier.transform] X_test.shape=(254, 8)\n",
      "[ 2019-01-12 10:30:20,834][cascade_classifier.transform] [layer=0] look_indexs=[0], X_cur_test.shape=(254, 8)\n",
      "[ 2019-01-12 10:30:22,065][cascade_classifier.transform] X_groups_test.shape=[(254, 8)]\n",
      "[ 2019-01-12 10:30:22,069][cascade_classifier.transform] group_dims=[8]\n",
      "[ 2019-01-12 10:30:22,072][cascade_classifier.transform] X_test.shape=(254, 8)\n",
      "[ 2019-01-12 10:30:22,078][cascade_classifier.transform] [layer=0] look_indexs=[0], X_cur_test.shape=(254, 8)\n"
     ]
    },
    {
     "name": "stdout",
     "output_type": "stream",
     "text": [
      "Test Accuracy of DeepExtratTrees = 74.803150 %\n",
      "[[138  30]\n",
      " [ 34  52]]\n",
      "\n",
      "\n",
      "             precision    recall  f1-score   support\n",
      "\n",
      "        0.0       0.80      0.82      0.81       168\n",
      "        1.0       0.63      0.60      0.62        86\n",
      "\n",
      "avg / total       0.75      0.75      0.75       254\n",
      "\n"
     ]
    },
    {
     "name": "stderr",
     "output_type": "stream",
     "text": [
      "[ 2019-01-12 10:30:23,365][cascade_classifier.fit_transform] X_groups_train.shape=[(514, 10)],y_train.shape=(514,),X_groups_test.shape=[(254, 10)],y_test.shape=(254,)\n",
      "[ 2019-01-12 10:30:23,369][cascade_classifier.fit_transform] group_dims=[10]\n",
      "[ 2019-01-12 10:30:23,372][cascade_classifier.fit_transform] group_starts=[0]\n",
      "[ 2019-01-12 10:30:23,375][cascade_classifier.fit_transform] group_ends=[10]\n",
      "[ 2019-01-12 10:30:23,376][cascade_classifier.fit_transform] X_train.shape=(514, 10),X_test.shape=(254, 10)\n",
      "[ 2019-01-12 10:30:23,378][cascade_classifier.fit_transform] [layer=0] look_indexs=[0], X_cur_train.shape=(514, 10), X_cur_test.shape=(254, 10)\n",
      "[ 2019-01-12 10:30:24,015][kfold_wrapper.log_eval_metrics] Accuracy(layer_0 - estimator_0 - 10_folds.train_0.predict)=71.70%\n",
      "[ 2019-01-12 10:30:24,740][kfold_wrapper.log_eval_metrics] Accuracy(layer_0 - estimator_0 - 10_folds.train_1.predict)=75.47%\n",
      "[ 2019-01-12 10:30:25,451][kfold_wrapper.log_eval_metrics] Accuracy(layer_0 - estimator_0 - 10_folds.train_2.predict)=72.55%\n",
      "[ 2019-01-12 10:30:26,185][kfold_wrapper.log_eval_metrics] Accuracy(layer_0 - estimator_0 - 10_folds.train_3.predict)=76.47%\n",
      "[ 2019-01-12 10:30:26,953][kfold_wrapper.log_eval_metrics] Accuracy(layer_0 - estimator_0 - 10_folds.train_4.predict)=70.59%\n",
      "[ 2019-01-12 10:30:27,710][kfold_wrapper.log_eval_metrics] Accuracy(layer_0 - estimator_0 - 10_folds.train_5.predict)=76.47%\n",
      "[ 2019-01-12 10:30:28,483][kfold_wrapper.log_eval_metrics] Accuracy(layer_0 - estimator_0 - 10_folds.train_6.predict)=70.59%\n",
      "[ 2019-01-12 10:30:29,231][kfold_wrapper.log_eval_metrics] Accuracy(layer_0 - estimator_0 - 10_folds.train_7.predict)=76.47%\n",
      "[ 2019-01-12 10:30:29,957][kfold_wrapper.log_eval_metrics] Accuracy(layer_0 - estimator_0 - 10_folds.train_8.predict)=70.59%\n",
      "[ 2019-01-12 10:30:30,703][kfold_wrapper.log_eval_metrics] Accuracy(layer_0 - estimator_0 - 10_folds.train_9.predict)=78.43%\n",
      "[ 2019-01-12 10:30:30,831][kfold_wrapper.log_eval_metrics] Accuracy(layer_0 - estimator_0 - 10_folds.train_cv.predict)=73.93%\n",
      "[ 2019-01-12 10:30:30,834][kfold_wrapper.log_eval_metrics] Accuracy(layer_0 - estimator_0 - 10_folds.test.predict)=72.83%\n",
      "[ 2019-01-12 10:30:30,842][cascade_classifier.calc_accuracy] Accuracy(layer_0 - train.classifier_average)=73.93%\n",
      "[ 2019-01-12 10:30:30,844][cascade_classifier.calc_accuracy] Accuracy(layer_0 - test.classifier_average)=72.83%\n",
      "[ 2019-01-12 10:30:30,846][cascade_classifier.fit_transform] [Result][Reach Max Layer] opt_layer_num=1, accuracy_train=73.93%, accuracy_test=72.83%\n",
      "[ 2019-01-12 10:30:30,853][cascade_classifier.transform] X_groups_test.shape=[(254, 10)]\n",
      "[ 2019-01-12 10:30:30,854][cascade_classifier.transform] group_dims=[10]\n",
      "[ 2019-01-12 10:30:30,856][cascade_classifier.transform] X_test.shape=(254, 10)\n",
      "[ 2019-01-12 10:30:30,857][cascade_classifier.transform] [layer=0] look_indexs=[0], X_cur_test.shape=(254, 10)\n"
     ]
    },
    {
     "name": "stdout",
     "output_type": "stream",
     "text": [
      "Test Accuracy of DeepExtratTrees = 72.834646 %\n",
      "[[137  31]\n",
      " [ 38  48]]\n",
      "\n",
      "\n",
      "             precision    recall  f1-score   support\n",
      "\n",
      "        0.0       0.78      0.82      0.80       168\n",
      "        1.0       0.61      0.56      0.58        86\n",
      "\n",
      "avg / total       0.72      0.73      0.73       254\n",
      "\n"
     ]
    }
   ],
   "source": [
    "# X_enc is the concatenated predict_proba result of DeepExtraTrees\n",
    "X_train_enc, X_test_enc = gc.fit_transform(X_train, y_train, X_test=X_test, y_test=y_test)\n",
    "\n",
    "# predict\n",
    "y_pred = gc.predict(X_test)\n",
    "acc = accuracy_score(y_test, y_pred)\n",
    "print(\"Test Accuracy of DeepExtratTrees = {:.6f} %\".format(acc * 100))\n",
    " # Matrix de confusion\n",
    "from sklearn.metrics import classification_report, confusion_matrix\n",
    "print(confusion_matrix(y_test,y_pred))\n",
    "print('\\n')\n",
    "print(classification_report(y_test,y_pred))\n",
    "# Make data + estimators\n",
    "X_test_enc = gc.transform(X_test)\n",
    "X_train_enc = X_train_enc.reshape((X_train_enc.shape[0], -1))\n",
    "X_test_enc = X_test_enc.reshape((X_test_enc.shape[0], -1))\n",
    "X_train_origin = X_train.reshape((X_train.shape[0], -1))\n",
    "X_test_origin = X_test.reshape((X_test.shape[0], -1))\n",
    "X_train_enc = np.hstack((X_train_origin, X_train_enc))\n",
    "X_test_enc = np.hstack((X_test_origin, X_test_enc))\n",
    "\n",
    "# New data\n",
    "X_train=X_train_enc\n",
    "X_test=X_test_enc \n",
    "X_train_enc, X_test_enc = gc.fit_transform(X_train, y_train, X_test=X_test, y_test=y_test)\n",
    "\n",
    "# predict  data + Es\n",
    "y_pred = gc.predict(X_test)\n",
    "acc = accuracy_score(y_test, y_pred)\n",
    "print(\"Test Accuracy of DeepExtratTrees = {:.6f} %\".format(acc * 100))\n",
    " # Matrix de confusion\n",
    "from sklearn.metrics import classification_report, confusion_matrix\n",
    "print(confusion_matrix(y_test,y_pred))\n",
    "print('\\n')\n",
    "print(classification_report(y_test,y_pred))"
   ]
  },
  {
   "cell_type": "code",
   "execution_count": null,
   "metadata": {},
   "outputs": [
    {
     "name": "stderr",
     "output_type": "stream",
     "text": [
      "[ 2019-01-12 10:30:32,199][cascade_classifier.fit_transform] X_groups_train.shape=[(514, 10)],y_train.shape=(514,),X_groups_test.shape=[(254, 10)],y_test.shape=(254,)\n",
      "[ 2019-01-12 10:30:32,201][cascade_classifier.fit_transform] group_dims=[10]\n",
      "[ 2019-01-12 10:30:32,202][cascade_classifier.fit_transform] group_starts=[0]\n",
      "[ 2019-01-12 10:30:32,203][cascade_classifier.fit_transform] group_ends=[10]\n",
      "[ 2019-01-12 10:30:32,205][cascade_classifier.fit_transform] X_train.shape=(514, 10),X_test.shape=(254, 10)\n",
      "[ 2019-01-12 10:30:32,206][cascade_classifier.fit_transform] [layer=0] look_indexs=[0], X_cur_train.shape=(514, 10), X_cur_test.shape=(254, 10)\n",
      "[ 2019-01-12 10:30:32,864][kfold_wrapper.log_eval_metrics] Accuracy(layer_0 - estimator_0 - 10_folds.train_0.predict)=79.25%\n",
      "[ 2019-01-12 10:30:33,628][kfold_wrapper.log_eval_metrics] Accuracy(layer_0 - estimator_0 - 10_folds.train_1.predict)=75.47%\n",
      "[ 2019-01-12 10:30:34,362][kfold_wrapper.log_eval_metrics] Accuracy(layer_0 - estimator_0 - 10_folds.train_2.predict)=72.55%\n",
      "[ 2019-01-12 10:30:35,075][kfold_wrapper.log_eval_metrics] Accuracy(layer_0 - estimator_0 - 10_folds.train_3.predict)=82.35%\n",
      "[ 2019-01-12 10:30:35,817][kfold_wrapper.log_eval_metrics] Accuracy(layer_0 - estimator_0 - 10_folds.train_4.predict)=68.63%\n",
      "[ 2019-01-12 10:30:36,568][kfold_wrapper.log_eval_metrics] Accuracy(layer_0 - estimator_0 - 10_folds.train_5.predict)=72.55%\n",
      "[ 2019-01-12 10:30:37,304][kfold_wrapper.log_eval_metrics] Accuracy(layer_0 - estimator_0 - 10_folds.train_6.predict)=78.43%\n",
      "[ 2019-01-12 10:30:38,045][kfold_wrapper.log_eval_metrics] Accuracy(layer_0 - estimator_0 - 10_folds.train_7.predict)=76.47%\n",
      "[ 2019-01-12 10:30:38,681][kfold_wrapper.log_eval_metrics] Accuracy(layer_0 - estimator_0 - 10_folds.train_8.predict)=72.55%\n",
      "[ 2019-01-12 10:30:39,414][kfold_wrapper.log_eval_metrics] Accuracy(layer_0 - estimator_0 - 10_folds.train_9.predict)=76.47%\n",
      "[ 2019-01-12 10:30:39,535][kfold_wrapper.log_eval_metrics] Accuracy(layer_0 - estimator_0 - 10_folds.train_cv.predict)=75.49%\n",
      "[ 2019-01-12 10:30:39,539][kfold_wrapper.log_eval_metrics] Accuracy(layer_0 - estimator_0 - 10_folds.test.predict)=75.98%\n",
      "[ 2019-01-12 10:30:39,548][cascade_classifier.calc_accuracy] Accuracy(layer_0 - train.classifier_average)=75.49%\n",
      "[ 2019-01-12 10:30:39,550][cascade_classifier.calc_accuracy] Accuracy(layer_0 - test.classifier_average)=75.98%\n",
      "[ 2019-01-12 10:30:39,553][cascade_classifier.fit_transform] [Result][Reach Max Layer] opt_layer_num=1, accuracy_train=75.49%, accuracy_test=75.98%\n",
      "[ 2019-01-12 10:30:39,554][cascade_classifier.transform] X_groups_test.shape=[(254, 10)]\n",
      "[ 2019-01-12 10:30:39,556][cascade_classifier.transform] group_dims=[10]\n",
      "[ 2019-01-12 10:30:39,558][cascade_classifier.transform] X_test.shape=(254, 10)\n",
      "[ 2019-01-12 10:30:39,560][cascade_classifier.transform] [layer=0] look_indexs=[0], X_cur_test.shape=(254, 10)\n",
      "[ 2019-01-12 10:30:40,856][cascade_classifier.fit_transform] X_groups_train.shape=[(514, 10)],y_train.shape=(514,),X_groups_test.shape=[(254, 10)],y_test.shape=(254,)\n",
      "[ 2019-01-12 10:30:40,860][cascade_classifier.fit_transform] group_dims=[10]\n",
      "[ 2019-01-12 10:30:40,862][cascade_classifier.fit_transform] group_starts=[0]\n",
      "[ 2019-01-12 10:30:40,866][cascade_classifier.fit_transform] group_ends=[10]\n",
      "[ 2019-01-12 10:30:40,868][cascade_classifier.fit_transform] X_train.shape=(514, 10),X_test.shape=(254, 10)\n",
      "[ 2019-01-12 10:30:40,870][cascade_classifier.fit_transform] [layer=0] look_indexs=[0], X_cur_train.shape=(514, 10), X_cur_test.shape=(254, 10)\n"
     ]
    },
    {
     "name": "stdout",
     "output_type": "stream",
     "text": [
      "('Test Accuracy of DeepExtratTrees = 76.377953 %', 'Layer :', 0)\n",
      "[[145  23]\n",
      " [ 37  49]]\n",
      "\n",
      "\n",
      "             precision    recall  f1-score   support\n",
      "\n",
      "        0.0       0.80      0.86      0.83       168\n",
      "        1.0       0.68      0.57      0.62        86\n",
      "\n",
      "avg / total       0.76      0.76      0.76       254\n",
      "\n",
      "(' Time ', '7.356', ' seconds')\n"
     ]
    },
    {
     "name": "stderr",
     "output_type": "stream",
     "text": [
      "[ 2019-01-12 10:30:41,555][kfold_wrapper.log_eval_metrics] Accuracy(layer_0 - estimator_0 - 10_folds.train_0.predict)=79.25%\n",
      "[ 2019-01-12 10:30:42,302][kfold_wrapper.log_eval_metrics] Accuracy(layer_0 - estimator_0 - 10_folds.train_1.predict)=71.70%\n",
      "[ 2019-01-12 10:30:43,097][kfold_wrapper.log_eval_metrics] Accuracy(layer_0 - estimator_0 - 10_folds.train_2.predict)=70.59%\n",
      "[ 2019-01-12 10:30:43,835][kfold_wrapper.log_eval_metrics] Accuracy(layer_0 - estimator_0 - 10_folds.train_3.predict)=72.55%\n",
      "[ 2019-01-12 10:30:44,594][kfold_wrapper.log_eval_metrics] Accuracy(layer_0 - estimator_0 - 10_folds.train_4.predict)=68.63%\n",
      "[ 2019-01-12 10:30:45,335][kfold_wrapper.log_eval_metrics] Accuracy(layer_0 - estimator_0 - 10_folds.train_5.predict)=72.55%\n"
     ]
    }
   ],
   "source": [
    "def update(X_train,X_test):\n",
    "    # update Estimators\n",
    "    M = np.delete(X_train, (-1), axis=1)\n",
    "    X_train= np.delete(M, (-1), axis=1)\n",
    "    M = np.delete(X_test, (-1), axis=1)\n",
    "    X_test = np.delete(M, (-1), axis=1)\n",
    "    return X_train,X_test\n",
    "\n",
    "def newdata(X_test_enc, X_train_enc):\n",
    "    # Make Data + Estimators\n",
    "    X_train_origin = X_train.reshape((X_train.shape[0], -1))\n",
    "    X_test_origin = X_test.reshape((X_test.shape[0], -1))\n",
    "    X_train_enc = np.hstack((X_train_origin, X_train_enc))\n",
    "    X_test_enc = np.hstack((X_test_origin, X_test_enc))\n",
    "    return X_test_enc, X_train_enc\n",
    "\n",
    "Accuracy = []\n",
    "def affiche():\n",
    "    # predict\n",
    "    y_pred = gc.predict(X_test)\n",
    "    acc = accuracy_score(y_test, y_pred)\n",
    "    print(\"Test Accuracy of DeepExtratTrees = {:.6f} %\".format(acc * 100),\"Layer :\",i)\n",
    "    Accuracy.append(round(acc*100 , 2))\n",
    "    # Matrix de confusion\n",
    "    from sklearn.metrics import classification_report, confusion_matrix\n",
    "    print(confusion_matrix(y_test,y_pred))\n",
    "    print('\\n')\n",
    "    print(classification_report(y_test,y_pred))\n",
    "    \n",
    "# Deep\n",
    "t = []\n",
    "for i in range (20):\n",
    "    t0 = time()\n",
    "    X_train,X_test=update(X_train,X_test)\n",
    "    X_test_enc, X_train_enc=newdata(X_test_enc, X_train_enc)\n",
    "\n",
    "    X_train=X_train_enc\n",
    "    X_test=X_test_enc \n",
    "    X_train_enc, X_test_enc = gc.fit_transform(X_train, y_train, X_test=X_test, y_test=y_test)\n",
    "    tt = time() - t0\n",
    "    affiche() \n",
    "    t.append(round(tt,2))\n",
    "    print (\" Time \",format(round(tt,3)),\" seconds\")\n"
   ]
  },
  {
   "cell_type": "code",
   "execution_count": null,
   "metadata": {},
   "outputs": [],
   "source": [
    "print (\"Opt_layer_num =\",Accuracy.index(max(Accuracy)), \" Accuracy =\", max(Accuracy) ,\n",
    "       \"Time =\" , np.sum(t[0:Accuracy.index(max(Accuracy))+1]))\n",
    "\n",
    "import matplotlib.pyplot as plt\n",
    "from matplotlib.pyplot import figure\n",
    "figure(figsize=(8, 6), dpi=100)\n",
    "plt.plot(Accuracy, '-o', ms=20, lw=2, alpha=0.7, mfc='orange')\n",
    "plt.ylabel('Accuracy')\n",
    "plt.xlabel('Layer numbers')\n",
    "plt.show()"
   ]
  },
  {
   "cell_type": "code",
   "execution_count": null,
   "metadata": {},
   "outputs": [],
   "source": [
    "Accuracy"
   ]
  },
  {
   "cell_type": "code",
   "execution_count": null,
   "metadata": {
    "collapsed": true
   },
   "outputs": [],
   "source": []
  },
  {
   "cell_type": "code",
   "execution_count": null,
   "metadata": {
    "collapsed": true
   },
   "outputs": [],
   "source": []
  },
  {
   "cell_type": "code",
   "execution_count": null,
   "metadata": {
    "collapsed": true
   },
   "outputs": [],
   "source": []
  },
  {
   "cell_type": "code",
   "execution_count": null,
   "metadata": {
    "collapsed": true
   },
   "outputs": [],
   "source": []
  },
  {
   "cell_type": "code",
   "execution_count": null,
   "metadata": {
    "collapsed": true
   },
   "outputs": [],
   "source": []
  }
 ],
 "metadata": {
  "kernelspec": {
   "display_name": "Python 2",
   "language": "python",
   "name": "python2"
  },
  "language_info": {
   "codemirror_mode": {
    "name": "ipython",
    "version": 2
   },
   "file_extension": ".py",
   "mimetype": "text/x-python",
   "name": "python",
   "nbconvert_exporter": "python",
   "pygments_lexer": "ipython2",
   "version": "2.7.14"
  }
 },
 "nbformat": 4,
 "nbformat_minor": 2
}
