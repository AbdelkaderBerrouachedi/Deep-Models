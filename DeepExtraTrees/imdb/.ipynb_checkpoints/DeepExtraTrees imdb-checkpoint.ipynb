{
 "cells": [
  {
   "cell_type": "code",
   "execution_count": 1,
   "metadata": {
    "collapsed": true
   },
   "outputs": [],
   "source": [
    "#imports \n",
    "import numpy as np\n",
    "import pandas as pd\n",
    "from math import sqrt \n",
    "from pprint import pprint\n",
    "from numpy import array\n",
    "from time import time"
   ]
  },
  {
   "cell_type": "code",
   "execution_count": 2,
   "metadata": {},
   "outputs": [
    {
     "name": "stderr",
     "output_type": "stream",
     "text": [
      "Using TensorFlow backend.\n"
     ]
    }
   ],
   "source": [
    "# load data\n",
    "from keras.datasets import imdb\n",
    "from keras.preprocessing import sequence\n",
    "top_words = 5000\n",
    "(X_train, y_train), (X_test, y_test) = imdb.load_data(num_words=top_words)\n",
    "max_review_length = 500\n",
    "X_train = sequence.pad_sequences(X_train, maxlen=max_review_length)\n",
    "X_test = sequence.pad_sequences(X_test, maxlen=max_review_length) "
   ]
  },
  {
   "cell_type": "code",
   "execution_count": 3,
   "metadata": {
    "collapsed": true
   },
   "outputs": [],
   "source": [
    "# DeepExtraTrees  \n",
    "import argparse\n",
    "import sys\n",
    "import pickle\n",
    "from sklearn.metrics import accuracy_score\n",
    "sys.path.insert(0, \"lib\")\n",
    "from gcforest.gcforest import GCForest\n",
    "from gcforest.utils.config_utils import load_json\n",
    "config = load_json(\"./examples/imbd.json\")    \n",
    "gc = GCForest(config)"
   ]
  },
  {
   "cell_type": "code",
   "execution_count": 4,
   "metadata": {},
   "outputs": [
    {
     "data": {
      "text/plain": [
       "2"
      ]
     },
     "execution_count": 4,
     "metadata": {},
     "output_type": "execute_result"
    }
   ],
   "source": [
    "# count of class\n",
    "len(np.unique(y_train))"
   ]
  },
  {
   "cell_type": "code",
   "execution_count": 5,
   "metadata": {},
   "outputs": [
    {
     "name": "stderr",
     "output_type": "stream",
     "text": [
      "[ 2018-07-27 22:03:07,084][cascade_classifier.fit_transform] X_groups_train.shape=[(25000, 500)],y_train.shape=(25000,),X_groups_test.shape=[(25000, 500)],y_test.shape=(25000,)\n",
      "[ 2018-07-27 22:03:07,112][cascade_classifier.fit_transform] group_dims=[500]\n",
      "[ 2018-07-27 22:03:07,114][cascade_classifier.fit_transform] group_starts=[0]\n",
      "[ 2018-07-27 22:03:07,114][cascade_classifier.fit_transform] group_ends=[500]\n",
      "[ 2018-07-27 22:03:07,116][cascade_classifier.fit_transform] X_train.shape=(25000, 500),X_test.shape=(25000, 500)\n",
      "[ 2018-07-27 22:03:07,185][cascade_classifier.fit_transform] [layer=0] look_indexs=[0], X_cur_train.shape=(25000, 500), X_cur_test.shape=(25000, 500)\n",
      "[ 2018-07-27 22:03:11,777][kfold_wrapper.log_eval_metrics] Accuracy(layer_0 - estimator_0 - 10_folds.train_0.predict)=52.04%\n",
      "[ 2018-07-27 22:03:16,786][kfold_wrapper.log_eval_metrics] Accuracy(layer_0 - estimator_0 - 10_folds.train_1.predict)=52.36%\n",
      "[ 2018-07-27 22:03:21,597][kfold_wrapper.log_eval_metrics] Accuracy(layer_0 - estimator_0 - 10_folds.train_2.predict)=53.08%\n",
      "[ 2018-07-27 22:03:25,850][kfold_wrapper.log_eval_metrics] Accuracy(layer_0 - estimator_0 - 10_folds.train_3.predict)=52.48%\n",
      "[ 2018-07-27 22:03:30,123][kfold_wrapper.log_eval_metrics] Accuracy(layer_0 - estimator_0 - 10_folds.train_4.predict)=51.48%\n",
      "[ 2018-07-27 22:03:34,599][kfold_wrapper.log_eval_metrics] Accuracy(layer_0 - estimator_0 - 10_folds.train_5.predict)=53.28%\n",
      "[ 2018-07-27 22:03:38,990][kfold_wrapper.log_eval_metrics] Accuracy(layer_0 - estimator_0 - 10_folds.train_6.predict)=52.68%\n",
      "[ 2018-07-27 22:03:43,467][kfold_wrapper.log_eval_metrics] Accuracy(layer_0 - estimator_0 - 10_folds.train_7.predict)=53.16%\n",
      "[ 2018-07-27 22:03:47,831][kfold_wrapper.log_eval_metrics] Accuracy(layer_0 - estimator_0 - 10_folds.train_8.predict)=51.16%\n",
      "[ 2018-07-27 22:03:52,573][kfold_wrapper.log_eval_metrics] Accuracy(layer_0 - estimator_0 - 10_folds.train_9.predict)=52.60%\n",
      "[ 2018-07-27 22:03:52,916][kfold_wrapper.log_eval_metrics] Accuracy(layer_0 - estimator_0 - 10_folds.train_cv.predict)=52.43%\n",
      "[ 2018-07-27 22:03:52,917][kfold_wrapper.log_eval_metrics] Accuracy(layer_0 - estimator_0 - 10_folds.test.predict)=52.65%\n",
      "[ 2018-07-27 22:03:52,918][cascade_classifier.calc_accuracy] Accuracy(layer_0 - train.classifier_average)=52.43%\n",
      "[ 2018-07-27 22:03:52,920][cascade_classifier.calc_accuracy] Accuracy(layer_0 - test.classifier_average)=52.65%\n",
      "[ 2018-07-27 22:03:52,920][cascade_classifier.fit_transform] [Result][Reach Max Layer] opt_layer_num=1, accuracy_train=52.43%, accuracy_test=52.65%\n"
     ]
    }
   ],
   "source": [
    " # X_enc is the concatenated predict_proba result of DeepExtraTrees\n",
    "\n",
    "X_train_enc, X_test_enc = gc.fit_transform(X_train, y_train, X_test=X_test, y_test=y_test)\n",
    "     "
   ]
  },
  {
   "cell_type": "code",
   "execution_count": 6,
   "metadata": {},
   "outputs": [
    {
     "name": "stderr",
     "output_type": "stream",
     "text": [
      "[ 2018-07-27 22:03:52,929][cascade_classifier.transform] X_groups_test.shape=[(25000, 500)]\n",
      "[ 2018-07-27 22:03:52,937][cascade_classifier.transform] group_dims=[500]\n",
      "[ 2018-07-27 22:03:52,938][cascade_classifier.transform] X_test.shape=(25000, 500)\n",
      "[ 2018-07-27 22:03:52,970][cascade_classifier.transform] [layer=0] look_indexs=[0], X_cur_test.shape=(25000, 500)\n"
     ]
    },
    {
     "name": "stdout",
     "output_type": "stream",
     "text": [
      "Test Accuracy of DeepExtraTrees = 52.656000 %\n",
      "[[7193 5307]\n",
      " [6529 5971]]\n",
      "\n",
      "\n",
      "             precision    recall  f1-score   support\n",
      "\n",
      "          0       0.52      0.58      0.55     12500\n",
      "          1       0.53      0.48      0.50     12500\n",
      "\n",
      "avg / total       0.53      0.53      0.53     25000\n",
      "\n"
     ]
    }
   ],
   "source": [
    "# predict\n",
    "y_pred = gc.predict(X_test)\n",
    "acc = accuracy_score(y_test, y_pred)\n",
    "print(\"Test Accuracy of DeepExtraTrees = {:.6f} %\".format(acc * 100))\n",
    " # Matrix de confusion\n",
    "from sklearn.metrics import classification_report, confusion_matrix\n",
    "print(confusion_matrix(y_test,y_pred))\n",
    "print('\\n')\n",
    "print(classification_report(y_test,y_pred))"
   ]
  },
  {
   "cell_type": "code",
   "execution_count": 7,
   "metadata": {},
   "outputs": [
    {
     "name": "stderr",
     "output_type": "stream",
     "text": [
      "[ 2018-07-27 22:03:56,703][cascade_classifier.transform] X_groups_test.shape=[(25000, 500)]\n",
      "[ 2018-07-27 22:03:56,711][cascade_classifier.transform] group_dims=[500]\n",
      "[ 2018-07-27 22:03:56,712][cascade_classifier.transform] X_test.shape=(25000, 500)\n",
      "[ 2018-07-27 22:03:56,745][cascade_classifier.transform] [layer=0] look_indexs=[0], X_cur_test.shape=(25000, 500)\n"
     ]
    }
   ],
   "source": [
    "# Make data + Estimators\n",
    "X_test_enc = gc.transform(X_test)\n",
    "X_train_enc = X_train_enc.reshape((X_train_enc.shape[0], -1))\n",
    "X_test_enc = X_test_enc.reshape((X_test_enc.shape[0], -1))\n",
    "X_train_origin = X_train.reshape((X_train.shape[0], -1))\n",
    "X_test_origin = X_test.reshape((X_test.shape[0], -1))\n",
    "X_train_enc = np.hstack((X_train_origin, X_train_enc))\n",
    "X_test_enc = np.hstack((X_test_origin, X_test_enc))"
   ]
  },
  {
   "cell_type": "code",
   "execution_count": 8,
   "metadata": {},
   "outputs": [
    {
     "name": "stderr",
     "output_type": "stream",
     "text": [
      "[ 2018-07-27 22:04:00,522][cascade_classifier.fit_transform] X_groups_train.shape=[(25000, 502)],y_train.shape=(25000,),X_groups_test.shape=[(25000, 502)],y_test.shape=(25000,)\n",
      "[ 2018-07-27 22:04:00,598][cascade_classifier.fit_transform] group_dims=[502]\n",
      "[ 2018-07-27 22:04:00,600][cascade_classifier.fit_transform] group_starts=[0]\n",
      "[ 2018-07-27 22:04:00,601][cascade_classifier.fit_transform] group_ends=[502]\n",
      "[ 2018-07-27 22:04:00,602][cascade_classifier.fit_transform] X_train.shape=(25000, 502),X_test.shape=(25000, 502)\n",
      "[ 2018-07-27 22:04:00,678][cascade_classifier.fit_transform] [layer=0] look_indexs=[0], X_cur_train.shape=(25000, 502), X_cur_test.shape=(25000, 502)\n",
      "[ 2018-07-27 22:04:06,704][kfold_wrapper.log_eval_metrics] Accuracy(layer_0 - estimator_0 - 10_folds.train_0.predict)=53.28%\n",
      "[ 2018-07-27 22:04:13,215][kfold_wrapper.log_eval_metrics] Accuracy(layer_0 - estimator_0 - 10_folds.train_1.predict)=52.32%\n",
      "[ 2018-07-27 22:04:19,647][kfold_wrapper.log_eval_metrics] Accuracy(layer_0 - estimator_0 - 10_folds.train_2.predict)=50.56%\n",
      "[ 2018-07-27 22:04:26,134][kfold_wrapper.log_eval_metrics] Accuracy(layer_0 - estimator_0 - 10_folds.train_3.predict)=51.92%\n",
      "[ 2018-07-27 22:04:32,544][kfold_wrapper.log_eval_metrics] Accuracy(layer_0 - estimator_0 - 10_folds.train_4.predict)=52.68%\n",
      "[ 2018-07-27 22:04:38,894][kfold_wrapper.log_eval_metrics] Accuracy(layer_0 - estimator_0 - 10_folds.train_5.predict)=52.72%\n",
      "[ 2018-07-27 22:04:45,504][kfold_wrapper.log_eval_metrics] Accuracy(layer_0 - estimator_0 - 10_folds.train_6.predict)=52.64%\n",
      "[ 2018-07-27 22:04:51,961][kfold_wrapper.log_eval_metrics] Accuracy(layer_0 - estimator_0 - 10_folds.train_7.predict)=51.96%\n",
      "[ 2018-07-27 22:04:59,217][kfold_wrapper.log_eval_metrics] Accuracy(layer_0 - estimator_0 - 10_folds.train_8.predict)=51.40%\n",
      "[ 2018-07-27 22:05:05,856][kfold_wrapper.log_eval_metrics] Accuracy(layer_0 - estimator_0 - 10_folds.train_9.predict)=52.68%\n",
      "[ 2018-07-27 22:05:06,203][kfold_wrapper.log_eval_metrics] Accuracy(layer_0 - estimator_0 - 10_folds.train_cv.predict)=52.22%\n",
      "[ 2018-07-27 22:05:06,205][kfold_wrapper.log_eval_metrics] Accuracy(layer_0 - estimator_0 - 10_folds.test.predict)=53.08%\n",
      "[ 2018-07-27 22:05:06,209][cascade_classifier.calc_accuracy] Accuracy(layer_0 - train.classifier_average)=52.22%\n",
      "[ 2018-07-27 22:05:06,210][cascade_classifier.calc_accuracy] Accuracy(layer_0 - test.classifier_average)=53.08%\n",
      "[ 2018-07-27 22:05:06,211][cascade_classifier.fit_transform] [Result][Reach Max Layer] opt_layer_num=1, accuracy_train=52.22%, accuracy_test=53.08%\n"
     ]
    }
   ],
   "source": [
    "X_train=X_train_enc\n",
    "X_test=X_test_enc \n",
    "X_train_enc, X_test_enc = gc.fit_transform(X_train, y_train, X_test=X_test, y_test=y_test)"
   ]
  },
  {
   "cell_type": "code",
   "execution_count": 9,
   "metadata": {},
   "outputs": [
    {
     "name": "stderr",
     "output_type": "stream",
     "text": [
      "[ 2018-07-27 22:05:06,220][cascade_classifier.transform] X_groups_test.shape=[(25000, 502)]\n",
      "[ 2018-07-27 22:05:06,261][cascade_classifier.transform] group_dims=[502]\n",
      "[ 2018-07-27 22:05:06,262][cascade_classifier.transform] X_test.shape=(25000, 502)\n",
      "[ 2018-07-27 22:05:06,301][cascade_classifier.transform] [layer=0] look_indexs=[0], X_cur_test.shape=(25000, 502)\n"
     ]
    },
    {
     "name": "stdout",
     "output_type": "stream",
     "text": [
      "Test Accuracy of DeepExtraTrees = 53.100000 %\n",
      "[[7287 5213]\n",
      " [6512 5988]]\n",
      "\n",
      "\n",
      "             precision    recall  f1-score   support\n",
      "\n",
      "          0       0.53      0.58      0.55     12500\n",
      "          1       0.53      0.48      0.51     12500\n",
      "\n",
      "avg / total       0.53      0.53      0.53     25000\n",
      "\n"
     ]
    }
   ],
   "source": [
    "# predict  data + Es\n",
    "y_pred = gc.predict(X_test)\n",
    "acc = accuracy_score(y_test, y_pred)\n",
    "print(\"Test Accuracy of DeepExtraTrees = {:.6f} %\".format(acc * 100))\n",
    " # Matrix de confusion\n",
    "from sklearn.metrics import classification_report, confusion_matrix\n",
    "print(confusion_matrix(y_test,y_pred))\n",
    "print('\\n')\n",
    "print(classification_report(y_test,y_pred))"
   ]
  },
  {
   "cell_type": "code",
   "execution_count": 10,
   "metadata": {},
   "outputs": [
    {
     "name": "stdout",
     "output_type": "stream",
     "text": [
      "X_train_enc.shape=(25000, 2), X_test_enc.shape=(25000, 2)\n"
     ]
    }
   ],
   "source": [
    "print(\"X_train_enc.shape={}, X_test_enc.shape={}\".format(X_train_enc.shape, X_test_enc.shape))"
   ]
  },
  {
   "cell_type": "code",
   "execution_count": 11,
   "metadata": {},
   "outputs": [
    {
     "name": "stdout",
     "output_type": "stream",
     "text": [
      "X_train_enc.shape=(25000, 502), X_test_enc.shape=(25000, 502)\n"
     ]
    }
   ],
   "source": [
    "print(\"X_train_enc.shape={}, X_test_enc.shape={}\".format(X_train.shape, X_test.shape))"
   ]
  },
  {
   "cell_type": "code",
   "execution_count": 12,
   "metadata": {},
   "outputs": [
    {
     "name": "stderr",
     "output_type": "stream",
     "text": [
      "[ 2018-07-27 22:05:10,258][cascade_classifier.fit_transform] X_groups_train.shape=[(25000, 502)],y_train.shape=(25000,),X_groups_test.shape=[(25000, 502)],y_test.shape=(25000,)\n",
      "[ 2018-07-27 22:05:10,333][cascade_classifier.fit_transform] group_dims=[502]\n",
      "[ 2018-07-27 22:05:10,334][cascade_classifier.fit_transform] group_starts=[0]\n",
      "[ 2018-07-27 22:05:10,334][cascade_classifier.fit_transform] group_ends=[502]\n",
      "[ 2018-07-27 22:05:10,335][cascade_classifier.fit_transform] X_train.shape=(25000, 502),X_test.shape=(25000, 502)\n",
      "[ 2018-07-27 22:05:10,412][cascade_classifier.fit_transform] [layer=0] look_indexs=[0], X_cur_train.shape=(25000, 502), X_cur_test.shape=(25000, 502)\n",
      "[ 2018-07-27 22:05:16,426][kfold_wrapper.log_eval_metrics] Accuracy(layer_0 - estimator_0 - 10_folds.train_0.predict)=52.00%\n",
      "[ 2018-07-27 22:05:22,697][kfold_wrapper.log_eval_metrics] Accuracy(layer_0 - estimator_0 - 10_folds.train_1.predict)=52.52%\n",
      "[ 2018-07-27 22:05:29,057][kfold_wrapper.log_eval_metrics] Accuracy(layer_0 - estimator_0 - 10_folds.train_2.predict)=50.56%\n",
      "[ 2018-07-27 22:05:35,467][kfold_wrapper.log_eval_metrics] Accuracy(layer_0 - estimator_0 - 10_folds.train_3.predict)=51.52%\n",
      "[ 2018-07-27 22:05:42,023][kfold_wrapper.log_eval_metrics] Accuracy(layer_0 - estimator_0 - 10_folds.train_4.predict)=52.84%\n",
      "[ 2018-07-27 22:05:50,234][kfold_wrapper.log_eval_metrics] Accuracy(layer_0 - estimator_0 - 10_folds.train_5.predict)=51.48%\n",
      "[ 2018-07-27 22:05:57,529][kfold_wrapper.log_eval_metrics] Accuracy(layer_0 - estimator_0 - 10_folds.train_6.predict)=51.52%\n",
      "[ 2018-07-27 22:06:04,520][kfold_wrapper.log_eval_metrics] Accuracy(layer_0 - estimator_0 - 10_folds.train_7.predict)=52.16%\n",
      "[ 2018-07-27 22:06:10,993][kfold_wrapper.log_eval_metrics] Accuracy(layer_0 - estimator_0 - 10_folds.train_8.predict)=51.80%\n",
      "[ 2018-07-27 22:06:17,510][kfold_wrapper.log_eval_metrics] Accuracy(layer_0 - estimator_0 - 10_folds.train_9.predict)=53.52%\n",
      "[ 2018-07-27 22:06:17,853][kfold_wrapper.log_eval_metrics] Accuracy(layer_0 - estimator_0 - 10_folds.train_cv.predict)=51.99%\n",
      "[ 2018-07-27 22:06:17,854][kfold_wrapper.log_eval_metrics] Accuracy(layer_0 - estimator_0 - 10_folds.test.predict)=52.71%\n",
      "[ 2018-07-27 22:06:17,874][cascade_classifier.calc_accuracy] Accuracy(layer_0 - train.classifier_average)=51.99%\n",
      "[ 2018-07-27 22:06:17,875][cascade_classifier.calc_accuracy] Accuracy(layer_0 - test.classifier_average)=52.71%\n",
      "[ 2018-07-27 22:06:17,876][cascade_classifier.fit_transform] [Result][Reach Max Layer] opt_layer_num=1, accuracy_train=51.99%, accuracy_test=52.71%\n",
      "[ 2018-07-27 22:06:17,878][cascade_classifier.transform] X_groups_test.shape=[(25000, 502)]\n",
      "[ 2018-07-27 22:06:17,892][cascade_classifier.transform] group_dims=[502]\n",
      "[ 2018-07-27 22:06:17,893][cascade_classifier.transform] X_test.shape=(25000, 502)\n",
      "[ 2018-07-27 22:06:17,932][cascade_classifier.transform] [layer=0] look_indexs=[0], X_cur_test.shape=(25000, 502)\n"
     ]
    },
    {
     "name": "stdout",
     "output_type": "stream",
     "text": [
      "('Test Accuracy of DeepExtratTrees = 52.728000 %', 'Layer :', 0)\n",
      "[[7142 5358]\n",
      " [6460 6040]]\n",
      "\n",
      "\n",
      "             precision    recall  f1-score   support\n",
      "\n",
      "          0       0.53      0.57      0.55     12500\n",
      "          1       0.53      0.48      0.51     12500\n",
      "\n",
      "avg / total       0.53      0.53      0.53     25000\n",
      "\n",
      "(' Time ', '67.839', ' seconds')\n"
     ]
    },
    {
     "name": "stderr",
     "output_type": "stream",
     "text": [
      "[ 2018-07-27 22:06:21,941][cascade_classifier.fit_transform] X_groups_train.shape=[(25000, 502)],y_train.shape=(25000,),X_groups_test.shape=[(25000, 502)],y_test.shape=(25000,)\n",
      "[ 2018-07-27 22:06:21,993][cascade_classifier.fit_transform] group_dims=[502]\n",
      "[ 2018-07-27 22:06:21,994][cascade_classifier.fit_transform] group_starts=[0]\n",
      "[ 2018-07-27 22:06:21,995][cascade_classifier.fit_transform] group_ends=[502]\n",
      "[ 2018-07-27 22:06:21,996][cascade_classifier.fit_transform] X_train.shape=(25000, 502),X_test.shape=(25000, 502)\n",
      "[ 2018-07-27 22:06:22,073][cascade_classifier.fit_transform] [layer=0] look_indexs=[0], X_cur_train.shape=(25000, 502), X_cur_test.shape=(25000, 502)\n",
      "[ 2018-07-27 22:06:28,304][kfold_wrapper.log_eval_metrics] Accuracy(layer_0 - estimator_0 - 10_folds.train_0.predict)=53.60%\n",
      "[ 2018-07-27 22:06:34,585][kfold_wrapper.log_eval_metrics] Accuracy(layer_0 - estimator_0 - 10_folds.train_1.predict)=50.76%\n",
      "[ 2018-07-27 22:06:40,954][kfold_wrapper.log_eval_metrics] Accuracy(layer_0 - estimator_0 - 10_folds.train_2.predict)=52.68%\n",
      "[ 2018-07-27 22:06:47,448][kfold_wrapper.log_eval_metrics] Accuracy(layer_0 - estimator_0 - 10_folds.train_3.predict)=49.48%\n",
      "[ 2018-07-27 22:06:54,154][kfold_wrapper.log_eval_metrics] Accuracy(layer_0 - estimator_0 - 10_folds.train_4.predict)=51.84%\n",
      "[ 2018-07-27 22:07:01,404][kfold_wrapper.log_eval_metrics] Accuracy(layer_0 - estimator_0 - 10_folds.train_5.predict)=52.12%\n",
      "[ 2018-07-27 22:07:07,733][kfold_wrapper.log_eval_metrics] Accuracy(layer_0 - estimator_0 - 10_folds.train_6.predict)=50.76%\n",
      "[ 2018-07-27 22:07:13,996][kfold_wrapper.log_eval_metrics] Accuracy(layer_0 - estimator_0 - 10_folds.train_7.predict)=51.80%\n",
      "[ 2018-07-27 22:07:20,560][kfold_wrapper.log_eval_metrics] Accuracy(layer_0 - estimator_0 - 10_folds.train_8.predict)=51.60%\n",
      "[ 2018-07-27 22:07:27,150][kfold_wrapper.log_eval_metrics] Accuracy(layer_0 - estimator_0 - 10_folds.train_9.predict)=54.08%\n",
      "[ 2018-07-27 22:07:27,524][kfold_wrapper.log_eval_metrics] Accuracy(layer_0 - estimator_0 - 10_folds.train_cv.predict)=51.87%\n",
      "[ 2018-07-27 22:07:27,525][kfold_wrapper.log_eval_metrics] Accuracy(layer_0 - estimator_0 - 10_folds.test.predict)=52.64%\n",
      "[ 2018-07-27 22:07:27,533][cascade_classifier.calc_accuracy] Accuracy(layer_0 - train.classifier_average)=51.87%\n",
      "[ 2018-07-27 22:07:27,534][cascade_classifier.calc_accuracy] Accuracy(layer_0 - test.classifier_average)=52.64%\n",
      "[ 2018-07-27 22:07:27,535][cascade_classifier.fit_transform] [Result][Reach Max Layer] opt_layer_num=1, accuracy_train=51.87%, accuracy_test=52.64%\n",
      "[ 2018-07-27 22:07:27,537][cascade_classifier.transform] X_groups_test.shape=[(25000, 502)]\n",
      "[ 2018-07-27 22:07:27,550][cascade_classifier.transform] group_dims=[502]\n",
      "[ 2018-07-27 22:07:27,551][cascade_classifier.transform] X_test.shape=(25000, 502)\n",
      "[ 2018-07-27 22:07:27,590][cascade_classifier.transform] [layer=0] look_indexs=[0], X_cur_test.shape=(25000, 502)\n"
     ]
    },
    {
     "name": "stdout",
     "output_type": "stream",
     "text": [
      "('Test Accuracy of DeepExtratTrees = 52.624000 %', 'Layer :', 1)\n",
      "[[7021 5479]\n",
      " [6365 6135]]\n",
      "\n",
      "\n",
      "             precision    recall  f1-score   support\n",
      "\n",
      "          0       0.52      0.56      0.54     12500\n",
      "          1       0.53      0.49      0.51     12500\n",
      "\n",
      "avg / total       0.53      0.53      0.53     25000\n",
      "\n",
      "(' Time ', '65.791', ' seconds')\n"
     ]
    },
    {
     "name": "stderr",
     "output_type": "stream",
     "text": [
      "[ 2018-07-27 22:07:31,387][cascade_classifier.fit_transform] X_groups_train.shape=[(25000, 502)],y_train.shape=(25000,),X_groups_test.shape=[(25000, 502)],y_test.shape=(25000,)\n",
      "[ 2018-07-27 22:07:31,438][cascade_classifier.fit_transform] group_dims=[502]\n",
      "[ 2018-07-27 22:07:31,439][cascade_classifier.fit_transform] group_starts=[0]\n",
      "[ 2018-07-27 22:07:31,440][cascade_classifier.fit_transform] group_ends=[502]\n",
      "[ 2018-07-27 22:07:31,441][cascade_classifier.fit_transform] X_train.shape=(25000, 502),X_test.shape=(25000, 502)\n",
      "[ 2018-07-27 22:07:31,518][cascade_classifier.fit_transform] [layer=0] look_indexs=[0], X_cur_train.shape=(25000, 502), X_cur_test.shape=(25000, 502)\n",
      "[ 2018-07-27 22:07:37,755][kfold_wrapper.log_eval_metrics] Accuracy(layer_0 - estimator_0 - 10_folds.train_0.predict)=53.48%\n",
      "[ 2018-07-27 22:07:44,187][kfold_wrapper.log_eval_metrics] Accuracy(layer_0 - estimator_0 - 10_folds.train_1.predict)=51.84%\n",
      "[ 2018-07-27 22:07:50,549][kfold_wrapper.log_eval_metrics] Accuracy(layer_0 - estimator_0 - 10_folds.train_2.predict)=50.08%\n",
      "[ 2018-07-27 22:07:57,378][kfold_wrapper.log_eval_metrics] Accuracy(layer_0 - estimator_0 - 10_folds.train_3.predict)=50.84%\n",
      "[ 2018-07-27 22:08:04,417][kfold_wrapper.log_eval_metrics] Accuracy(layer_0 - estimator_0 - 10_folds.train_4.predict)=52.60%\n",
      "[ 2018-07-27 22:08:10,728][kfold_wrapper.log_eval_metrics] Accuracy(layer_0 - estimator_0 - 10_folds.train_5.predict)=53.00%\n",
      "[ 2018-07-27 22:08:17,072][kfold_wrapper.log_eval_metrics] Accuracy(layer_0 - estimator_0 - 10_folds.train_6.predict)=50.48%\n",
      "[ 2018-07-27 22:08:23,399][kfold_wrapper.log_eval_metrics] Accuracy(layer_0 - estimator_0 - 10_folds.train_7.predict)=51.08%\n",
      "[ 2018-07-27 22:08:30,087][kfold_wrapper.log_eval_metrics] Accuracy(layer_0 - estimator_0 - 10_folds.train_8.predict)=51.20%\n",
      "[ 2018-07-27 22:08:36,651][kfold_wrapper.log_eval_metrics] Accuracy(layer_0 - estimator_0 - 10_folds.train_9.predict)=54.32%\n",
      "[ 2018-07-27 22:08:36,988][kfold_wrapper.log_eval_metrics] Accuracy(layer_0 - estimator_0 - 10_folds.train_cv.predict)=51.89%\n",
      "[ 2018-07-27 22:08:36,990][kfold_wrapper.log_eval_metrics] Accuracy(layer_0 - estimator_0 - 10_folds.test.predict)=52.79%\n",
      "[ 2018-07-27 22:08:37,002][cascade_classifier.calc_accuracy] Accuracy(layer_0 - train.classifier_average)=51.89%\n",
      "[ 2018-07-27 22:08:37,003][cascade_classifier.calc_accuracy] Accuracy(layer_0 - test.classifier_average)=52.79%\n",
      "[ 2018-07-27 22:08:37,004][cascade_classifier.fit_transform] [Result][Reach Max Layer] opt_layer_num=1, accuracy_train=51.89%, accuracy_test=52.79%\n",
      "[ 2018-07-27 22:08:37,009][cascade_classifier.transform] X_groups_test.shape=[(25000, 502)]\n",
      "[ 2018-07-27 22:08:37,047][cascade_classifier.transform] group_dims=[502]\n",
      "[ 2018-07-27 22:08:37,048][cascade_classifier.transform] X_test.shape=(25000, 502)\n",
      "[ 2018-07-27 22:08:37,087][cascade_classifier.transform] [layer=0] look_indexs=[0], X_cur_test.shape=(25000, 502)\n"
     ]
    },
    {
     "name": "stdout",
     "output_type": "stream",
     "text": [
      "('Test Accuracy of DeepExtratTrees = 52.780000 %', 'Layer :', 2)\n",
      "[[7159 5341]\n",
      " [6464 6036]]\n",
      "\n",
      "\n",
      "             precision    recall  f1-score   support\n",
      "\n",
      "          0       0.53      0.57      0.55     12500\n",
      "          1       0.53      0.48      0.51     12500\n",
      "\n",
      "avg / total       0.53      0.53      0.53     25000\n",
      "\n",
      "(' Time ', '65.818', ' seconds')\n"
     ]
    },
    {
     "name": "stderr",
     "output_type": "stream",
     "text": [
      "[ 2018-07-27 22:08:41,225][cascade_classifier.fit_transform] X_groups_train.shape=[(25000, 502)],y_train.shape=(25000,),X_groups_test.shape=[(25000, 502)],y_test.shape=(25000,)\n",
      "[ 2018-07-27 22:08:41,311][cascade_classifier.fit_transform] group_dims=[502]\n",
      "[ 2018-07-27 22:08:41,312][cascade_classifier.fit_transform] group_starts=[0]\n",
      "[ 2018-07-27 22:08:41,314][cascade_classifier.fit_transform] group_ends=[502]\n",
      "[ 2018-07-27 22:08:41,315][cascade_classifier.fit_transform] X_train.shape=(25000, 502),X_test.shape=(25000, 502)\n",
      "[ 2018-07-27 22:08:41,395][cascade_classifier.fit_transform] [layer=0] look_indexs=[0], X_cur_train.shape=(25000, 502), X_cur_test.shape=(25000, 502)\n",
      "[ 2018-07-27 22:08:49,378][kfold_wrapper.log_eval_metrics] Accuracy(layer_0 - estimator_0 - 10_folds.train_0.predict)=52.44%\n",
      "[ 2018-07-27 22:08:56,248][kfold_wrapper.log_eval_metrics] Accuracy(layer_0 - estimator_0 - 10_folds.train_1.predict)=54.16%\n",
      "[ 2018-07-27 22:09:03,555][kfold_wrapper.log_eval_metrics] Accuracy(layer_0 - estimator_0 - 10_folds.train_2.predict)=50.76%\n",
      "[ 2018-07-27 22:09:09,907][kfold_wrapper.log_eval_metrics] Accuracy(layer_0 - estimator_0 - 10_folds.train_3.predict)=52.96%\n",
      "[ 2018-07-27 22:09:16,261][kfold_wrapper.log_eval_metrics] Accuracy(layer_0 - estimator_0 - 10_folds.train_4.predict)=51.76%\n",
      "[ 2018-07-27 22:09:22,812][kfold_wrapper.log_eval_metrics] Accuracy(layer_0 - estimator_0 - 10_folds.train_5.predict)=50.80%\n",
      "[ 2018-07-27 22:09:29,298][kfold_wrapper.log_eval_metrics] Accuracy(layer_0 - estimator_0 - 10_folds.train_6.predict)=53.72%\n",
      "[ 2018-07-27 22:09:35,659][kfold_wrapper.log_eval_metrics] Accuracy(layer_0 - estimator_0 - 10_folds.train_7.predict)=52.56%\n",
      "[ 2018-07-27 22:09:42,196][kfold_wrapper.log_eval_metrics] Accuracy(layer_0 - estimator_0 - 10_folds.train_8.predict)=50.96%\n",
      "[ 2018-07-27 22:09:48,739][kfold_wrapper.log_eval_metrics] Accuracy(layer_0 - estimator_0 - 10_folds.train_9.predict)=53.28%\n",
      "[ 2018-07-27 22:09:49,084][kfold_wrapper.log_eval_metrics] Accuracy(layer_0 - estimator_0 - 10_folds.train_cv.predict)=52.34%\n",
      "[ 2018-07-27 22:09:49,085][kfold_wrapper.log_eval_metrics] Accuracy(layer_0 - estimator_0 - 10_folds.test.predict)=53.06%\n",
      "[ 2018-07-27 22:09:49,090][cascade_classifier.calc_accuracy] Accuracy(layer_0 - train.classifier_average)=52.34%\n",
      "[ 2018-07-27 22:09:49,091][cascade_classifier.calc_accuracy] Accuracy(layer_0 - test.classifier_average)=53.06%\n",
      "[ 2018-07-27 22:09:49,092][cascade_classifier.fit_transform] [Result][Reach Max Layer] opt_layer_num=1, accuracy_train=52.34%, accuracy_test=53.06%\n",
      "[ 2018-07-27 22:09:49,094][cascade_classifier.transform] X_groups_test.shape=[(25000, 502)]\n",
      "[ 2018-07-27 22:09:49,134][cascade_classifier.transform] group_dims=[502]\n",
      "[ 2018-07-27 22:09:49,135][cascade_classifier.transform] X_test.shape=(25000, 502)\n",
      "[ 2018-07-27 22:09:49,174][cascade_classifier.transform] [layer=0] look_indexs=[0], X_cur_test.shape=(25000, 502)\n"
     ]
    },
    {
     "name": "stdout",
     "output_type": "stream",
     "text": [
      "('Test Accuracy of DeepExtratTrees = 53.080000 %', 'Layer :', 3)\n",
      "[[7154 5346]\n",
      " [6384 6116]]\n",
      "\n",
      "\n",
      "             precision    recall  f1-score   support\n",
      "\n",
      "          0       0.53      0.57      0.55     12500\n",
      "          1       0.53      0.49      0.51     12500\n",
      "\n",
      "avg / total       0.53      0.53      0.53     25000\n",
      "\n",
      "(' Time ', '68.099', ' seconds')\n"
     ]
    },
    {
     "name": "stderr",
     "output_type": "stream",
     "text": [
      "[ 2018-07-27 22:09:53,078][cascade_classifier.fit_transform] X_groups_train.shape=[(25000, 502)],y_train.shape=(25000,),X_groups_test.shape=[(25000, 502)],y_test.shape=(25000,)\n",
      "[ 2018-07-27 22:09:53,154][cascade_classifier.fit_transform] group_dims=[502]\n",
      "[ 2018-07-27 22:09:53,155][cascade_classifier.fit_transform] group_starts=[0]\n",
      "[ 2018-07-27 22:09:53,156][cascade_classifier.fit_transform] group_ends=[502]\n",
      "[ 2018-07-27 22:09:53,156][cascade_classifier.fit_transform] X_train.shape=(25000, 502),X_test.shape=(25000, 502)\n",
      "[ 2018-07-27 22:09:53,233][cascade_classifier.fit_transform] [layer=0] look_indexs=[0], X_cur_train.shape=(25000, 502), X_cur_test.shape=(25000, 502)\n",
      "[ 2018-07-27 22:10:00,260][kfold_wrapper.log_eval_metrics] Accuracy(layer_0 - estimator_0 - 10_folds.train_0.predict)=53.44%\n",
      "[ 2018-07-27 22:10:06,689][kfold_wrapper.log_eval_metrics] Accuracy(layer_0 - estimator_0 - 10_folds.train_1.predict)=53.84%\n",
      "[ 2018-07-27 22:10:13,048][kfold_wrapper.log_eval_metrics] Accuracy(layer_0 - estimator_0 - 10_folds.train_2.predict)=51.80%\n",
      "[ 2018-07-27 22:10:19,419][kfold_wrapper.log_eval_metrics] Accuracy(layer_0 - estimator_0 - 10_folds.train_3.predict)=51.24%\n",
      "[ 2018-07-27 22:10:25,913][kfold_wrapper.log_eval_metrics] Accuracy(layer_0 - estimator_0 - 10_folds.train_4.predict)=51.92%\n",
      "[ 2018-07-27 22:10:32,237][kfold_wrapper.log_eval_metrics] Accuracy(layer_0 - estimator_0 - 10_folds.train_5.predict)=50.92%\n",
      "[ 2018-07-27 22:10:38,612][kfold_wrapper.log_eval_metrics] Accuracy(layer_0 - estimator_0 - 10_folds.train_6.predict)=53.84%\n",
      "[ 2018-07-27 22:10:44,946][kfold_wrapper.log_eval_metrics] Accuracy(layer_0 - estimator_0 - 10_folds.train_7.predict)=51.00%\n",
      "[ 2018-07-27 22:10:51,447][kfold_wrapper.log_eval_metrics] Accuracy(layer_0 - estimator_0 - 10_folds.train_8.predict)=51.52%\n",
      "[ 2018-07-27 22:10:58,634][kfold_wrapper.log_eval_metrics] Accuracy(layer_0 - estimator_0 - 10_folds.train_9.predict)=51.96%\n",
      "[ 2018-07-27 22:10:59,001][kfold_wrapper.log_eval_metrics] Accuracy(layer_0 - estimator_0 - 10_folds.train_cv.predict)=52.15%\n",
      "[ 2018-07-27 22:10:59,002][kfold_wrapper.log_eval_metrics] Accuracy(layer_0 - estimator_0 - 10_folds.test.predict)=53.06%\n",
      "[ 2018-07-27 22:10:59,010][cascade_classifier.calc_accuracy] Accuracy(layer_0 - train.classifier_average)=52.15%\n",
      "[ 2018-07-27 22:10:59,012][cascade_classifier.calc_accuracy] Accuracy(layer_0 - test.classifier_average)=53.06%\n",
      "[ 2018-07-27 22:10:59,012][cascade_classifier.fit_transform] [Result][Reach Max Layer] opt_layer_num=1, accuracy_train=52.15%, accuracy_test=53.06%\n",
      "[ 2018-07-27 22:10:59,015][cascade_classifier.transform] X_groups_test.shape=[(25000, 502)]\n",
      "[ 2018-07-27 22:10:59,053][cascade_classifier.transform] group_dims=[502]\n",
      "[ 2018-07-27 22:10:59,054][cascade_classifier.transform] X_test.shape=(25000, 502)\n",
      "[ 2018-07-27 22:10:59,093][cascade_classifier.transform] [layer=0] look_indexs=[0], X_cur_test.shape=(25000, 502)\n"
     ]
    },
    {
     "name": "stdout",
     "output_type": "stream",
     "text": [
      "('Test Accuracy of DeepExtratTrees = 53.072000 %', 'Layer :', 4)\n",
      "[[7129 5371]\n",
      " [6361 6139]]\n",
      "\n",
      "\n",
      "             precision    recall  f1-score   support\n",
      "\n",
      "          0       0.53      0.57      0.55     12500\n",
      "          1       0.53      0.49      0.51     12500\n",
      "\n",
      "avg / total       0.53      0.53      0.53     25000\n",
      "\n",
      "(' Time ', '66.155', ' seconds')\n"
     ]
    },
    {
     "name": "stderr",
     "output_type": "stream",
     "text": [
      "[ 2018-07-27 22:11:02,953][cascade_classifier.fit_transform] X_groups_train.shape=[(25000, 502)],y_train.shape=(25000,),X_groups_test.shape=[(25000, 502)],y_test.shape=(25000,)\n",
      "[ 2018-07-27 22:11:03,030][cascade_classifier.fit_transform] group_dims=[502]\n",
      "[ 2018-07-27 22:11:03,031][cascade_classifier.fit_transform] group_starts=[0]\n",
      "[ 2018-07-27 22:11:03,032][cascade_classifier.fit_transform] group_ends=[502]\n",
      "[ 2018-07-27 22:11:03,032][cascade_classifier.fit_transform] X_train.shape=(25000, 502),X_test.shape=(25000, 502)\n",
      "[ 2018-07-27 22:11:03,110][cascade_classifier.fit_transform] [layer=0] look_indexs=[0], X_cur_train.shape=(25000, 502), X_cur_test.shape=(25000, 502)\n",
      "[ 2018-07-27 22:11:09,221][kfold_wrapper.log_eval_metrics] Accuracy(layer_0 - estimator_0 - 10_folds.train_0.predict)=52.08%\n",
      "[ 2018-07-27 22:11:15,687][kfold_wrapper.log_eval_metrics] Accuracy(layer_0 - estimator_0 - 10_folds.train_1.predict)=51.40%\n",
      "[ 2018-07-27 22:11:22,158][kfold_wrapper.log_eval_metrics] Accuracy(layer_0 - estimator_0 - 10_folds.train_2.predict)=51.00%\n",
      "[ 2018-07-27 22:11:28,654][kfold_wrapper.log_eval_metrics] Accuracy(layer_0 - estimator_0 - 10_folds.train_3.predict)=52.08%\n",
      "[ 2018-07-27 22:11:34,886][kfold_wrapper.log_eval_metrics] Accuracy(layer_0 - estimator_0 - 10_folds.train_4.predict)=53.76%\n",
      "[ 2018-07-27 22:11:41,246][kfold_wrapper.log_eval_metrics] Accuracy(layer_0 - estimator_0 - 10_folds.train_5.predict)=51.04%\n",
      "[ 2018-07-27 22:11:49,550][kfold_wrapper.log_eval_metrics] Accuracy(layer_0 - estimator_0 - 10_folds.train_6.predict)=50.92%\n",
      "[ 2018-07-27 22:11:56,294][kfold_wrapper.log_eval_metrics] Accuracy(layer_0 - estimator_0 - 10_folds.train_7.predict)=52.12%\n",
      "[ 2018-07-27 22:12:03,480][kfold_wrapper.log_eval_metrics] Accuracy(layer_0 - estimator_0 - 10_folds.train_8.predict)=50.84%\n",
      "[ 2018-07-27 22:12:09,923][kfold_wrapper.log_eval_metrics] Accuracy(layer_0 - estimator_0 - 10_folds.train_9.predict)=51.72%\n",
      "[ 2018-07-27 22:12:10,313][kfold_wrapper.log_eval_metrics] Accuracy(layer_0 - estimator_0 - 10_folds.train_cv.predict)=51.70%\n",
      "[ 2018-07-27 22:12:10,314][kfold_wrapper.log_eval_metrics] Accuracy(layer_0 - estimator_0 - 10_folds.test.predict)=52.80%\n",
      "[ 2018-07-27 22:12:10,323][cascade_classifier.calc_accuracy] Accuracy(layer_0 - train.classifier_average)=51.70%\n",
      "[ 2018-07-27 22:12:10,324][cascade_classifier.calc_accuracy] Accuracy(layer_0 - test.classifier_average)=52.80%\n",
      "[ 2018-07-27 22:12:10,325][cascade_classifier.fit_transform] [Result][Reach Max Layer] opt_layer_num=1, accuracy_train=51.70%, accuracy_test=52.80%\n",
      "[ 2018-07-27 22:12:10,327][cascade_classifier.transform] X_groups_test.shape=[(25000, 502)]\n",
      "[ 2018-07-27 22:12:10,366][cascade_classifier.transform] group_dims=[502]\n",
      "[ 2018-07-27 22:12:10,367][cascade_classifier.transform] X_test.shape=(25000, 502)\n",
      "[ 2018-07-27 22:12:10,406][cascade_classifier.transform] [layer=0] look_indexs=[0], X_cur_test.shape=(25000, 502)\n"
     ]
    },
    {
     "name": "stdout",
     "output_type": "stream",
     "text": [
      "('Test Accuracy of DeepExtratTrees = 52.796000 %', 'Layer :', 5)\n",
      "[[7048 5452]\n",
      " [6349 6151]]\n",
      "\n",
      "\n",
      "             precision    recall  f1-score   support\n",
      "\n",
      "          0       0.53      0.56      0.54     12500\n",
      "          1       0.53      0.49      0.51     12500\n",
      "\n",
      "avg / total       0.53      0.53      0.53     25000\n",
      "\n",
      "(' Time ', '67.596', ' seconds')\n"
     ]
    },
    {
     "name": "stderr",
     "output_type": "stream",
     "text": [
      "[ 2018-07-27 22:12:14,300][cascade_classifier.fit_transform] X_groups_train.shape=[(25000, 502)],y_train.shape=(25000,),X_groups_test.shape=[(25000, 502)],y_test.shape=(25000,)\n",
      "[ 2018-07-27 22:12:14,376][cascade_classifier.fit_transform] group_dims=[502]\n",
      "[ 2018-07-27 22:12:14,377][cascade_classifier.fit_transform] group_starts=[0]\n",
      "[ 2018-07-27 22:12:14,378][cascade_classifier.fit_transform] group_ends=[502]\n",
      "[ 2018-07-27 22:12:14,379][cascade_classifier.fit_transform] X_train.shape=(25000, 502),X_test.shape=(25000, 502)\n",
      "[ 2018-07-27 22:12:14,455][cascade_classifier.fit_transform] [layer=0] look_indexs=[0], X_cur_train.shape=(25000, 502), X_cur_test.shape=(25000, 502)\n",
      "[ 2018-07-27 22:12:20,602][kfold_wrapper.log_eval_metrics] Accuracy(layer_0 - estimator_0 - 10_folds.train_0.predict)=53.48%\n",
      "[ 2018-07-27 22:12:27,142][kfold_wrapper.log_eval_metrics] Accuracy(layer_0 - estimator_0 - 10_folds.train_1.predict)=51.56%\n",
      "[ 2018-07-27 22:12:33,795][kfold_wrapper.log_eval_metrics] Accuracy(layer_0 - estimator_0 - 10_folds.train_2.predict)=50.68%\n",
      "[ 2018-07-27 22:12:40,261][kfold_wrapper.log_eval_metrics] Accuracy(layer_0 - estimator_0 - 10_folds.train_3.predict)=50.92%\n",
      "[ 2018-07-27 22:12:46,926][kfold_wrapper.log_eval_metrics] Accuracy(layer_0 - estimator_0 - 10_folds.train_4.predict)=53.20%\n",
      "[ 2018-07-27 22:12:53,760][kfold_wrapper.log_eval_metrics] Accuracy(layer_0 - estimator_0 - 10_folds.train_5.predict)=51.08%\n",
      "[ 2018-07-27 22:13:01,241][kfold_wrapper.log_eval_metrics] Accuracy(layer_0 - estimator_0 - 10_folds.train_6.predict)=51.92%\n",
      "[ 2018-07-27 22:13:07,781][kfold_wrapper.log_eval_metrics] Accuracy(layer_0 - estimator_0 - 10_folds.train_7.predict)=52.76%\n",
      "[ 2018-07-27 22:13:14,220][kfold_wrapper.log_eval_metrics] Accuracy(layer_0 - estimator_0 - 10_folds.train_8.predict)=50.24%\n",
      "[ 2018-07-27 22:13:20,875][kfold_wrapper.log_eval_metrics] Accuracy(layer_0 - estimator_0 - 10_folds.train_9.predict)=53.92%\n",
      "[ 2018-07-27 22:13:21,222][kfold_wrapper.log_eval_metrics] Accuracy(layer_0 - estimator_0 - 10_folds.train_cv.predict)=51.98%\n",
      "[ 2018-07-27 22:13:21,224][kfold_wrapper.log_eval_metrics] Accuracy(layer_0 - estimator_0 - 10_folds.test.predict)=52.97%\n",
      "[ 2018-07-27 22:13:21,231][cascade_classifier.calc_accuracy] Accuracy(layer_0 - train.classifier_average)=51.98%\n",
      "[ 2018-07-27 22:13:21,232][cascade_classifier.calc_accuracy] Accuracy(layer_0 - test.classifier_average)=52.97%\n",
      "[ 2018-07-27 22:13:21,233][cascade_classifier.fit_transform] [Result][Reach Max Layer] opt_layer_num=1, accuracy_train=51.98%, accuracy_test=52.97%\n",
      "[ 2018-07-27 22:13:21,235][cascade_classifier.transform] X_groups_test.shape=[(25000, 502)]\n",
      "[ 2018-07-27 22:13:21,273][cascade_classifier.transform] group_dims=[502]\n",
      "[ 2018-07-27 22:13:21,274][cascade_classifier.transform] X_test.shape=(25000, 502)\n",
      "[ 2018-07-27 22:13:21,313][cascade_classifier.transform] [layer=0] look_indexs=[0], X_cur_test.shape=(25000, 502)\n"
     ]
    },
    {
     "name": "stdout",
     "output_type": "stream",
     "text": [
      "('Test Accuracy of DeepExtratTrees = 52.944000 %', 'Layer :', 6)\n",
      "[[7258 5242]\n",
      " [6522 5978]]\n",
      "\n",
      "\n",
      "             precision    recall  f1-score   support\n",
      "\n",
      "          0       0.53      0.58      0.55     12500\n",
      "          1       0.53      0.48      0.50     12500\n",
      "\n",
      "avg / total       0.53      0.53      0.53     25000\n",
      "\n",
      "(' Time ', '67.155', ' seconds')\n"
     ]
    },
    {
     "name": "stderr",
     "output_type": "stream",
     "text": [
      "[ 2018-07-27 22:13:25,121][cascade_classifier.fit_transform] X_groups_train.shape=[(25000, 502)],y_train.shape=(25000,),X_groups_test.shape=[(25000, 502)],y_test.shape=(25000,)\n",
      "[ 2018-07-27 22:13:25,199][cascade_classifier.fit_transform] group_dims=[502]\n",
      "[ 2018-07-27 22:13:25,200][cascade_classifier.fit_transform] group_starts=[0]\n",
      "[ 2018-07-27 22:13:25,201][cascade_classifier.fit_transform] group_ends=[502]\n",
      "[ 2018-07-27 22:13:25,201][cascade_classifier.fit_transform] X_train.shape=(25000, 502),X_test.shape=(25000, 502)\n",
      "[ 2018-07-27 22:13:25,278][cascade_classifier.fit_transform] [layer=0] look_indexs=[0], X_cur_train.shape=(25000, 502), X_cur_test.shape=(25000, 502)\n",
      "[ 2018-07-27 22:13:31,798][kfold_wrapper.log_eval_metrics] Accuracy(layer_0 - estimator_0 - 10_folds.train_0.predict)=53.04%\n",
      "[ 2018-07-27 22:13:38,356][kfold_wrapper.log_eval_metrics] Accuracy(layer_0 - estimator_0 - 10_folds.train_1.predict)=50.40%\n",
      "[ 2018-07-27 22:13:45,194][kfold_wrapper.log_eval_metrics] Accuracy(layer_0 - estimator_0 - 10_folds.train_2.predict)=51.40%\n",
      "[ 2018-07-27 22:13:51,749][kfold_wrapper.log_eval_metrics] Accuracy(layer_0 - estimator_0 - 10_folds.train_3.predict)=52.12%\n",
      "[ 2018-07-27 22:13:58,900][kfold_wrapper.log_eval_metrics] Accuracy(layer_0 - estimator_0 - 10_folds.train_4.predict)=52.08%\n",
      "[ 2018-07-27 22:14:05,944][kfold_wrapper.log_eval_metrics] Accuracy(layer_0 - estimator_0 - 10_folds.train_5.predict)=50.96%\n",
      "[ 2018-07-27 22:14:12,531][kfold_wrapper.log_eval_metrics] Accuracy(layer_0 - estimator_0 - 10_folds.train_6.predict)=52.96%\n",
      "[ 2018-07-27 22:14:19,108][kfold_wrapper.log_eval_metrics] Accuracy(layer_0 - estimator_0 - 10_folds.train_7.predict)=52.16%\n",
      "[ 2018-07-27 22:14:25,647][kfold_wrapper.log_eval_metrics] Accuracy(layer_0 - estimator_0 - 10_folds.train_8.predict)=52.48%\n",
      "[ 2018-07-27 22:14:32,399][kfold_wrapper.log_eval_metrics] Accuracy(layer_0 - estimator_0 - 10_folds.train_9.predict)=55.56%\n",
      "[ 2018-07-27 22:14:32,748][kfold_wrapper.log_eval_metrics] Accuracy(layer_0 - estimator_0 - 10_folds.train_cv.predict)=52.32%\n",
      "[ 2018-07-27 22:14:32,749][kfold_wrapper.log_eval_metrics] Accuracy(layer_0 - estimator_0 - 10_folds.test.predict)=52.86%\n",
      "[ 2018-07-27 22:14:32,754][cascade_classifier.calc_accuracy] Accuracy(layer_0 - train.classifier_average)=52.32%\n",
      "[ 2018-07-27 22:14:32,756][cascade_classifier.calc_accuracy] Accuracy(layer_0 - test.classifier_average)=52.86%\n",
      "[ 2018-07-27 22:14:32,756][cascade_classifier.fit_transform] [Result][Reach Max Layer] opt_layer_num=1, accuracy_train=52.32%, accuracy_test=52.86%\n",
      "[ 2018-07-27 22:14:32,759][cascade_classifier.transform] X_groups_test.shape=[(25000, 502)]\n",
      "[ 2018-07-27 22:14:32,797][cascade_classifier.transform] group_dims=[502]\n",
      "[ 2018-07-27 22:14:32,798][cascade_classifier.transform] X_test.shape=(25000, 502)\n",
      "[ 2018-07-27 22:14:32,837][cascade_classifier.transform] [layer=0] look_indexs=[0], X_cur_test.shape=(25000, 502)\n"
     ]
    },
    {
     "name": "stdout",
     "output_type": "stream",
     "text": [
      "('Test Accuracy of DeepExtratTrees = 52.840000 %', 'Layer :', 7)\n",
      "[[7054 5446]\n",
      " [6344 6156]]\n",
      "\n",
      "\n",
      "             precision    recall  f1-score   support\n",
      "\n",
      "          0       0.53      0.56      0.54     12500\n",
      "          1       0.53      0.49      0.51     12500\n",
      "\n",
      "avg / total       0.53      0.53      0.53     25000\n",
      "\n",
      "(' Time ', '67.86', ' seconds')\n"
     ]
    },
    {
     "name": "stderr",
     "output_type": "stream",
     "text": [
      "[ 2018-07-27 22:14:36,690][cascade_classifier.fit_transform] X_groups_train.shape=[(25000, 502)],y_train.shape=(25000,),X_groups_test.shape=[(25000, 502)],y_test.shape=(25000,)\n",
      "[ 2018-07-27 22:14:36,768][cascade_classifier.fit_transform] group_dims=[502]\n",
      "[ 2018-07-27 22:14:36,769][cascade_classifier.fit_transform] group_starts=[0]\n",
      "[ 2018-07-27 22:14:36,770][cascade_classifier.fit_transform] group_ends=[502]\n",
      "[ 2018-07-27 22:14:36,770][cascade_classifier.fit_transform] X_train.shape=(25000, 502),X_test.shape=(25000, 502)\n",
      "[ 2018-07-27 22:14:36,848][cascade_classifier.fit_transform] [layer=0] look_indexs=[0], X_cur_train.shape=(25000, 502), X_cur_test.shape=(25000, 502)\n",
      "[ 2018-07-27 22:14:43,479][kfold_wrapper.log_eval_metrics] Accuracy(layer_0 - estimator_0 - 10_folds.train_0.predict)=51.72%\n",
      "[ 2018-07-27 22:14:51,684][kfold_wrapper.log_eval_metrics] Accuracy(layer_0 - estimator_0 - 10_folds.train_1.predict)=51.88%\n",
      "[ 2018-07-27 22:14:59,109][kfold_wrapper.log_eval_metrics] Accuracy(layer_0 - estimator_0 - 10_folds.train_2.predict)=50.24%\n",
      "[ 2018-07-27 22:15:06,263][kfold_wrapper.log_eval_metrics] Accuracy(layer_0 - estimator_0 - 10_folds.train_3.predict)=49.72%\n",
      "[ 2018-07-27 22:15:12,793][kfold_wrapper.log_eval_metrics] Accuracy(layer_0 - estimator_0 - 10_folds.train_4.predict)=52.24%\n",
      "[ 2018-07-27 22:15:19,248][kfold_wrapper.log_eval_metrics] Accuracy(layer_0 - estimator_0 - 10_folds.train_5.predict)=52.12%\n",
      "[ 2018-07-27 22:15:25,797][kfold_wrapper.log_eval_metrics] Accuracy(layer_0 - estimator_0 - 10_folds.train_6.predict)=53.64%\n",
      "[ 2018-07-27 22:15:32,440][kfold_wrapper.log_eval_metrics] Accuracy(layer_0 - estimator_0 - 10_folds.train_7.predict)=53.04%\n",
      "[ 2018-07-27 22:15:39,024][kfold_wrapper.log_eval_metrics] Accuracy(layer_0 - estimator_0 - 10_folds.train_8.predict)=50.56%\n",
      "[ 2018-07-27 22:15:45,798][kfold_wrapper.log_eval_metrics] Accuracy(layer_0 - estimator_0 - 10_folds.train_9.predict)=53.76%\n",
      "[ 2018-07-27 22:15:46,184][kfold_wrapper.log_eval_metrics] Accuracy(layer_0 - estimator_0 - 10_folds.train_cv.predict)=51.89%\n",
      "[ 2018-07-27 22:15:46,185][kfold_wrapper.log_eval_metrics] Accuracy(layer_0 - estimator_0 - 10_folds.test.predict)=53.12%\n",
      "[ 2018-07-27 22:15:46,193][cascade_classifier.calc_accuracy] Accuracy(layer_0 - train.classifier_average)=51.89%\n",
      "[ 2018-07-27 22:15:46,195][cascade_classifier.calc_accuracy] Accuracy(layer_0 - test.classifier_average)=53.12%\n",
      "[ 2018-07-27 22:15:46,196][cascade_classifier.fit_transform] [Result][Reach Max Layer] opt_layer_num=1, accuracy_train=51.89%, accuracy_test=53.12%\n",
      "[ 2018-07-27 22:15:46,198][cascade_classifier.transform] X_groups_test.shape=[(25000, 502)]\n",
      "[ 2018-07-27 22:15:46,238][cascade_classifier.transform] group_dims=[502]\n",
      "[ 2018-07-27 22:15:46,239][cascade_classifier.transform] X_test.shape=(25000, 502)\n",
      "[ 2018-07-27 22:15:46,278][cascade_classifier.transform] [layer=0] look_indexs=[0], X_cur_test.shape=(25000, 502)\n"
     ]
    },
    {
     "name": "stdout",
     "output_type": "stream",
     "text": [
      "('Test Accuracy of DeepExtratTrees = 53.104000 %', 'Layer :', 8)\n",
      "[[7143 5357]\n",
      " [6367 6133]]\n",
      "\n",
      "\n",
      "             precision    recall  f1-score   support\n",
      "\n",
      "          0       0.53      0.57      0.55     12500\n",
      "          1       0.53      0.49      0.51     12500\n",
      "\n",
      "avg / total       0.53      0.53      0.53     25000\n",
      "\n",
      "(' Time ', '69.73', ' seconds')\n"
     ]
    },
    {
     "name": "stderr",
     "output_type": "stream",
     "text": [
      "[ 2018-07-27 22:15:49,997][cascade_classifier.fit_transform] X_groups_train.shape=[(25000, 502)],y_train.shape=(25000,),X_groups_test.shape=[(25000, 502)],y_test.shape=(25000,)\n",
      "[ 2018-07-27 22:15:50,072][cascade_classifier.fit_transform] group_dims=[502]\n",
      "[ 2018-07-27 22:15:50,073][cascade_classifier.fit_transform] group_starts=[0]\n",
      "[ 2018-07-27 22:15:50,074][cascade_classifier.fit_transform] group_ends=[502]\n",
      "[ 2018-07-27 22:15:50,074][cascade_classifier.fit_transform] X_train.shape=(25000, 502),X_test.shape=(25000, 502)\n",
      "[ 2018-07-27 22:15:50,151][cascade_classifier.fit_transform] [layer=0] look_indexs=[0], X_cur_train.shape=(25000, 502), X_cur_test.shape=(25000, 502)\n",
      "[ 2018-07-27 22:15:57,085][kfold_wrapper.log_eval_metrics] Accuracy(layer_0 - estimator_0 - 10_folds.train_0.predict)=52.24%\n",
      "[ 2018-07-27 22:16:04,525][kfold_wrapper.log_eval_metrics] Accuracy(layer_0 - estimator_0 - 10_folds.train_1.predict)=53.16%\n",
      "[ 2018-07-27 22:16:11,287][kfold_wrapper.log_eval_metrics] Accuracy(layer_0 - estimator_0 - 10_folds.train_2.predict)=51.64%\n",
      "[ 2018-07-27 22:16:17,854][kfold_wrapper.log_eval_metrics] Accuracy(layer_0 - estimator_0 - 10_folds.train_3.predict)=50.04%\n",
      "[ 2018-07-27 22:16:24,380][kfold_wrapper.log_eval_metrics] Accuracy(layer_0 - estimator_0 - 10_folds.train_4.predict)=53.24%\n",
      "[ 2018-07-27 22:16:30,818][kfold_wrapper.log_eval_metrics] Accuracy(layer_0 - estimator_0 - 10_folds.train_5.predict)=52.88%\n",
      "[ 2018-07-27 22:16:37,270][kfold_wrapper.log_eval_metrics] Accuracy(layer_0 - estimator_0 - 10_folds.train_6.predict)=52.80%\n",
      "[ 2018-07-27 22:16:43,806][kfold_wrapper.log_eval_metrics] Accuracy(layer_0 - estimator_0 - 10_folds.train_7.predict)=52.28%\n",
      "[ 2018-07-27 22:16:50,371][kfold_wrapper.log_eval_metrics] Accuracy(layer_0 - estimator_0 - 10_folds.train_8.predict)=50.08%\n",
      "[ 2018-07-27 22:16:57,433][kfold_wrapper.log_eval_metrics] Accuracy(layer_0 - estimator_0 - 10_folds.train_9.predict)=53.40%\n",
      "[ 2018-07-27 22:16:57,914][kfold_wrapper.log_eval_metrics] Accuracy(layer_0 - estimator_0 - 10_folds.train_cv.predict)=52.18%\n",
      "[ 2018-07-27 22:16:57,916][kfold_wrapper.log_eval_metrics] Accuracy(layer_0 - estimator_0 - 10_folds.test.predict)=52.70%\n",
      "[ 2018-07-27 22:16:57,925][cascade_classifier.calc_accuracy] Accuracy(layer_0 - train.classifier_average)=52.18%\n",
      "[ 2018-07-27 22:16:57,926][cascade_classifier.calc_accuracy] Accuracy(layer_0 - test.classifier_average)=52.70%\n",
      "[ 2018-07-27 22:16:57,927][cascade_classifier.fit_transform] [Result][Reach Max Layer] opt_layer_num=1, accuracy_train=52.18%, accuracy_test=52.70%\n",
      "[ 2018-07-27 22:16:57,929][cascade_classifier.transform] X_groups_test.shape=[(25000, 502)]\n",
      "[ 2018-07-27 22:16:57,968][cascade_classifier.transform] group_dims=[502]\n",
      "[ 2018-07-27 22:16:57,969][cascade_classifier.transform] X_test.shape=(25000, 502)\n",
      "[ 2018-07-27 22:16:58,008][cascade_classifier.transform] [layer=0] look_indexs=[0], X_cur_test.shape=(25000, 502)\n"
     ]
    },
    {
     "name": "stdout",
     "output_type": "stream",
     "text": [
      "('Test Accuracy of DeepExtratTrees = 52.684000 %', 'Layer :', 9)\n",
      "[[7160 5340]\n",
      " [6489 6011]]\n",
      "\n",
      "\n",
      "             precision    recall  f1-score   support\n",
      "\n",
      "          0       0.52      0.57      0.55     12500\n",
      "          1       0.53      0.48      0.50     12500\n",
      "\n",
      "avg / total       0.53      0.53      0.53     25000\n",
      "\n",
      "(' Time ', '68.153', ' seconds')\n"
     ]
    },
    {
     "name": "stderr",
     "output_type": "stream",
     "text": [
      "[ 2018-07-27 22:17:02,184][cascade_classifier.fit_transform] X_groups_train.shape=[(25000, 502)],y_train.shape=(25000,),X_groups_test.shape=[(25000, 502)],y_test.shape=(25000,)\n",
      "[ 2018-07-27 22:17:02,260][cascade_classifier.fit_transform] group_dims=[502]\n",
      "[ 2018-07-27 22:17:02,261][cascade_classifier.fit_transform] group_starts=[0]\n",
      "[ 2018-07-27 22:17:02,262][cascade_classifier.fit_transform] group_ends=[502]\n",
      "[ 2018-07-27 22:17:02,263][cascade_classifier.fit_transform] X_train.shape=(25000, 502),X_test.shape=(25000, 502)\n",
      "[ 2018-07-27 22:17:02,340][cascade_classifier.fit_transform] [layer=0] look_indexs=[0], X_cur_train.shape=(25000, 502), X_cur_test.shape=(25000, 502)\n",
      "[ 2018-07-27 22:17:08,660][kfold_wrapper.log_eval_metrics] Accuracy(layer_0 - estimator_0 - 10_folds.train_0.predict)=52.72%\n",
      "[ 2018-07-27 22:17:15,295][kfold_wrapper.log_eval_metrics] Accuracy(layer_0 - estimator_0 - 10_folds.train_1.predict)=52.08%\n",
      "[ 2018-07-27 22:17:21,836][kfold_wrapper.log_eval_metrics] Accuracy(layer_0 - estimator_0 - 10_folds.train_2.predict)=51.64%\n",
      "[ 2018-07-27 22:17:28,288][kfold_wrapper.log_eval_metrics] Accuracy(layer_0 - estimator_0 - 10_folds.train_3.predict)=50.24%\n",
      "[ 2018-07-27 22:17:34,751][kfold_wrapper.log_eval_metrics] Accuracy(layer_0 - estimator_0 - 10_folds.train_4.predict)=52.08%\n",
      "[ 2018-07-27 22:17:41,443][kfold_wrapper.log_eval_metrics] Accuracy(layer_0 - estimator_0 - 10_folds.train_5.predict)=51.16%\n",
      "[ 2018-07-27 22:17:49,960][kfold_wrapper.log_eval_metrics] Accuracy(layer_0 - estimator_0 - 10_folds.train_6.predict)=53.08%\n",
      "[ 2018-07-27 22:17:56,875][kfold_wrapper.log_eval_metrics] Accuracy(layer_0 - estimator_0 - 10_folds.train_7.predict)=51.56%\n",
      "[ 2018-07-27 22:18:04,435][kfold_wrapper.log_eval_metrics] Accuracy(layer_0 - estimator_0 - 10_folds.train_8.predict)=49.76%\n",
      "[ 2018-07-27 22:18:11,086][kfold_wrapper.log_eval_metrics] Accuracy(layer_0 - estimator_0 - 10_folds.train_9.predict)=51.60%\n",
      "[ 2018-07-27 22:18:11,441][kfold_wrapper.log_eval_metrics] Accuracy(layer_0 - estimator_0 - 10_folds.train_cv.predict)=51.59%\n",
      "[ 2018-07-27 22:18:11,442][kfold_wrapper.log_eval_metrics] Accuracy(layer_0 - estimator_0 - 10_folds.test.predict)=52.67%\n",
      "[ 2018-07-27 22:18:11,448][cascade_classifier.calc_accuracy] Accuracy(layer_0 - train.classifier_average)=51.59%\n",
      "[ 2018-07-27 22:18:11,449][cascade_classifier.calc_accuracy] Accuracy(layer_0 - test.classifier_average)=52.67%\n",
      "[ 2018-07-27 22:18:11,450][cascade_classifier.fit_transform] [Result][Reach Max Layer] opt_layer_num=1, accuracy_train=51.59%, accuracy_test=52.67%\n",
      "[ 2018-07-27 22:18:11,452][cascade_classifier.transform] X_groups_test.shape=[(25000, 502)]\n",
      "[ 2018-07-27 22:18:11,491][cascade_classifier.transform] group_dims=[502]\n",
      "[ 2018-07-27 22:18:11,492][cascade_classifier.transform] X_test.shape=(25000, 502)\n",
      "[ 2018-07-27 22:18:11,531][cascade_classifier.transform] [layer=0] look_indexs=[0], X_cur_test.shape=(25000, 502)\n"
     ]
    },
    {
     "name": "stdout",
     "output_type": "stream",
     "text": [
      "('Test Accuracy of DeepExtratTrees = 52.716000 %', 'Layer :', 10)\n",
      "[[7142 5358]\n",
      " [6463 6037]]\n",
      "\n",
      "\n",
      "             precision    recall  f1-score   support\n",
      "\n",
      "          0       0.52      0.57      0.55     12500\n",
      "          1       0.53      0.48      0.51     12500\n",
      "\n",
      "avg / total       0.53      0.53      0.53     25000\n",
      "\n",
      "(' Time ', '69.496', ' seconds')\n"
     ]
    },
    {
     "name": "stderr",
     "output_type": "stream",
     "text": [
      "[ 2018-07-27 22:18:15,375][cascade_classifier.fit_transform] X_groups_train.shape=[(25000, 502)],y_train.shape=(25000,),X_groups_test.shape=[(25000, 502)],y_test.shape=(25000,)\n",
      "[ 2018-07-27 22:18:15,453][cascade_classifier.fit_transform] group_dims=[502]\n",
      "[ 2018-07-27 22:18:15,454][cascade_classifier.fit_transform] group_starts=[0]\n",
      "[ 2018-07-27 22:18:15,454][cascade_classifier.fit_transform] group_ends=[502]\n",
      "[ 2018-07-27 22:18:15,455][cascade_classifier.fit_transform] X_train.shape=(25000, 502),X_test.shape=(25000, 502)\n",
      "[ 2018-07-27 22:18:15,533][cascade_classifier.fit_transform] [layer=0] look_indexs=[0], X_cur_train.shape=(25000, 502), X_cur_test.shape=(25000, 502)\n",
      "[ 2018-07-27 22:18:21,848][kfold_wrapper.log_eval_metrics] Accuracy(layer_0 - estimator_0 - 10_folds.train_0.predict)=52.80%\n",
      "[ 2018-07-27 22:18:28,389][kfold_wrapper.log_eval_metrics] Accuracy(layer_0 - estimator_0 - 10_folds.train_1.predict)=52.16%\n",
      "[ 2018-07-27 22:18:34,823][kfold_wrapper.log_eval_metrics] Accuracy(layer_0 - estimator_0 - 10_folds.train_2.predict)=50.84%\n",
      "[ 2018-07-27 22:18:41,523][kfold_wrapper.log_eval_metrics] Accuracy(layer_0 - estimator_0 - 10_folds.train_3.predict)=49.76%\n",
      "[ 2018-07-27 22:18:47,875][kfold_wrapper.log_eval_metrics] Accuracy(layer_0 - estimator_0 - 10_folds.train_4.predict)=52.00%\n",
      "[ 2018-07-27 22:18:54,546][kfold_wrapper.log_eval_metrics] Accuracy(layer_0 - estimator_0 - 10_folds.train_5.predict)=52.28%\n",
      "[ 2018-07-27 22:19:01,979][kfold_wrapper.log_eval_metrics] Accuracy(layer_0 - estimator_0 - 10_folds.train_6.predict)=52.84%\n",
      "[ 2018-07-27 22:19:08,713][kfold_wrapper.log_eval_metrics] Accuracy(layer_0 - estimator_0 - 10_folds.train_7.predict)=53.04%\n",
      "[ 2018-07-27 22:19:15,486][kfold_wrapper.log_eval_metrics] Accuracy(layer_0 - estimator_0 - 10_folds.train_8.predict)=53.00%\n",
      "[ 2018-07-27 22:19:22,196][kfold_wrapper.log_eval_metrics] Accuracy(layer_0 - estimator_0 - 10_folds.train_9.predict)=53.36%\n",
      "[ 2018-07-27 22:19:22,585][kfold_wrapper.log_eval_metrics] Accuracy(layer_0 - estimator_0 - 10_folds.train_cv.predict)=52.21%\n",
      "[ 2018-07-27 22:19:22,586][kfold_wrapper.log_eval_metrics] Accuracy(layer_0 - estimator_0 - 10_folds.test.predict)=52.85%\n",
      "[ 2018-07-27 22:19:22,592][cascade_classifier.calc_accuracy] Accuracy(layer_0 - train.classifier_average)=52.21%\n",
      "[ 2018-07-27 22:19:22,593][cascade_classifier.calc_accuracy] Accuracy(layer_0 - test.classifier_average)=52.85%\n",
      "[ 2018-07-27 22:19:22,594][cascade_classifier.fit_transform] [Result][Reach Max Layer] opt_layer_num=1, accuracy_train=52.21%, accuracy_test=52.85%\n",
      "[ 2018-07-27 22:19:22,596][cascade_classifier.transform] X_groups_test.shape=[(25000, 502)]\n",
      "[ 2018-07-27 22:19:22,634][cascade_classifier.transform] group_dims=[502]\n",
      "[ 2018-07-27 22:19:22,635][cascade_classifier.transform] X_test.shape=(25000, 502)\n",
      "[ 2018-07-27 22:19:22,673][cascade_classifier.transform] [layer=0] look_indexs=[0], X_cur_test.shape=(25000, 502)\n"
     ]
    },
    {
     "name": "stdout",
     "output_type": "stream",
     "text": [
      "('Test Accuracy of DeepExtratTrees = 52.848000 %', 'Layer :', 11)\n",
      "[[7120 5380]\n",
      " [6408 6092]]\n",
      "\n",
      "\n",
      "             precision    recall  f1-score   support\n",
      "\n",
      "          0       0.53      0.57      0.55     12500\n",
      "          1       0.53      0.49      0.51     12500\n",
      "\n",
      "avg / total       0.53      0.53      0.53     25000\n",
      "\n",
      "(' Time ', '67.442', ' seconds')\n"
     ]
    },
    {
     "name": "stderr",
     "output_type": "stream",
     "text": [
      "[ 2018-07-27 22:19:26,415][cascade_classifier.fit_transform] X_groups_train.shape=[(25000, 502)],y_train.shape=(25000,),X_groups_test.shape=[(25000, 502)],y_test.shape=(25000,)\n",
      "[ 2018-07-27 22:19:26,494][cascade_classifier.fit_transform] group_dims=[502]\n",
      "[ 2018-07-27 22:19:26,495][cascade_classifier.fit_transform] group_starts=[0]\n",
      "[ 2018-07-27 22:19:26,495][cascade_classifier.fit_transform] group_ends=[502]\n",
      "[ 2018-07-27 22:19:26,496][cascade_classifier.fit_transform] X_train.shape=(25000, 502),X_test.shape=(25000, 502)\n",
      "[ 2018-07-27 22:19:26,574][cascade_classifier.fit_transform] [layer=0] look_indexs=[0], X_cur_train.shape=(25000, 502), X_cur_test.shape=(25000, 502)\n",
      "[ 2018-07-27 22:19:32,886][kfold_wrapper.log_eval_metrics] Accuracy(layer_0 - estimator_0 - 10_folds.train_0.predict)=51.96%\n",
      "[ 2018-07-27 22:19:39,309][kfold_wrapper.log_eval_metrics] Accuracy(layer_0 - estimator_0 - 10_folds.train_1.predict)=53.36%\n",
      "[ 2018-07-27 22:19:45,890][kfold_wrapper.log_eval_metrics] Accuracy(layer_0 - estimator_0 - 10_folds.train_2.predict)=51.36%\n",
      "[ 2018-07-27 22:19:52,424][kfold_wrapper.log_eval_metrics] Accuracy(layer_0 - estimator_0 - 10_folds.train_3.predict)=51.52%\n",
      "[ 2018-07-27 22:19:59,565][kfold_wrapper.log_eval_metrics] Accuracy(layer_0 - estimator_0 - 10_folds.train_4.predict)=51.64%\n",
      "[ 2018-07-27 22:20:06,509][kfold_wrapper.log_eval_metrics] Accuracy(layer_0 - estimator_0 - 10_folds.train_5.predict)=51.48%\n",
      "[ 2018-07-27 22:20:13,042][kfold_wrapper.log_eval_metrics] Accuracy(layer_0 - estimator_0 - 10_folds.train_6.predict)=51.32%\n",
      "[ 2018-07-27 22:20:19,629][kfold_wrapper.log_eval_metrics] Accuracy(layer_0 - estimator_0 - 10_folds.train_7.predict)=51.56%\n",
      "[ 2018-07-27 22:20:26,176][kfold_wrapper.log_eval_metrics] Accuracy(layer_0 - estimator_0 - 10_folds.train_8.predict)=52.16%\n",
      "[ 2018-07-27 22:20:32,936][kfold_wrapper.log_eval_metrics] Accuracy(layer_0 - estimator_0 - 10_folds.train_9.predict)=53.44%\n",
      "[ 2018-07-27 22:20:33,287][kfold_wrapper.log_eval_metrics] Accuracy(layer_0 - estimator_0 - 10_folds.train_cv.predict)=51.98%\n",
      "[ 2018-07-27 22:20:33,289][kfold_wrapper.log_eval_metrics] Accuracy(layer_0 - estimator_0 - 10_folds.test.predict)=53.09%\n",
      "[ 2018-07-27 22:20:33,295][cascade_classifier.calc_accuracy] Accuracy(layer_0 - train.classifier_average)=51.98%\n",
      "[ 2018-07-27 22:20:33,296][cascade_classifier.calc_accuracy] Accuracy(layer_0 - test.classifier_average)=53.09%\n",
      "[ 2018-07-27 22:20:33,297][cascade_classifier.fit_transform] [Result][Reach Max Layer] opt_layer_num=1, accuracy_train=51.98%, accuracy_test=53.09%\n",
      "[ 2018-07-27 22:20:33,299][cascade_classifier.transform] X_groups_test.shape=[(25000, 502)]\n",
      "[ 2018-07-27 22:20:33,339][cascade_classifier.transform] group_dims=[502]\n",
      "[ 2018-07-27 22:20:33,340][cascade_classifier.transform] X_test.shape=(25000, 502)\n",
      "[ 2018-07-27 22:20:33,379][cascade_classifier.transform] [layer=0] look_indexs=[0], X_cur_test.shape=(25000, 502)\n"
     ]
    },
    {
     "name": "stdout",
     "output_type": "stream",
     "text": [
      "('Test Accuracy of DeepExtratTrees = 53.048000 %', 'Layer :', 12)\n",
      "[[7076 5424]\n",
      " [6314 6186]]\n",
      "\n",
      "\n",
      "             precision    recall  f1-score   support\n",
      "\n",
      "          0       0.53      0.57      0.55     12500\n",
      "          1       0.53      0.49      0.51     12500\n",
      "\n",
      "avg / total       0.53      0.53      0.53     25000\n",
      "\n",
      "(' Time ', '67.108', ' seconds')\n"
     ]
    },
    {
     "name": "stderr",
     "output_type": "stream",
     "text": [
      "[ 2018-07-27 22:20:37,118][cascade_classifier.fit_transform] X_groups_train.shape=[(25000, 502)],y_train.shape=(25000,),X_groups_test.shape=[(25000, 502)],y_test.shape=(25000,)\n",
      "[ 2018-07-27 22:20:37,194][cascade_classifier.fit_transform] group_dims=[502]\n",
      "[ 2018-07-27 22:20:37,195][cascade_classifier.fit_transform] group_starts=[0]\n",
      "[ 2018-07-27 22:20:37,195][cascade_classifier.fit_transform] group_ends=[502]\n",
      "[ 2018-07-27 22:20:37,196][cascade_classifier.fit_transform] X_train.shape=(25000, 502),X_test.shape=(25000, 502)\n",
      "[ 2018-07-27 22:20:37,273][cascade_classifier.fit_transform] [layer=0] look_indexs=[0], X_cur_train.shape=(25000, 502), X_cur_test.shape=(25000, 502)\n",
      "[ 2018-07-27 22:20:44,081][kfold_wrapper.log_eval_metrics] Accuracy(layer_0 - estimator_0 - 10_folds.train_0.predict)=53.72%\n",
      "[ 2018-07-27 22:20:52,148][kfold_wrapper.log_eval_metrics] Accuracy(layer_0 - estimator_0 - 10_folds.train_1.predict)=51.60%\n",
      "[ 2018-07-27 22:20:59,374][kfold_wrapper.log_eval_metrics] Accuracy(layer_0 - estimator_0 - 10_folds.train_2.predict)=50.52%\n",
      "[ 2018-07-27 22:21:06,562][kfold_wrapper.log_eval_metrics] Accuracy(layer_0 - estimator_0 - 10_folds.train_3.predict)=52.84%\n",
      "[ 2018-07-27 22:21:13,095][kfold_wrapper.log_eval_metrics] Accuracy(layer_0 - estimator_0 - 10_folds.train_4.predict)=52.32%\n",
      "[ 2018-07-27 22:21:19,741][kfold_wrapper.log_eval_metrics] Accuracy(layer_0 - estimator_0 - 10_folds.train_5.predict)=51.72%\n",
      "[ 2018-07-27 22:21:26,320][kfold_wrapper.log_eval_metrics] Accuracy(layer_0 - estimator_0 - 10_folds.train_6.predict)=51.52%\n",
      "[ 2018-07-27 22:21:32,751][kfold_wrapper.log_eval_metrics] Accuracy(layer_0 - estimator_0 - 10_folds.train_7.predict)=50.96%\n",
      "[ 2018-07-27 22:21:39,294][kfold_wrapper.log_eval_metrics] Accuracy(layer_0 - estimator_0 - 10_folds.train_8.predict)=52.16%\n",
      "[ 2018-07-27 22:21:46,142][kfold_wrapper.log_eval_metrics] Accuracy(layer_0 - estimator_0 - 10_folds.train_9.predict)=52.96%\n",
      "[ 2018-07-27 22:21:46,480][kfold_wrapper.log_eval_metrics] Accuracy(layer_0 - estimator_0 - 10_folds.train_cv.predict)=52.03%\n",
      "[ 2018-07-27 22:21:46,482][kfold_wrapper.log_eval_metrics] Accuracy(layer_0 - estimator_0 - 10_folds.test.predict)=52.86%\n",
      "[ 2018-07-27 22:21:46,488][cascade_classifier.calc_accuracy] Accuracy(layer_0 - train.classifier_average)=52.03%\n",
      "[ 2018-07-27 22:21:46,489][cascade_classifier.calc_accuracy] Accuracy(layer_0 - test.classifier_average)=52.86%\n",
      "[ 2018-07-27 22:21:46,490][cascade_classifier.fit_transform] [Result][Reach Max Layer] opt_layer_num=1, accuracy_train=52.03%, accuracy_test=52.86%\n",
      "[ 2018-07-27 22:21:46,492][cascade_classifier.transform] X_groups_test.shape=[(25000, 502)]\n",
      "[ 2018-07-27 22:21:46,531][cascade_classifier.transform] group_dims=[502]\n",
      "[ 2018-07-27 22:21:46,532][cascade_classifier.transform] X_test.shape=(25000, 502)\n",
      "[ 2018-07-27 22:21:46,570][cascade_classifier.transform] [layer=0] look_indexs=[0], X_cur_test.shape=(25000, 502)\n"
     ]
    },
    {
     "name": "stdout",
     "output_type": "stream",
     "text": [
      "('Test Accuracy of DeepExtratTrees = 52.848000 %', 'Layer :', 13)\n",
      "[[7075 5425]\n",
      " [6363 6137]]\n",
      "\n",
      "\n",
      "             precision    recall  f1-score   support\n",
      "\n",
      "          0       0.53      0.57      0.55     12500\n",
      "          1       0.53      0.49      0.51     12500\n",
      "\n",
      "avg / total       0.53      0.53      0.53     25000\n",
      "\n",
      "(' Time ', '69.596', ' seconds')\n"
     ]
    },
    {
     "name": "stderr",
     "output_type": "stream",
     "text": [
      "[ 2018-07-27 22:21:50,366][cascade_classifier.fit_transform] X_groups_train.shape=[(25000, 502)],y_train.shape=(25000,),X_groups_test.shape=[(25000, 502)],y_test.shape=(25000,)\n",
      "[ 2018-07-27 22:21:50,443][cascade_classifier.fit_transform] group_dims=[502]\n",
      "[ 2018-07-27 22:21:50,444][cascade_classifier.fit_transform] group_starts=[0]\n",
      "[ 2018-07-27 22:21:50,445][cascade_classifier.fit_transform] group_ends=[502]\n",
      "[ 2018-07-27 22:21:50,445][cascade_classifier.fit_transform] X_train.shape=(25000, 502),X_test.shape=(25000, 502)\n",
      "[ 2018-07-27 22:21:50,522][cascade_classifier.fit_transform] [layer=0] look_indexs=[0], X_cur_train.shape=(25000, 502), X_cur_test.shape=(25000, 502)\n",
      "[ 2018-07-27 22:21:57,436][kfold_wrapper.log_eval_metrics] Accuracy(layer_0 - estimator_0 - 10_folds.train_0.predict)=53.04%\n",
      "[ 2018-07-27 22:22:04,995][kfold_wrapper.log_eval_metrics] Accuracy(layer_0 - estimator_0 - 10_folds.train_1.predict)=51.84%\n",
      "[ 2018-07-27 22:22:11,632][kfold_wrapper.log_eval_metrics] Accuracy(layer_0 - estimator_0 - 10_folds.train_2.predict)=50.96%\n",
      "[ 2018-07-27 22:22:18,274][kfold_wrapper.log_eval_metrics] Accuracy(layer_0 - estimator_0 - 10_folds.train_3.predict)=49.80%\n",
      "[ 2018-07-27 22:22:24,914][kfold_wrapper.log_eval_metrics] Accuracy(layer_0 - estimator_0 - 10_folds.train_4.predict)=53.60%\n",
      "[ 2018-07-27 22:22:31,394][kfold_wrapper.log_eval_metrics] Accuracy(layer_0 - estimator_0 - 10_folds.train_5.predict)=51.40%\n",
      "[ 2018-07-27 22:22:38,075][kfold_wrapper.log_eval_metrics] Accuracy(layer_0 - estimator_0 - 10_folds.train_6.predict)=53.92%\n",
      "[ 2018-07-27 22:22:44,601][kfold_wrapper.log_eval_metrics] Accuracy(layer_0 - estimator_0 - 10_folds.train_7.predict)=52.84%\n",
      "[ 2018-07-27 22:22:51,162][kfold_wrapper.log_eval_metrics] Accuracy(layer_0 - estimator_0 - 10_folds.train_8.predict)=51.76%\n",
      "[ 2018-07-27 22:22:58,331][kfold_wrapper.log_eval_metrics] Accuracy(layer_0 - estimator_0 - 10_folds.train_9.predict)=52.20%\n",
      "[ 2018-07-27 22:22:58,804][kfold_wrapper.log_eval_metrics] Accuracy(layer_0 - estimator_0 - 10_folds.train_cv.predict)=52.14%\n",
      "[ 2018-07-27 22:22:58,805][kfold_wrapper.log_eval_metrics] Accuracy(layer_0 - estimator_0 - 10_folds.test.predict)=52.96%\n",
      "[ 2018-07-27 22:22:58,810][cascade_classifier.calc_accuracy] Accuracy(layer_0 - train.classifier_average)=52.14%\n",
      "[ 2018-07-27 22:22:58,812][cascade_classifier.calc_accuracy] Accuracy(layer_0 - test.classifier_average)=52.96%\n",
      "[ 2018-07-27 22:22:58,813][cascade_classifier.fit_transform] [Result][Reach Max Layer] opt_layer_num=1, accuracy_train=52.14%, accuracy_test=52.96%\n",
      "[ 2018-07-27 22:22:58,816][cascade_classifier.transform] X_groups_test.shape=[(25000, 502)]\n",
      "[ 2018-07-27 22:22:58,855][cascade_classifier.transform] group_dims=[502]\n",
      "[ 2018-07-27 22:22:58,856][cascade_classifier.transform] X_test.shape=(25000, 502)\n",
      "[ 2018-07-27 22:22:58,896][cascade_classifier.transform] [layer=0] look_indexs=[0], X_cur_test.shape=(25000, 502)\n"
     ]
    },
    {
     "name": "stdout",
     "output_type": "stream",
     "text": [
      "('Test Accuracy of DeepExtratTrees = 52.980000 %', 'Layer :', 14)\n",
      "[[7218 5282]\n",
      " [6473 6027]]\n",
      "\n",
      "\n",
      "             precision    recall  f1-score   support\n",
      "\n",
      "          0       0.53      0.58      0.55     12500\n",
      "          1       0.53      0.48      0.51     12500\n",
      "\n",
      "avg / total       0.53      0.53      0.53     25000\n",
      "\n",
      "(' Time ', '68.672', ' seconds')\n"
     ]
    },
    {
     "name": "stderr",
     "output_type": "stream",
     "text": [
      "[ 2018-07-27 22:23:03,227][cascade_classifier.fit_transform] X_groups_train.shape=[(25000, 502)],y_train.shape=(25000,),X_groups_test.shape=[(25000, 502)],y_test.shape=(25000,)\n",
      "[ 2018-07-27 22:23:03,305][cascade_classifier.fit_transform] group_dims=[502]\n",
      "[ 2018-07-27 22:23:03,306][cascade_classifier.fit_transform] group_starts=[0]\n",
      "[ 2018-07-27 22:23:03,307][cascade_classifier.fit_transform] group_ends=[502]\n",
      "[ 2018-07-27 22:23:03,308][cascade_classifier.fit_transform] X_train.shape=(25000, 502),X_test.shape=(25000, 502)\n",
      "[ 2018-07-27 22:23:03,386][cascade_classifier.fit_transform] [layer=0] look_indexs=[0], X_cur_train.shape=(25000, 502), X_cur_test.shape=(25000, 502)\n",
      "[ 2018-07-27 22:23:09,818][kfold_wrapper.log_eval_metrics] Accuracy(layer_0 - estimator_0 - 10_folds.train_0.predict)=52.88%\n",
      "[ 2018-07-27 22:23:16,258][kfold_wrapper.log_eval_metrics] Accuracy(layer_0 - estimator_0 - 10_folds.train_1.predict)=50.96%\n",
      "[ 2018-07-27 22:23:22,828][kfold_wrapper.log_eval_metrics] Accuracy(layer_0 - estimator_0 - 10_folds.train_2.predict)=52.08%\n",
      "[ 2018-07-27 22:23:29,366][kfold_wrapper.log_eval_metrics] Accuracy(layer_0 - estimator_0 - 10_folds.train_3.predict)=51.44%\n",
      "[ 2018-07-27 22:23:35,944][kfold_wrapper.log_eval_metrics] Accuracy(layer_0 - estimator_0 - 10_folds.train_4.predict)=51.52%\n",
      "[ 2018-07-27 22:23:42,557][kfold_wrapper.log_eval_metrics] Accuracy(layer_0 - estimator_0 - 10_folds.train_5.predict)=51.80%\n",
      "[ 2018-07-27 22:23:51,111][kfold_wrapper.log_eval_metrics] Accuracy(layer_0 - estimator_0 - 10_folds.train_6.predict)=53.16%\n",
      "[ 2018-07-27 22:23:58,221][kfold_wrapper.log_eval_metrics] Accuracy(layer_0 - estimator_0 - 10_folds.train_7.predict)=52.12%\n",
      "[ 2018-07-27 22:24:05,782][kfold_wrapper.log_eval_metrics] Accuracy(layer_0 - estimator_0 - 10_folds.train_8.predict)=50.28%\n",
      "[ 2018-07-27 22:24:12,470][kfold_wrapper.log_eval_metrics] Accuracy(layer_0 - estimator_0 - 10_folds.train_9.predict)=53.04%\n",
      "[ 2018-07-27 22:24:12,867][kfold_wrapper.log_eval_metrics] Accuracy(layer_0 - estimator_0 - 10_folds.train_cv.predict)=51.93%\n",
      "[ 2018-07-27 22:24:12,869][kfold_wrapper.log_eval_metrics] Accuracy(layer_0 - estimator_0 - 10_folds.test.predict)=52.98%\n",
      "[ 2018-07-27 22:24:12,877][cascade_classifier.calc_accuracy] Accuracy(layer_0 - train.classifier_average)=51.93%\n",
      "[ 2018-07-27 22:24:12,878][cascade_classifier.calc_accuracy] Accuracy(layer_0 - test.classifier_average)=52.98%\n",
      "[ 2018-07-27 22:24:12,879][cascade_classifier.fit_transform] [Result][Reach Max Layer] opt_layer_num=1, accuracy_train=51.93%, accuracy_test=52.98%\n",
      "[ 2018-07-27 22:24:12,881][cascade_classifier.transform] X_groups_test.shape=[(25000, 502)]\n",
      "[ 2018-07-27 22:24:12,920][cascade_classifier.transform] group_dims=[502]\n",
      "[ 2018-07-27 22:24:12,921][cascade_classifier.transform] X_test.shape=(25000, 502)\n",
      "[ 2018-07-27 22:24:12,960][cascade_classifier.transform] [layer=0] look_indexs=[0], X_cur_test.shape=(25000, 502)\n"
     ]
    },
    {
     "name": "stdout",
     "output_type": "stream",
     "text": [
      "('Test Accuracy of DeepExtratTrees = 52.996000 %', 'Layer :', 15)\n",
      "[[7246 5254]\n",
      " [6497 6003]]\n",
      "\n",
      "\n",
      "             precision    recall  f1-score   support\n",
      "\n",
      "          0       0.53      0.58      0.55     12500\n",
      "          1       0.53      0.48      0.51     12500\n",
      "\n",
      "avg / total       0.53      0.53      0.53     25000\n",
      "\n",
      "(' Time ', '69.876', ' seconds')\n"
     ]
    },
    {
     "name": "stderr",
     "output_type": "stream",
     "text": [
      "[ 2018-07-27 22:24:16,740][cascade_classifier.fit_transform] X_groups_train.shape=[(25000, 502)],y_train.shape=(25000,),X_groups_test.shape=[(25000, 502)],y_test.shape=(25000,)\n",
      "[ 2018-07-27 22:24:16,818][cascade_classifier.fit_transform] group_dims=[502]\n",
      "[ 2018-07-27 22:24:16,819][cascade_classifier.fit_transform] group_starts=[0]\n",
      "[ 2018-07-27 22:24:16,820][cascade_classifier.fit_transform] group_ends=[502]\n",
      "[ 2018-07-27 22:24:16,821][cascade_classifier.fit_transform] X_train.shape=(25000, 502),X_test.shape=(25000, 502)\n",
      "[ 2018-07-27 22:24:16,899][cascade_classifier.fit_transform] [layer=0] look_indexs=[0], X_cur_train.shape=(25000, 502), X_cur_test.shape=(25000, 502)\n",
      "[ 2018-07-27 22:24:23,239][kfold_wrapper.log_eval_metrics] Accuracy(layer_0 - estimator_0 - 10_folds.train_0.predict)=52.88%\n",
      "[ 2018-07-27 22:24:29,788][kfold_wrapper.log_eval_metrics] Accuracy(layer_0 - estimator_0 - 10_folds.train_1.predict)=51.88%\n",
      "[ 2018-07-27 22:24:36,429][kfold_wrapper.log_eval_metrics] Accuracy(layer_0 - estimator_0 - 10_folds.train_2.predict)=51.56%\n",
      "[ 2018-07-27 22:24:42,979][kfold_wrapper.log_eval_metrics] Accuracy(layer_0 - estimator_0 - 10_folds.train_3.predict)=52.56%\n",
      "[ 2018-07-27 22:24:49,575][kfold_wrapper.log_eval_metrics] Accuracy(layer_0 - estimator_0 - 10_folds.train_4.predict)=51.64%\n",
      "[ 2018-07-27 22:24:56,588][kfold_wrapper.log_eval_metrics] Accuracy(layer_0 - estimator_0 - 10_folds.train_5.predict)=51.44%\n",
      "[ 2018-07-27 22:25:03,226][kfold_wrapper.log_eval_metrics] Accuracy(layer_0 - estimator_0 - 10_folds.train_6.predict)=53.20%\n",
      "[ 2018-07-27 22:25:12,319][kfold_wrapper.log_eval_metrics] Accuracy(layer_0 - estimator_0 - 10_folds.train_7.predict)=52.48%\n",
      "[ 2018-07-27 22:25:20,552][kfold_wrapper.log_eval_metrics] Accuracy(layer_0 - estimator_0 - 10_folds.train_8.predict)=49.88%\n",
      "[ 2018-07-27 22:25:27,221][kfold_wrapper.log_eval_metrics] Accuracy(layer_0 - estimator_0 - 10_folds.train_9.predict)=51.52%\n",
      "[ 2018-07-27 22:25:27,576][kfold_wrapper.log_eval_metrics] Accuracy(layer_0 - estimator_0 - 10_folds.train_cv.predict)=51.90%\n",
      "[ 2018-07-27 22:25:27,578][kfold_wrapper.log_eval_metrics] Accuracy(layer_0 - estimator_0 - 10_folds.test.predict)=53.07%\n",
      "[ 2018-07-27 22:25:27,584][cascade_classifier.calc_accuracy] Accuracy(layer_0 - train.classifier_average)=51.90%\n",
      "[ 2018-07-27 22:25:27,585][cascade_classifier.calc_accuracy] Accuracy(layer_0 - test.classifier_average)=53.07%\n",
      "[ 2018-07-27 22:25:27,586][cascade_classifier.fit_transform] [Result][Reach Max Layer] opt_layer_num=1, accuracy_train=51.90%, accuracy_test=53.07%\n",
      "[ 2018-07-27 22:25:27,588][cascade_classifier.transform] X_groups_test.shape=[(25000, 502)]\n",
      "[ 2018-07-27 22:25:27,627][cascade_classifier.transform] group_dims=[502]\n",
      "[ 2018-07-27 22:25:27,628][cascade_classifier.transform] X_test.shape=(25000, 502)\n",
      "[ 2018-07-27 22:25:27,667][cascade_classifier.transform] [layer=0] look_indexs=[0], X_cur_test.shape=(25000, 502)\n"
     ]
    },
    {
     "name": "stdout",
     "output_type": "stream",
     "text": [
      "('Test Accuracy of DeepExtratTrees = 53.112000 %', 'Layer :', 16)\n",
      "[[7166 5334]\n",
      " [6388 6112]]\n",
      "\n",
      "\n",
      "             precision    recall  f1-score   support\n",
      "\n",
      "          0       0.53      0.57      0.55     12500\n",
      "          1       0.53      0.49      0.51     12500\n",
      "\n",
      "avg / total       0.53      0.53      0.53     25000\n",
      "\n",
      "(' Time ', '71.071', ' seconds')\n"
     ]
    },
    {
     "name": "stderr",
     "output_type": "stream",
     "text": [
      "[ 2018-07-27 22:25:31,469][cascade_classifier.fit_transform] X_groups_train.shape=[(25000, 502)],y_train.shape=(25000,),X_groups_test.shape=[(25000, 502)],y_test.shape=(25000,)\n",
      "[ 2018-07-27 22:25:31,545][cascade_classifier.fit_transform] group_dims=[502]\n",
      "[ 2018-07-27 22:25:31,546][cascade_classifier.fit_transform] group_starts=[0]\n",
      "[ 2018-07-27 22:25:31,547][cascade_classifier.fit_transform] group_ends=[502]\n",
      "[ 2018-07-27 22:25:31,548][cascade_classifier.fit_transform] X_train.shape=(25000, 502),X_test.shape=(25000, 502)\n",
      "[ 2018-07-27 22:25:31,624][cascade_classifier.fit_transform] [layer=0] look_indexs=[0], X_cur_train.shape=(25000, 502), X_cur_test.shape=(25000, 502)\n",
      "[ 2018-07-27 22:25:39,282][kfold_wrapper.log_eval_metrics] Accuracy(layer_0 - estimator_0 - 10_folds.train_0.predict)=55.28%\n",
      "[ 2018-07-27 22:25:46,827][kfold_wrapper.log_eval_metrics] Accuracy(layer_0 - estimator_0 - 10_folds.train_1.predict)=52.72%\n",
      "[ 2018-07-27 22:25:53,451][kfold_wrapper.log_eval_metrics] Accuracy(layer_0 - estimator_0 - 10_folds.train_2.predict)=51.28%\n",
      "[ 2018-07-27 22:26:01,105][kfold_wrapper.log_eval_metrics] Accuracy(layer_0 - estimator_0 - 10_folds.train_3.predict)=50.48%\n",
      "[ 2018-07-27 22:26:08,680][kfold_wrapper.log_eval_metrics] Accuracy(layer_0 - estimator_0 - 10_folds.train_4.predict)=52.84%\n",
      "[ 2018-07-27 22:26:15,206][kfold_wrapper.log_eval_metrics] Accuracy(layer_0 - estimator_0 - 10_folds.train_5.predict)=50.80%\n",
      "[ 2018-07-27 22:26:21,820][kfold_wrapper.log_eval_metrics] Accuracy(layer_0 - estimator_0 - 10_folds.train_6.predict)=53.32%\n",
      "[ 2018-07-27 22:26:30,128][kfold_wrapper.log_eval_metrics] Accuracy(layer_0 - estimator_0 - 10_folds.train_7.predict)=51.96%\n",
      "[ 2018-07-27 22:26:36,698][kfold_wrapper.log_eval_metrics] Accuracy(layer_0 - estimator_0 - 10_folds.train_8.predict)=51.92%\n",
      "[ 2018-07-27 22:26:43,944][kfold_wrapper.log_eval_metrics] Accuracy(layer_0 - estimator_0 - 10_folds.train_9.predict)=51.28%\n",
      "[ 2018-07-27 22:26:44,509][kfold_wrapper.log_eval_metrics] Accuracy(layer_0 - estimator_0 - 10_folds.train_cv.predict)=52.19%\n",
      "[ 2018-07-27 22:26:44,514][kfold_wrapper.log_eval_metrics] Accuracy(layer_0 - estimator_0 - 10_folds.test.predict)=52.65%\n",
      "[ 2018-07-27 22:26:44,528][cascade_classifier.calc_accuracy] Accuracy(layer_0 - train.classifier_average)=52.19%\n",
      "[ 2018-07-27 22:26:44,542][cascade_classifier.calc_accuracy] Accuracy(layer_0 - test.classifier_average)=52.65%\n",
      "[ 2018-07-27 22:26:44,543][cascade_classifier.fit_transform] [Result][Reach Max Layer] opt_layer_num=1, accuracy_train=52.19%, accuracy_test=52.65%\n",
      "[ 2018-07-27 22:26:44,547][cascade_classifier.transform] X_groups_test.shape=[(25000, 502)]\n",
      "[ 2018-07-27 22:26:44,587][cascade_classifier.transform] group_dims=[502]\n",
      "[ 2018-07-27 22:26:44,591][cascade_classifier.transform] X_test.shape=(25000, 502)\n",
      "[ 2018-07-27 22:26:44,632][cascade_classifier.transform] [layer=0] look_indexs=[0], X_cur_test.shape=(25000, 502)\n"
     ]
    },
    {
     "name": "stdout",
     "output_type": "stream",
     "text": [
      "('Test Accuracy of DeepExtratTrees = 52.640000 %', 'Layer :', 17)\n",
      "[[7127 5373]\n",
      " [6467 6033]]\n",
      "\n",
      "\n",
      "             precision    recall  f1-score   support\n",
      "\n",
      "          0       0.52      0.57      0.55     12500\n",
      "          1       0.53      0.48      0.50     12500\n",
      "\n",
      "avg / total       0.53      0.53      0.53     25000\n",
      "\n",
      "(' Time ', '73.296', ' seconds')\n"
     ]
    },
    {
     "name": "stderr",
     "output_type": "stream",
     "text": [
      "[ 2018-07-27 22:26:51,161][cascade_classifier.fit_transform] X_groups_train.shape=[(25000, 502)],y_train.shape=(25000,),X_groups_test.shape=[(25000, 502)],y_test.shape=(25000,)\n",
      "[ 2018-07-27 22:26:51,243][cascade_classifier.fit_transform] group_dims=[502]\n",
      "[ 2018-07-27 22:26:51,245][cascade_classifier.fit_transform] group_starts=[0]\n",
      "[ 2018-07-27 22:26:51,249][cascade_classifier.fit_transform] group_ends=[502]\n",
      "[ 2018-07-27 22:26:51,253][cascade_classifier.fit_transform] X_train.shape=(25000, 502),X_test.shape=(25000, 502)\n",
      "[ 2018-07-27 22:26:51,338][cascade_classifier.fit_transform] [layer=0] look_indexs=[0], X_cur_train.shape=(25000, 502), X_cur_test.shape=(25000, 502)\n",
      "[ 2018-07-27 22:26:58,018][kfold_wrapper.log_eval_metrics] Accuracy(layer_0 - estimator_0 - 10_folds.train_0.predict)=52.20%\n",
      "[ 2018-07-27 22:27:04,660][kfold_wrapper.log_eval_metrics] Accuracy(layer_0 - estimator_0 - 10_folds.train_1.predict)=52.32%\n",
      "[ 2018-07-27 22:27:12,048][kfold_wrapper.log_eval_metrics] Accuracy(layer_0 - estimator_0 - 10_folds.train_2.predict)=52.44%\n",
      "[ 2018-07-27 22:27:20,916][kfold_wrapper.log_eval_metrics] Accuracy(layer_0 - estimator_0 - 10_folds.train_3.predict)=50.64%\n",
      "[ 2018-07-27 22:27:28,554][kfold_wrapper.log_eval_metrics] Accuracy(layer_0 - estimator_0 - 10_folds.train_4.predict)=53.28%\n",
      "[ 2018-07-27 22:27:36,367][kfold_wrapper.log_eval_metrics] Accuracy(layer_0 - estimator_0 - 10_folds.train_5.predict)=51.64%\n",
      "[ 2018-07-27 22:27:43,039][kfold_wrapper.log_eval_metrics] Accuracy(layer_0 - estimator_0 - 10_folds.train_6.predict)=52.04%\n",
      "[ 2018-07-27 22:27:49,474][kfold_wrapper.log_eval_metrics] Accuracy(layer_0 - estimator_0 - 10_folds.train_7.predict)=52.04%\n",
      "[ 2018-07-27 22:27:56,310][kfold_wrapper.log_eval_metrics] Accuracy(layer_0 - estimator_0 - 10_folds.train_8.predict)=52.24%\n",
      "[ 2018-07-27 22:28:03,940][kfold_wrapper.log_eval_metrics] Accuracy(layer_0 - estimator_0 - 10_folds.train_9.predict)=52.28%\n",
      "[ 2018-07-27 22:28:04,292][kfold_wrapper.log_eval_metrics] Accuracy(layer_0 - estimator_0 - 10_folds.train_cv.predict)=52.11%\n",
      "[ 2018-07-27 22:28:04,293][kfold_wrapper.log_eval_metrics] Accuracy(layer_0 - estimator_0 - 10_folds.test.predict)=53.18%\n",
      "[ 2018-07-27 22:28:04,300][cascade_classifier.calc_accuracy] Accuracy(layer_0 - train.classifier_average)=52.11%\n",
      "[ 2018-07-27 22:28:04,301][cascade_classifier.calc_accuracy] Accuracy(layer_0 - test.classifier_average)=53.18%\n",
      "[ 2018-07-27 22:28:04,302][cascade_classifier.fit_transform] [Result][Reach Max Layer] opt_layer_num=1, accuracy_train=52.11%, accuracy_test=53.18%\n",
      "[ 2018-07-27 22:28:04,304][cascade_classifier.transform] X_groups_test.shape=[(25000, 502)]\n",
      "[ 2018-07-27 22:28:04,344][cascade_classifier.transform] group_dims=[502]\n",
      "[ 2018-07-27 22:28:04,345][cascade_classifier.transform] X_test.shape=(25000, 502)\n",
      "[ 2018-07-27 22:28:04,383][cascade_classifier.transform] [layer=0] look_indexs=[0], X_cur_test.shape=(25000, 502)\n"
     ]
    },
    {
     "name": "stdout",
     "output_type": "stream",
     "text": [
      "('Test Accuracy of DeepExtratTrees = 53.172000 %', 'Layer :', 18)\n",
      "[[7154 5346]\n",
      " [6361 6139]]\n",
      "\n",
      "\n",
      "             precision    recall  f1-score   support\n",
      "\n",
      "          0       0.53      0.57      0.55     12500\n",
      "          1       0.53      0.49      0.51     12500\n",
      "\n",
      "avg / total       0.53      0.53      0.53     25000\n",
      "\n",
      "(' Time ', '73.381', ' seconds')\n"
     ]
    },
    {
     "name": "stderr",
     "output_type": "stream",
     "text": [
      "[ 2018-07-27 22:28:08,250][cascade_classifier.fit_transform] X_groups_train.shape=[(25000, 502)],y_train.shape=(25000,),X_groups_test.shape=[(25000, 502)],y_test.shape=(25000,)\n",
      "[ 2018-07-27 22:28:08,326][cascade_classifier.fit_transform] group_dims=[502]\n",
      "[ 2018-07-27 22:28:08,327][cascade_classifier.fit_transform] group_starts=[0]\n",
      "[ 2018-07-27 22:28:08,328][cascade_classifier.fit_transform] group_ends=[502]\n",
      "[ 2018-07-27 22:28:08,329][cascade_classifier.fit_transform] X_train.shape=(25000, 502),X_test.shape=(25000, 502)\n",
      "[ 2018-07-27 22:28:08,405][cascade_classifier.fit_transform] [layer=0] look_indexs=[0], X_cur_train.shape=(25000, 502), X_cur_test.shape=(25000, 502)\n",
      "[ 2018-07-27 22:28:14,604][kfold_wrapper.log_eval_metrics] Accuracy(layer_0 - estimator_0 - 10_folds.train_0.predict)=53.60%\n",
      "[ 2018-07-27 22:28:21,047][kfold_wrapper.log_eval_metrics] Accuracy(layer_0 - estimator_0 - 10_folds.train_1.predict)=50.88%\n",
      "[ 2018-07-27 22:28:27,730][kfold_wrapper.log_eval_metrics] Accuracy(layer_0 - estimator_0 - 10_folds.train_2.predict)=49.72%\n",
      "[ 2018-07-27 22:28:34,375][kfold_wrapper.log_eval_metrics] Accuracy(layer_0 - estimator_0 - 10_folds.train_3.predict)=50.92%\n",
      "[ 2018-07-27 22:28:40,899][kfold_wrapper.log_eval_metrics] Accuracy(layer_0 - estimator_0 - 10_folds.train_4.predict)=51.40%\n",
      "[ 2018-07-27 22:28:47,476][kfold_wrapper.log_eval_metrics] Accuracy(layer_0 - estimator_0 - 10_folds.train_5.predict)=52.12%\n",
      "[ 2018-07-27 22:28:53,989][kfold_wrapper.log_eval_metrics] Accuracy(layer_0 - estimator_0 - 10_folds.train_6.predict)=52.72%\n",
      "[ 2018-07-27 22:29:01,239][kfold_wrapper.log_eval_metrics] Accuracy(layer_0 - estimator_0 - 10_folds.train_7.predict)=55.04%\n",
      "[ 2018-07-27 22:29:08,247][kfold_wrapper.log_eval_metrics] Accuracy(layer_0 - estimator_0 - 10_folds.train_8.predict)=51.40%\n",
      "[ 2018-07-27 22:29:14,915][kfold_wrapper.log_eval_metrics] Accuracy(layer_0 - estimator_0 - 10_folds.train_9.predict)=52.52%\n",
      "[ 2018-07-27 22:29:15,269][kfold_wrapper.log_eval_metrics] Accuracy(layer_0 - estimator_0 - 10_folds.train_cv.predict)=52.03%\n",
      "[ 2018-07-27 22:29:15,270][kfold_wrapper.log_eval_metrics] Accuracy(layer_0 - estimator_0 - 10_folds.test.predict)=52.96%\n",
      "[ 2018-07-27 22:29:15,282][cascade_classifier.calc_accuracy] Accuracy(layer_0 - train.classifier_average)=52.03%\n",
      "[ 2018-07-27 22:29:15,283][cascade_classifier.calc_accuracy] Accuracy(layer_0 - test.classifier_average)=52.96%\n",
      "[ 2018-07-27 22:29:15,284][cascade_classifier.fit_transform] [Result][Reach Max Layer] opt_layer_num=1, accuracy_train=52.03%, accuracy_test=52.96%\n",
      "[ 2018-07-27 22:29:15,286][cascade_classifier.transform] X_groups_test.shape=[(25000, 502)]\n",
      "[ 2018-07-27 22:29:15,325][cascade_classifier.transform] group_dims=[502]\n",
      "[ 2018-07-27 22:29:15,326][cascade_classifier.transform] X_test.shape=(25000, 502)\n",
      "[ 2018-07-27 22:29:15,364][cascade_classifier.transform] [layer=0] look_indexs=[0], X_cur_test.shape=(25000, 502)\n"
     ]
    },
    {
     "name": "stdout",
     "output_type": "stream",
     "text": [
      "('Test Accuracy of DeepExtratTrees = 52.944000 %', 'Layer :', 19)\n",
      "[[6942 5558]\n",
      " [6206 6294]]\n",
      "\n",
      "\n",
      "             precision    recall  f1-score   support\n",
      "\n",
      "          0       0.53      0.56      0.54     12500\n",
      "          1       0.53      0.50      0.52     12500\n",
      "\n",
      "avg / total       0.53      0.53      0.53     25000\n",
      "\n",
      "(' Time ', '67.257', ' seconds')\n"
     ]
    }
   ],
   "source": [
    "def update(X_train,X_test):\n",
    "    # update Estimators\n",
    "    M = np.delete(X_train, (-1), axis=1)\n",
    "    X_train= np.delete(M, (-1), axis=1)\n",
    "    M = np.delete(X_test, (-1), axis=1)\n",
    "    X_test = np.delete(M, (-1), axis=1)\n",
    "    return X_train,X_test\n",
    "\n",
    "def newdata(X_test_enc, X_train_enc):\n",
    "    # Make Data + Estimators\n",
    "    X_train_origin = X_train.reshape((X_train.shape[0], -1))\n",
    "    X_test_origin = X_test.reshape((X_test.shape[0], -1))\n",
    "    X_train_enc = np.hstack((X_train_origin, X_train_enc))\n",
    "    X_test_enc = np.hstack((X_test_origin, X_test_enc))\n",
    "    return X_test_enc, X_train_enc\n",
    "\n",
    "Accuracy = []\n",
    "def affiche():\n",
    "    # predict\n",
    "    y_pred = gc.predict(X_test)\n",
    "    acc = accuracy_score(y_test, y_pred)\n",
    "    print(\"Test Accuracy of DeepExtratTrees = {:.6f} %\".format(acc * 100),\"Layer :\",i)\n",
    "    Accuracy.append(round(acc*100 , 2))\n",
    "    # Matrix de confusion\n",
    "    from sklearn.metrics import classification_report, confusion_matrix\n",
    "    print(confusion_matrix(y_test,y_pred))\n",
    "    print('\\n')\n",
    "    print(classification_report(y_test,y_pred))\n",
    "    \n",
    "# Deep\n",
    "t = []\n",
    "for i in range (20):\n",
    "    t0 = time()\n",
    "    X_train,X_test=update(X_train,X_test)\n",
    "    X_test_enc, X_train_enc=newdata(X_test_enc, X_train_enc)\n",
    "\n",
    "    X_train=X_train_enc\n",
    "    X_test=X_test_enc \n",
    "    X_train_enc, X_test_enc = gc.fit_transform(X_train, y_train, X_test=X_test, y_test=y_test)\n",
    "    tt = time() - t0\n",
    "    affiche() \n",
    "    t.append(round(tt,2))\n",
    "    print (\" Time \",format(round(tt,3)),\" seconds\")\n"
   ]
  },
  {
   "cell_type": "code",
   "execution_count": 13,
   "metadata": {},
   "outputs": [
    {
     "name": "stdout",
     "output_type": "stream",
     "text": [
      "('Opt_layer_num =', 18, ' Accuracy =', 53.17, 'Time =', 1304.1500000000001)\n"
     ]
    },
    {
     "data": {
      "image/png": "[encoded data removed]",
      "text/plain": [
       "<matplotlib.figure.Figure at 0x7f114726bf90>"
      ]
     },
     "metadata": {},
     "output_type": "display_data"
    }
   ],
   "source": [
    "print (\"Opt_layer_num =\",Accuracy.index(max(Accuracy)), \" Accuracy =\", max(Accuracy) ,\n",
    "       \"Time =\" , np.sum(t[0:Accuracy.index(max(Accuracy))+1]))\n",
    "\n",
    "import matplotlib.pyplot as plt\n",
    "from matplotlib.pyplot import figure\n",
    "figure(figsize=(8, 6), dpi=100)\n",
    "plt.plot(Accuracy, '-o', ms=20, lw=2, alpha=0.7, mfc='orange')\n",
    "plt.ylabel('Accuracy')\n",
    "plt.xlabel('Layer numbers')\n",
    "plt.show()"
   ]
  },
  {
   "cell_type": "code",
   "execution_count": null,
   "metadata": {
    "collapsed": true
   },
   "outputs": [],
   "source": []
  },
  {
   "cell_type": "code",
   "execution_count": 14,
   "metadata": {},
   "outputs": [
    {
     "data": {
      "text/plain": [
       "[52.73,\n",
       " 52.62,\n",
       " 52.78,\n",
       " 53.08,\n",
       " 53.07,\n",
       " 52.8,\n",
       " 52.94,\n",
       " 52.84,\n",
       " 53.1,\n",
       " 52.68,\n",
       " 52.72,\n",
       " 52.85,\n",
       " 53.05,\n",
       " 52.85,\n",
       " 52.98,\n",
       " 53.0,\n",
       " 53.11,\n",
       " 52.64,\n",
       " 53.17,\n",
       " 52.94]"
      ]
     },
     "execution_count": 14,
     "metadata": {},
     "output_type": "execute_result"
    }
   ],
   "source": [
    "Accuracy"
   ]
  }
 ],
 "metadata": {
  "kernelspec": {
   "display_name": "Python 2",
   "language": "python",
   "name": "python2"
  },
  "language_info": {
   "codemirror_mode": {
    "name": "ipython",
    "version": 2
   },
   "file_extension": ".py",
   "mimetype": "text/x-python",
   "name": "python",
   "nbconvert_exporter": "python",
   "pygments_lexer": "ipython2",
   "version": "2.7.13"
  }
 },
 "nbformat": 4,
 "nbformat_minor": 2
}
